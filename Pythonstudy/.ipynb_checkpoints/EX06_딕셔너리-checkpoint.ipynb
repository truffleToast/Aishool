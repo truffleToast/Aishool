{
 "cells": [
  {
   "cell_type": "code",
   "execution_count": 15,
   "id": "4d7d7344",
   "metadata": {},
   "outputs": [
    {
     "name": "stdout",
     "output_type": "stream",
     "text": [
      "{'name': '김미희', 'age': 20, 'phone': '010-2407-1465', 'birth': '07/05'}\n"
     ]
    }
   ],
   "source": [
    "# 딕셔너리 값 추가\n",
    "dic1 = { 'name': '김미희', 'age':20, 'phone':'010-2407-1465'}\n",
    "dic1['birth']='07/05'\n",
    "print(dic1)"
   ]
  },
  {
   "cell_type": "code",
   "execution_count": null,
   "id": "c9908fdf",
   "metadata": {},
   "outputs": [],
   "source": []
  },
  {
   "cell_type": "code",
   "execution_count": null,
   "id": "2906f90b",
   "metadata": {},
   "outputs": [],
   "source": []
  },
  {
   "cell_type": "code",
   "execution_count": 16,
   "id": "f5f7c7a5",
   "metadata": {},
   "outputs": [
    {
     "name": "stdout",
     "output_type": "stream",
     "text": [
      "김미희\n"
     ]
    }
   ],
   "source": [
    "# 딕셔너리 값 가져오기\n",
    "print(dic1['name'])"
   ]
  },
  {
   "cell_type": "code",
   "execution_count": 17,
   "id": "e93f759f",
   "metadata": {},
   "outputs": [
    {
     "name": "stdout",
     "output_type": "stream",
     "text": [
      "김미희\n"
     ]
    }
   ],
   "source": [
    "addr =[ { 'name': '김미희', 'age':20, 'phone':'010-2407-1465'},{'name':'박병관', 'age':20,'phone':'010-1234-5678'}]\n",
    "print(addr[0]['name'])"
   ]
  },
  {
   "cell_type": "code",
   "execution_count": 18,
   "id": "178c9b00",
   "metadata": {},
   "outputs": [
    {
     "data": {
      "text/plain": [
       "20"
      ]
     },
     "execution_count": 18,
     "metadata": {},
     "output_type": "execute_result"
    }
   ],
   "source": [
    "# 딕셔너리 값 가져오기\n",
    "# 딕셔너리명.get(key)\n",
    "dic1.get('age')"
   ]
  },
  {
   "cell_type": "code",
   "execution_count": 19,
   "id": "a586a040",
   "metadata": {},
   "outputs": [
    {
     "name": "stdout",
     "output_type": "stream",
     "text": [
      "[('name', '김미희'), ('age', 20), ('phone', '010-2407-1465'), ('birth', '07/05')]\n"
     ]
    }
   ],
   "source": [
    "# 딕셔너리 ket, value로 가져오가\n",
    "#print(dic1.items())\n",
    "print(list(dic1.items()))"
   ]
  },
  {
   "cell_type": "code",
   "execution_count": 20,
   "id": "416b6a47",
   "metadata": {},
   "outputs": [],
   "source": [
    "# 값 삭제하기\n",
    "# del 딕셔너리 명[key]\n",
    "del dic1['age']"
   ]
  },
  {
   "cell_type": "code",
   "execution_count": 21,
   "id": "ba23a894",
   "metadata": {},
   "outputs": [
    {
     "data": {
      "text/plain": [
       "{}"
      ]
     },
     "execution_count": 21,
     "metadata": {},
     "output_type": "execute_result"
    }
   ],
   "source": [
    "dic1.clear()\n",
    "dic1"
   ]
  },
  {
   "cell_type": "code",
   "execution_count": null,
   "id": "3b3c06ef",
   "metadata": {},
   "outputs": [],
   "source": []
  },
  {
   "cell_type": "code",
   "execution_count": null,
   "id": "61e821b8",
   "metadata": {},
   "outputs": [],
   "source": []
  },
  {
   "cell_type": "code",
   "execution_count": 8,
   "id": "297d5270",
   "metadata": {},
   "outputs": [],
   "source": [
    "#값 삭제하기\n",
    "# 딕셔너리명[key]\n"
   ]
  },
  {
   "cell_type": "code",
   "execution_count": null,
   "id": "5d789e3c",
   "metadata": {},
   "outputs": [],
   "source": []
  }
 ],
 "metadata": {
  "kernelspec": {
   "display_name": "Python 3 (ipykernel)",
   "language": "python",
   "name": "python3"
  },
  "language_info": {
   "codemirror_mode": {
    "name": "ipython",
    "version": 3
   },
   "file_extension": ".py",
   "mimetype": "text/x-python",
   "name": "python",
   "nbconvert_exporter": "python",
   "pygments_lexer": "ipython3",
   "version": "3.10.9"
  }
 },
 "nbformat": 4,
 "nbformat_minor": 5
}
