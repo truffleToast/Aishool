{
 "cells": [
  {
   "cell_type": "code",
   "execution_count": 28,
   "id": "2ccc2d21",
   "metadata": {
    "ExecuteTime": {
     "end_time": "2023-09-08T01:35:52.067015Z",
     "start_time": "2023-09-08T01:35:36.415054Z"
    }
   },
   "outputs": [
    {
     "name": "stdout",
     "output_type": "stream",
     "text": [
      "Requirement already satisfied: pyinstaller in c:\\users\\user\\anaconda3\\lib\\site-packages (5.13.2)\n",
      "Requirement already satisfied: setuptools>=42.0.0 in c:\\users\\user\\anaconda3\\lib\\site-packages (from pyinstaller) (68.0.0)\n",
      "Requirement already satisfied: altgraph in c:\\users\\user\\anaconda3\\lib\\site-packages (from pyinstaller) (0.17.3)\n",
      "Requirement already satisfied: pyinstaller-hooks-contrib>=2021.4 in c:\\users\\user\\anaconda3\\lib\\site-packages (from pyinstaller) (2023.8)\n",
      "Requirement already satisfied: pefile>=2022.5.30 in c:\\users\\user\\anaconda3\\lib\\site-packages (from pyinstaller) (2023.2.7)\n",
      "Requirement already satisfied: pywin32-ctypes>=0.2.1 in c:\\users\\user\\anaconda3\\lib\\site-packages (from pyinstaller) (0.2.2)\n"
     ]
    }
   ],
   "source": [
    "# installer 생성\n",
    "!pip install pyinstaller\n",
    "\n",
    "from selenium import webdriver as wb\n",
    "from selenium.webdriver.common.by import By\n",
    "from selenium.webdriver.common.keys import Keys\n",
    "from selenium.webdriver.support.ui import WebDriverWait\n",
    "from selenium.webdriver.support import expected_conditions as EC\n",
    "\n",
    "\n",
    "driver = wb.Chrome()\n",
    "driver.get(\"https://2023-gj-aischool.elice.io/my\")\n",
    "wait = WebDriverWait(driver, 10)\n",
    "#로그인 할 수 있을 때까지 기다리기\n",
    "element = wait.until(EC.element_to_be_clickable((By.NAME, 'loginId')))\n",
    "\n",
    "# 로그인\n",
    "id_input = driver.find_element(By.NAME, \"loginId\")\n",
    "pw_input = driver.find_element(By.NAME, \"password\")\n",
    "id_input.send_keys(\"rudals7841@naver.com\")\n",
    "pw_input.send_keys(\"Esd98624!\")\n",
    "pw_input.send_keys(Keys.ENTER)\n",
    "time.sleep(3)\n",
    "\n",
    "#출석버튼 클릭\n",
    "# 버튼나타날때 까지 기다리기\n",
    "Chulsuk = driver.find_element(By.CSS_SELECTOR, \".MuiBox-root.css-8atqhb\")\n",
    "Chulsuk.click()\n",
    "time.sleep(3)\n",
    "driver.close()"
   ]
  }
 ],
 "metadata": {
  "hide_input": false,
  "kernelspec": {
   "display_name": "Python 3 (ipykernel)",
   "language": "python",
   "name": "python3"
  },
  "language_info": {
   "codemirror_mode": {
    "name": "ipython",
    "version": 3
   },
   "file_extension": ".py",
   "mimetype": "text/x-python",
   "name": "python",
   "nbconvert_exporter": "python",
   "pygments_lexer": "ipython3",
   "version": "3.11.4"
  },
  "nbTranslate": {
   "displayLangs": [
    "*"
   ],
   "hotkey": "alt-t",
   "langInMainMenu": true,
   "sourceLang": "en",
   "targetLang": "fr",
   "useGoogleTranslate": true
  },
  "toc": {
   "base_numbering": 1,
   "nav_menu": {},
   "number_sections": true,
   "sideBar": true,
   "skip_h1_title": false,
   "title_cell": "Table of Contents",
   "title_sidebar": "Contents",
   "toc_cell": false,
   "toc_position": {},
   "toc_section_display": true,
   "toc_window_display": false
  },
  "varInspector": {
   "cols": {
    "lenName": 16,
    "lenType": 16,
    "lenVar": 40
   },
   "kernels_config": {
    "python": {
     "delete_cmd_postfix": "",
     "delete_cmd_prefix": "del ",
     "library": "var_list.py",
     "varRefreshCmd": "print(var_dic_list())"
    },
    "r": {
     "delete_cmd_postfix": ") ",
     "delete_cmd_prefix": "rm(",
     "library": "var_list.r",
     "varRefreshCmd": "cat(var_dic_list()) "
    }
   },
   "types_to_exclude": [
    "module",
    "function",
    "builtin_function_or_method",
    "instance",
    "_Feature"
   ],
   "window_display": false
  }
 },
 "nbformat": 4,
 "nbformat_minor": 5
}
