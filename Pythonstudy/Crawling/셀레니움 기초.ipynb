{
 "cells": [
  {
   "cell_type": "code",
   "execution_count": 1,
   "id": "3b22d9df",
   "metadata": {
    "ExecuteTime": {
     "end_time": "2023-08-28T00:25:34.496666Z",
     "start_time": "2023-08-28T00:25:24.085989Z"
    },
    "scrolled": true
   },
   "outputs": [
    {
     "name": "stdout",
     "output_type": "stream",
     "text": [
      "Collecting selenium\n",
      "  Obtaining dependency information for selenium from https://files.pythonhosted.org/packages/10/56/8288d1813a68c1e0638515dbb777fce6d87d0d240e683216f956145310e6/selenium-4.11.2-py3-none-any.whl.metadata\n",
      "  Downloading selenium-4.11.2-py3-none-any.whl.metadata (7.0 kB)\n",
      "Requirement already satisfied: urllib3[socks]<3,>=1.26 in c:\\users\\user\\anaconda3\\lib\\site-packages (from selenium) (1.26.16)\n",
      "Collecting trio~=0.17 (from selenium)\n",
      "  Obtaining dependency information for trio~=0.17 from https://files.pythonhosted.org/packages/a3/dd/b61fa61b186d3267ef3903048fbee29132963ae762fb70b08d4a3cd6f7aa/trio-0.22.2-py3-none-any.whl.metadata\n",
      "  Downloading trio-0.22.2-py3-none-any.whl.metadata (4.7 kB)\n",
      "Collecting trio-websocket~=0.9 (from selenium)\n",
      "  Obtaining dependency information for trio-websocket~=0.9 from https://files.pythonhosted.org/packages/a5/a6/06e2373f95c12e9e8f6b910a76c86e375348ead77ab476230640666310fb/trio_websocket-0.10.3-py3-none-any.whl.metadata\n",
      "  Downloading trio_websocket-0.10.3-py3-none-any.whl.metadata (4.6 kB)\n",
      "Requirement already satisfied: certifi>=2021.10.8 in c:\\users\\user\\anaconda3\\lib\\site-packages (from selenium) (2023.7.22)\n",
      "Requirement already satisfied: attrs>=20.1.0 in c:\\users\\user\\anaconda3\\lib\\site-packages (from trio~=0.17->selenium) (22.1.0)\n",
      "Requirement already satisfied: sortedcontainers in c:\\users\\user\\anaconda3\\lib\\site-packages (from trio~=0.17->selenium) (2.4.0)\n",
      "Requirement already satisfied: idna in c:\\users\\user\\anaconda3\\lib\\site-packages (from trio~=0.17->selenium) (3.4)\n",
      "Collecting outcome (from trio~=0.17->selenium)\n",
      "  Downloading outcome-1.2.0-py2.py3-none-any.whl (9.7 kB)\n",
      "Requirement already satisfied: sniffio in c:\\users\\user\\anaconda3\\lib\\site-packages (from trio~=0.17->selenium) (1.2.0)\n",
      "Requirement already satisfied: cffi>=1.14 in c:\\users\\user\\anaconda3\\lib\\site-packages (from trio~=0.17->selenium) (1.15.1)\n",
      "Collecting exceptiongroup (from trio-websocket~=0.9->selenium)\n",
      "  Obtaining dependency information for exceptiongroup from https://files.pythonhosted.org/packages/ad/83/b71e58666f156a39fb29417e4c8ca4bc7400c0dd4ed9e8842ab54dc8c344/exceptiongroup-1.1.3-py3-none-any.whl.metadata\n",
      "  Downloading exceptiongroup-1.1.3-py3-none-any.whl.metadata (6.1 kB)\n",
      "Collecting wsproto>=0.14 (from trio-websocket~=0.9->selenium)\n",
      "  Downloading wsproto-1.2.0-py3-none-any.whl (24 kB)\n",
      "Requirement already satisfied: PySocks!=1.5.7,<2.0,>=1.5.6 in c:\\users\\user\\anaconda3\\lib\\site-packages (from urllib3[socks]<3,>=1.26->selenium) (1.7.1)\n",
      "Requirement already satisfied: pycparser in c:\\users\\user\\anaconda3\\lib\\site-packages (from cffi>=1.14->trio~=0.17->selenium) (2.21)\n",
      "Collecting h11<1,>=0.9.0 (from wsproto>=0.14->trio-websocket~=0.9->selenium)\n",
      "  Downloading h11-0.14.0-py3-none-any.whl (58 kB)\n",
      "     ---------------------------------------- 0.0/58.3 kB ? eta -:--:--\n",
      "     ---------------------------------------- 58.3/58.3 kB 3.2 MB/s eta 0:00:00\n",
      "Downloading selenium-4.11.2-py3-none-any.whl (7.2 MB)\n",
      "   ---------------------------------------- 0.0/7.2 MB ? eta -:--:--\n",
      "   -- ------------------------------------- 0.5/7.2 MB 13.8 MB/s eta 0:00:01\n",
      "   --- ------------------------------------ 0.7/7.2 MB 8.7 MB/s eta 0:00:01\n",
      "   --- ------------------------------------ 0.7/7.2 MB 8.7 MB/s eta 0:00:01\n",
      "   ----- ---------------------------------- 1.0/7.2 MB 6.3 MB/s eta 0:00:01\n",
      "   ------ --------------------------------- 1.2/7.2 MB 5.4 MB/s eta 0:00:02\n",
      "   ------- -------------------------------- 1.4/7.2 MB 5.4 MB/s eta 0:00:02\n",
      "   --------- ------------------------------ 1.7/7.2 MB 5.5 MB/s eta 0:00:01\n",
      "   ---------- ----------------------------- 1.8/7.2 MB 5.5 MB/s eta 0:00:01\n",
      "   ----------- ---------------------------- 2.2/7.2 MB 5.3 MB/s eta 0:00:01\n",
      "   ----------- ---------------------------- 2.2/7.2 MB 5.3 MB/s eta 0:00:01\n",
      "   ------------- -------------------------- 2.4/7.2 MB 4.9 MB/s eta 0:00:01\n",
      "   -------------- ------------------------- 2.6/7.2 MB 4.7 MB/s eta 0:00:01\n",
      "   -------------- ------------------------- 2.6/7.2 MB 4.7 MB/s eta 0:00:01\n",
      "   --------------- ------------------------ 2.8/7.2 MB 4.5 MB/s eta 0:00:01\n",
      "   ----------------- ---------------------- 3.2/7.2 MB 4.6 MB/s eta 0:00:01\n",
      "   ----------------- ---------------------- 3.2/7.2 MB 4.6 MB/s eta 0:00:01\n",
      "   ------------------ --------------------- 3.3/7.2 MB 4.4 MB/s eta 0:00:01\n",
      "   ------------------ --------------------- 3.3/7.2 MB 4.4 MB/s eta 0:00:01\n",
      "   ------------------- -------------------- 3.5/7.2 MB 4.1 MB/s eta 0:00:01\n",
      "   -------------------- ------------------- 3.7/7.2 MB 4.1 MB/s eta 0:00:01\n",
      "   ---------------------- ----------------- 4.0/7.2 MB 4.2 MB/s eta 0:00:01\n",
      "   ----------------------- ---------------- 4.3/7.2 MB 4.2 MB/s eta 0:00:01\n",
      "   ------------------------ --------------- 4.5/7.2 MB 4.3 MB/s eta 0:00:01\n",
      "   -------------------------- ------------- 4.7/7.2 MB 4.3 MB/s eta 0:00:01\n",
      "   --------------------------- ------------ 4.9/7.2 MB 4.2 MB/s eta 0:00:01\n",
      "   ---------------------------- ----------- 5.1/7.2 MB 4.3 MB/s eta 0:00:01\n",
      "   ----------------------------- ---------- 5.4/7.2 MB 4.3 MB/s eta 0:00:01\n",
      "   ------------------------------- -------- 5.6/7.2 MB 4.3 MB/s eta 0:00:01\n",
      "   ------------------------------- -------- 5.7/7.2 MB 4.4 MB/s eta 0:00:01\n",
      "   -------------------------------- ------- 5.9/7.2 MB 4.4 MB/s eta 0:00:01\n",
      "   ---------------------------------- ----- 6.2/7.2 MB 4.3 MB/s eta 0:00:01\n",
      "   ---------------------------------- ----- 6.2/7.2 MB 4.3 MB/s eta 0:00:01\n",
      "   ----------------------------------- ---- 6.4/7.2 MB 4.3 MB/s eta 0:00:01\n",
      "   ------------------------------------ --- 6.5/7.2 MB 4.2 MB/s eta 0:00:01\n",
      "   ------------------------------------- -- 6.7/7.2 MB 4.1 MB/s eta 0:00:01\n",
      "   ------------------------------------- -- 6.8/7.2 MB 4.1 MB/s eta 0:00:01\n",
      "   -------------------------------------- - 7.0/7.2 MB 4.1 MB/s eta 0:00:01\n",
      "   ---------------------------------------  7.1/7.2 MB 4.0 MB/s eta 0:00:01\n",
      "   ---------------------------------------  7.1/7.2 MB 4.0 MB/s eta 0:00:01\n",
      "   ---------------------------------------- 7.2/7.2 MB 3.9 MB/s eta 0:00:00\n",
      "Downloading trio-0.22.2-py3-none-any.whl (400 kB)\n",
      "   ---------------------------------------- 0.0/400.2 kB ? eta -:--:--\n",
      "   ------------------- -------------------- 194.6/400.2 kB 5.9 MB/s eta 0:00:01\n",
      "   --------------------------------- ------ 337.9/400.2 kB 4.2 MB/s eta 0:00:01\n",
      "   ---------------------------------------- 400.2/400.2 kB 2.8 MB/s eta 0:00:00\n",
      "Downloading trio_websocket-0.10.3-py3-none-any.whl (17 kB)\n",
      "Downloading exceptiongroup-1.1.3-py3-none-any.whl (14 kB)\n",
      "Installing collected packages: outcome, h11, exceptiongroup, wsproto, trio, trio-websocket, selenium\n",
      "Successfully installed exceptiongroup-1.1.3 h11-0.14.0 outcome-1.2.0 selenium-4.11.2 trio-0.22.2 trio-websocket-0.10.3 wsproto-1.2.0\n"
     ]
    }
   ],
   "source": [
    "!pip install selenium"
   ]
  },
  {
   "cell_type": "code",
   "execution_count": 5,
   "id": "351a51ad",
   "metadata": {
    "ExecuteTime": {
     "end_time": "2023-08-28T00:28:58.207780Z",
     "start_time": "2023-08-28T00:28:53.648747Z"
    }
   },
   "outputs": [
    {
     "name": "stdout",
     "output_type": "stream",
     "text": [
      "Requirement already satisfied: selenium in c:\\users\\user\\anaconda3\\lib\\site-packages (4.11.2)\n",
      "Requirement already satisfied: urllib3[socks]<3,>=1.26 in c:\\users\\user\\anaconda3\\lib\\site-packages (from selenium) (1.26.16)\n",
      "Requirement already satisfied: trio~=0.17 in c:\\users\\user\\anaconda3\\lib\\site-packages (from selenium) (0.22.2)\n",
      "Requirement already satisfied: trio-websocket~=0.9 in c:\\users\\user\\anaconda3\\lib\\site-packages (from selenium) (0.10.3)\n",
      "Requirement already satisfied: certifi>=2021.10.8 in c:\\users\\user\\anaconda3\\lib\\site-packages (from selenium) (2023.7.22)\n",
      "Requirement already satisfied: attrs>=20.1.0 in c:\\users\\user\\anaconda3\\lib\\site-packages (from trio~=0.17->selenium) (22.1.0)\n",
      "Requirement already satisfied: sortedcontainers in c:\\users\\user\\anaconda3\\lib\\site-packages (from trio~=0.17->selenium) (2.4.0)\n",
      "Requirement already satisfied: idna in c:\\users\\user\\anaconda3\\lib\\site-packages (from trio~=0.17->selenium) (3.4)\n",
      "Requirement already satisfied: outcome in c:\\users\\user\\anaconda3\\lib\\site-packages (from trio~=0.17->selenium) (1.2.0)\n",
      "Requirement already satisfied: sniffio in c:\\users\\user\\anaconda3\\lib\\site-packages (from trio~=0.17->selenium) (1.2.0)\n",
      "Requirement already satisfied: cffi>=1.14 in c:\\users\\user\\anaconda3\\lib\\site-packages (from trio~=0.17->selenium) (1.15.1)\n",
      "Requirement already satisfied: exceptiongroup in c:\\users\\user\\anaconda3\\lib\\site-packages (from trio-websocket~=0.9->selenium) (1.1.3)\n",
      "Requirement already satisfied: wsproto>=0.14 in c:\\users\\user\\anaconda3\\lib\\site-packages (from trio-websocket~=0.9->selenium) (1.2.0)\n",
      "Requirement already satisfied: PySocks!=1.5.7,<2.0,>=1.5.6 in c:\\users\\user\\anaconda3\\lib\\site-packages (from urllib3[socks]<3,>=1.26->selenium) (1.7.1)\n",
      "Requirement already satisfied: pycparser in c:\\users\\user\\anaconda3\\lib\\site-packages (from cffi>=1.14->trio~=0.17->selenium) (2.21)\n",
      "Requirement already satisfied: h11<1,>=0.9.0 in c:\\users\\user\\anaconda3\\lib\\site-packages (from wsproto>=0.14->trio-websocket~=0.9->selenium) (0.14.0)\n"
     ]
    }
   ],
   "source": [
    "!pip install -U selenium"
   ]
  },
  {
   "cell_type": "markdown",
   "id": "9c2b4db0",
   "metadata": {},
   "source": [
    "# .셀레니움을 사용하기 위해 반드시 깔아야하는 라이브러리"
   ]
  },
  {
   "cell_type": "code",
   "execution_count": 2,
   "id": "3de16d16",
   "metadata": {
    "ExecuteTime": {
     "end_time": "2023-08-28T00:27:56.425884Z",
     "start_time": "2023-08-28T00:27:56.422693Z"
    }
   },
   "outputs": [],
   "source": [
    "# 브라우저의 역할을 해주는 라이브러리\n",
    "from selenium import webdriver as wb\n",
    "#컴퓨터용 키보드\n",
    "from selenium.webdriver.common.keys import Keys\n",
    "# 선택자의 구분자 역할을 해주는 라이브러리\n",
    "from selenium.webdriver.common.by import By"
   ]
  },
  {
   "cell_type": "code",
   "execution_count": 10,
   "id": "79e89238",
   "metadata": {
    "ExecuteTime": {
     "end_time": "2023-08-28T00:35:05.782748Z",
     "start_time": "2023-08-28T00:35:04.384973Z"
    }
   },
   "outputs": [],
   "source": [
    "#크롬창을 실행\n",
    "driver = wb.Chrome()"
   ]
  },
  {
   "cell_type": "code",
   "execution_count": 19,
   "id": "1be53754",
   "metadata": {
    "ExecuteTime": {
     "end_time": "2023-08-28T01:12:35.591731Z",
     "start_time": "2023-08-28T01:12:34.454321Z"
    }
   },
   "outputs": [],
   "source": [
    "driver.get(\"http://www.naver.com\")"
   ]
  },
  {
   "cell_type": "code",
   "execution_count": 20,
   "id": "953081db",
   "metadata": {
    "ExecuteTime": {
     "end_time": "2023-08-28T01:12:37.021795Z",
     "start_time": "2023-08-28T01:12:36.960058Z"
    }
   },
   "outputs": [],
   "source": [
    "# 3. 검색창에 검색어를 입력\n",
    "# 3-1 : 검색창의 위치를 알아온다.\n",
    "# soup.select(\"#query\")\n",
    "search = driver.find_element(By.ID, \"query\")\n",
    "search.send_keys(\"이준영히히\")"
   ]
  },
  {
   "cell_type": "code",
   "execution_count": 21,
   "id": "975fe482",
   "metadata": {
    "ExecuteTime": {
     "end_time": "2023-08-28T01:12:41.794352Z",
     "start_time": "2023-08-28T01:12:41.182103Z"
    }
   },
   "outputs": [],
   "source": [
    "search.send_keys(Keys.ENTER)"
   ]
  },
  {
   "cell_type": "code",
   "execution_count": 22,
   "id": "913d408e",
   "metadata": {
    "ExecuteTime": {
     "end_time": "2023-08-28T01:12:41.862721Z",
     "start_time": "2023-08-28T01:12:41.806173Z"
    }
   },
   "outputs": [],
   "source": [
    "# 스크롤을 화면 최하단으로 이동\n",
    "# Why? 화면 밑에 있는 데이터도 로딩\n",
    "#화면에 키보드에 있는 END키를 보내주기\n",
    "body = driver.find_element(By.TAG_NAME, \"body\")\n",
    "body.send_keys(Keys.END)"
   ]
  },
  {
   "cell_type": "code",
   "execution_count": 23,
   "id": "b7faafc9",
   "metadata": {
    "ExecuteTime": {
     "end_time": "2023-08-28T01:17:33.940307Z",
     "start_time": "2023-08-28T01:17:33.494519Z"
    }
   },
   "outputs": [],
   "source": [
    "#5. 페이지 뒤로가기\n",
    "# 뒤로가기 버튼은 html 태그가 아니다.\n",
    "driver.back()"
   ]
  },
  {
   "cell_type": "code",
   "execution_count": 25,
   "id": "ef584b87",
   "metadata": {
    "ExecuteTime": {
     "end_time": "2023-08-28T01:29:51.266864Z",
     "start_time": "2023-08-28T01:29:51.201061Z"
    }
   },
   "outputs": [],
   "source": [
    "#6. 다시한번 검색창에 새로운 검색어\n",
    "# 화면이 변하면 -> 화면이 이동했다면 \n",
    "# 컴퓨터는 과거 화면을 다 잊어버린다.\n",
    "# 반드시 요소를 검색 후 , 명령을 내려야 한다.\n",
    "search = driver.find_element(By.ID, \"query\")\n",
    "search.send_keys(\"히히\")"
   ]
  },
  {
   "cell_type": "code",
   "execution_count": 28,
   "id": "2c8bf1b2",
   "metadata": {
    "ExecuteTime": {
     "end_time": "2023-08-28T01:31:03.151744Z",
     "start_time": "2023-08-28T01:31:02.159266Z"
    }
   },
   "outputs": [],
   "source": [
    "btn = driver.find_element(By.CLASS_NAME, \"btn_search\")\n",
    "btn.click()"
   ]
  },
  {
   "cell_type": "code",
   "execution_count": 29,
   "id": "97040304",
   "metadata": {
    "ExecuteTime": {
     "end_time": "2023-08-28T01:31:05.407243Z",
     "start_time": "2023-08-28T01:31:03.169702Z"
    }
   },
   "outputs": [],
   "source": [
    "# 창을 종료\n",
    "driver.quit()"
   ]
  },
  {
   "cell_type": "markdown",
   "id": "4439f349",
   "metadata": {},
   "source": [
    "# . 참고할 점\n",
    "- 수업때 한 방식은 최신버전의 코드\n",
    "1. 크롬 드라이버 = 컴퓨터용 크롬\n",
    "    1. wb.Chrome(\"크롬드라이버 경로\")\n",
    "    2. find_element(By.ID) -> find_element_bt_id()"
   ]
  },
  {
   "cell_type": "code",
   "execution_count": null,
   "id": "bfde6a48",
   "metadata": {},
   "outputs": [],
   "source": []
  }
 ],
 "metadata": {
  "hide_input": false,
  "kernelspec": {
   "display_name": "Python 3 (ipykernel)",
   "language": "python",
   "name": "python3"
  },
  "language_info": {
   "codemirror_mode": {
    "name": "ipython",
    "version": 3
   },
   "file_extension": ".py",
   "mimetype": "text/x-python",
   "name": "python",
   "nbconvert_exporter": "python",
   "pygments_lexer": "ipython3",
   "version": "3.11.4"
  },
  "nbTranslate": {
   "displayLangs": [
    "*"
   ],
   "hotkey": "alt-t",
   "langInMainMenu": true,
   "sourceLang": "en",
   "targetLang": "fr",
   "useGoogleTranslate": true
  },
  "toc": {
   "base_numbering": 1,
   "nav_menu": {},
   "number_sections": true,
   "sideBar": true,
   "skip_h1_title": false,
   "title_cell": "Table of Contents",
   "title_sidebar": "Contents",
   "toc_cell": false,
   "toc_position": {},
   "toc_section_display": true,
   "toc_window_display": false
  },
  "varInspector": {
   "cols": {
    "lenName": 16,
    "lenType": 16,
    "lenVar": 40
   },
   "kernels_config": {
    "python": {
     "delete_cmd_postfix": "",
     "delete_cmd_prefix": "del ",
     "library": "var_list.py",
     "varRefreshCmd": "print(var_dic_list())"
    },
    "r": {
     "delete_cmd_postfix": ") ",
     "delete_cmd_prefix": "rm(",
     "library": "var_list.r",
     "varRefreshCmd": "cat(var_dic_list()) "
    }
   },
   "types_to_exclude": [
    "module",
    "function",
    "builtin_function_or_method",
    "instance",
    "_Feature"
   ],
   "window_display": false
  }
 },
 "nbformat": 4,
 "nbformat_minor": 5
}
