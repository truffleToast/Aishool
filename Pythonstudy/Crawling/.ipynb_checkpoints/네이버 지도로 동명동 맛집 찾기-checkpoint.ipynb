{
 "cells": [
  {
   "cell_type": "code",
   "execution_count": 185,
   "id": "a0656c9e",
   "metadata": {
    "ExecuteTime": {
     "end_time": "2023-08-29T07:02:33.272325Z",
     "start_time": "2023-08-29T07:02:33.265312Z"
    }
   },
   "outputs": [],
   "source": [
    "from selenium import webdriver as wb\n",
    "from selenium.webdriver.common.by import By\n",
    "from selenium.webdriver.common.keys import Keys\n",
    "import time"
   ]
  },
  {
   "cell_type": "code",
   "execution_count": 208,
   "id": "9ea04885",
   "metadata": {
    "ExecuteTime": {
     "end_time": "2023-08-29T08:27:53.012696Z",
     "start_time": "2023-08-29T08:27:49.543792Z"
    }
   },
   "outputs": [],
   "source": [
    "#1. 크롬드라이버를 실행하여 네이버 지도 사이트로 이동\n",
    "driver = wb.Chrome()\n",
    "driver.get(\"https:map.naver.com/p\")"
   ]
  },
  {
   "cell_type": "code",
   "execution_count": 98,
   "id": "da5d2756",
   "metadata": {
    "ExecuteTime": {
     "end_time": "2023-08-29T01:31:21.226591Z",
     "start_time": "2023-08-29T01:31:20.965826Z"
    }
   },
   "outputs": [],
   "source": [
    "# 크롬 드라이버로 동명동 회식 검색하기\n",
    "search =driver.find_element(By.CSS_SELECTOR, \".input_search\")\n",
    "search.send_keys(\"동명동 회식\")\n",
    "search.send_keys(Keys.ENTER)"
   ]
  },
  {
   "cell_type": "code",
   "execution_count": 80,
   "id": "ce0f1b5e",
   "metadata": {
    "ExecuteTime": {
     "end_time": "2023-08-29T01:27:11.417228Z",
     "start_time": "2023-08-29T01:27:11.413509Z"
    }
   },
   "outputs": [],
   "source": [
    "# 미미원을 클릭해서 세부정보를 조회\n",
    "# 화면상에 데이터가 출력은 되는데 조작이 안될 때에는 iframe을 검사해라\n",
    "# 1. request는 iframe의 scf를 찾아가서 데이터 수집\n",
    "# 2. selenium에서는 현재 컴퓨터가 바라보고있는 html창을 변경"
   ]
  },
  {
   "cell_type": "code",
   "execution_count": 99,
   "id": "709db13b",
   "metadata": {
    "ExecuteTime": {
     "end_time": "2023-08-29T01:31:27.947159Z",
     "start_time": "2023-08-29T01:31:27.805149Z"
    }
   },
   "outputs": [],
   "source": [
    "# 컴퓨터에게 바라보고 있는 창을 원하는 iframe으로 변경\n",
    "# frame을 변경할 때는 switch_to.frame(\"iframe의 id\")\n",
    "driver.switch_to.frame(\"searchIframe\")\n",
    "title = driver.find_elements(By.CSS_SELECTOR, \".place_bluelink.YwYLL\")\n",
    "title[0].click()"
   ]
  },
  {
   "cell_type": "code",
   "execution_count": 103,
   "id": "baa69f49",
   "metadata": {
    "ExecuteTime": {
     "end_time": "2023-08-29T01:36:39.172773Z",
     "start_time": "2023-08-29T01:36:34.094677Z"
    }
   },
   "outputs": [
    {
     "name": "stdout",
     "output_type": "stream",
     "text": [
      "비치대게\n"
     ]
    }
   ],
   "source": [
    "# 상세정보에서 가게 이름정보 수집\n",
    "#iframe에서 iframe으로 바로 이동은 불가능\n",
    "driver.switch_to.default_content()\n",
    "time.sleep(5)\n",
    "driver.switch_to.frame(\"entryIframe\")\n",
    "sikdang = driver.find_element(By.CSS_SELECTOR, \".Fc1rA\")\n",
    "print(sikdang.text)"
   ]
  },
  {
   "cell_type": "code",
   "execution_count": 105,
   "id": "d896a6c5",
   "metadata": {
    "ExecuteTime": {
     "end_time": "2023-08-29T01:43:52.831667Z",
     "start_time": "2023-08-29T01:43:49.582182Z"
    }
   },
   "outputs": [
    {
     "name": "stdout",
     "output_type": "stream",
     "text": [
      "동명항대게마을\n"
     ]
    }
   ],
   "source": [
    "# 두번 째 가게 나 자동화를 위해서는 for문 이나 while문을 사용하는게 좋아보임\n",
    "ts3 =time.sleep(3)\n",
    "driver.switch_to.default_content()\n",
    "ts3\n",
    "driver.switch_to.frame(\"searchIframe\")\n",
    "ts3\n",
    "title = driver.find_elements(By.CSS_SELECTOR, \".place_bluelink.YwYLL\")\n",
    "title[1].click()\n",
    "ts3\n",
    "driver.switch_to.default_content()\n",
    "ts3\n",
    "driver.switch_to.frame(\"entryIframe\")\n",
    "sikudan = driver.find_element(By.CSS_SELECTOR, \".Fc1rA\")\n",
    "print(sikudan.text)\n",
    "    \n",
    "    \n",
    "    "
   ]
  },
  {
   "cell_type": "code",
   "execution_count": 252,
   "id": "9d1f39a5",
   "metadata": {
    "ExecuteTime": {
     "end_time": "2023-08-29T09:16:18.298638Z",
     "start_time": "2023-08-29T09:16:15.995840Z"
    }
   },
   "outputs": [],
   "source": [
    "# 셀 합치기\n",
    "# import하기\n",
    "from selenium import webdriver as wb\n",
    "from selenium.webdriver.common.by import By\n",
    "from selenium.webdriver.common.keys import Keys\n",
    "import time\n",
    "import pandas as pd\n",
    "\n",
    "driver = wb.Chrome()\n",
    "driver\n",
    "driver.get(\"https:map.naver.com/p\")"
   ]
  },
  {
   "cell_type": "code",
   "execution_count": 253,
   "id": "658bd494",
   "metadata": {
    "ExecuteTime": {
     "end_time": "2023-08-29T09:16:26.196028Z",
     "start_time": "2023-08-29T09:16:23.012246Z"
    },
    "run_control": {
     "marked": true
    }
   },
   "outputs": [],
   "source": [
    "# 동명동 회식 검색\n",
    "search =driver.find_element(By.CSS_SELECTOR, \".input_search\")\n",
    "search.send_keys(\"동명동 회식\")\n",
    "search.send_keys(Keys.ENTER)\n",
    "time.sleep(3)"
   ]
  },
  {
   "cell_type": "code",
   "execution_count": 254,
   "id": "f8340278",
   "metadata": {
    "ExecuteTime": {
     "end_time": "2023-08-29T09:16:31.715253Z",
     "start_time": "2023-08-29T09:16:28.676837Z"
    }
   },
   "outputs": [],
   "source": [
    "# 컴퓨터에게 바라보고 있는 창을 원하는 iframe으로 변경\n",
    "# frame을 변경할 때는 switch_to.frame(\"iframe의 id\")\n",
    "driver.switch_to.frame(\"searchIframe\")\n",
    "time.sleep(3)"
   ]
  },
  {
   "cell_type": "code",
   "execution_count": 255,
   "id": "9c1616de",
   "metadata": {
    "ExecuteTime": {
     "end_time": "2023-08-29T09:16:44.072437Z",
     "start_time": "2023-08-29T09:16:41.915882Z"
    }
   },
   "outputs": [],
   "source": [
    "# 첫 페이지에서\n",
    "# 다음버튼의 값을 먼저 가져오기\n",
    "arrow_list = driver.find_elements(By.CSS_SELECTOR, '#app-root > div > div.XUrfU > div.zRM9F > a')\n",
    "num = len(arrow_list)\n",
    "pages = num - 2\n",
    "flag = 0\n",
    "time.sleep(2)\n",
    "daum_btn = driver.find_element(By.CSS_SELECTOR, \"#app-root > div > div.XUrfU > div.zRM9F > a:nth-child(\"+str(num)+\") > svg\")\n",
    "\n",
    "# ifame내에서 스크롤이 허락되는 부분이 다르므로 클릭을 해야한다.\n",
    "driver.find_element(By.CSS_SELECTOR,\".XUrfU\").click()"
   ]
  },
  {
   "cell_type": "code",
   "execution_count": 256,
   "id": "7d717665",
   "metadata": {
    "ExecuteTime": {
     "end_time": "2023-08-29T09:16:58.237855Z",
     "start_time": "2023-08-29T09:16:47.643208Z"
    }
   },
   "outputs": [],
   "source": [
    "body = driver.find_element(By.CSS_SELECTOR, \"body\")\n",
    "for i in range(10):\n",
    "    body.send_keys(Keys.END)\n",
    "    time.sleep(1)\n",
    "title = driver.find_elements(By.CSS_SELECTOR, \".place_bluelink.YwYLL\")\n",
    "sikudan_list = []"
   ]
  },
  {
   "cell_type": "code",
   "execution_count": 257,
   "id": "72f72f3d",
   "metadata": {
    "ExecuteTime": {
     "end_time": "2023-08-29T09:22:39.549617Z",
     "start_time": "2023-08-29T09:17:02.619931Z"
    },
    "scrolled": true
   },
   "outputs": [
    {
     "name": "stdout",
     "output_type": "stream",
     "text": [
      "미미원\n",
      "황톳길\n",
      "RONNIQUE\n",
      "달곰식당\n",
      "알랭\n",
      "동명사랑채\n",
      "가원\n",
      "시스살롱\n",
      "동명로15\n",
      "칠복계\n",
      "엄마네돼지찌개\n",
      "나주식당\n",
      "소뇨\n",
      "바른초밥 두암점\n",
      "열도지\n",
      "민속촌\n",
      "맛삼\n",
      "청춘덮밥\n",
      "밤실마을\n",
      "바리에\n",
      "광주보쌈\n",
      "장독대\n",
      "소맥베이커리\n",
      "동명동 나른한 오후\n",
      "아카이타코\n",
      "황솔촌 충장점\n",
      "유명회관\n",
      "평화식당\n",
      "해남식당\n",
      "테스타\n",
      "박순자 녹두집\n",
      "사이공장\n",
      "어니스트식스티\n",
      "퍼스트네팔 광주본점\n",
      "1960청원모밀\n"
     ]
    },
    {
     "ename": "ElementClickInterceptedException",
     "evalue": "Message: element click intercepted: Element <span class=\"place_bluelink YwYLL\">...</span> is not clickable at point (109, 44). Other element would receive the click: <a href=\"#\" target=\"_self\" role=\"button\" class=\"_T0lO\">...</a>\n  (Session info: chrome=116.0.5845.111)\nStacktrace:\n\tGetHandleVerifier [0x00007FF773E052A2+57122]\n\t(No symbol) [0x00007FF773D7EA92]\n\t(No symbol) [0x00007FF773C4E3AB]\n\t(No symbol) [0x00007FF773C8D783]\n\t(No symbol) [0x00007FF773C8BD5F]\n\t(No symbol) [0x00007FF773C89DC8]\n\t(No symbol) [0x00007FF773C88FD5]\n\t(No symbol) [0x00007FF773C7F25F]\n\t(No symbol) [0x00007FF773CA6FDA]\n\t(No symbol) [0x00007FF773C7EB76]\n\t(No symbol) [0x00007FF773CA71F0]\n\t(No symbol) [0x00007FF773CBEB82]\n\t(No symbol) [0x00007FF773CA6DB3]\n\t(No symbol) [0x00007FF773C7D2B1]\n\t(No symbol) [0x00007FF773C7E494]\n\tGetHandleVerifier [0x00007FF7740AEF82+2849794]\n\tGetHandleVerifier [0x00007FF774101D24+3189156]\n\tGetHandleVerifier [0x00007FF7740FACAF+3160367]\n\tGetHandleVerifier [0x00007FF773E96D06+653702]\n\t(No symbol) [0x00007FF773D8A208]\n\t(No symbol) [0x00007FF773D862C4]\n\t(No symbol) [0x00007FF773D863F6]\n\t(No symbol) [0x00007FF773D767A3]\n\tBaseThreadInitThunk [0x00007FF94E6526AD+29]\n\tRtlUserThreadStart [0x00007FF94F20AA68+40]\n",
     "output_type": "error",
     "traceback": [
      "\u001b[1;31m---------------------------------------------------------------------------\u001b[0m",
      "\u001b[1;31mElementClickInterceptedException\u001b[0m          Traceback (most recent call last)",
      "Cell \u001b[1;32mIn[257], line 9\u001b[0m\n\u001b[0;32m      7\u001b[0m title \u001b[38;5;241m=\u001b[39m driver\u001b[38;5;241m.\u001b[39mfind_elements(By\u001b[38;5;241m.\u001b[39mCSS_SELECTOR, \u001b[38;5;124m\"\u001b[39m\u001b[38;5;124m.place_bluelink.YwYLL\u001b[39m\u001b[38;5;124m\"\u001b[39m)\n\u001b[0;32m      8\u001b[0m \u001b[38;5;28;01mfor\u001b[39;00m j \u001b[38;5;129;01min\u001b[39;00m title:\n\u001b[1;32m----> 9\u001b[0m     j\u001b[38;5;241m.\u001b[39mclick()\n\u001b[0;32m     10\u001b[0m     time\u001b[38;5;241m.\u001b[39msleep(\u001b[38;5;241m3\u001b[39m)\n\u001b[0;32m     11\u001b[0m     driver\u001b[38;5;241m.\u001b[39mswitch_to\u001b[38;5;241m.\u001b[39mdefault_content() \u001b[38;5;66;03m# 아이프레임에서 메인으로 이동\u001b[39;00m\n",
      "File \u001b[1;32m~\\anaconda3\\Lib\\site-packages\\selenium\\webdriver\\remote\\webelement.py:94\u001b[0m, in \u001b[0;36mWebElement.click\u001b[1;34m(self)\u001b[0m\n\u001b[0;32m     92\u001b[0m \u001b[38;5;28;01mdef\u001b[39;00m \u001b[38;5;21mclick\u001b[39m(\u001b[38;5;28mself\u001b[39m) \u001b[38;5;241m-\u001b[39m\u001b[38;5;241m>\u001b[39m \u001b[38;5;28;01mNone\u001b[39;00m:\n\u001b[0;32m     93\u001b[0m \u001b[38;5;250m    \u001b[39m\u001b[38;5;124;03m\"\"\"Clicks the element.\"\"\"\u001b[39;00m\n\u001b[1;32m---> 94\u001b[0m     \u001b[38;5;28mself\u001b[39m\u001b[38;5;241m.\u001b[39m_execute(Command\u001b[38;5;241m.\u001b[39mCLICK_ELEMENT)\n",
      "File \u001b[1;32m~\\anaconda3\\Lib\\site-packages\\selenium\\webdriver\\remote\\webelement.py:395\u001b[0m, in \u001b[0;36mWebElement._execute\u001b[1;34m(self, command, params)\u001b[0m\n\u001b[0;32m    393\u001b[0m     params \u001b[38;5;241m=\u001b[39m {}\n\u001b[0;32m    394\u001b[0m params[\u001b[38;5;124m\"\u001b[39m\u001b[38;5;124mid\u001b[39m\u001b[38;5;124m\"\u001b[39m] \u001b[38;5;241m=\u001b[39m \u001b[38;5;28mself\u001b[39m\u001b[38;5;241m.\u001b[39m_id\n\u001b[1;32m--> 395\u001b[0m \u001b[38;5;28;01mreturn\u001b[39;00m \u001b[38;5;28mself\u001b[39m\u001b[38;5;241m.\u001b[39m_parent\u001b[38;5;241m.\u001b[39mexecute(command, params)\n",
      "File \u001b[1;32m~\\anaconda3\\Lib\\site-packages\\selenium\\webdriver\\remote\\webdriver.py:345\u001b[0m, in \u001b[0;36mWebDriver.execute\u001b[1;34m(self, driver_command, params)\u001b[0m\n\u001b[0;32m    343\u001b[0m response \u001b[38;5;241m=\u001b[39m \u001b[38;5;28mself\u001b[39m\u001b[38;5;241m.\u001b[39mcommand_executor\u001b[38;5;241m.\u001b[39mexecute(driver_command, params)\n\u001b[0;32m    344\u001b[0m \u001b[38;5;28;01mif\u001b[39;00m response:\n\u001b[1;32m--> 345\u001b[0m     \u001b[38;5;28mself\u001b[39m\u001b[38;5;241m.\u001b[39merror_handler\u001b[38;5;241m.\u001b[39mcheck_response(response)\n\u001b[0;32m    346\u001b[0m     response[\u001b[38;5;124m\"\u001b[39m\u001b[38;5;124mvalue\u001b[39m\u001b[38;5;124m\"\u001b[39m] \u001b[38;5;241m=\u001b[39m \u001b[38;5;28mself\u001b[39m\u001b[38;5;241m.\u001b[39m_unwrap_value(response\u001b[38;5;241m.\u001b[39mget(\u001b[38;5;124m\"\u001b[39m\u001b[38;5;124mvalue\u001b[39m\u001b[38;5;124m\"\u001b[39m, \u001b[38;5;28;01mNone\u001b[39;00m))\n\u001b[0;32m    347\u001b[0m     \u001b[38;5;28;01mreturn\u001b[39;00m response\n",
      "File \u001b[1;32m~\\anaconda3\\Lib\\site-packages\\selenium\\webdriver\\remote\\errorhandler.py:229\u001b[0m, in \u001b[0;36mErrorHandler.check_response\u001b[1;34m(self, response)\u001b[0m\n\u001b[0;32m    227\u001b[0m         alert_text \u001b[38;5;241m=\u001b[39m value[\u001b[38;5;124m\"\u001b[39m\u001b[38;5;124malert\u001b[39m\u001b[38;5;124m\"\u001b[39m]\u001b[38;5;241m.\u001b[39mget(\u001b[38;5;124m\"\u001b[39m\u001b[38;5;124mtext\u001b[39m\u001b[38;5;124m\"\u001b[39m)\n\u001b[0;32m    228\u001b[0m     \u001b[38;5;28;01mraise\u001b[39;00m exception_class(message, screen, stacktrace, alert_text)  \u001b[38;5;66;03m# type: ignore[call-arg]  # mypy is not smart enough here\u001b[39;00m\n\u001b[1;32m--> 229\u001b[0m \u001b[38;5;28;01mraise\u001b[39;00m exception_class(message, screen, stacktrace)\n",
      "\u001b[1;31mElementClickInterceptedException\u001b[0m: Message: element click intercepted: Element <span class=\"place_bluelink YwYLL\">...</span> is not clickable at point (109, 44). Other element would receive the click: <a href=\"#\" target=\"_self\" role=\"button\" class=\"_T0lO\">...</a>\n  (Session info: chrome=116.0.5845.111)\nStacktrace:\n\tGetHandleVerifier [0x00007FF773E052A2+57122]\n\t(No symbol) [0x00007FF773D7EA92]\n\t(No symbol) [0x00007FF773C4E3AB]\n\t(No symbol) [0x00007FF773C8D783]\n\t(No symbol) [0x00007FF773C8BD5F]\n\t(No symbol) [0x00007FF773C89DC8]\n\t(No symbol) [0x00007FF773C88FD5]\n\t(No symbol) [0x00007FF773C7F25F]\n\t(No symbol) [0x00007FF773CA6FDA]\n\t(No symbol) [0x00007FF773C7EB76]\n\t(No symbol) [0x00007FF773CA71F0]\n\t(No symbol) [0x00007FF773CBEB82]\n\t(No symbol) [0x00007FF773CA6DB3]\n\t(No symbol) [0x00007FF773C7D2B1]\n\t(No symbol) [0x00007FF773C7E494]\n\tGetHandleVerifier [0x00007FF7740AEF82+2849794]\n\tGetHandleVerifier [0x00007FF774101D24+3189156]\n\tGetHandleVerifier [0x00007FF7740FACAF+3160367]\n\tGetHandleVerifier [0x00007FF773E96D06+653702]\n\t(No symbol) [0x00007FF773D8A208]\n\t(No symbol) [0x00007FF773D862C4]\n\t(No symbol) [0x00007FF773D863F6]\n\t(No symbol) [0x00007FF773D767A3]\n\tBaseThreadInitThunk [0x00007FF94E6526AD+29]\n\tRtlUserThreadStart [0x00007FF94F20AA68+40]\n"
     ]
    }
   ],
   "source": [
    "while True:\n",
    "    driver.find_element(By.CSS_SELECTOR,\".XUrfU\").click()\n",
    "    body = driver.find_element(By.CSS_SELECTOR, \"body\")\n",
    "    for i in range(10):\n",
    "        body.send_keys(Keys.END)\n",
    "        time.sleep(1)\n",
    "    title = driver.find_elements(By.CSS_SELECTOR, \".place_bluelink.YwYLL\")\n",
    "    for j in title:\n",
    "        j.click()\n",
    "        time.sleep(3)\n",
    "        driver.switch_to.default_content() # 아이프레임에서 메인으로 이동\n",
    "        driver.switch_to.frame(\"entryIframe\") # 세부 검색창\n",
    "        sikudan = driver.find_element(By.CSS_SELECTOR, \".Fc1rA\") # 이름 가져오고 담기\n",
    "        print(sikudan.text)\n",
    "        sikudan_list.append(sikudan.text)\n",
    "        time.sleep(3)\n",
    "        driver.switch_to.default_content()\n",
    "        time.sleep(3)\n",
    "        driver.switch_to.frame(\"searchIframe\")\n",
    "    daum_btn.click()\n",
    "    flag += 1\n",
    "    if flag >= pages-1:\n",
    "        break\n"
   ]
  },
  {
   "cell_type": "code",
   "execution_count": 235,
   "id": "9bd8bc4a",
   "metadata": {
    "ExecuteTime": {
     "end_time": "2023-08-29T09:05:26.972920Z",
     "start_time": "2023-08-29T09:05:26.958150Z"
    }
   },
   "outputs": [
    {
     "data": {
      "text/html": [
       "<div>\n",
       "<style scoped>\n",
       "    .dataframe tbody tr th:only-of-type {\n",
       "        vertical-align: middle;\n",
       "    }\n",
       "\n",
       "    .dataframe tbody tr th {\n",
       "        vertical-align: top;\n",
       "    }\n",
       "\n",
       "    .dataframe thead th {\n",
       "        text-align: right;\n",
       "    }\n",
       "</style>\n",
       "<table border=\"1\" class=\"dataframe\">\n",
       "  <thead>\n",
       "    <tr style=\"text-align: right;\">\n",
       "      <th></th>\n",
       "      <th>식당 리스트</th>\n",
       "    </tr>\n",
       "  </thead>\n",
       "  <tbody>\n",
       "  </tbody>\n",
       "</table>\n",
       "</div>"
      ],
      "text/plain": [
       "Empty DataFrame\n",
       "Columns: [식당 리스트]\n",
       "Index: []"
      ]
     },
     "execution_count": 235,
     "metadata": {},
     "output_type": "execute_result"
    }
   ],
   "source": [
    "dic = {\"식당 리스트\" : sikudan_list}\n",
    "pd.DataFrame(dic)"
   ]
  },
  {
   "cell_type": "code",
   "execution_count": null,
   "id": "89209290",
   "metadata": {},
   "outputs": [],
   "source": []
  }
 ],
 "metadata": {
  "hide_input": false,
  "kernelspec": {
   "display_name": "Python 3 (ipykernel)",
   "language": "python",
   "name": "python3"
  },
  "language_info": {
   "codemirror_mode": {
    "name": "ipython",
    "version": 3
   },
   "file_extension": ".py",
   "mimetype": "text/x-python",
   "name": "python",
   "nbconvert_exporter": "python",
   "pygments_lexer": "ipython3",
   "version": "3.11.4"
  },
  "nbTranslate": {
   "displayLangs": [
    "*"
   ],
   "hotkey": "alt-t",
   "langInMainMenu": true,
   "sourceLang": "en",
   "targetLang": "fr",
   "useGoogleTranslate": true
  },
  "toc": {
   "base_numbering": 1,
   "nav_menu": {},
   "number_sections": true,
   "sideBar": true,
   "skip_h1_title": false,
   "title_cell": "Table of Contents",
   "title_sidebar": "Contents",
   "toc_cell": false,
   "toc_position": {},
   "toc_section_display": true,
   "toc_window_display": false
  },
  "varInspector": {
   "cols": {
    "lenName": 16,
    "lenType": 16,
    "lenVar": 40
   },
   "kernels_config": {
    "python": {
     "delete_cmd_postfix": "",
     "delete_cmd_prefix": "del ",
     "library": "var_list.py",
     "varRefreshCmd": "print(var_dic_list())"
    },
    "r": {
     "delete_cmd_postfix": ") ",
     "delete_cmd_prefix": "rm(",
     "library": "var_list.r",
     "varRefreshCmd": "cat(var_dic_list()) "
    }
   },
   "types_to_exclude": [
    "module",
    "function",
    "builtin_function_or_method",
    "instance",
    "_Feature"
   ],
   "window_display": false
  }
 },
 "nbformat": 4,
 "nbformat_minor": 5
}
