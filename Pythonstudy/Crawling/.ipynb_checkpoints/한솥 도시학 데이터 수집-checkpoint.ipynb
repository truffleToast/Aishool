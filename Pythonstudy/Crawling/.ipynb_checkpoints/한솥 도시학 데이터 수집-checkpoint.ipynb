{
 "cells": [
  {
   "cell_type": "markdown",
   "id": "63712c88",
   "metadata": {},
   "source": [
    "### 한솥 도시락 데이터 가져오기"
   ]
  },
  {
   "cell_type": "code",
   "execution_count": 1,
   "id": "dfd99162",
   "metadata": {
    "ExecuteTime": {
     "end_time": "2023-08-28T01:40:03.795285Z",
     "start_time": "2023-08-28T01:40:03.791471Z"
    }
   },
   "outputs": [],
   "source": [
    "from selenium import webdriver as wb\n",
    "from selenium.webdriver.common.by import By\n",
    "from selenium.webdriver.common.keys import Keys"
   ]
  },
  {
   "cell_type": "code",
   "execution_count": 86,
   "id": "ff6dc6c8",
   "metadata": {
    "ExecuteTime": {
     "end_time": "2023-08-28T02:32:44.614755Z",
     "start_time": "2023-08-28T02:32:25.240804Z"
    }
   },
   "outputs": [],
   "source": [
    "# 1. 브라우저를 실행하고 -> 한솥 사이트로 이동\n",
    "driver = wb.Chrome()\n",
    "driver.get(\"https://www.hsd.co.kr/menu/menu_list\")"
   ]
  },
  {
   "cell_type": "code",
   "execution_count": 120,
   "id": "f88b4e74",
   "metadata": {
    "ExecuteTime": {
     "end_time": "2023-08-28T02:34:28.405190Z",
     "start_time": "2023-08-28T02:34:28.391428Z"
    }
   },
   "outputs": [],
   "source": [
    "# 데이터 가져오기 , div.item-text\n",
    "# 2. 상품이름 수집\n",
    "title =driver.find_elements(By.CSS_SELECTOR, \".h.fz_03\")"
   ]
  },
  {
   "cell_type": "code",
   "execution_count": 116,
   "id": "b49ebdb1",
   "metadata": {
    "ExecuteTime": {
     "end_time": "2023-08-28T02:34:19.838821Z",
     "start_time": "2023-08-28T02:34:19.157889Z"
    },
    "scrolled": true
   },
   "outputs": [],
   "source": [
    "# 상품 가격 정보 수집\n",
    "price = driver.find_elements(By.CSS_SELECTOR, \".item-price\")"
   ]
  },
  {
   "cell_type": "code",
   "execution_count": 123,
   "id": "59d88461",
   "metadata": {
    "ExecuteTime": {
     "end_time": "2023-08-28T02:35:43.583012Z",
     "start_time": "2023-08-28T02:35:43.579256Z"
    },
    "scrolled": true
   },
   "outputs": [
    {
     "data": {
      "text/plain": [
       "(111, 111)"
      ]
     },
     "execution_count": 123,
     "metadata": {},
     "output_type": "execute_result"
    }
   ],
   "source": [
    "len(title), len(price)"
   ]
  },
  {
   "cell_type": "code",
   "execution_count": 112,
   "id": "cd912363",
   "metadata": {
    "ExecuteTime": {
     "end_time": "2023-08-28T02:33:58.356076Z",
     "start_time": "2023-08-28T02:33:58.295643Z"
    }
   },
   "outputs": [],
   "source": [
    "# 더보기 버튼 클릭\n",
    "btn = driver.find_element(By.CSS_SELECTOR,\".c_05\")\n",
    "btn.click()"
   ]
  },
  {
   "cell_type": "markdown",
   "id": "1d4de26f",
   "metadata": {},
   "source": [
    "## 예외 처리\n",
    "-코드를 실행하다가 에러가 나는 경우 에러가 아닌 다른 코드를 실행\n",
    "- try = 에러가 나기 전까지 실행할 코드\n",
    "- except = 에러가 났을 때 실행할 코드"
   ]
  },
  {
   "cell_type": "code",
   "execution_count": 113,
   "id": "50b96fec",
   "metadata": {
    "ExecuteTime": {
     "end_time": "2023-08-28T02:34:00.087750Z",
     "start_time": "2023-08-28T02:34:00.084760Z"
    }
   },
   "outputs": [],
   "source": [
    "# 셀레니움을 통해서 요청을 보낼 때는 반드시 사람답게 코드를 짜자\n",
    "# 컴퓨터는 요청을 매우 빠르게 처리하기 때문에 \n",
    "# 클라이언특 서버에게 무리한 요청을 하면\n",
    "# 서버는 부하를 느낀다. -> 사람답게 코딩을 하는 게 중요\n",
    "import time"
   ]
  },
  {
   "cell_type": "code",
   "execution_count": 114,
   "id": "8bc1ab0f",
   "metadata": {
    "ExecuteTime": {
     "end_time": "2023-08-28T02:34:00.604087Z",
     "start_time": "2023-08-28T02:34:00.592136Z"
    },
    "scrolled": true
   },
   "outputs": [
    {
     "name": "stdout",
     "output_type": "stream",
     "text": [
      "더보기 없음\n"
     ]
    }
   ],
   "source": [
    "try: \n",
    "    for i in range(15):\n",
    "        btn =driver.find_element(By.CSS_SELECTOR, \"c_05\")\n",
    "        btn.click()\n",
    "        time.sleep(3)\n",
    "except:\n",
    "    print(\"더보기 없음\")\n",
    "    "
   ]
  },
  {
   "cell_type": "code",
   "execution_count": 124,
   "id": "2ce07699",
   "metadata": {
    "ExecuteTime": {
     "end_time": "2023-08-28T02:36:26.235359Z",
     "start_time": "2023-08-28T02:36:26.207311Z"
    }
   },
   "outputs": [],
   "source": [
    "title =driver.find_elements(By.CSS_SELECTOR, \".h.fz_03\")\n",
    "price = driver.find_elements(By.CSS_SELECTOR, \".item-price\")"
   ]
  },
  {
   "cell_type": "code",
   "execution_count": 126,
   "id": "26d3827f",
   "metadata": {
    "ExecuteTime": {
     "end_time": "2023-08-28T02:37:45.206100Z",
     "start_time": "2023-08-28T02:37:43.905054Z"
    }
   },
   "outputs": [],
   "source": [
    "title_list =[]\n",
    "price_list = []\n",
    "for _ in title:\n",
    "    title_list.append(_.text)\n",
    "for _ in price:\n",
    "    price_list.append(_.text)"
   ]
  },
  {
   "cell_type": "markdown",
   "id": "4fb5725c",
   "metadata": {},
   "source": [
    "## . 한셀에 코드 합치기"
   ]
  },
  {
   "cell_type": "code",
   "execution_count": 130,
   "id": "86b67d3a",
   "metadata": {
    "ExecuteTime": {
     "end_time": "2023-08-28T02:48:38.158569Z",
     "start_time": "2023-08-28T02:48:22.950521Z"
    }
   },
   "outputs": [
    {
     "name": "stdout",
     "output_type": "stream",
     "text": [
      "더보기 없음\n"
     ]
    }
   ],
   "source": [
    "# 데이터 준비 단계\n",
    "from selenium import webdriver as wb\n",
    "from selenium.webdriver.common.by import By\n",
    "from selenium.webdriver.common.keys import Keys\n",
    "import pandas as pd\n",
    "import time # time을 통해 간격 정하기\n",
    "# 1. 브라우저를 실행하고 -> 한솥 사이트로 이동\n",
    "driver = wb.Chrome()\n",
    "driver.get(\"https://www.hsd.co.kr/menu/menu_list\")\n",
    "time.sleep(3)\n",
    "try:\n",
    "    for i in range(15):\n",
    "        btn =driver.find_element(By.CSS_SELECTOR, \"c_05\")\n",
    "        btn.click()\n",
    "        time.sleep(3)\n",
    "except:\n",
    "    print(\"더보기 없음\")\n",
    "# 데이터 수집 단계\n",
    "title =driver.find_elements(By.CSS_SELECTOR, \".h.fz_03\")\n",
    "price = driver.find_elements(By.CSS_SELECTOR, \".item-price\")\n",
    "title_list, price_list = [], []\n",
    "for i in range(len(title)):\n",
    "    title_list.append(title[i].text)\n",
    "    price_list.append(price[i].text)\n",
    "#데이터 가공단계\n",
    "dic = {\"상품명\" : title_list, \"가격정보\": price_list}\n",
    "pd.DataFrame(dic)\n",
    "hansot =pd.DataFrame(dic)\n",
    "hansot.to_csv(\"한솥 메뉴리스트.csv\", encoding= \"euc-kr\")\n",
    "\n",
    "    "
   ]
  },
  {
   "cell_type": "markdown",
   "id": "1b967d0a",
   "metadata": {},
   "source": [
    "## 크롤링 하는 프로세스\n",
    "- 데이터 준비 : 브라우저를 열고 모든 데이터를 가져올 수 있게 하는 행위, 화면스크롤을 최하단까지 내리는 등\n",
    "- 데이터 수집 : 현재 화면에서 원하는 요소를 수집하는 행위\n",
    "- 데이터 가공 : 수집된 데이터를 필요한 컨텐츠\n",
    "- 데이터 활용:  가공된 데이터를 표, 파일로 제작"
   ]
  },
  {
   "cell_type": "markdown",
   "id": "22e31d8d",
   "metadata": {},
   "source": [
    "### . 크롤링 할 때\n",
    "- 반드시 cell run all을 금지\n",
    "- 항상 사람처럼 코딩을 작성하자!  ex ) time sleep(5), implicitly_wait(5)\n",
    "- 요청과 응답 사이에는 반드시 시간을 부여\n",
    "- time.sleep vs implicity_wait\n",
    "- 반드시 기다리는가?, 완료될때까지 최대 n초를 기다릴건가"
   ]
  },
  {
   "cell_type": "code",
   "execution_count": null,
   "id": "c474b40a",
   "metadata": {},
   "outputs": [],
   "source": []
  }
 ],
 "metadata": {
  "hide_input": false,
  "kernelspec": {
   "display_name": "Python 3 (ipykernel)",
   "language": "python",
   "name": "python3"
  },
  "language_info": {
   "codemirror_mode": {
    "name": "ipython",
    "version": 3
   },
   "file_extension": ".py",
   "mimetype": "text/x-python",
   "name": "python",
   "nbconvert_exporter": "python",
   "pygments_lexer": "ipython3",
   "version": "3.11.4"
  },
  "nbTranslate": {
   "displayLangs": [
    "*"
   ],
   "hotkey": "alt-t",
   "langInMainMenu": true,
   "sourceLang": "en",
   "targetLang": "fr",
   "useGoogleTranslate": true
  },
  "toc": {
   "base_numbering": 1,
   "nav_menu": {},
   "number_sections": true,
   "sideBar": true,
   "skip_h1_title": false,
   "title_cell": "Table of Contents",
   "title_sidebar": "Contents",
   "toc_cell": false,
   "toc_position": {},
   "toc_section_display": true,
   "toc_window_display": false
  },
  "varInspector": {
   "cols": {
    "lenName": 16,
    "lenType": 16,
    "lenVar": 40
   },
   "kernels_config": {
    "python": {
     "delete_cmd_postfix": "",
     "delete_cmd_prefix": "del ",
     "library": "var_list.py",
     "varRefreshCmd": "print(var_dic_list())"
    },
    "r": {
     "delete_cmd_postfix": ") ",
     "delete_cmd_prefix": "rm(",
     "library": "var_list.r",
     "varRefreshCmd": "cat(var_dic_list()) "
    }
   },
   "types_to_exclude": [
    "module",
    "function",
    "builtin_function_or_method",
    "instance",
    "_Feature"
   ],
   "window_display": false
  }
 },
 "nbformat": 4,
 "nbformat_minor": 5
}
