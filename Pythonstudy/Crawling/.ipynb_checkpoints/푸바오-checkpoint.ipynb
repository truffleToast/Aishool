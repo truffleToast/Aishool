{
 "cells": [
  {
   "cell_type": "code",
   "execution_count": 20,
   "id": "0ac62675",
   "metadata": {
    "ExecuteTime": {
     "end_time": "2023-08-29T03:25:21.053975Z",
     "start_time": "2023-08-29T03:25:21.049158Z"
    }
   },
   "outputs": [],
   "source": [
    "from selenium import webdriver as wb\n",
    "from selenium.webdriver.common.by import By\n",
    "import time\n",
    "from selenium.webdriver.common.keys import Keys\n",
    "\n",
    "# 파일 시스템을 위한 라이브러리(삭제, 생성)\n",
    "import os\n",
    "# 이미지의 경로를 실제 파일로 저장\n",
    "from urllib.request import urlretrieve\n"
   ]
  },
  {
   "cell_type": "code",
   "execution_count": 21,
   "id": "a67cf9d9",
   "metadata": {
    "ExecuteTime": {
     "end_time": "2023-08-29T03:25:26.300308Z",
     "start_time": "2023-08-29T03:25:26.295757Z"
    }
   },
   "outputs": [],
   "source": [
    "# 바탕화면에 이미지라는 폴더가 없다면 바탕화면에 이미지라는 폴더를 만들어라\n",
    "if not os.path.isdir(\"C:/Users/user/Desktop/AIschool/Pythonstudy/Crawling/img\"):\n",
    "    os.mkdir(\"C:/Users/user/Desktop/AIschool/Pythonstudy/Crawling/img\")\n"
   ]
  },
  {
   "cell_type": "code",
   "execution_count": 23,
   "id": "1102e222",
   "metadata": {
    "ExecuteTime": {
     "end_time": "2023-08-29T03:25:55.650738Z",
     "start_time": "2023-08-29T03:25:52.064147Z"
    }
   },
   "outputs": [],
   "source": [
    "# driver 호출\n",
    "driver = wb.Chrome()\n",
    "driver.get('https://search.naver.com/search.naver?where=image&sm=tab_jum&query=%ED%91%B8%EB%B0%94%EC%98%A4')\n",
    "# 이미지 호출을 위해 끝까지 내리기 while문은 안됨(사실은 가능? 자바스크립트에서 Document.getId나 클래스로 가져와서 조건 처리)\n",
    "for i in range(10):\n",
    "    body = driver.find_element(By.CSS_SELECTOR, \"body\") \n",
    "    body.send_keys(Keys.END)"
   ]
  },
  {
   "cell_type": "code",
   "execution_count": 8,
   "id": "2c108d48",
   "metadata": {
    "ExecuteTime": {
     "end_time": "2023-08-29T02:34:06.901526Z",
     "start_time": "2023-08-29T02:34:06.878172Z"
    }
   },
   "outputs": [],
   "source": [
    "# 이미지 태그들 수집\n",
    "images = driver.find_elements(By.CSS_SELECTOR, \"._image._listImage\")"
   ]
  },
  {
   "cell_type": "code",
   "execution_count": 12,
   "id": "f0e7fe89",
   "metadata": {
    "ExecuteTime": {
     "end_time": "2023-08-29T02:35:47.317631Z",
     "start_time": "2023-08-29T02:35:47.295062Z"
    }
   },
   "outputs": [
    {
     "data": {
      "text/plain": [
       "'https://search.pstatic.net/common/?src=http%3A%2F%2Fblogfiles.naver.net%2FMjAyMzA2MjJfNzcg%2FMDAxNjg3NDQzNzMxNTEw.LMYyB5V2r7yLTVkAoHmhm5SNDUCdYN835vCvbhyP5-Yg.hQq4mezI-6w3R1t8aOnUVHRHJPGwIteYg6GoozaBNusg.PNG.trric%2F%25BD%25BA%25C5%25A9%25B8%25B0%25BC%25A6_2023-06-22_%25BF%25C0%25C8%25C4_11.18.46.png&type=a340'"
      ]
     },
     "execution_count": 12,
     "metadata": {},
     "output_type": "execute_result"
    }
   ],
   "source": [
    "# 태그 안에 있는 속성을 가지고 올 때는 get_attribute(\"속성\")\n",
    "images[0].get_attribute(\"src\")"
   ]
  },
  {
   "cell_type": "code",
   "execution_count": 14,
   "id": "668a0c07",
   "metadata": {
    "ExecuteTime": {
     "end_time": "2023-08-29T02:40:09.957770Z",
     "start_time": "2023-08-29T02:40:09.078608Z"
    }
   },
   "outputs": [],
   "source": [
    "# src만 담아줄 리스트를 제작\n",
    "src_list = []\n",
    "for i in range(len(images)):\n",
    "    src_list.append(images[i].get_attribute(\"src\"))"
   ]
  },
  {
   "cell_type": "code",
   "execution_count": 15,
   "id": "863a2bfc",
   "metadata": {
    "ExecuteTime": {
     "end_time": "2023-08-29T02:40:16.443940Z",
     "start_time": "2023-08-29T02:40:16.438810Z"
    },
    "scrolled": true
   },
   "outputs": [
    {
     "data": {
      "text/plain": [
       "['https://search.pstatic.net/common/?src=http%3A%2F%2Fblogfiles.naver.net%2FMjAyMzA2MjJfNzcg%2FMDAxNjg3NDQzNzMxNTEw.LMYyB5V2r7yLTVkAoHmhm5SNDUCdYN835vCvbhyP5-Yg.hQq4mezI-6w3R1t8aOnUVHRHJPGwIteYg6GoozaBNusg.PNG.trric%2F%25BD%25BA%25C5%25A9%25B8%25B0%25BC%25A6_2023-06-22_%25BF%25C0%25C8%25C4_11.18.46.png&type=a340',\n",
       " 'https://search.pstatic.net/common/?src=http%3A%2F%2Fblogfiles.naver.net%2FMjAyMzA1MjdfMjc0%2FMDAxNjg1MTk3NjMyOTAx.y4syQSW-maBnTwQ2-GBpciZ-1NxjBXWjDMDLY6FUfKcg.HSMvK7DNtMJewR73_cP_mXISe1WBMC28lIeabmtYgGcg.JPEG.niceguy00%2FSeul_%25BF%25EB%25C0%25CE%25C7%25AA%25BE%25BE_%25C7%25AA%25B9%25D9%25BF%25C042.jpg&type=ofullfill340_600_png',\n",
       " 'https://search.pstatic.net/common/?src=http%3A%2F%2Fblogfiles.naver.net%2FMjAyMzA2MDVfMjU0%2FMDAxNjg1OTYzMTY3OTE1.URPGywPg6GUfJQrf_Ea4GM9CYI2vgyAmrayv5n1mxbog.yyhgLmJnUan_h599jn20B3VWw-ZYJeZn2KqpwtOMdQ8g.JPEG.jh1723%2FIMG_4362.jpg&type=a340',\n",
       " 'https://search.pstatic.net/common/?src=http%3A%2F%2Fblogfiles.naver.net%2FMjAyMzA4MTFfMTg5%2FMDAxNjkxNzM3OTI5MDk2.OAffpBx0rMO_iueN64MePhN3mKuG-z0UnQxOzwWFR8og.UNk2SfK5HJkzq6qAkuvh81Qx9Ln2EmJHS6RbRz8uTw8g.JPEG.mj93424%2FDSC00850.JPG&type=l340_165',\n",
       " 'data:image/gif;base64,R0lGODlhAQABAIAAAAAAAP///yH5BAEAAAAALAAAAAABAAEAAAIBRAA7',\n",
       " 'https://search.pstatic.net/common/?src=http%3A%2F%2Fblogfiles.naver.net%2FMjAyMzA3MTFfODYg%2FMDAxNjg5MDg0MDY4OTU1.LxzMTzkh5EZc42jD93mGcLnlVzs8pEAErcgbUDN5XaQg.KplVK5JPl1cCv3Juo8vMXwovrafFsJs7S0c_r_elB9gg.JPEG.smilessun02%2FKakaoTalk_20230711_223801002_23.jpg&type=a340',\n",
       " 'https://search.pstatic.net/common/?src=http%3A%2F%2Fblogfiles.naver.net%2FMjAyMzA3MTFfMjc1%2FMDAxNjg5MDM1MTczNTU1.NB2nadbMf44-R78yPpmAiTRf6Lm0ScVtAvnt4TENXA4g.bZXol5oWCLaS7YhFmcI11LC9PI6SmOTnxibfoMU3BTog.PNG.juhyeon_oh%2Fimage.png&type=a340',\n",
       " 'https://search.pstatic.net/common/?src=http%3A%2F%2Fblogfiles.naver.net%2FMjAyMzA2MDlfMjkg%2FMDAxNjg2MzAyMDk2MjA5.CjVV9CY-P4h6tTlKK4lEZKrI7zIvgmn_eN0GQhPuWZAg.FSTlz22U37QHm4LdJthq-pnYhlivLC-RTJ5_SfT2Onog.PNG.lyuri30%2Fimage.png&type=a340',\n",
       " 'https://search.pstatic.net/common/?src=http%3A%2F%2Fblogfiles.naver.net%2FMjAyMzA2MDZfMTA3%2FMDAxNjg2MDU4ODc5NDU5.ijXJ7XhJPbe3yRq9nWF15wAImey6pFB_5YQECxcMJusg.2G427-RYZCt4mlcA7XThlpWuY3YcoYTnv6tk-qZaipAg.JPEG.iwillberunning%2FIMG_2897.jpg&type=a340',\n",
       " 'https://search.pstatic.net/common/?src=http%3A%2F%2Fblogfiles.naver.net%2FMjAyMzA2MDJfMTcy%2FMDAxNjg1Njk3MjQwNjIw.dkkTM7HLyaZcXt-fTbRZ7-hVxj8DFdUNhLJ2hC6D20Ig.h_oDzlYEu4xMlMtRx9yyx0aMNg1nQR-iSJgKbuXCk_8g.PNG.junn0815%2F%25BD%25BA%25C5%25A9%25B8%25B0%25BC%25A6_2023-06-02_%25BF%25C0%25C8%25C4_6.13.08.png&type=a340',\n",
       " 'https://search.pstatic.net/common/?src=http%3A%2F%2Fblogfiles.naver.net%2FMjAyMzA2MjRfMTEz%2FMDAxNjg3NjAyNDQ0OTA5.t-v_Ncx1-gbVoeDQLfcqdEGRxvMlChKiWqXrvZAFJyEg.37flfHacqBXb_RLLvzmdKQODcHuWbhcODc8hGzr3W2Ag.JPEG.hlove5022%2F1687602444004.jpg&type=a340',\n",
       " 'https://search.pstatic.net/common/?src=http%3A%2F%2Fblogfiles.naver.net%2FMjAyMzA3MjFfMjc0%2FMDAxNjg5OTA5MDcyNzUw.RJTQFaLBxZLAI0UGLf2z6YRII8LoiJD_cBUknyEEebEg.nZfxzZAPNW_FHqei_XIAcJJvLCxjGBalvhB11_Z9uRQg.JPEG.ghswkdmlrkcl%2F1689909070973.jpg&type=a340',\n",
       " 'https://search.pstatic.net/common/?src=http%3A%2F%2Fblogfiles.naver.net%2FMjAyMzA2MDhfNzQg%2FMDAxNjg2MjI5ODAwNjIw.-mU7_tcbm1_gYRdv7z70CRPfOAqph1SbetbBV55XnMYg.MuFHy0dveY8yXZ4Af2WMboFW0oZm4hhKSA7ug_fjdhEg.JPEG.manggaecloud%2FIMG_6219.JPG&type=ofullfill340_600_png',\n",
       " 'https://search.pstatic.net/common/?src=http%3A%2F%2Fblogfiles.naver.net%2FMjAyMzA2MDlfMTY4%2FMDAxNjg2MzE3MjUwNTk3.zVyaKjl1WJJ50N4C5LXk__4-4mt3l64m4sGNyCJNQjgg.sjf--SGbPT6X5_XVDHHbqZwF6tjlSwRF3reHX42S3log.JPEG.ssunyu12%2FIMG_2803.jpg&type=a340',\n",
       " 'https://search.pstatic.net/common/?src=http%3A%2F%2Fblogfiles.naver.net%2FMjAyMzA2MjJfNiAg%2FMDAxNjg3NDQwMTE4NTg3.UwMfWeHJdPxX4pKH7ShWmQR6wMz2gKFP3KLghp1oT0wg.EMdki0vtl5BUqRTSk8pFbqmslJQj1WdAdhXMSwfeQHYg.JPEG.yang0653%2FKakaoTalk_20230622_220337557_09.jpg&type=a340',\n",
       " 'https://search.pstatic.net/common/?src=http%3A%2F%2Fblogfiles.naver.net%2FMjAyMzA3MTVfMjA0%2FMDAxNjg5NDA0ODcxNjQx.nZnBl3uE4NCqnhxr88gEQTOPkjc8JOzfsy1OFT0v3Ykg.yv6nqljWIZ8eRpaRC5GlY6lA-pcziETcqxK19h_bSecg.JPEG.moviestar0619%2F1689397011963.jpg&type=a340',\n",
       " 'https://search.pstatic.net/common/?src=http%3A%2F%2Fblogfiles.naver.net%2FMjAyMzA3MjJfMTQw%2FMDAxNjkwMDI2MDYxNDQ4.mQpdGZ9F1mLyKLYlabCeW9Po591MDwc44OJL7BFBYwcg.yxWA8N7f9irDaDzXb_dKcOi8kQJUuVMVspiXg0lX7Mgg.JPEG.kcln1303%2FIMG_8560.jpg&type=a340',\n",
       " 'https://search.pstatic.net/common/?src=http%3A%2F%2Fblogfiles.naver.net%2FMjAyMzA2MDFfODcg%2FMDAxNjg1NTg0MDQ0NDA2.XjaL69bO0rrox3_FY9JgaaZYcdjc4sfxABucExMRhAEg.ZQZ6_b1Tx8JU7_al4kls9QOcVjFKwqfmuou_d0LM7Okg.JPEG.jdahn9222%2FIMG_3130.jpg&type=a340',\n",
       " 'https://search.pstatic.net/sunny/?src=https%3A%2F%2Fimg.segye.com%2Fcontent%2Fimage%2F2023%2F07%2F10%2F20230710506056.png&type=a340',\n",
       " 'https://search.pstatic.net/common/?src=http%3A%2F%2Fblogfiles.naver.net%2FMjAyMzA2MDRfNDgg%2FMDAxNjg1ODg1MjIxNTE3.mvlBE1ugsYu3letxI9JKHebkWuqwds4kdJx66gBY3Nkg.WElq6GS-fQxMePUnar08Xj4vySftPIZrFbw-mRBDaLEg.JPEG.jungwonkk%2FIMG_3502.JPG&type=l340_165',\n",
       " 'https://search.pstatic.net/common/?src=http%3A%2F%2Fblogfiles.naver.net%2FMjAyMzA2MjJfMTA4%2FMDAxNjg3NDMzODAyMDM3.U2_kEpzgVZPoLLq4f_svP3aIHbQAHmJICSHHWMx6OvEg.G-u0-AtEugj5u24KVUDH8ItF49l_yN5vo3ny_HvWHz4g.JPEG.hellen9506%2FIMG_9979.jpg&type=a340',\n",
       " 'https://search.pstatic.net/common/?src=http%3A%2F%2Fimgnews.naver.net%2Fimage%2F468%2F2023%2F06%2F23%2F0000955008_001_20230627083204319.jpg&type=a340',\n",
       " 'https://search.pstatic.net/common/?src=http%3A%2F%2Fimage.nmv.naver.net%2Fblog_2023_06_05_2813%2F86edbc44-0353-11ee-837b-505dac8c3721_01.jpg&type=ofullfill340_600_png',\n",
       " 'https://search.pstatic.net/common/?src=http%3A%2F%2Fblogfiles.naver.net%2FMjAyMzA2MTBfMTcz%2FMDAxNjg2MzczODMzODQx.ywP9ugxW_zz8Mb2XanSc4p__31COooK4qY-RMCmjk6wg.xMhCR4I91-CXLZD9kRSuYA7c0p7_tzL0uLD6vfnZOukg.JPEG.ans2051%2FIMG_8496.JPG&type=a340',\n",
       " 'https://search.pstatic.net/common/?src=http%3A%2F%2Fimage.nmv.naver.net%2Fcafe_2023_07_10_1177%2Feec08d89-1f08-11ee-8eb7-80615f0bcdfa_01.jpg&type=a340',\n",
       " 'https://search.pstatic.net/common/?src=http%3A%2F%2Fblogfiles.naver.net%2FMjAyMzA3MDRfNDMg%2FMDAxNjg4NDM3MDU1NTUz.t4Hcz0JXLTgcmt14nbft1VlqP6Q08gjoFoRMsUvkPRUg.Gn-qctC_tIpxCsc4FkJPvUS56h5lzfNksS3RMmMlOxgg.JPEG.tt2206%2F1688369456003.jpg&type=a340',\n",
       " 'https://search.pstatic.net/common/?src=http%3A%2F%2Fblogfiles.naver.net%2FMjAyMzA2MTFfMjU3%2FMDAxNjg2NDYyNDA1NzQx.CnZPgrZ5RpoEXR9xN6JuetWjoRGCGsSum1TCcuNZZdgg.ifdJBxw4SLQqrlVJnCXR_5dgQ_MGAUwrh23cXFxtS2Ag.JPEG.qkzkp%2F20230521%25A3%25DF122920.jpg&type=a340',\n",
       " 'https://search.pstatic.net/common/?src=http%3A%2F%2Fblogfiles.naver.net%2FMjAyMzA2MDZfMjgy%2FMDAxNjg2MDU1OTg1NTIz.w31VdCMRUVN6rCG-_Dc5gbaGnNyZFzIhO0gDbPaRePog.Uuaa-hnbAw-oSESxKNPDAQtkse9qqjiD4hJ9so2NA48g.PNG.about_cloud%2F51.png&type=a340',\n",
       " 'https://search.pstatic.net/common/?src=http%3A%2F%2Fblogfiles.naver.net%2FMjAyMzA3MDlfMTE2%2FMDAxNjg4ODczMzY3MjQz.fYpZb53DISTuPhZkvezUdw5ZDZvNoL7cRbTok5d7d04g.z2WoIuYOlnAk_wLBMFKRhlMYQX7xiNIn2xNQzAiLPw8g.JPEG.kirakiraabc%2F1688870289718.jpg&type=a340',\n",
       " 'https://search.pstatic.net/sunny/?src=https%3A%2F%2Fimg-store.theqoo.net%2FKtngJL.jpg&type=a340',\n",
       " 'https://search.pstatic.net/common/?src=http%3A%2F%2Fimage.nmv.naver.net%2Fcafe_2023_07_15_51%2Fe9ecb979-22c9-11ee-bd68-a0369ffdada0_01.jpg&type=a340',\n",
       " 'https://search.pstatic.net/common/?src=http%3A%2F%2Fblogfiles.naver.net%2FMjAyMzA3MTdfMjYw%2FMDAxNjg5NTgwNTUwMDE5.kg19UHlulBpmuuS66U6olFETlcehpwMZvdTsnnbbsl4g.fFlN3WZhXqN0dYRoQ9jVjhefeJlHBxPzIEhGg0H_zFAg.JPEG.alth1024%2Foutput_1538555452.jpg&type=a340',\n",
       " 'https://search.pstatic.net/common/?src=http%3A%2F%2Fblogfiles.naver.net%2FMjAyMzA2MjhfMTE4%2FMDAxNjg3OTEyNjIwNjEw.1m6ZlUd4CNi3pHN0nHDQAiUZeAYI87SnZY2YAInTPQwg.ycUm4MbOMhteng8iMMIaTDP0dfjicc1C_qGkuZvPaccg.JPEG.m1njaekim%2Foutput_2296521596.jpg&type=a340',\n",
       " 'https://search.pstatic.net/common/?src=http%3A%2F%2Fblogfiles.naver.net%2FMjAyMzA3MTFfMjAz%2FMDAxNjg5MDQ0MzY2ODg2.pyWSebu-5wHmRrxJK2OUpRXSY63S3Id4uRl3Ky5Vz_gg.Wyw54oU441HX06TZMI-ZwmBUdeUHcAHyaaLjwJyMTLsg.JPEG.kimu7%2FSmartSelect%25A3%25DF20230711%25A3%25DF115013%25A3%25DFInstagram.jpg&type=l340_165',\n",
       " 'https://search.pstatic.net/common/?src=http%3A%2F%2Fimage.nmv.naver.net%2Fblog_2023_06_22_2317%2F4acd47e5-1105-11ee-837b-505dac8c3721_03.jpg&type=a340',\n",
       " 'https://search.pstatic.net/common/?src=http%3A%2F%2Fblogfiles.naver.net%2FMjAyMzA3MTRfMjAx%2FMDAxNjg5MzMyMDIwNTUy.P2YZlKoUffviWt_Nv2G1SVz7klKrBxWCWDUSv1OU5x8g.sa4itO2g4eBDQi-PeSltQlyH3wK3yFdK6lfZCwGvVm0g.JPEG.twinkle_record%2FIMG_5997.JPG&type=ofullfill340_600_png',\n",
       " 'https://search.pstatic.net/common/?src=http%3A%2F%2Fblogfiles.naver.net%2FMjAyMzA2MjBfMjE4%2FMDAxNjg3MjUxMzc3NTQ1.YRr64nW-vh7CiACK2SA4jLCRyAW4OqoM_0PadzIF70Ag.mQC7zDpN9Pz7X_TexodABVVkZ0Vjw5SLv2ZYEMFoirEg.JPEG.kacey89%2FIMG_4439.jpg&type=a340',\n",
       " 'data:image/gif;base64,R0lGODlhAQABAIAAAAAAAP///yH5BAEAAAAALAAAAAABAAEAAAIBRAA7',\n",
       " 'https://search.pstatic.net/common/?src=http%3A%2F%2Fblogfiles.naver.net%2FMjAyMzA2MTdfMTM0%2FMDAxNjg3MDAyNzE2NzMx.tdcyyogldnGJqSP8Xu8ycQbE8Ob0Rg6RaBlz-CitbJMg.kP8md-N84qN5lYafi7P_s68SLvj7UCWv77RuXQf-z5og.JPEG.elmarmol%2FKakaoTalk_20230617_202716997_07.jpg&type=a340',\n",
       " 'data:image/gif;base64,R0lGODlhAQABAIAAAAAAAP///yH5BAEAAAAALAAAAAABAAEAAAIBRAA7',\n",
       " 'https://search.pstatic.net/common/?src=http%3A%2F%2Fblogfiles.naver.net%2FMjAyMzA2MDhfMTM1%2FMDAxNjg2MTk2OTcxMzU3.QtyyZhg_nKwy4BL4F3dg5VRxmPrct3uTzr2mZEnT3j0g.9E9e_W1elcK20zrfbMTLAV8KGAQ6jENeBVCIpCIV9M4g.JPEG.wsp0402%2FKakaoTalk_Photo_2023-06-08-12-23-35_016.jpeg&type=a340',\n",
       " 'data:image/gif;base64,R0lGODlhAQABAIAAAAAAAP///yH5BAEAAAAALAAAAAABAAEAAAIBRAA7',\n",
       " 'data:image/gif;base64,R0lGODlhAQABAIAAAAAAAP///yH5BAEAAAAALAAAAAABAAEAAAIBRAA7',\n",
       " 'data:image/gif;base64,R0lGODlhAQABAIAAAAAAAP///yH5BAEAAAAALAAAAAABAAEAAAIBRAA7',\n",
       " 'data:image/gif;base64,R0lGODlhAQABAIAAAAAAAP///yH5BAEAAAAALAAAAAABAAEAAAIBRAA7',\n",
       " 'data:image/gif;base64,R0lGODlhAQABAIAAAAAAAP///yH5BAEAAAAALAAAAAABAAEAAAIBRAA7',\n",
       " 'data:image/gif;base64,R0lGODlhAQABAIAAAAAAAP///yH5BAEAAAAALAAAAAABAAEAAAIBRAA7',\n",
       " 'data:image/gif;base64,R0lGODlhAQABAIAAAAAAAP///yH5BAEAAAAALAAAAAABAAEAA"
      ]
     },
     "execution_count": 15,
     "metadata": {},
     "output_type": "execute_result"
    },
    {
     "data": {
      "text/html": [
       "<b>limit_output extension: Maximum message size of 10000 exceeded with 10009 characters</b>"
      ]
     },
     "metadata": {},
     "output_type": "display_data"
    }
   ],
   "source": [
    "src_list"
   ]
  },
  {
   "cell_type": "code",
   "execution_count": 16,
   "id": "685c2f67",
   "metadata": {
    "ExecuteTime": {
     "end_time": "2023-08-29T02:45:56.451055Z",
     "start_time": "2023-08-29T02:45:47.448015Z"
    }
   },
   "outputs": [],
   "source": [
    "#이미지의 경로를 실제 파일로 저장\n",
    "for i in range(len(src_list)):\n",
    "    urlretrieve(src_list[i], \"C:/Users/user/Desktop/AIschool/Pythonstudy/Crawling/img/\"+str(i)+\".jpg\" )"
   ]
  },
  {
   "cell_type": "code",
   "execution_count": null,
   "id": "91912272",
   "metadata": {},
   "outputs": [],
   "source": []
  }
 ],
 "metadata": {
  "hide_input": false,
  "kernelspec": {
   "display_name": "Python 3 (ipykernel)",
   "language": "python",
   "name": "python3"
  },
  "language_info": {
   "codemirror_mode": {
    "name": "ipython",
    "version": 3
   },
   "file_extension": ".py",
   "mimetype": "text/x-python",
   "name": "python",
   "nbconvert_exporter": "python",
   "pygments_lexer": "ipython3",
   "version": "3.11.4"
  },
  "nbTranslate": {
   "displayLangs": [
    "*"
   ],
   "hotkey": "alt-t",
   "langInMainMenu": true,
   "sourceLang": "en",
   "targetLang": "fr",
   "useGoogleTranslate": true
  },
  "toc": {
   "base_numbering": 1,
   "nav_menu": {},
   "number_sections": true,
   "sideBar": true,
   "skip_h1_title": false,
   "title_cell": "Table of Contents",
   "title_sidebar": "Contents",
   "toc_cell": false,
   "toc_position": {},
   "toc_section_display": true,
   "toc_window_display": false
  },
  "varInspector": {
   "cols": {
    "lenName": 16,
    "lenType": 16,
    "lenVar": 40
   },
   "kernels_config": {
    "python": {
     "delete_cmd_postfix": "",
     "delete_cmd_prefix": "del ",
     "library": "var_list.py",
     "varRefreshCmd": "print(var_dic_list())"
    },
    "r": {
     "delete_cmd_postfix": ") ",
     "delete_cmd_prefix": "rm(",
     "library": "var_list.r",
     "varRefreshCmd": "cat(var_dic_list()) "
    }
   },
   "types_to_exclude": [
    "module",
    "function",
    "builtin_function_or_method",
    "instance",
    "_Feature"
   ],
   "window_display": false
  }
 },
 "nbformat": 4,
 "nbformat_minor": 5
}
