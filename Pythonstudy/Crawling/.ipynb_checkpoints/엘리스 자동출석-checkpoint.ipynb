{
 "cells": [
  {
   "cell_type": "code",
   "execution_count": 1,
   "id": "2ccc2d21",
   "metadata": {
    "ExecuteTime": {
     "end_time": "2023-09-08T00:12:46.646770Z",
     "start_time": "2023-09-08T00:12:42.237304Z"
    }
   },
   "outputs": [
    {
     "name": "stdout",
     "output_type": "stream",
     "text": [
      "Requirement already satisfied: pyinstaller in c:\\users\\user\\anaconda3\\lib\\site-packages (5.13.2)\n",
      "Requirement already satisfied: setuptools>=42.0.0 in c:\\users\\user\\anaconda3\\lib\\site-packages (from pyinstaller) (68.0.0)\n",
      "Requirement already satisfied: altgraph in c:\\users\\user\\anaconda3\\lib\\site-packages (from pyinstaller) (0.17.3)\n",
      "Requirement already satisfied: pyinstaller-hooks-contrib>=2021.4 in c:\\users\\user\\anaconda3\\lib\\site-packages (from pyinstaller) (2023.8)\n",
      "Requirement already satisfied: pefile>=2022.5.30 in c:\\users\\user\\anaconda3\\lib\\site-packages (from pyinstaller) (2023.2.7)\n",
      "Requirement already satisfied: pywin32-ctypes>=0.2.1 in c:\\users\\user\\anaconda3\\lib\\site-packages (from pyinstaller) (0.2.2)\n"
     ]
    }
   ],
   "source": [
    "# installer 생성\n",
    "!pip install pyinstaller"
   ]
  },
  {
   "cell_type": "code",
   "execution_count": 16,
   "id": "99b5d97f",
   "metadata": {
    "ExecuteTime": {
     "end_time": "2023-09-08T00:22:14.086613Z",
     "start_time": "2023-09-08T00:22:14.074226Z"
    }
   },
   "outputs": [],
   "source": [
    "from selenium import webdriver as wb\n",
    "from selenium.webdriver.common.by import By\n",
    "from selenium.webdriver.common.keys import Keys\n",
    "from selenium.webdriver.support.ui import WebDriverWait\n",
    "from selenium.webdriver.support import expected_conditions as EC\n"
   ]
  },
  {
   "cell_type": "code",
   "execution_count": 20,
   "id": "8bffdaf5",
   "metadata": {
    "ExecuteTime": {
     "end_time": "2023-09-08T01:34:24.921745Z",
     "start_time": "2023-09-08T01:34:20.079784Z"
    }
   },
   "outputs": [],
   "source": [
    "driver = wb.Chrome()\n",
    "driver.get(\"https://2023-gj-aischool.elice.io/my\")\n",
    "wait = WebDriverWait(driver, 10)\n",
    "#로그인 할 수 있을 때까지 기다리기\n",
    "element = wait.until(EC.element_to_be_clickable((By.NAME, 'loginId')))"
   ]
  },
  {
   "cell_type": "code",
   "execution_count": 21,
   "id": "9be6c241",
   "metadata": {
    "ExecuteTime": {
     "end_time": "2023-09-08T01:34:27.176465Z",
     "start_time": "2023-09-08T01:34:24.936170Z"
    }
   },
   "outputs": [],
   "source": [
    "# 로그인\n",
    "id_input = driver.find_element(By.NAME, \"loginId\")\n",
    "pw_input = driver.find_element(By.NAME, \"password\")\n",
    "id_input.send_keys(\"rudals7841@naver.com\")\n",
    "pw_input.send_keys(\"Esd98624!\")\n",
    "pw_input.send_keys(Keys.ENTER)\n",
    "time.sleep(3)"
   ]
  },
  {
   "cell_type": "code",
   "execution_count": 23,
   "id": "91ae9dac",
   "metadata": {
    "ExecuteTime": {
     "end_time": "2023-09-08T01:34:41.271937Z",
     "start_time": "2023-09-08T01:34:38.838651Z"
    }
   },
   "outputs": [],
   "source": [
    "#출석버튼 클릭\n",
    "# 버튼나타날때 까지 기다리기\n",
    "Chulsuk = driver.find_element(By.CSS_SELECTOR, \".MuiBox-root.css-8atqhb\")\n",
    "Chulsuk.click()\n",
    "time.sleep(3)"
   ]
  },
  {
   "cell_type": "code",
   "execution_count": 3,
   "id": "d45154c6",
   "metadata": {
    "ExecuteTime": {
     "end_time": "2023-09-08T01:23:41.183999Z",
     "start_time": "2023-09-08T01:23:33.831329Z"
    },
    "scrolled": true
   },
   "outputs": [
    {
     "ename": "InvalidSelectorException",
     "evalue": "Message: invalid selector: An invalid or illegal selector was specified\n  (Session info: chrome=116.0.5845.179); For documentation on this error, please visit: https://www.selenium.dev/documentation/webdriver/troubleshooting/errors#invalid-selector-exception\nStacktrace:\n\tGetHandleVerifier [0x00007FF719C452A2+57122]\n\t(No symbol) [0x00007FF719BBEA92]\n\t(No symbol) [0x00007FF719A8E3AB]\n\t(No symbol) [0x00007FF719A92382]\n\t(No symbol) [0x00007FF719A93D2F]\n\t(No symbol) [0x00007FF719A93E20]\n\t(No symbol) [0x00007FF719AC79B1]\n\t(No symbol) [0x00007FF719AC7E2C]\n\t(No symbol) [0x00007FF719B00B67]\n\t(No symbol) [0x00007FF719AE701F]\n\t(No symbol) [0x00007FF719AFEB82]\n\t(No symbol) [0x00007FF719AE6DB3]\n\t(No symbol) [0x00007FF719ABD2B1]\n\t(No symbol) [0x00007FF719ABE494]\n\tGetHandleVerifier [0x00007FF719EEEF82+2849794]\n\tGetHandleVerifier [0x00007FF719F41D24+3189156]\n\tGetHandleVerifier [0x00007FF719F3ACAF+3160367]\n\tGetHandleVerifier [0x00007FF719CD6D06+653702]\n\t(No symbol) [0x00007FF719BCA208]\n\t(No symbol) [0x00007FF719BC62C4]\n\t(No symbol) [0x00007FF719BC63F6]\n\t(No symbol) [0x00007FF719BB67A3]\n\tBaseThreadInitThunk [0x00007FFAF6EE26AD+29]\n\tRtlUserThreadStart [0x00007FFAF7D0AA68+40]\n",
     "output_type": "error",
     "traceback": [
      "\u001b[1;31m---------------------------------------------------------------------------\u001b[0m",
      "\u001b[1;31mInvalidSelectorException\u001b[0m                  Traceback (most recent call last)",
      "Cell \u001b[1;32mIn[3], line 23\u001b[0m\n\u001b[0;32m     20\u001b[0m \u001b[38;5;66;03m# 출석버튼 클릭\u001b[39;00m\n\u001b[0;32m     21\u001b[0m \u001b[38;5;66;03m# 버튼나타날때 까지 기다리기\u001b[39;00m\n\u001b[0;32m     22\u001b[0m time\u001b[38;5;241m.\u001b[39msleep(\u001b[38;5;241m3\u001b[39m)\n\u001b[1;32m---> 23\u001b[0m daum_btn \u001b[38;5;241m=\u001b[39m driver\u001b[38;5;241m.\u001b[39mfind_element(By\u001b[38;5;241m.\u001b[39mCSS_SELECTOR, \u001b[38;5;124m\"\u001b[39m\u001b[38;5;124m.ipynb_checkpoints/MuiButtonBase-root.MuiIconButton-root.MuiIconButton-sizeMedium.css-1kbn7p2\u001b[39m\u001b[38;5;124m\"\u001b[39m)\n\u001b[0;32m     24\u001b[0m daum_btn\u001b[38;5;241m.\u001b[39mclick()\n\u001b[0;32m     25\u001b[0m time\u001b[38;5;241m.\u001b[39msleep(\u001b[38;5;241m3\u001b[39m)\n",
      "File \u001b[1;32m~\\anaconda3\\Lib\\site-packages\\selenium\\webdriver\\remote\\webdriver.py:739\u001b[0m, in \u001b[0;36mWebDriver.find_element\u001b[1;34m(self, by, value)\u001b[0m\n\u001b[0;32m    736\u001b[0m     by \u001b[38;5;241m=\u001b[39m By\u001b[38;5;241m.\u001b[39mCSS_SELECTOR\n\u001b[0;32m    737\u001b[0m     value \u001b[38;5;241m=\u001b[39m \u001b[38;5;124mf\u001b[39m\u001b[38;5;124m'\u001b[39m\u001b[38;5;124m[name=\u001b[39m\u001b[38;5;124m\"\u001b[39m\u001b[38;5;132;01m{\u001b[39;00mvalue\u001b[38;5;132;01m}\u001b[39;00m\u001b[38;5;124m\"\u001b[39m\u001b[38;5;124m]\u001b[39m\u001b[38;5;124m'\u001b[39m\n\u001b[1;32m--> 739\u001b[0m \u001b[38;5;28;01mreturn\u001b[39;00m \u001b[38;5;28mself\u001b[39m\u001b[38;5;241m.\u001b[39mexecute(Command\u001b[38;5;241m.\u001b[39mFIND_ELEMENT, {\u001b[38;5;124m\"\u001b[39m\u001b[38;5;124musing\u001b[39m\u001b[38;5;124m\"\u001b[39m: by, \u001b[38;5;124m\"\u001b[39m\u001b[38;5;124mvalue\u001b[39m\u001b[38;5;124m\"\u001b[39m: value})[\u001b[38;5;124m\"\u001b[39m\u001b[38;5;124mvalue\u001b[39m\u001b[38;5;124m\"\u001b[39m]\n",
      "File \u001b[1;32m~\\anaconda3\\Lib\\site-packages\\selenium\\webdriver\\remote\\webdriver.py:345\u001b[0m, in \u001b[0;36mWebDriver.execute\u001b[1;34m(self, driver_command, params)\u001b[0m\n\u001b[0;32m    343\u001b[0m response \u001b[38;5;241m=\u001b[39m \u001b[38;5;28mself\u001b[39m\u001b[38;5;241m.\u001b[39mcommand_executor\u001b[38;5;241m.\u001b[39mexecute(driver_command, params)\n\u001b[0;32m    344\u001b[0m \u001b[38;5;28;01mif\u001b[39;00m response:\n\u001b[1;32m--> 345\u001b[0m     \u001b[38;5;28mself\u001b[39m\u001b[38;5;241m.\u001b[39merror_handler\u001b[38;5;241m.\u001b[39mcheck_response(response)\n\u001b[0;32m    346\u001b[0m     response[\u001b[38;5;124m\"\u001b[39m\u001b[38;5;124mvalue\u001b[39m\u001b[38;5;124m\"\u001b[39m] \u001b[38;5;241m=\u001b[39m \u001b[38;5;28mself\u001b[39m\u001b[38;5;241m.\u001b[39m_unwrap_value(response\u001b[38;5;241m.\u001b[39mget(\u001b[38;5;124m\"\u001b[39m\u001b[38;5;124mvalue\u001b[39m\u001b[38;5;124m\"\u001b[39m, \u001b[38;5;28;01mNone\u001b[39;00m))\n\u001b[0;32m    347\u001b[0m     \u001b[38;5;28;01mreturn\u001b[39;00m response\n",
      "File \u001b[1;32m~\\anaconda3\\Lib\\site-packages\\selenium\\webdriver\\remote\\errorhandler.py:229\u001b[0m, in \u001b[0;36mErrorHandler.check_response\u001b[1;34m(self, response)\u001b[0m\n\u001b[0;32m    227\u001b[0m         alert_text \u001b[38;5;241m=\u001b[39m value[\u001b[38;5;124m\"\u001b[39m\u001b[38;5;124malert\u001b[39m\u001b[38;5;124m\"\u001b[39m]\u001b[38;5;241m.\u001b[39mget(\u001b[38;5;124m\"\u001b[39m\u001b[38;5;124mtext\u001b[39m\u001b[38;5;124m\"\u001b[39m)\n\u001b[0;32m    228\u001b[0m     \u001b[38;5;28;01mraise\u001b[39;00m exception_class(message, screen, stacktrace, alert_text)  \u001b[38;5;66;03m# type: ignore[call-arg]  # mypy is not smart enough here\u001b[39;00m\n\u001b[1;32m--> 229\u001b[0m \u001b[38;5;28;01mraise\u001b[39;00m exception_class(message, screen, stacktrace)\n",
      "\u001b[1;31mInvalidSelectorException\u001b[0m: Message: invalid selector: An invalid or illegal selector was specified\n  (Session info: chrome=116.0.5845.179); For documentation on this error, please visit: https://www.selenium.dev/documentation/webdriver/troubleshooting/errors#invalid-selector-exception\nStacktrace:\n\tGetHandleVerifier [0x00007FF719C452A2+57122]\n\t(No symbol) [0x00007FF719BBEA92]\n\t(No symbol) [0x00007FF719A8E3AB]\n\t(No symbol) [0x00007FF719A92382]\n\t(No symbol) [0x00007FF719A93D2F]\n\t(No symbol) [0x00007FF719A93E20]\n\t(No symbol) [0x00007FF719AC79B1]\n\t(No symbol) [0x00007FF719AC7E2C]\n\t(No symbol) [0x00007FF719B00B67]\n\t(No symbol) [0x00007FF719AE701F]\n\t(No symbol) [0x00007FF719AFEB82]\n\t(No symbol) [0x00007FF719AE6DB3]\n\t(No symbol) [0x00007FF719ABD2B1]\n\t(No symbol) [0x00007FF719ABE494]\n\tGetHandleVerifier [0x00007FF719EEEF82+2849794]\n\tGetHandleVerifier [0x00007FF719F41D24+3189156]\n\tGetHandleVerifier [0x00007FF719F3ACAF+3160367]\n\tGetHandleVerifier [0x00007FF719CD6D06+653702]\n\t(No symbol) [0x00007FF719BCA208]\n\t(No symbol) [0x00007FF719BC62C4]\n\t(No symbol) [0x00007FF719BC63F6]\n\t(No symbol) [0x00007FF719BB67A3]\n\tBaseThreadInitThunk [0x00007FFAF6EE26AD+29]\n\tRtlUserThreadStart [0x00007FFAF7D0AA68+40]\n"
     ]
    }
   ],
   "source": []
  },
  {
   "cell_type": "code",
   "execution_count": null,
   "id": "3dd2f5db",
   "metadata": {},
   "outputs": [],
   "source": []
  }
 ],
 "metadata": {
  "hide_input": false,
  "kernelspec": {
   "display_name": "Python 3 (ipykernel)",
   "language": "python",
   "name": "python3"
  },
  "language_info": {
   "codemirror_mode": {
    "name": "ipython",
    "version": 3
   },
   "file_extension": ".py",
   "mimetype": "text/x-python",
   "name": "python",
   "nbconvert_exporter": "python",
   "pygments_lexer": "ipython3",
   "version": "3.11.4"
  },
  "nbTranslate": {
   "displayLangs": [
    "*"
   ],
   "hotkey": "alt-t",
   "langInMainMenu": true,
   "sourceLang": "en",
   "targetLang": "fr",
   "useGoogleTranslate": true
  },
  "toc": {
   "base_numbering": 1,
   "nav_menu": {},
   "number_sections": true,
   "sideBar": true,
   "skip_h1_title": false,
   "title_cell": "Table of Contents",
   "title_sidebar": "Contents",
   "toc_cell": false,
   "toc_position": {},
   "toc_section_display": true,
   "toc_window_display": false
  },
  "varInspector": {
   "cols": {
    "lenName": 16,
    "lenType": 16,
    "lenVar": 40
   },
   "kernels_config": {
    "python": {
     "delete_cmd_postfix": "",
     "delete_cmd_prefix": "del ",
     "library": "var_list.py",
     "varRefreshCmd": "print(var_dic_list())"
    },
    "r": {
     "delete_cmd_postfix": ") ",
     "delete_cmd_prefix": "rm(",
     "library": "var_list.r",
     "varRefreshCmd": "cat(var_dic_list()) "
    }
   },
   "types_to_exclude": [
    "module",
    "function",
    "builtin_function_or_method",
    "instance",
    "_Feature"
   ],
   "window_display": false
  }
 },
 "nbformat": 4,
 "nbformat_minor": 5
}
