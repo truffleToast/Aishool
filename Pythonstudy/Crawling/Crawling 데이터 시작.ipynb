{
 "cells": [
  {
   "cell_type": "markdown",
   "id": "b77b8d9d",
   "metadata": {
    "heading_collapsed": true
   },
   "source": [
    "# 크롤링 입문"
   ]
  },
  {
   "cell_type": "markdown",
   "id": "1770cf8a",
   "metadata": {
    "heading_collapsed": true,
    "hidden": true
   },
   "source": [
    "## 크롤링 임포트"
   ]
  },
  {
   "cell_type": "code",
   "execution_count": 1,
   "id": "6841567b",
   "metadata": {
    "ExecuteTime": {
     "end_time": "2023-08-24T00:37:31.524981Z",
     "start_time": "2023-08-24T00:37:31.401743Z"
    },
    "hidden": true
   },
   "outputs": [],
   "source": [
    "import requests as req"
   ]
  },
  {
   "cell_type": "code",
   "execution_count": 2,
   "id": "f8b8800d",
   "metadata": {
    "ExecuteTime": {
     "end_time": "2023-08-24T00:37:36.547339Z",
     "start_time": "2023-08-24T00:37:31.527262Z"
    },
    "hidden": true
   },
   "outputs": [
    {
     "data": {
      "text/plain": [
       "<Response [200]>"
      ]
     },
     "execution_count": 2,
     "metadata": {},
     "output_type": "execute_result"
    }
   ],
   "source": [
    "#1. req를 통해서 네이버 페이지 정보를 요청\n",
    "#2. response -> 응답코드를 넘겨받는다.\n",
    "# 200,300 -> 통신에 성공했습니다.\n",
    "# 400 -> 클라이언트 요청에 문제가 있다.\n",
    "# 500 -> DB연결에 문제가 있다.\n",
    "ren=req.get(\"http://www.naver.com\")\n",
    "ren"
   ]
  },
  {
   "cell_type": "code",
   "execution_count": 3,
   "id": "c9b03649",
   "metadata": {
    "ExecuteTime": {
     "end_time": "2023-08-24T00:37:48.967447Z",
     "start_time": "2023-08-24T00:37:48.942206Z"
    },
    "hidden": true
   },
   "outputs": [
    {
     "data": {
      "text/plain": [
       "'   <!doctype html> <html lang=\"ko\" class=\"fzoom\"> <head> <meta charset=\"utf-8\"> <meta name=\"Referrer\" content=\"origin\"> <meta http-equiv=\"X-UA-Compatible\" content=\"IE=edge\"> <meta name=\"viewport\" content=\"width=1190\"> <title>NAVER</title> <meta name=\"apple-mobile-web-app-title\" content=\"NAVER\"/> <meta name=\"robots\" content=\"index,nofollow\"/> <meta name=\"description\" content=\"네이버 메인에서 다양한 정보와 유용한 컨텐츠를 만나 보세요\"/> <meta property=\"og:title\" content=\"네이버\"> <meta property=\"og:url\" content=\"https://www.naver.com/\"> <meta property=\"og:image\" content=\"https://s.pstatic.net/static/www/mobile/edit/2016/0705/mobile_212852414260.png\"> <meta property=\"og:description\" content=\"네이버 메인에서 다양한 정보와 유용한 컨텐츠를 만나 보세요\"/> <meta name=\"twitter:card\" content=\"summary\"> <meta name=\"twitter:title\" content=\"\"> <meta name=\"twitter:url\" content=\"https://www.naver.com/\"> <meta name=\"twitter:image\" content=\"https://s.pstatic.net/static/www/mobile/edit/2016/0705/mobile_212852414260.png\"> <meta name=\"twitter:description\" content=\"네이버 메인에서 다양한 정보와 유용한 컨텐츠를 만나 보세요\"/> <link rel=\"shortcut icon\" type=\"image/x-icon\" href=\"/favicon.ico?1\"> <link rel=\"apple-touch-icon-precomposed\" href=\"https://s.pstatic.net/static/www/nFavicon96.png\"/> <link rel=\"apple-touch-icon\" sizes=\"114x114\" href=\"https://s.pstatic.net/static/www/u/2014/0328/mma_204243574.png\"/> <link rel=\"apple-touch-icon\" href=\"https://s.pstatic.net/static/www/u/2014/0328/mma_20432863.png\"/> <link rel=\"stylesheet\" href=\"https://ssl.pstatic.net/sstatic/search/pc/css/sp_autocomplete_220526.css\"> <script>window.gladsdk=window.gladsdk||{},window.gladsdk.cmd=window.gladsdk.cmd||[],window.ndpsdk=window.ndpsdk||{},window.ndpsdk.cmd=window.ndpsdk.cmd||[],window.ndpsdk.polyfill=window.ndpsdk.polyfill||{cmd:[]};var g_ssc=\"navertop.v5\";window.nsc=g_ssc</script> <script async src=\"https://ssl.pstatic.net/tveta/libs/ndpsdk/prod/ndp-loader.js\"></script> <script async src=\"https://ssl.pstatic.net/tveta/libs/glad/prod/gfp-core.js\"></script> <script src=\"https://ssl.pstatic.net/tveta/libs/assets/js/pc/main/min/pc.veta.core.min.js\" defer=\"defer\"></script>  <script>\\nwindow[\"EAGER-DATA\"] = window[\"EAGER-DATA\"] || {};\\nwindow[\"EAGER-DATA\"][\"PC-FEED-WRAPPER\"] = {\"@type\":\"BLOCK\",\"blocks\":[{\"@type\":\"BLOCK\",\"blocks\":[{\"@type\":\"BLOCK\",\"blocks\":null,\"materials\":null,\"excludeInPaging\":false,\"positionForPaging\":0,\"realtime\":false,\"_id\":null,\"@type\":\"BLOCK\",\"@code\":\"PC-FEED-LIVINGHOME-CAS-EDIT\",\"@template\":\"PC-FEED-CAS-EDIT\",\"@flowId\":null,\"@flowExecutionId\":null,\"@provider\":null,\"@lastModifiedAt\":null},{\"@type\":\"BLOCK\",\"blocks\":null,\"materials\":[{\"@type\":\"MATERIAL-PC-FEED\",\"title\":\"거실 셀프인테리어 우물천장 간접조명 다운라이트 주백색 매립등\",\"url\":\"https://in.naver.com/doppionell/contents/internal/588995534921728\",\"image\":{\"url\":\"https://s.pstatic.net/dthumb.phinf/?src=%22http%3A%2F%2Fblogfiles.naver.net%2FMjAyMzA3MjNfMiAg%2FMDAxNjkwMDkyMTYxMTI1.eI99Sjj0CO3NvomDALisCa948T3QE-tgNnlbYuoQQoAg.Ne8UnJZKAbBiP6OaYtonmvynhi112OzdU40u9U3NjZAg.JPEG.becks0809%2F20230315_105016.jpg%22&type=ff364_236&service=navermain\"},\"source\":{\"name\":\"도피오넬\",\"image\":{\"url\":\"https://s.pstatic.net/dthumb.phinf/?src=%22http%3A%2F%2Fblogpfthumb.phinf.naver.net%2FMjAyMDA2MTRfMTI0%2FMDAxNTkyMTQ1MTc2MjMy.yVVObVAySFExCJ84A6GYJdrJaD88EqNdZuT5dMZ82vcg.rhGGoSQyjBWrC_26Lqp6ELLGb06pXbDhwRxLPg-YtCEg.JPEG.becks0809%2FprofileImage.jpg%22&type=nf40_40&service=navermain\"}},\"_id\":\"6441ca92c499cc07f334c49b\"},{\"@type\":\"MATERIAL-PC-FEED\",\"title\":\"소소하지만 알아두면 좋은, 간단한 살림 노하우\",\"url\":\"https://blog.naver.com/miz5002/223177303467\",\"image\":{\"url\":\"https://s.pstatic.net/dthumb.phinf/?src=%22https%3A%2F%2Fs.pstatic.net%2Fshop.phinf%2F20230816_237%2F1692183437101bevou_PNG%2Frtfy.PNG%22&type=ff364_236&service=navermain\"},\"source\":{\"name\":\"미쯔\",\"image\":{\"url\":\"https://s.pstatic.net/dthumb.phinf/?src=%22https%3A%2F%2Fs.pstatic.net%2Fshop.phinf%2F20230816_121%2F1692183433718BCiz0_JPEG%2FDSC05635.jpg%22&type=nf40_40&service=navermain\"}},\"_id\":\"6441ca92c499cc07f334c49c\"},{\"@type\":\"MATERIAL-PC-FEED\",\"title\":\"소품으로 완성한 예쁜 침실, 아이템 추천해요\",\"url\":\"https://blog.naver.com/from_maria/223187057711\",\"image\":{\"url\":\"https://s.pstatic.net/dthumb.phinf/?src=%22https%3A%2F%2Fs.pstatic.net%2Fshop.phinf%2F20230821_120%2F1692611647211vNrEA_PNG%2Fe.PNG%22&type=ff364_236&service=navermain\"},\"source\":{\"name\":\"줄라이와이프\",\"image\":{\"url\":\"https://s.pstatic.net/dthumb.phinf/?src=%22https%3A%2F%2Fs.pstatic.net%2Fshop.phinf%2F20230821_24%2F1692611644470dJKpv_PNG%2FprofileImage.png%22&type=nf40_40&service=navermain\"}},\"_id\":\"6441ca92c499cc07f334c49d\"},{\"@type\":\"MATERIAL-PC-FEED\",\"title\":\"3컬러가 포인트 10평 원룸인테리어 꾸미기 원룸소파가구 작은집인테리어\",\"url\":\"https://in.naver.com/only_mira/contents/internal/594051363880448\",\"image\":{\"url\":\"https://s.pstatic.net/dthumb.phinf/?src=%22http%3A%2F%2Fblogfiles.naver.net%2FMjAyMzA4MDZfMTk4%2FMDAxNjkxMzMwOTIyMTE3.aDF6pox1d1qgQPZMARjSF4Dg3ZuKu6mf2gZWdKYMom4g.FnXg1pGdGxILNotF5Qac-OrByXOM7Mu7D43Q5E3FnYEg.JPEG.only_mira%2F6.jpg%22&type=ff364_236&service=navermain\"},\"source\":{\"name\":\"명랑라임\",\"image\":{\"url\":\"https://s.pstatic.net/dthumb.phinf/?src=%22http%3A%2F%2Fblogpfthumb.phinf.naver.net%2FMjAyMTExMDNfMjg3%2FMDAxNjM1ODc3OTQ0Nzk0.yamyj0NvTcTIdw5_8MEiWzOjVgdQGsXNLCmQOGKmo-og.7sI4U96gHD6hkxFky0I9stWwL857so6Cv9NxqXOXvqog.JPEG.only_mira%2F%25ED%2597%25A4%25EC%2596%25B4%25EC%258A%25A4%25ED%2583%2580%25EC%259D%25BC_%25EB%25AA%2585%25EB%259E%2591%25EB%259D%25BC%25EC%259E%2584.jpg%22&type=nf40_40&service=navermain\"}},\"_id\":\"6441ca92c499cc07f334c49e\"},{\"@type\":\"MATERIAL-PC-FEED\",\"title\":\"[미니멀인테리어] 몸과 마음이 편안한 여름 거실 인테리어!\",\"url\":\"https://blog.naver.com/barbie2942/223167600187\",\"image\":{\"url\":\"https://s.pstatic.net/dthumb.phinf/?src=%22http%3A%2F%2Fblogfiles.naver.net%2FMjAyMzA3MjVfNDQg%2FMDAxNjkwMjY2NDg3NTM2.cMBudUe8Id7ZqGttg-QkNZLPi5Ggb1n77V1i70lMxaIg.JrA50Ui5r2i5HEzgui8RiEYxxxfh3RF7eDIZcTnAsnUg.JPEG.barbie2942%2FIMG_8182.JPG%22&type=ff364_236&service=navermain\"},\"source\":{\"name\":\"왕사탕이\",\"image\":{\"url\":\"https://s.pstatic.net/dthumb.phinf/?src=%22http%3A%2F%2Fblogpfthumb.phinf.naver.net%2FMjAyMzAzMzFfMjE1%2FMDAxNjgwMjMwNTAyNzc2.yWN7ndMCFTMjmkbpPbaksoQb8YnXCC2M9t6tJ_v5iUkg.xPMlrylV8kU50VHfGE985UaQVBDGxNrg_MxwT3cfaHMg.PNG.barbie2942%2FprofileImage.png%22&type=nf40_40&service=navermain\"}},\"_id\":\"6441ca92c499cc07f334c49f\"},{\"@type\":\"MATERIAL-PC-FEED\",\"title\":\"배려와 취향이 담긴, 어머니에게 선물한 맞춤 인테리어\",\"url\":\"https://post.naver.com/viewer/postView.naver?volumeNo=36394462&memberNo=954004\",\"image\":{\"url\":\"https://s.pstatic.net/dthumb.phinf/?src=%22https%3A%2F%2Fs.pstatic.net%2Fshop.phinf%2F20230816_7%2F1692183429374bDAS3_PNG%2Ffrth.PNG%22&type=ff364_236&service=navermain\"},\"source\":{\"name\":\"전원속의 내집\",\"image\":{\"url\":\"https://s.pstatic.net/dthumb.phinf/?src=%22https%3A%2F%2Fs.pstatic.net%2Fshop.phinf%2F20230816_36%2F1692183424696eVM5m_JPEG%2Ftyjk.jpg%22&type=nf40_40&service=navermain\"}},\"_id\":\"6441ca92c499cc07f334c4a0\"},{\"@type\":\"MATERIAL-PC-FEED\",\"title\":\"온라인집들이, 1인 가구 원룸, 자취방 인테리어 아이디어 꿀팁 :D\",\"url\":\"https://in.naver.com/chuing___/contents/internal/599644510445888\",\"image\":{\"url\":\"https://s.pstatic.net/dthumb.phinf/?src=%22http%3A%2F%2Fblogfiles.naver.net%2FMjAyMzA4MjJfMTg4%2FMDAxNjkyNjk4Mjk2OTg5.GZEYXxNZWBHMEABKLLtUApBIZEDAS929uqWjNKxwuM4g.NZQgbfLwoB0CvZWXzLNdhl8ZU00sa8u2zjI2f8rcxacg.JPEG.sacuu%2Fa73aabf4ddbfce39b76fa2a94a209ed1.jpg%22&type=ff364_236&service=navermain\"},\"source\":{\"name\":\"츄잉\",\"image\":{\"url\":\"https://s.pstatic.net/dthumb.phinf/?src=%22http%3A%2F%2Fblogpfthumb.phinf.naver.net%2FMjAyMzAxMjdfNzkg%2FMDAxNjc0Nzc5MzQ5ODgy.xwlo3o_J5_ENOjSHFXpXLSKK8c9LsxurYl57q1kTS24g.bU8CJ7u-xsBlEu8G81gj9oHhqa_AFoPY8Y9q7_XE5xAg.JPEG.sacuu%2F20221117_145049_polarr.jpg%2F20221117_145049_polarr.jpg%22&type=nf40_40&service=navermain\"}},\"_id\":\"6441ca92c499cc07f334c4a1\"},{\"@type\":\"MATERIAL-PC-FEED\",\"title\":\"원룸 인테리어 작은가구로 공간분리 온라인집들이\",\"url\":\"https://in.naver.com/jjumom/contents/internal/590742838329184\",\"image\":{\"url\":\"https://s.pstatic.net/dthumb.phinf/?src=%22http%3A%2F%2Fblogfiles.naver.net%2FMjAyMzA3MjhfMjU0%2FMDAxNjkwNTIyOTk5ODM1.vI1y6tFb1QSTXrFaCUfiITwdtcHyQBryvkAqB35QRoMg.hmptY4uRckjt9HGrtca_WkACRXaz1rBORVNv1mSkZBUg.JPEG.litty28%2FPCD_1311IMG_2882.jpg%22&type=ff364_236&service=navermain\"},\"source\":{\"name\":\"견우네\",\"image\":{\"url\":\"https://s.pstatic.net/dthumb.phinf/?src=%22http%3A%2F%2Fblogpfthumb.phinf.naver.net%2FMjAxODA5MTBfOTgg%2FMDAxNTM2NTYyMTI0OTY2.R30pC-KTWUtMavAh_0v4uuPM-VoYNpEfLcz9KGlF07wg.IHEbt2IfMgeeGc0npRIO1x4Lgn844IFv6i9sBdBZ508g.JPEG.litty28%2F%25C7%25C1%25BB%25E7.jpg%22&type=nf40_40&service=navermain\"}},\"_id\":\"6441ca92c499cc07f334c4a2\"},{\"@type\":\"MATERIAL-PC-FEED\",\"title\":\"(온라인 집들이) 아파트 식물 인테리어 우리 집 플랜테리어 하는 방법\",\"url\":\"https://in.naver.com/canslelee/contents/internal/588678520410144\",\"image\":{\"url\":\"https://s.pstatic.net/dthumb.phinf/?src=%22http%3A%2F%2Fblogfiles.naver.net%2FMjAyMzA3MjJfNzIg%2FMDAxNjkwMDA5OTQwNjAw.K9nGo2BD8YR_IV9IOvCJTNTd-jjDc35cWzyNL8bSUhQg.BlfcqORGrgstK955JERm9SNQ7Bww5KL-AP2vypHRe44g.JPEG.nabisuk%2F1690009939065.jpg%22&type=ff364_236&service=navermain\"},\"source\":{\"name\":\"캔들리\",\"image\":{\"url\":\"https://s.pstatic.net/dthumb.phinf/?src=%22http%3A%2F%2Fblogpfthumb.phinf.naver.net%2FMjAyMjA2MjRfMTkz%2FMDAxNjU2MDM5NTA3ODEz.XHsEOcf5O1Lg8Fq3Zics8eLR6UrfM4OWvLa69f6kEJMg.CSNRGkrpptLiOSdMxZWeNVS9kOtTdS9k5sbOwYvh2GQg.JPEG.nabisuk%2FprofileImage.jpg%22&type=nf40_40&service=navermain\"}},\"_id\":\"6441ca92c499cc07f334c4a3\"},{\"@type\":\"MATERIAL-PC-FEED\",\"title\":\"집 인테리어 : 5일차 6일차 셀프 인테리어 만족스러워요\",\"url\":\"https://in.naver.com/kimrahee/contents/internal/576876528991776\",\"image\":{\"url\":\"https://s.pstatic.net/dthumb.phinf/?src=%22http%3A%2F%2Fblogfiles.naver.net%2FMjAyMzA2MTlfMjUw%2FMDAxNjg3MTM4ODY0OTkw.Gf9eemkoSwXWcgtwnmIH2-Pe7L8czZN1mMcx4g_t_e0g.5Yq5BZwA9RNwgwDv0PVkdUOGu8O85u8YbJf9KyidxXAg.JPEG.powerppodea%2FKakaoTalk_20230619_103657016_18.jpg%22&type=ff364_236&service=navermain\"},\"source\":{\"name\":\"김라희\",\"image\":{\"url\":\"https://s.pstatic.net/dthumb.phinf/?src=%22http%3A%2F%2Fblogpfthumb.phinf.naver.net%2FMjAyMTAxMTRfNSAg%2FMDAxNjEwNTU5ODI0MDYy.nQVEKXZOpgb9VQ7dhqW3Q_xTHahwYEfkgOcUMLQ-8UUg.mUz44Z73wxdlQ2Ht3jl-B9x_4VvW05eMU6nmpPR0ZpUg.JPEG.powerppodea%2F2020-10-28-19-26-32-284"
      ]
     },
     "execution_count": 3,
     "metadata": {},
     "output_type": "execute_result"
    },
    {
     "data": {
      "text/html": [
       "<b>limit_output extension: Maximum message size of 10000 exceeded with 195458 characters</b>"
      ]
     },
     "metadata": {},
     "output_type": "display_data"
    }
   ],
   "source": [
    "ren.text"
   ]
  },
  {
   "cell_type": "markdown",
   "id": "13f3f445",
   "metadata": {
    "hidden": true
   },
   "source": [
    "## 멜론 사이트 요청해보기"
   ]
  },
  {
   "cell_type": "code",
   "execution_count": 5,
   "id": "216bee8f",
   "metadata": {
    "ExecuteTime": {
     "end_time": "2023-08-24T00:41:14.367656Z",
     "start_time": "2023-08-24T00:41:14.173625Z"
    },
    "hidden": true
   },
   "outputs": [
    {
     "data": {
      "text/plain": [
       "<Response [406]>"
      ]
     },
     "execution_count": 5,
     "metadata": {},
     "output_type": "execute_result"
    }
   ],
   "source": [
    "# 응답코드가 406은 문제가 있다.\n",
    "# 단 서버 자체에서 들어온 요청이 브라우저가 아닌 컴퓨터임을 인지.\n",
    "# 사람인척 하면 된다.\n",
    "remelon = req.get(\"http://www.melon.com\")\n",
    "remelon"
   ]
  },
  {
   "cell_type": "code",
   "execution_count": 8,
   "id": "97090e11",
   "metadata": {
    "ExecuteTime": {
     "end_time": "2023-08-24T01:07:42.568181Z",
     "start_time": "2023-08-24T01:07:42.564948Z"
    },
    "hidden": true
   },
   "outputs": [],
   "source": [
    "# 객체 형태\n",
    "head ={'User-Agent':'Mozilla/5.0 (Windows NT 10.0; Win64; x64) AppleWebKit/537.36 (KHTML, like Gecko) Chrome/116.0.0.0 Safari/537.36'}"
   ]
  },
  {
   "cell_type": "code",
   "execution_count": 10,
   "id": "1c2fcde8",
   "metadata": {
    "ExecuteTime": {
     "end_time": "2023-08-24T01:07:50.395326Z",
     "start_time": "2023-08-24T01:07:50.309434Z"
    },
    "hidden": true
   },
   "outputs": [
    {
     "data": {
      "text/plain": [
       "<Response [200]>"
      ]
     },
     "execution_count": 10,
     "metadata": {},
     "output_type": "execute_result"
    }
   ],
   "source": [
    "remelon =req.get('https://www.melon.com', headers = head)\n",
    "remelon"
   ]
  },
  {
   "cell_type": "markdown",
   "id": "c721556b",
   "metadata": {
    "ExecuteTime": {
     "end_time": "2023-08-24T01:10:57.571964Z",
     "start_time": "2023-08-24T01:10:57.569069Z"
    },
    "heading_collapsed": true,
    "hidden": true
   },
   "source": [
    "## 뉴스데이터 수집"
   ]
  },
  {
   "cell_type": "markdown",
   "id": "2788ece8",
   "metadata": {
    "hidden": true
   },
   "source": []
  },
  {
   "cell_type": "code",
   "execution_count": 14,
   "id": "bcec11c8",
   "metadata": {
    "ExecuteTime": {
     "end_time": "2023-08-24T01:13:05.137275Z",
     "start_time": "2023-08-24T01:13:04.993265Z"
    },
    "hidden": true
   },
   "outputs": [
    {
     "data": {
      "text/plain": [
       "'<!doctype html> <html lang=\"ko\"><head> <meta charset=\"utf-8\"> <meta name=\"referrer\" content=\"always\">  <meta name=\"format-detection\" content=\"telephone=no,address=no,email=no\"> <meta name=\"viewport\" content=\"width=device-width,initial-scale=1.0,maximum-scale=2.0\"> <meta property=\"og:title\" content=\"뉴스 : 네이버 뉴스검색\"/> <meta property=\"og:image\" content=\"https://ssl.pstatic.net/sstatic/search/common/og_v3.png\"> <meta property=\"og:description\" content=\"\\'뉴스\\'의 네이버 뉴스검색 결과입니다.\"> <meta name=\"description\" lang=\"ko\" content=\"\\'뉴스\\'의 네이버 뉴스검색 결과입니다.\"> <title>뉴스 : 네이버 뉴스검색</title> <link rel=\"shortcut icon\" href=\"https://ssl.pstatic.net/sstatic/search/favicon/favicon_191118_pc.ico\">  <link rel=\"search\" type=\"application/opensearchdescription+xml\" href=\"https://ssl.pstatic.net/sstatic/search/opensearch-description.https.xml\" title=\"Naver\" /><script> if (top.frames.length!=0 || window!=top) window.open(location, \"_top\"); </script><link rel=\"stylesheet\" type=\"text/css\" href=\"https://ssl.pstatic.net/sstatic/search/pc/css/search1_230817.css\"> <link rel=\"stylesheet\" type=\"text/css\" href=\"https://ssl.pstatic.net/sstatic/search/pc/css/search2_230817.css\"> <link rel=\"stylesheet\" type=\"text/css\" href=\"https://ssl.pstatic.net/sstatic/search/pc/css/sp_autocomplete_220526.css\"><script> naver = window.naver || {}; naver.search = naver.search || {}; naver.search.abt_param = \"\"; </script><script> naver = window.naver || {}; naver.search = naver.search || {}; naver.search.error = (function () { var errorList = Array() ; return { add : function (s) { errorList.push(s) ; }, clear : function () { delete errorList ; }, get : function (s) { return errorList ; }, getString : function (d) { if (typeof d === \\'undefined\\') d = \\'|\\' ; return errorList.join(d) ; } } })(); function nx_add_event_handler (event, func) { $Fn(func).attach(document, event) ; } function bt(id, after) { document.getElementById(id).src = after; } function document_write (s) { document.write(s) ; } </script><script> var _nx_js_load = (function () { var scrs = {} ; return function (script, callback) { scrs[script] = {} ; scrs[script].domscript = document.createElement(\\'script\\'); scrs[script].domscript.src = script ; if (callback) scrs[script].callback = (callback instanceof Array) ? callback : [callback]; scrs[script].domscript.onloadDone = false; scrs[script].domscript.onload = function() { scrs[script].domscript.onloadDone = true; if (scrs[script].callback) { for (var i = 0; i < scrs[script].callback.length; i++) { scrs[script].callback[i]() ; } } scrs[script].domscript.onload = scrs[script].domscript.onreadystatechange = null; } ; scrs[script].domscript.onreadystatechange = function() { if ( (\"loaded\" === scrs[script].domscript.readyState || \"complete\" === scrs[script].domscript.readyState) && !scrs[script].domscript.onloadDone ) { scrs[script].domscript.onload(); } } ; document.getElementsByTagName(\\'head\\')[0].appendChild(scrs[script].domscript); }; })() ; var nx_js_defer_load = (function() { var info = {} ; return function(scrname, callback, t) { var nx_load_once = (function() { return function(scrname) { if (info[scrname].t > 0) setTimeout(function() { _nx_js_load(scrname, info[scrname].callback) ; }, t) ; else _nx_js_load(scrname, info[scrname].callback) ; } ; })(); if (t < 0) t = 0 ; if (info[scrname]) { n = info[scrname].length; for (var i = 0; i < n; i++) { if (info[scrname][i] == callback) return ; } if (t < info[scrname].t) info[scrname].t = t ; } else { info[scrname] = {} ; info[scrname].callback = [] ; info[scrname].t = t ; jindo.$Fn(function() { nx_load_once(scrname) ; }).attach(window, \"load\") ; } info[scrname].callback.push(callback) ; }; })(); function nx_js_lazyload(scripts, onload, is_serial) { if (!(scripts instanceof Array)) { scripts = [scripts]; } if (is_serial) { function load_next() { if (scripts.length == 0) { onload(); return; } _nx_js_load( scripts.shift(), load_next ) ; } load_next(); } else { var load_check = function() { var num_js = scripts.length; return function() { num_js--; if (num_js <= 0) { onload(); } } }(); for (var i = 0; i < scripts.length; i++) { _nx_js_load( scripts[i], load_check ) ; } } } nhn = window.nhn || {}; nhn.jsLazyLoad = { include: function(a, b, c) { nx_js_lazyload(a, b, 0) ; } } ; </script><script> var nx_au_cookie_domain = \".search.naver.com\" ; var g_site = \"\" ; var g_er_image, g_er_count = 0 ; function g_er (msg) { if (g_er_count++ > 0) return ; g_er_image = new Image() ; g_er_image.src = \"http://er.search.naver.com/er?f=\"+g_tab+\"&w=\"+g_stab+\"&q=%EB%89%B4%EC%8A%A4&u=\"+encodeURIComponent(document.location)+\"&m=\"+encodeURIComponent(msg) ; } function nx_defer_eval (id) { var codeElement = document.getElementById(id), code = codeElement.innerHTML; eval(code.replace(/\\\\/\\\\*/, \\'\\').replace(/\\\\*\\\\//, \\'\\')); } function trim_crlf (q) { var crlf = /[\\\\r|\\\\n]/ ; q = q.replace(crlf, \"\") ; return q ; } function include_script (type, defer, src, charset) { var script = document.createElement(\"script\") ; script.type = type, script.defer = defer ; script.src = src ; if (charset) script.charset = charset ; else script.charset = \\'utf-8\\' ; document.getElementsByTagName(\\'head\\')[0].appendChild(script) ; return script ; } function include_style (src, charset) { var h = document.getElementsByTagName(\"head\")[0] ; var l = document.createElement(\\'link\\') ; l.type = \\'text/css\\' ; l.rel = \\'stylesheet\\' ; if (charset) l.charset = charset ; else l.charset = \\'utf-8\\' ; l.media = \\'screen\\' ; l.href = src ; h.appendChild(l) ; } function rank_val (rank, name, sign, number, ad_onair) { this.rank = rank ; this.name = name ; this.sign = sign ; this.number = number ; this.ad_onair = ad_onair ; } function rr_hotquery_val (titleImg, totalLink, ad_onair) { this.titleImg = titleImg ; this.totalLink = totalLink ; this.ad_onair = ad_onair ; } function rr_append () { for (var i=0; i<rr_list.length; i++) if (rr_list[i].qname==hotqry_Name && rr_list[i].dir==hotqry_Dir) return 0 ; var o = { order:hotqry_Order, contid:hotqry_ContID, qname:hotqry_Name, dir:hotqry_Dir, toprank:hotqry_TopRank, rankdown:hotqry_RankDown, clicklog:hotqry_ClickLog, toprank_idx:toprank_idx, lowrank_idx:lowrank_idx, topranklist:toprank, lowranklist:lowrank_idx>=0?lowrank:null } ; rr_list = rr_list.concat(o) ; return 1 ; } var msg_hidden_idle=null; function msg (id) { if(msg_hidden_idle) clearInterval(msg_hidden_idle); if(id) { var mid=document.getElementById(id); mid.style.display=\\'\\'; mid.style.visibility=\\'visible\\'; } } function msg_hidden (id, f) { if(f) hidden(id); else msg_hidden_idle=setInterval(\"hidden(\\'\"+id+\"\\')\",100); } function hidden (id) { var mid=document.getElementById(id); mid.style.display=\\'none\\'; mid.style.visibility=\\'hidden\\'; } function nx_check_basic () { return ; } var nx_default_charset = document.charset ; function nx_form_emul_charset (form) { if (/msie/i.test(navigator.userAgent) && !/opera/i.test(navigator.userAgent)) { document.charset = form.acceptCharset ; window.onbeforeunload = function () { document.charset = nx_default_charset ; } ; } return true; } </script><script> if (!String.prototype.trim) { String.prototype.trim = function () { return this.replace(/^[\\\\s\\\\uFEFF\\\\xA0]+|[\\\\s\\\\uFEFF\\\\xA0]+$/g, \\'\\'); }; } if (!Array.prototype.indexOf) { Array.prototype.indexOf = function(searchElement, fromIndex) { var k; if (this == null) { throw new TypeError(\\'\"this\" is null or not defined\\'); } var o = Object(this); var len = o.length >>> 0; if (len === 0) { return -1; } var n = fromIndex | 0; if (n >= len) { return -1; } k = Math.max(n >= 0 ? n : len - Math.abs(n), 0); while (k < len) { if (k in o && o[k] === searchElement) { return k; } k++; } return -1; }; } if (!Array.prototype.filter) { Array.prototype.filter = function(func, thisArg) { \\'use strict\\'; if (!((typeof func === \\'Function\\' || typeof func === \\'function\\') && this)) throw new TypeError(); var len = this.length >>> 0, res = new Array(len), t = this, c = 0, i = -1; var kValue; if (thisArg === undefined) { while (++i !== len) { if (i in this) { kValue = t[i]; if (func(t[i], i, t)) { res[c++] = kValue; } } } } else { while (++i !== len) { if (i in this) { kValue = t[i]; if (func.call(thisArg, t[i], i, t)) { res[c++] = kValue; } } } } res.length = c; return res; }; } if (typeof(encodeURIComponent) != \"function\") { encodeURIComponent = function (s) { function toHex (n) { var hexchars = \"0123456789ABCDEF\" ; return \"%\" + hexchars.charAt(n>>4) + hexchars.charAt(n&0xF) ; } var es = \"\" ; for (var i = 0; i < s.length;) { var c = s.charCodeAt(i++) ; if ((c&0xF800) == 0xD800) { var sc = s.charCodeAt(i++) ; c = ((c-0xD800)<<10) + (sc-0xDC00) + 0x10000 ; } if (!(c&~0x7F)) { if ((c>=65&&c<=90) || (c>=97&&c<=122) || (c>=48&&c<=57) || (c>=45&&c<=46) || c==95 || c==33 || c==126 || (c>=39&&c<=42)) es += String.fromCharCode(c) ; else es += toHex(c) ; } else if (!(c&~0x7FF)) es += toHex(0xC0+(c>>6)) + toHex(c&0x3F) ; else if (!(c&~0xFFFF)) es += toHex(0xE0+(c>>12)) + toHex(0x80+(c>>6&0x3F)) + toHex(0x80+(c&0x3F)) ; else es += toHex(0xF0+(c>>18)) + toHex(0x80+(c>>12&0x3F)) + toHex(0x80+(c>>6&0x3F)) + toHex(0x80+(c&0x3F)) ; } return es ; } } </script><script> (function(exportTarget) { var lcs_options = { nnb: true }; var lcs_version = \"v0.8.3\"; var lcs_add = {}; var lcs_bc = {}; var lcs_perf = {}; var lcs_do_count = 0; var lcs_do_retry_count = 0; var lcs_waiting_pageshow = false; function lcs_do(optional_etc) { var etc = optional_etc || {}; if (lcs_waiting_pageshow) { return; } var retry = function(__etc) { return function() { window.setTimeout(function() { lcs_waiting_pageshow = false; lcs_do(__etc); }, 10); } }(etc); if (document.readyState !== \"complete\") { var eventName = \"onpageshow\" in window ? \"pageshow\" : \"load\"; if (document.addEventListener) { window.addEventListener(eventName, retry, false); } else { window.attachEvent(\"on\"+ eventName, retry); } lcs_do_retry_count++; lcs_waiting_pageshow = true; return; } if (!window.lcs_SerName) { window.lcs_SerName = \"lcs.naver.com\"; } var rs = \"\"; var inde"
      ]
     },
     "execution_count": 14,
     "metadata": {},
     "output_type": "execute_result"
    },
    {
     "data": {
      "text/html": [
       "<b>limit_output extension: Maximum message size of 10000 exceeded with 266865 characters</b>"
      ]
     },
     "metadata": {},
     "output_type": "display_data"
    }
   ],
   "source": [
    "#1. 네이버 사이트(검색한 뉴스화면 요청)\n",
    "res =req.get(\"https://search.naver.com/search.naver?where=news&sm=tab_jum&query=%EB%89%B4%EC%8A%A4\")\n",
    "res.text"
   ]
  },
  {
   "cell_type": "markdown",
   "id": "28b9e809",
   "metadata": {
    "heading_collapsed": true
   },
   "source": [
    "# Beautiful soup\n",
    " 1. req를 통해 가져온 텍스트 데이터를  컴퓨터 이해할 수 있게 바꿔주는 Library"
   ]
  },
  {
   "cell_type": "code",
   "execution_count": 16,
   "id": "0c187825",
   "metadata": {
    "ExecuteTime": {
     "end_time": "2023-08-24T01:18:45.802121Z",
     "start_time": "2023-08-24T01:18:45.799390Z"
    },
    "hidden": true
   },
   "outputs": [],
   "source": [
    "#주의할 점 : stone이 아닌 일반 soup을 임포트 해야한다.\n",
    "from bs4 import BeautifulSoup as bs"
   ]
  },
  {
   "cell_type": "code",
   "execution_count": 19,
   "id": "1634dcb4",
   "metadata": {
    "ExecuteTime": {
     "end_time": "2023-08-24T01:23:54.739603Z",
     "start_time": "2023-08-24T01:23:54.713928Z"
    },
    "hidden": true
   },
   "outputs": [],
   "source": [
    "# 응답을 받은 데이터에서 뉴스 타이틀만 수집\n",
    "# 먼저 text를 html로 바꿔야 한다.\n",
    "soup = bs(res.text, \"lxml\")"
   ]
  },
  {
   "cell_type": "code",
   "execution_count": 37,
   "id": "10f4a176",
   "metadata": {
    "ExecuteTime": {
     "end_time": "2023-08-24T01:46:34.690280Z",
     "start_time": "2023-08-24T01:46:34.682435Z"
    },
    "hidden": true,
    "scrolled": true
   },
   "outputs": [
    {
     "data": {
      "text/plain": [
       "[<a class=\"news_tit\" href=\"https://www.yna.co.kr/view/AKR20230824016900011?input=1195m\" onclick=\"return goOtherCR(this, 'a=nws*j.tit&amp;r=1&amp;i=880000D8_000000000000000014148548&amp;g=001.0014148548&amp;u='+urlencode(this.href));\" target=\"_blank\" title=\"[연합뉴스 이 시각 헤드라인] - 07:30\">[연합<mark>뉴스</mark> 이 시각 헤드라인] - 07:30</a>,\n",
       " <a class=\"news_tit\" href=\"https://news.kbs.co.kr/news/view.do?ncd=7755251&amp;ref=A\" onclick=\"return goOtherCR(this, 'a=nws*j.tit&amp;r=2&amp;i=88000114_000000000000000011551127&amp;g=056.0011551127&amp;u='+urlencode(this.href));\" target=\"_blank\" title=\"‘팁’이요? 여기 한국인데…싸늘한 소비자 반응 [친절한 뉴스K]\">‘팁’이요? 여기 한국인데…싸늘한 소비자 반응 [친절한 <mark>뉴스</mark>K]</a>,\n",
       " <a class=\"news_tit\" href=\"https://news.kmib.co.kr/article/view.asp?arcid=0018595254&amp;code=61171811&amp;cp=nv\" onclick=\"return goOtherCR(this, 'a=nws*j.tit&amp;r=3&amp;i=8800006F_000000000000000001633039&amp;g=005.0001633039&amp;u='+urlencode(this.href));\" target=\"_blank\" title=\"“화장실 썼으니 음료 주문하라, 맞나요?” [사연뉴스]\">“화장실 썼으니 음료 주문하라, 맞나요?” [사연<mark>뉴스</mark>]</a>,\n",
       " <a class=\"news_tit\" href=\"https://www.kyeonggi.com/article/20230823580106\" onclick=\"return goOtherCR(this, 'a=nws*j.tit&amp;r=4&amp;i=8822bt6d_000000000000000000019481&amp;g=666.0000019481&amp;u='+urlencode(this.href));\" target=\"_blank\" title=\"공기부양정 타고... 연평도 주민들 '대피훈련' [포토뉴스]\">공기부양정 타고... 연평도 주민들 '대피훈련' [포토<mark>뉴스</mark>]</a>,\n",
       " <a class=\"news_tit\" href=\"https://www.nocutnews.co.kr/news/5999582\" onclick=\"return goOtherCR(this, 'a=nws*j.tit&amp;r=5&amp;i=88000112_000000000000000003804869&amp;g=079.0003804869&amp;u='+urlencode(this.href));\" target=\"_blank\" title=\"또 체면 구긴 北, 10월 3차 발사 속도전[뉴스쏙:속]\">또 체면 구긴 北, 10월 3차 발사 속도전[<mark>뉴스</mark>쏙:속]</a>,\n",
       " <a class=\"news_tit\" href=\"http://www.newsis.com/view/?id=NISX20230823_0002423979&amp;cID=10301&amp;pID=10300\" onclick=\"return goOtherCR(this, 'a=nws*j.tit&amp;r=6&amp;i=88000127_000000000000000012047080&amp;g=003.0012047080&amp;u='+urlencode(this.href));\" target=\"_blank\" title='외통위 오염수 공방…여 \"가짜뉴스 불안 조장\" 야 \"일본 정부 대변\"(종합)'>외통위 오염수 공방…여 \"가짜<mark>뉴스</mark> 불안 조장\" 야 \"일본 정부 대변\"(종합)</a>,\n",
       " <a class=\"news_tit\" href=\"http://www.edaily.co.kr/news/newspath.asp?newsid=01315286635710600\" onclick=\"return goOtherCR(this, 'a=nws*j.tit&amp;r=7&amp;i=880000E7_000000000000000005557494&amp;g=018.0005557494&amp;u='+urlencode(this.href));\" target=\"_blank\" title=\"기술주 랠리에 美증시 반등…엔비디아 시간외 8%↑[뉴스새벽배송]\">기술주 랠리에 美증시 반등…엔비디아 시간외 8%↑[<mark>뉴스</mark>새벽배송]</a>,\n",
       " <a class=\"news_tit\" href=\"http://news.mt.co.kr/mtview.php?no=2023082308525591149\" onclick=\"return goOtherCR(this, 'a=nws*j.tit&amp;r=8&amp;i=880000C2_000000000000000004929030&amp;g=008.0004929030&amp;u='+urlencode(this.href));\" target=\"_blank\" title=\"천년 조용하더니 순식간에 2000명 앗아갔다…폼페이 삼킨 화산[뉴스속오늘]\">천년 조용하더니 순식간에 2000명 앗아갔다…폼페이 삼킨 화산[<mark>뉴스</mark>속오늘]</a>,\n",
       " <a class=\"news_tit\" href=\"http://www.mbn.co.kr/pages/news/newsView.php?news_seq_no=4957058\" onclick=\"return goOtherCR(this, 'a=nws*j.tit&amp;r=9&amp;i=880000BF_000000000000000001764054&amp;g=057.0001764054&amp;u='+urlencode(this.href));\" target=\"_blank\" title=\"[뉴스추적] 폐지 3개월 만에 의경 부활 가능할까\">[<mark>뉴스</mark>추적] 폐지 3개월 만에 의경 부활 가능할까</a>,\n",
       " <a class=\"news_tit\" href=\"https://www.yna.co.kr/view/AKR20230823098600011?input=1195m\" onclick=\"return goOtherCR(this, 'a=nws*j.tit&amp;r=10&amp;i=880000D8_000000000000000014147144&amp;g=001.0014147144&amp;u='+urlencode(this.href));\" target=\"_blank\" title=\"[연합뉴스 이 시각 헤드라인] - 14:30\">[연합<mark>뉴스</mark> 이 시각 헤드라인] - 14:30</a>]"
      ]
     },
     "execution_count": 37,
     "metadata": {},
     "output_type": "execute_result"
    }
   ],
   "source": [
    "# select(\"선택자\") -> html 데이터에서 특정 요소만 수집 (요소 : tag + 콘텐츠)\n",
    "# 클래스는 .  아이디는 # \n",
    "title = soup.select(\"a.news_tit\") \n",
    "title"
   ]
  },
  {
   "cell_type": "code",
   "execution_count": 30,
   "id": "adea02e5",
   "metadata": {
    "ExecuteTime": {
     "end_time": "2023-08-24T01:37:35.656493Z",
     "start_time": "2023-08-24T01:37:35.652149Z"
    },
    "hidden": true
   },
   "outputs": [
    {
     "name": "stdout",
     "output_type": "stream",
     "text": [
      "[연합뉴스 이 시각 헤드라인] - 07:30\n",
      "‘팁’이요? 여기 한국인데…싸늘한 소비자 반응 [친절한 뉴스K]\n",
      "“화장실 썼으니 음료 주문하라, 맞나요?” [사연뉴스]\n",
      "공기부양정 타고... 연평도 주민들 '대피훈련' [포토뉴스]\n",
      "또 체면 구긴 北, 10월 3차 발사 속도전[뉴스쏙:속]\n",
      "외통위 오염수 공방…여 \"가짜뉴스 불안 조장\" 야 \"일본 정부 대변\"(종합)\n",
      "기술주 랠리에 美증시 반등…엔비디아 시간외 8%↑[뉴스새벽배송]\n",
      "천년 조용하더니 순식간에 2000명 앗아갔다…폼페이 삼킨 화산[뉴스속오늘]\n",
      "[뉴스추적] 폐지 3개월 만에 의경 부활 가능할까\n",
      "[연합뉴스 이 시각 헤드라인] - 14:30\n"
     ]
    }
   ],
   "source": [
    "# for each문 \n",
    "for i in title:\n",
    "    print(i.text)"
   ]
  },
  {
   "cell_type": "markdown",
   "id": "f26d97d2",
   "metadata": {
    "heading_collapsed": true
   },
   "source": [
    "# 네이버 금융정보 가져오기"
   ]
  },
  {
   "cell_type": "code",
   "execution_count": 33,
   "id": "f6af9deb",
   "metadata": {
    "ExecuteTime": {
     "end_time": "2023-08-24T01:39:34.522043Z",
     "start_time": "2023-08-24T01:39:34.446773Z"
    },
    "hidden": true,
    "scrolled": true
   },
   "outputs": [
    {
     "data": {
      "text/plain": [
       "'<html lang=\"ko\">\\n <head> \\n  <title>네이버 증권</title> \\n  <meta http-equiv=\"Content-Type\" content=\"text/html; charset=utf-8\" /> \\n  <meta http-equiv=\"Content-Script-Type\" content=\"text/javascript\" /> \\n  <meta http-equiv=\"Content-Style-Type\" content=\"text/css\" /> \\n  <meta name=\"apple-mobile-web-app-title\" content=\"네이버 증권\" /> \\n  <meta property=\"og:title\" content=\"네이버 증권\" /> \\n  <meta property=\"og:image\" content=\"https://ssl.pstatic.net/static/m/stock/im/2016/08/og_stock-200.png\" /> \\n  <meta property=\"og:url\" content=\"https://finance.naver.com\" /> \\n  <meta property=\"og:description\" content=\"국내 해외 증시 지수, 시장지표, 뉴스, 증권사 리서치 등 제공\" /> \\n  <meta property=\"og:type\" content=\"article\" /> \\n  <meta property=\"og:article:thumbnailUrl\" content=\"\" /> \\n  <meta property=\"og:article:author\" content=\"네이버 증권\" /> \\n  <meta property=\"og:article:author:url\" content=\"http://FINANCE.NAVER.COM\" /> \\n  <link rel=\"stylesheet\" type=\"text/css\" href=\"https://ssl.pstatic.net/imgstock/static.pc/20230808201105/css/finance_header.css\" /> \\n  <link rel=\"stylesheet\" type=\"text/css\" href=\"https://ssl.pstatic.net/imgstock/static.pc/20230808201105/css/finance.css\" /> \\n  <link rel=\"stylesheet\" type=\"text/css\" href=\"https://ssl.pstatic.net/imgstock/static.pc/20230808201105/css/newstock3.css\" /> \\n  <script type=\"text/javascript\" src=\"https://ssl.pstatic.net/imgstock/static.pc/20230808201105/js/jindo.min.ns.1.5.3.euckr.js\"></script> \\n  <script type=\"text/javascript\" src=\"https://ssl.pstatic.net/imgstock/static.pc/20230808201105/js/release/common.js\"></script> \\n  <script type=\"text/javascript\" src=\"https://ssl.pstatic.net/imgstock/static.pc/20230808201105/js/jindoComponent/jindo.Component.1.0.3.js\"></script> \\n  <script type=\"text/javascript\" src=\"https://ssl.pstatic.net/imgstock/static.pc/20230808201105/js/nhn.autocomplete.stock.js\"></script> \\n  <script>\\n\\tvar ieVersion = (function () {\\n        var version = -1;\\n        if (\\n          navigator.appName == \\'Microsoft Internet Explorer\\' &&\\n          navigator.userAgent.toLowerCase().indexOf(\\'msie\\') != -1 &&\\n          new RegExp(\\'MSIE ([0-9]{1,}[\\\\./0-9]{0,})\\').exec(navigator.userAgent) != null\\n        ) {\\n          version = parseInt(RegExp.$1);\\n        }\\n        return version;\\n      })();\\n</script> \\n  <!-- smart channel 광고 --> \\n  <script async=\"\" src=\"https://ssl.pstatic.net/tveta/libs/glad/prod/gfp-core.js\">\\n\\t\\t</script> \\n  <script type=\"text/javascript\">\\n\\t\\t(function(){\\n\\t\\t\\tif (ieVersion === -1 || ieVersion > 10) {\\n\\t\\t\\t\\twindow.gladsdk = window.gladsdk || { cmd: [] };\\n\\n\\t\\t\\t\\tgladsdk.cmd.push(function() {\\n\\t\\t\\t\\t\\t\\tgladsdk.defineAdSlot({\\n\\t\\t\\t\\t\\t\\t\\tadUnitId: \"p_nf_stock\",\\n\\t\\t\\t\\t\\t\\t\\tadSlotElementId: \"_SmartChannelTopBanner\",\\n\\t\\t\\t\\t\\t\\t\\tuct: \"KR\",\\n\\t\\t\\t\\t\\t\\t\\tcustomParam: {\\n\\t\\t\\t\\t\\t\\t\\t\\tcalp: \\n\\t\\t\\t\\t\\t\\t\\t\\t\\t\\n\\t\\t\\t\\t\\t\\t\\t\\t\\t\\n\\t\\t\\t\\t\\t\\t\\t\\t\\t\\n\\t\\t\\t\\t\\t\\t\\t\\t\\t\\n\\t\\t\\t\\t\\t\\t\\t\\t\\t\\n\\t\\t\\t\\t\\t\\t\\t\\t\\t\\n\\t\\t\\t\\t\\t\\t\\t\\t\\t\"home\"\\n\\t\\t\\t\\t\\t\\t\\t},\\n\\t\\t\\t\\t\\t\\t});\\n\\n\\n\\n\\t\\t\\t\\t\\t\\tgladsdk.addEventListener(gladsdk.event.AD_LOADED, function(ad) {\\n\\t\\t\\t\\t\\t\\t\\t//console.log(gladsdk.event.AD_LOADED);\\n\\t\\t\\t\\t\\t\\t});\\n\\t\\t\\t\\t\\t\\tgladsdk.addEventListener(gladsdk.event.AD_CLICKED, function(ad) {\\n\\t\\t\\t\\t\\t\\t\\t//console.log(gladsdk.event.AD_CLICKED);\\n\\t\\t\\t\\t\\t\\t});\\n\\t\\t\\t\\t\\t\\tgladsdk.addEventListener(gladsdk.event.AD_IMPRESSED, function(ad) {\\n\\t\\t\\t\\t\\t\\t\\t//console.log(gladsdk.event.AD_IMPRESSED);\\n\\t\\t\\t\\t\\t\\t});\\n\\t\\t\\t\\t\\t\\tgladsdk.addEventListener(gladsdk.event.ERROR, function(ad, error) {\\n\\t\\t\\t\\t\\t\\t\\t//TODO: 오류 로깅처리\\n\\t\\t\\t\\t\\t\\t\\t//console.log(gladsdk.event.ERROR);\\n\\t\\t\\t\\t\\t\\t});\\n\\t\\t\\t\\t\\t});\\n\\t\\t\\t}\\n\\t\\t})();\\n\\t</script> \\n  <link rel=\"shortcut icon\" href=\"https://ssl.pstatic.net/imgstock/favi/favicon.ico\" type=\"image/x-icon\" /> \\n  <script type=\"text/javascript\">\\n    (function(){\\n\\t\\tdocument.write(\\n\\t\\t\\t\\t[\\n\\t\\t\\t\\t\\t\\'<link rel=\"apple-touch-icon-precomposed\" href=\"https://ssl.pstatic.net/imgstock/favi/favicon-96x96.png\"/>\\',\\n\\t\\t\\t\\t\\t\\'<link rel=\"apple-touch-icon-precomposed\" sizes=\"180x180\" href=\"https://ssl.pstatic.net/imgstock/favi/favicon-180x180.png\"/>\\',\\n\\t\\t\\t\\t\\t\\'<link rel=\"apple-touch-icon-precomposed\" sizes=\"192x192\" href=\"https://ssl.pstatic.net/imgstock/favi/favicon-192x192.png\"/>\\',\\n\\t\\t\\t\\t\\t\\'<link rel=\"icon\" type=\"image/png\" sizes=\"16x16\" href=\"https://ssl.pstatic.net/imgstock/favi/favicon-16x16.png\"/>\\',\\n\\t\\t\\t\\t\\t\\'<link rel=\"icon\" type=\"image/png\" sizes=\"32x32\" href=\"https://ssl.pstatic.net/imgstock/favi/favicon-32x32.png\"/>\\',\\n\\t\\t\\t\\t\\t\\'<link rel=\"icon\" type=\"image/png\" sizes=\"96x96\" href=\"https://ssl.pstatic.net/imgstock/favi/favicon-96x96.png\"/>\\',\\n\\t\\t\\t\\t\\t\\'<link rel=\"icon\" type=\"image/png\" sizes=\"192x192\" href=\"https://ssl.pstatic.net/imgstock/favi/favicon-192x192.png\"/>\\'\\n\\t\\t\\t\\t]\\n\\t\\t\\t.join(\\'\\\\n\\')\\n\\t\\t);\\n    })();\\n    </script> \\n </head> \\n <body onload=\"getGNB();\"> \\n  <script type=\"text/javascript\">\\n\\n\\tvar nclk_evt = 3;\\n\\tnclk_do();\\n</script> \\n  <script type=\"text/javascript\">\\n\\n\\n\\n\\n\\n\\n\\nvar nsc=\"finance.home\";\\n\\n\\nvar ccsrv=\"cc.naver.com\";\\n\\n\\n\\t\\n\\t\\n\\tvar gnb_service=\\'finance\\';\\n\\t\\n\\n\\nvar gnb_logout=document.URL; //GNB에서 로그아웃 후 redirect 될 URL\\nvar gnb_searchbox=\\'off\\'; //미니 검색창을 on 할지 off 할지. default는 off\\nvar gnb_shortnick=\\'off\\'; //닉네임 말줄임(10자)을 on할지 off 할지. default는 off.\\n\\n\\nvar gnb_naverme_layer_open_callback = function(){\\n\\t   var naverLayerSize = gnbNaverMeLayer.getLayerSize();\\n\\t\\t\\n\\t\\tvar me_layers = document.getElementById(\"me_layers\");\\n\\t\\tme_layers.width=naverLayerSize.width;\\n\\t\\tme_layers.height=naverLayerSize.height;};\\n\\nvar gnb_naverme_layer_close_callback = function(){\\n\\t\\t\\n\\t\\t\\tvar me_layers = document.getElementById(\"me_layers\");\\n\\t\\t\\tme_layers.width=\"0\";\\n\\t\\t\\tme_layers.height=\"0\";};\\n</script> \\n  <div id=\"u_skip\"> \\n   <a href=\"#menu\" tabindex=\"1\"><span>메인 메뉴로 바로가기</span></a> \\n   <a href=\"#start\" tabindex=\"2\"><span>본문으로 바로가기</span></a> \\n  </div> \\n  <div id=\"header\"> \\n   <div class=\"snb_area\"> \\n    <div class=\"snb_inner\"> \\n     <div id=\"gnb_area\"> \\n      <div id=\"gnb\"> \\n       <script charset=\"EUC-KR\" type=\"text/javascript\">\\n\\t\\t\\t\\t\\tvar gnb_service = \"gnbtest\";\\n                    var gnb_template = location.protocol == \"http:\" ? \"gnb_quirks_euckr\" : \"gnb_utf8\" ;\\n\\t\\t\\t\\t\\tvar gnb_dark = false;\\n\\t\\t\\t\\t\\tvar gnb_brightness = 1;\\n\\t\\t\\t\\t\\tvar gnb_logout=encodeURIComponent(location.href);\\n\\t\\t\\t\\t\\tvar gnb_one_naver = 1;\\n\\t\\t\\t\\t\\t</script> \\n       <script type=\"text/javascript\" charset=\"utf-8\" src=\"https://ssl.pstatic.net/static.gn/templates/gnb_utf8.nhn?20230824\">\\n                    \\t\\t</script> \\n      </div> \\n     </div> \\n     <div class=\"sta\"> \\n      <h1 class=\"logo\"> <a href=\"https://www.naver.com/\" class=\"logo_naver\" onclick=\"clickcr(this, \\'STA.naver\\', \\'\\', \\'\\', event);\"><span class=\"blind\">네이버</span></a> <a href=\"/\" class=\"logo_service\" onclick=\"clickcr(this, \\'STA.finance\\', \\'\\', \\'\\', event);\"><span class=\"blind\">증권</span></a> </h1> \\n      <form name=\"search\" action=\"/search/search.naver\" method=\"get\" onsubmit=\"return delayed_submit(this)\" style=\"margin:0; padding:0;\"> \\n       <fieldset> \\n        <legend>검색</legend> \\n        <div class=\"snb_search_box\"> \\n         <div class=\"snb_search_box_sub\"> \\n          <input id=\"stock_items\" type=\"text\" title=\"검색\" name=\"query\" value=\"종목명&middot;지수명 입력\" accesskey=\"s\" class=\"snb_search_text snb_default\" autocomplete=\"off\" /> \\n          <a id=\"nautocomplete\" href=\"#\" onclick=\"return false\" class=\"btn_arrow\"><span class=\"blind\">자동완성 펼치기</span></a> \\n         </div> \\n         <div class=\"auto_area\"> \\n          <h2 class=\"blind\">자동완성</h2> \\n          <div id=\"autoFrame\" style=\"display: none;\"> \\n           <div class=\"wrap\" id=\"atcmp\" style=\"display:none;\"> \\n            <div class=\"wrap_in\"> \\n             <div class=\"words\"> \\n              <ul class=\"_resultBox\"> \\n               <li> <a href=\"#\" onclick=\"clickcr(this, \\'AUT.list\\', \\'\\', \\'\\', event); return false;\" class=\"_au_real_list\"> <span class=\"num _au_real_list\">@code@</span> <span class=\"_au_real_list\">@txt@</span> <span class=\"type _au_real_list\">@market@</span> </a> \\n                <div style=\"display:none\" class=\"_au_full\">\\n                 @full_txt@\\n                </div> \\n                <div style=\"display:none\" class=\"_au_code\">\\n                 @in_code@\\n                </div> \\n                <div style=\"display:none\" class=\"_au_name\">\\n                 @in_name@\\n                </div> \\n                <div style=\"display:none\" class=\"_au_link\">\\n                 @in_link@\\n                </div> \\n                <div style=\"display:none\" class=\"_au_market\">\\n                 @in_market@\\n                </div> </li> \\n              </ul> \\n             </div> \\n             <p class=\"func\"> <span><a href=\"#\" class=\"fire_event funoff\" onclick=\"clickcr(this, \\'AUT.x\\', \\'\\', \\'\\', event); smartSearch.unuse(); return false;\">기능끄기</a></span> </p> \\n            </div> \\n           </div> \\n           <!-- 현재 자동완성 기능을 사용하고 계십니다 --> \\n           <div class=\"wrap\" id=\"atcmpIng\" style=\"display:none;\"> \\n            <div class=\"wrap_in\"> \\n             <div class=\"words\"> \\n              <p class=\"msg\"> 현재 자동완성 기능을 사용하고 계십니다. </p> \\n             </div> \\n             <p class=\"func\"> <span><a href=\"#\" class=\"fire_event funoff\" onclick=\"clickcr(this, \\'AUT.x\\', \\'\\', \\'\\', event); smartSearch.unuse(); return false;\">기능끄기</a></span> </p> \\n            </div> \\n           </div> \\n           <!--// 현재 자동완성 기능을 사용하고 계십니다 --> \\n           <!-- 자동완성 기능이 활성화 --> \\n           <div class=\"wrap\" id=\"atcmpStart\" style=\"display:none;\"> \\n            <div class=\"wrap_in\"> \\n             <div class=\"words\"> \\n              <p class=\"msg\"> 자동완성 기능이 활성화되었습니다. </p> \\n             </div> \\n             <p class=\"func\"> <span><a href=\"#\" class=\"fire_event funoff\" onclick=\"clickcr(this, \\'AUT.x\\', \\'\\', \\'\\', event); smartSearch.unuse(); return false;\">기능끄기</a></span> <"
      ]
     },
     "execution_count": 33,
     "metadata": {},
     "output_type": "execute_result"
    },
    {
     "data": {
      "text/html": [
       "<b>limit_output extension: Maximum message size of 10000 exceeded with 134949 characters</b>"
      ]
     },
     "metadata": {},
     "output_type": "display_data"
    }
   ],
   "source": [
    "#1. req를 통해서 url 정보 요청\n",
    "nf = req.get(\"https://finance.naver.com/\")\n",
    "nf.text"
   ]
  },
  {
   "cell_type": "code",
   "execution_count": 35,
   "id": "b99ad026",
   "metadata": {
    "ExecuteTime": {
     "end_time": "2023-08-24T01:45:19.018106Z",
     "start_time": "2023-08-24T01:45:18.923136Z"
    },
    "hidden": true,
    "scrolled": true
   },
   "outputs": [
    {
     "data": {
      "text/plain": [
       "<html lang=\"ko\">\n",
       "<head>\n",
       "<title>네이버 증권</title>\n",
       "<meta content=\"text/html; charset=utf-8\" http-equiv=\"Content-Type\"/>\n",
       "<meta content=\"text/javascript\" http-equiv=\"Content-Script-Type\"/>\n",
       "<meta content=\"text/css\" http-equiv=\"Content-Style-Type\"/>\n",
       "<meta content=\"네이버 증권\" name=\"apple-mobile-web-app-title\"/>\n",
       "<meta content=\"네이버 증권\" property=\"og:title\"/>\n",
       "<meta content=\"https://ssl.pstatic.net/static/m/stock/im/2016/08/og_stock-200.png\" property=\"og:image\"/>\n",
       "<meta content=\"https://finance.naver.com\" property=\"og:url\"/>\n",
       "<meta content=\"국내 해외 증시 지수, 시장지표, 뉴스, 증권사 리서치 등 제공\" property=\"og:description\"/>\n",
       "<meta content=\"article\" property=\"og:type\"/>\n",
       "<meta content=\"\" property=\"og:article:thumbnailUrl\"/>\n",
       "<meta content=\"네이버 증권\" property=\"og:article:author\"/>\n",
       "<meta content=\"http://FINANCE.NAVER.COM\" property=\"og:article:author:url\"/>\n",
       "<link href=\"https://ssl.pstatic.net/imgstock/static.pc/20230808201105/css/finance_header.css\" rel=\"stylesheet\" type=\"text/css\"/>\n",
       "<link href=\"https://ssl.pstatic.net/imgstock/static.pc/20230808201105/css/finance.css\" rel=\"stylesheet\" type=\"text/css\"/>\n",
       "<link href=\"https://ssl.pstatic.net/imgstock/static.pc/20230808201105/css/newstock3.css\" rel=\"stylesheet\" type=\"text/css\"/>\n",
       "<script src=\"https://ssl.pstatic.net/imgstock/static.pc/20230808201105/js/jindo.min.ns.1.5.3.euckr.js\" type=\"text/javascript\"></script>\n",
       "<script src=\"https://ssl.pstatic.net/imgstock/static.pc/20230808201105/js/release/common.js\" type=\"text/javascript\"></script>\n",
       "<script src=\"https://ssl.pstatic.net/imgstock/static.pc/20230808201105/js/jindoComponent/jindo.Component.1.0.3.js\" type=\"text/javascript\"></script>\n",
       "<script src=\"https://ssl.pstatic.net/imgstock/static.pc/20230808201105/js/nhn.autocomplete.stock.js\" type=\"text/javascript\"></script>\n",
       "<script>\n",
       "\tvar ieVersion = (function () {\n",
       "        var version = -1;\n",
       "        if (\n",
       "          navigator.appName == 'Microsoft Internet Explorer' &&\n",
       "          navigator.userAgent.toLowerCase().indexOf('msie') != -1 &&\n",
       "          new RegExp('MSIE ([0-9]{1,}[\\./0-9]{0,})').exec(navigator.userAgent) != null\n",
       "        ) {\n",
       "          version = parseInt(RegExp.$1);\n",
       "        }\n",
       "        return version;\n",
       "      })();\n",
       "</script>\n",
       "<!-- smart channel 광고 -->\n",
       "<script async=\"\" src=\"https://ssl.pstatic.net/tveta/libs/glad/prod/gfp-core.js\">\n",
       "</script>\n",
       "<script type=\"text/javascript\">\n",
       "\t\t(function(){\n",
       "\t\t\tif (ieVersion === -1 || ieVersion > 10) {\n",
       "\t\t\t\twindow.gladsdk = window.gladsdk || { cmd: [] };\n",
       "\n",
       "\t\t\t\tgladsdk.cmd.push(function() {\n",
       "\t\t\t\t\t\tgladsdk.defineAdSlot({\n",
       "\t\t\t\t\t\t\tadUnitId: \"p_nf_stock\",\n",
       "\t\t\t\t\t\t\tadSlotElementId: \"_SmartChannelTopBanner\",\n",
       "\t\t\t\t\t\t\tuct: \"KR\",\n",
       "\t\t\t\t\t\t\tcustomParam: {\n",
       "\t\t\t\t\t\t\t\tcalp: \n",
       "\t\t\t\t\t\t\t\t\t\n",
       "\t\t\t\t\t\t\t\t\t\n",
       "\t\t\t\t\t\t\t\t\t\n",
       "\t\t\t\t\t\t\t\t\t\n",
       "\t\t\t\t\t\t\t\t\t\n",
       "\t\t\t\t\t\t\t\t\t\n",
       "\t\t\t\t\t\t\t\t\t\"home\"\n",
       "\t\t\t\t\t\t\t},\n",
       "\t\t\t\t\t\t});\n",
       "\n",
       "\n",
       "\n",
       "\t\t\t\t\t\tgladsdk.addEventListener(gladsdk.event.AD_LOADED, function(ad) {\n",
       "\t\t\t\t\t\t\t//console.log(gladsdk.event.AD_LOADED);\n",
       "\t\t\t\t\t\t});\n",
       "\t\t\t\t\t\tgladsdk.addEventListener(gladsdk.event.AD_CLICKED, function(ad) {\n",
       "\t\t\t\t\t\t\t//console.log(gladsdk.event.AD_CLICKED);\n",
       "\t\t\t\t\t\t});\n",
       "\t\t\t\t\t\tgladsdk.addEventListener(gladsdk.event.AD_IMPRESSED, function(ad) {\n",
       "\t\t\t\t\t\t\t//console.log(gladsdk.event.AD_IMPRESSED);\n",
       "\t\t\t\t\t\t});\n",
       "\t\t\t\t\t\tgladsdk.addEventListener(gladsdk.event.ERROR, function(ad, error) {\n",
       "\t\t\t\t\t\t\t//TODO: 오류 로깅처리\n",
       "\t\t\t\t\t\t\t//console.log(gladsdk.event.ERROR);\n",
       "\t\t\t\t\t\t});\n",
       "\t\t\t\t\t});\n",
       "\t\t\t}\n",
       "\t\t})();\n",
       "\t</script>\n",
       "<link href=\"https://ssl.pstatic.net/imgstock/favi/favicon.ico\" rel=\"shortcut icon\" type=\"image/x-icon\"/>\n",
       "<script type=\"text/javascript\">\n",
       "    (function(){\n",
       "\t\tdocument.write(\n",
       "\t\t\t\t[\n",
       "\t\t\t\t\t'<link rel=\"apple-touch-icon-precomposed\" href=\"https://ssl.pstatic.net/imgstock/favi/favicon-96x96.png\"/>',\n",
       "\t\t\t\t\t'<link rel=\"apple-touch-icon-precomposed\" sizes=\"180x180\" href=\"https://ssl.pstatic.net/imgstock/favi/favicon-180x180.png\"/>',\n",
       "\t\t\t\t\t'<link rel=\"apple-touch-icon-precomposed\" sizes=\"192x192\" href=\"https://ssl.pstatic.net/imgstock/favi/favicon-192x192.png\"/>',\n",
       "\t\t\t\t\t'<link rel=\"icon\" type=\"image/png\" sizes=\"16x16\" href=\"https://ssl.pstatic.net/imgstock/favi/favicon-16x16.png\"/>',\n",
       "\t\t\t\t\t'<link rel=\"icon\" type=\"image/png\" sizes=\"32x32\" href=\"https://ssl.pstatic.net/imgstock/favi/favicon-32x32.png\"/>',\n",
       "\t\t\t\t\t'<link rel=\"icon\" type=\"image/png\" sizes=\"96x96\" href=\"https://ssl.pstatic.net/imgstock/favi/favicon-96x96.png\"/>',\n",
       "\t\t\t\t\t'<link rel=\"icon\" type=\"image/png\" sizes=\"192x192\" href=\"https://ssl.pstatic.net/imgstock/favi/favicon-192x192.png\"/>'\n",
       "\t\t\t\t]\n",
       "\t\t\t.join('\\n')\n",
       "\t\t);\n",
       "    })();\n",
       "    </script>\n",
       "</head>\n",
       "<body onload=\"getGNB();\">\n",
       "<script type=\"text/javascript\">\n",
       "\n",
       "\tvar nclk_evt = 3;\n",
       "\tnclk_do();\n",
       "</script>\n",
       "<script type=\"text/javascript\">\n",
       "\n",
       "\n",
       "\n",
       "\n",
       "\n",
       "\n",
       "\n",
       "var nsc=\"finance.home\";\n",
       "\n",
       "\n",
       "var ccsrv=\"cc.naver.com\";\n",
       "\n",
       "\n",
       "\t\n",
       "\t\n",
       "\tvar gnb_service='finance';\n",
       "\t\n",
       "\n",
       "\n",
       "var gnb_logout=document.URL; //GNB에서 로그아웃 후 redirect 될 URL\n",
       "var gnb_searchbox='off'; //미니 검색창을 on 할지 off 할지. default는 off\n",
       "var gnb_shortnick='off'; //닉네임 말줄임(10자)을 on할지 off 할지. default는 off.\n",
       "\n",
       "\n",
       "var gnb_naverme_layer_open_callback = function(){\n",
       "\t   var naverLayerSize = gnbNaverMeLayer.getLayerSize();\n",
       "\t\t\n",
       "\t\tvar me_layers = document.getElementById(\"me_layers\");\n",
       "\t\tme_layers.width=naverLayerSize.width;\n",
       "\t\tme_layers.height=naverLayerSize.height;};\n",
       "\n",
       "var gnb_naverme_layer_close_callback = function(){\n",
       "\t\t\n",
       "\t\t\tvar me_layers = document.getElementById(\"me_layers\");\n",
       "\t\t\tme_layers.width=\"0\";\n",
       "\t\t\tme_layers.height=\"0\";};\n",
       "</script>\n",
       "<div id=\"u_skip\">\n",
       "<a href=\"#menu\" tabindex=\"1\"><span>메인 메뉴로 바로가기</span></a>\n",
       "<a href=\"#start\" tabindex=\"2\"><span>본문으로 바로가기</span></a>\n",
       "</div>\n",
       "<div id=\"header\">\n",
       "<div class=\"snb_area\">\n",
       "<div class=\"snb_inner\">\n",
       "<div id=\"gnb_area\">\n",
       "<div id=\"gnb\">\n",
       "<script charset=\"EUC-KR\" type=\"text/javascript\">\n",
       "\t\t\t\t\tvar gnb_service = \"gnbtest\";\n",
       "                    var gnb_template = location.protocol == \"http:\" ? \"gnb_quirks_euckr\" : \"gnb_utf8\" ;\n",
       "\t\t\t\t\tvar gnb_dark = false;\n",
       "\t\t\t\t\tvar gnb_brightness = 1;\n",
       "\t\t\t\t\tvar gnb_logout=encodeURIComponent(location.href);\n",
       "\t\t\t\t\tvar gnb_one_naver = 1;\n",
       "\t\t\t\t\t</script>\n",
       "<script charset=\"utf-8\" src=\"https://ssl.pstatic.net/static.gn/templates/gnb_utf8.nhn?20230824\" type=\"text/javascript\">\n",
       "</script>\n",
       "</div>\n",
       "</div>\n",
       "<div class=\"sta\">\n",
       "<h1 class=\"logo\"> <a class=\"logo_naver\" href=\"https://www.naver.com/\" onclick=\"clickcr(this, 'STA.naver', '', '', event);\"><span class=\"blind\">네이버</span></a> <a class=\"logo_service\" href=\"/\" onclick=\"clickcr(this, 'STA.finance', '', '', event);\"><span class=\"blind\">증권</span></a> </h1>\n",
       "<form action=\"/search/search.naver\" method=\"get\" name=\"search\" onsubmit=\"return delayed_submit(this)\" style=\"margin:0; padding:0;\">\n",
       "<fieldset>\n",
       "<legend>검색</legend>\n",
       "<div class=\"snb_search_box\">\n",
       "<div class=\"snb_search_box_sub\">\n",
       "<input accesskey=\"s\" autocomplete=\"off\" class=\"snb_search_text snb_default\" id=\"stock_items\" name=\"query\" title=\"검색\" type=\"text\" value=\"종목명·지수명 입력\"/>\n",
       "<a class=\"btn_arrow\" href=\"#\" id=\"nautocomplete\" onclick=\"return false\"><span class=\"blind\">자동완성 펼치기</span></a>\n",
       "</div>\n",
       "<div class=\"auto_area\">\n",
       "<h2 class=\"blind\">자동완성</h2>\n",
       "<div id=\"autoFrame\" style=\"display: none;\">\n",
       "<div class=\"wrap\" id=\"atcmp\" style=\"display:none;\">\n",
       "<div class=\"wrap_in\">\n",
       "<div class=\"words\">\n",
       "<ul class=\"_resultBox\">\n",
       "<li> <a class=\"_au_real_list\" href=\"#\" onclick=\"clickcr(this, 'AUT.list', '', '', event); return false;\"> <span class=\"num _au_real_list\">@code@</span> <span class=\"_au_real_list\">@txt@</span> <span class=\"type _au_real_list\">@market@</span> </a>\n",
       "<div class=\"_au_full\" style=\"display:none\">\n",
       "                 @full_txt@\n",
       "                </div>\n",
       "<div class=\"_au_code\" style=\"display:none\">\n",
       "                 @in_code@\n",
       "                </div>\n",
       "<div class=\"_au_name\" style=\"display:none\">\n",
       "                 @in_name@\n",
       "                </div>\n",
       "<div class=\"_au_link\" style=\"display:none\">\n",
       "                 @in_link@\n",
       "                </div>\n",
       "<div class=\"_au_market\" style=\"display:none\">\n",
       "                 @in_market@\n",
       "                </div> </li>\n",
       "</ul>\n",
       "</div>\n",
       "<p class=\"func\"> <span><a class=\"fire_event funoff\" href=\"#\" onclick=\"clickcr(this, 'AUT.x', '', '', event); smartSearch.unuse(); return false;\">기능끄기</a></span> </p>\n",
       "</div>\n",
       "</div>\n",
       "<!-- 현재 자동완성 기능을 사용하고 계십니다 -->\n",
       "<div class=\"wrap\" id=\"atcmpIng\" style=\"display:none;\">\n",
       "<div class=\"wrap_in\">\n",
       "<div class=\"words\">\n",
       "<p class=\"msg\"> 현재 자동완성 기능을 사용하고 계십니다. </p>\n",
       "</div>\n",
       "<p class=\"func\"> <span><a class=\"fire_event funoff\" href=\"#\" onclick=\"clickcr(this, 'AUT.x', '', '', event); smartSearch.unuse(); return false;\">기능끄기</a></span> </p>\n",
       "</div>\n",
       "</div>\n",
       "<!--// 현재 자동완성 기능을 사용하고 계십니다 -->\n",
       "<!-- 자동완성 기능이 활성화 -->\n",
       "<div class=\"wrap\" id=\"atcmpStart\" style=\"display:none;\">\n",
       "<div class=\"wrap_in\">\n",
       "<div class=\"words\">\n",
       "<p class=\"msg\"> 자동완성 기능이 활성화되었습니다. </p>\n",
       "</div>\n",
       "<p class=\"func\"> <span><a class=\"fire_event funoff\" href=\"#\" onclick=\"clickcr(this, 'AUT.x', '', '', event); smartSearch.unuse(); return false;\">기능끄기</a></span> </p>\n",
       "</div>\n",
       "</div>\n",
       "</div>\n",
       "</div>\n",
       "<button alt=\"검색\" class=\"snb_search_btn\" onclick=\"clickcr(this, 'STA.search', '', '', event);\" type=\"submit\"><span class=\"blind\">검색</span></button>\n",
       "<a class=\"snb_search_btn-total\" href=\"#\" onclick=\"itegrationSearch();clickcr(this, 'STA.nx', '', '', event);return false;\" target=\"_blank\">통합검색</a>\n",
       "</div>\n",
       "</fieldset>\n",
       "</form>\n",
       "</div>\n",
       "</div>\n",
       "</div>\n",
       "<div class=\"lnb_area\">\n",
       "<div class=\"lnb_inner\">\n",
       "<div id=\"menu\">\n",
       "<ul class=\"menu\">\n",
       "<li class=\"m1 first on\"><a href=\"/\" onclick=\"clickcr(this, 'LNB.home', '', '', event);\"><span class=\"tx\">증권 홈</span></a></li>\n",
       "<li class=\"m2\"><a href=\"/sise/\" onclick=\"clickcr(this, 'LNB.sise', '', '', event);\"><span class=\"tx\">국내증시</span></a></li>\n",
       "<li class=\"m3\"><a href=\"/world/\" onclick=\"clickcr(this, 'LNB.world', '', '', event);\"><span class=\"tx\">해외증시</span></a></li>\n",
       "<li class=\"m4\"><a href=\"/marketindex/\" onclick=\"clickcr(this, 'LNB.market', '', '', event);\"><span class=\"tx\">시장지표</span></a></li>\n",
       "<li class=\"m6\"><a href=\"/research/\" onclick=\"clickcr(this, 'LNB.research', '', '', event);\"><span class=\"tx\">리서치</span></a></li>\n",
       "<li class=\"m7\"><a href=\"/news/\"><span class=\"tx\">뉴스</span></a></li>\n",
       "<li class=\"m8\"><a href=\"/mystock/\" onclick=\"clickcr(this, 'LNB.mystock', '', '', event);\"><span class=\"tx\">MY</span></a></li>\n",
       "</ul>\n",
       "</div>\n",
       "</div>\n",
       "</div>\n",
       "<script type=\"text/JavaScript\">\n",
       "\t\t/* lcs 집계 */\n",
       "        ;(function(){\n",
       "            va"
      ]
     },
     "execution_count": 35,
     "metadata": {},
     "output_type": "execute_result"
    },
    {
     "data": {
      "text/html": [
       "<b>limit_output extension: Maximum message size of 10000 exceeded with 112966 characters</b>"
      ]
     },
     "metadata": {},
     "output_type": "display_data"
    }
   ],
   "source": [
    "nfsoup = bs(nf.text, \"lxml\")\n",
    "nfsoup"
   ]
  },
  {
   "cell_type": "code",
   "execution_count": 54,
   "id": "a7884c18",
   "metadata": {
    "ExecuteTime": {
     "end_time": "2023-08-24T02:02:51.355001Z",
     "start_time": "2023-08-24T02:02:51.343937Z"
    },
    "collapsed": true,
    "hidden": true,
    "lang": "en"
   },
   "outputs": [
    {
     "data": {
      "text/plain": [
       "[<a href=\"/item/main.naver?code=252670\" onclick=\"clickcr(this, 'spe.slist', '252670', '1', event);\">KODEX 200선물인버스2X</a>,\n",
       " <a href=\"/item/main.naver?code=073640\" onclick=\"clickcr(this, 'spe.slist', '073640', '2', event);\">테라사이언스</a>,\n",
       " <a href=\"/item/main.naver?code=046970\" onclick=\"clickcr(this, 'spe.slist', '046970', '3', event);\">우리로</a>,\n",
       " <a href=\"/item/main.naver?code=251340\" onclick=\"clickcr(this, 'spe.slist', '251340', '4', event);\">KODEX 코스닥150선물인버스</a>,\n",
       " <a href=\"/item/main.naver?code=267320\" onclick=\"clickcr(this, 'spe.slist', '267320', '5', event);\">나인테크</a>,\n",
       " <a href=\"/item/main.naver?code=277410\" onclick=\"clickcr(this, 'spe.slist', '277410', '6', event);\">인산가</a>,\n",
       " <a href=\"/item/main.naver?code=203650\" onclick=\"clickcr(this, 'spe.slist', '203650', '7', event);\">드림시큐리티</a>,\n",
       " <a href=\"/item/main.naver?code=041020\" onclick=\"clickcr(this, 'spe.slist', '041020', '8', event);\">폴라리스오피스</a>,\n",
       " <a href=\"/item/main.naver?code=214680\" onclick=\"clickcr(this, 'spe.slist', '214680', '9', event);\">디알텍</a>,\n",
       " <a href=\"/item/main.naver?code=025320\" onclick=\"clickcr(this, 'spe.slist', '025320', '10', event);\">시노펙스</a>,\n",
       " <a href=\"/item/main.naver?code=122630\" onclick=\"clickcr(this, 'spe.slist', '122630', '11', event);\">KODEX 레버리지</a>,\n",
       " <a href=\"/item/main.naver?code=086960\" onclick=\"clickcr(this, 'spe.slist', '086960', '12', event);\">MDS테크</a>,\n",
       " <a href=\"/item/main.naver?code=004100\" onclick=\"clickcr(this, 'spe.slist', '004100', '13', event);\">태양금속</a>,\n",
       " <a href=\"/item/main.naver?code=418250\" onclick=\"clickcr(this, 'spe.slist', '418250', '14', event);\">시큐레터</a>,\n",
       " <a href=\"/item/main.naver?code=424960\" onclick=\"clickcr(this, 'spe.slist', '424960', '15', event);\">스마트레이더시스템</a>]"
      ]
     },
     "execution_count": 54,
     "metadata": {},
     "output_type": "execute_result"
    }
   ],
   "source": [
    "#3. 변형된 데이터에서 필요한 데이터를 수집\n",
    "# 팁! 부모 자식을 의미하는 자식 선택자를 활용\n",
    "# 수집하고자 하는 요소가 아이디, 클래스 구분자가 없다면 반드시 \n",
    "# 부모태그가 구분자가 존재 할 때까지 검사를 진행\n",
    "# 구분자가 없는 경우에는 정확하지 않을 확률이 높음\n",
    "#_topItems1 > tr:nth-child(1) > th > a\n",
    "\n",
    "\n",
    "nftitle=nfsoup.select(\"tbody#_topItems1>tr>th>a\")\n",
    "nftitle"
   ]
  },
  {
   "cell_type": "code",
   "execution_count": 55,
   "id": "b7b497ce",
   "metadata": {
    "ExecuteTime": {
     "end_time": "2023-08-24T02:03:03.114917Z",
     "start_time": "2023-08-24T02:03:03.110555Z"
    },
    "code_folding": [],
    "collapsed": true,
    "hidden": true,
    "lang": "en"
   },
   "outputs": [
    {
     "name": "stdout",
     "output_type": "stream",
     "text": [
      "KODEX 200선물인버스2X\n",
      "테라사이언스\n",
      "우리로\n",
      "KODEX 코스닥150선물인버스\n",
      "나인테크\n",
      "인산가\n",
      "드림시큐리티\n",
      "폴라리스오피스\n",
      "디알텍\n",
      "시노펙스\n",
      "KODEX 레버리지\n",
      "MDS테크\n",
      "태양금속\n",
      "시큐레터\n",
      "스마트레이더시스템\n"
     ]
    }
   ],
   "source": [
    "for i in nftitle:\n",
    "    print(i.text)"
   ]
  },
  {
   "cell_type": "code",
   "execution_count": 56,
   "id": "2301e5ab",
   "metadata": {
    "ExecuteTime": {
     "end_time": "2023-08-24T02:20:39.433348Z",
     "start_time": "2023-08-24T02:20:39.429910Z"
    },
    "hidden": true
   },
   "outputs": [],
   "source": [
    "# 선택자를 한번에 가지고 오는 방법\n",
    "# 개발자도구에서 요소에 우클릭 -> copy -> copyselector\n",
    "# 주의점! 반드시 하나만 가져온다.\n",
    "# 복수개가 필요할 경우에는 선택자를 수정(ex nth-child())"
   ]
  },
  {
   "cell_type": "code",
   "execution_count": null,
   "id": "d826685b",
   "metadata": {
    "hidden": true
   },
   "outputs": [],
   "source": []
  },
  {
   "cell_type": "code",
   "execution_count": null,
   "id": "363e34f4",
   "metadata": {
    "hidden": true
   },
   "outputs": [],
   "source": []
  },
  {
   "cell_type": "code",
   "execution_count": null,
   "id": "5f7b4382",
   "metadata": {
    "hidden": true
   },
   "outputs": [],
   "source": []
  },
  {
   "cell_type": "code",
   "execution_count": null,
   "id": "a419422c",
   "metadata": {
    "hidden": true
   },
   "outputs": [],
   "source": []
  },
  {
   "cell_type": "code",
   "execution_count": null,
   "id": "92ef60e7",
   "metadata": {
    "hidden": true
   },
   "outputs": [],
   "source": []
  },
  {
   "cell_type": "code",
   "execution_count": null,
   "id": "50997e21",
   "metadata": {
    "hidden": true
   },
   "outputs": [],
   "source": []
  },
  {
   "cell_type": "code",
   "execution_count": null,
   "id": "e0769f66",
   "metadata": {
    "hidden": true
   },
   "outputs": [],
   "source": []
  },
  {
   "cell_type": "code",
   "execution_count": null,
   "id": "a88173a4",
   "metadata": {
    "hidden": true
   },
   "outputs": [],
   "source": []
  },
  {
   "cell_type": "code",
   "execution_count": null,
   "id": "617d5f0c",
   "metadata": {
    "hidden": true
   },
   "outputs": [],
   "source": []
  },
  {
   "cell_type": "code",
   "execution_count": null,
   "id": "de8fb1f7",
   "metadata": {
    "hidden": true
   },
   "outputs": [],
   "source": []
  },
  {
   "cell_type": "code",
   "execution_count": null,
   "id": "b066d32e",
   "metadata": {
    "hidden": true
   },
   "outputs": [],
   "source": []
  },
  {
   "cell_type": "code",
   "execution_count": null,
   "id": "33ba2364",
   "metadata": {
    "hidden": true
   },
   "outputs": [],
   "source": []
  },
  {
   "cell_type": "code",
   "execution_count": null,
   "id": "5136af2e",
   "metadata": {
    "hidden": true
   },
   "outputs": [],
   "source": []
  },
  {
   "cell_type": "code",
   "execution_count": null,
   "id": "13dd443e",
   "metadata": {
    "hidden": true
   },
   "outputs": [],
   "source": []
  }
 ],
 "metadata": {
  "hide_input": false,
  "kernelspec": {
   "display_name": "Python 3 (ipykernel)",
   "language": "python",
   "name": "python3"
  },
  "language_info": {
   "codemirror_mode": {
    "name": "ipython",
    "version": 3
   },
   "file_extension": ".py",
   "mimetype": "text/x-python",
   "name": "python",
   "nbconvert_exporter": "python",
   "pygments_lexer": "ipython3",
   "version": "3.11.4"
  },
  "nbTranslate": {
   "displayLangs": [
    "*"
   ],
   "hotkey": "alt-t",
   "langInMainMenu": true,
   "sourceLang": "en",
   "targetLang": "fr",
   "useGoogleTranslate": true
  },
  "toc": {
   "base_numbering": 1,
   "nav_menu": {},
   "number_sections": true,
   "sideBar": true,
   "skip_h1_title": false,
   "title_cell": "Table of Contents",
   "title_sidebar": "Contents",
   "toc_cell": false,
   "toc_position": {},
   "toc_section_display": true,
   "toc_window_display": false
  },
  "varInspector": {
   "cols": {
    "lenName": 16,
    "lenType": 16,
    "lenVar": 40
   },
   "kernels_config": {
    "python": {
     "delete_cmd_postfix": "",
     "delete_cmd_prefix": "del ",
     "library": "var_list.py",
     "varRefreshCmd": "print(var_dic_list())"
    },
    "r": {
     "delete_cmd_postfix": ") ",
     "delete_cmd_prefix": "rm(",
     "library": "var_list.r",
     "varRefreshCmd": "cat(var_dic_list()) "
    }
   },
   "types_to_exclude": [
    "module",
    "function",
    "builtin_function_or_method",
    "instance",
    "_Feature"
   ],
   "window_display": false
  }
 },
 "nbformat": 4,
 "nbformat_minor": 5
}
