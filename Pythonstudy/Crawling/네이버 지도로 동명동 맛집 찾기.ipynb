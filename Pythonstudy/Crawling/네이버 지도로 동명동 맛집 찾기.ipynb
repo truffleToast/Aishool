{
 "cells": [
  {
   "cell_type": "code",
   "execution_count": 185,
   "id": "a0656c9e",
   "metadata": {
    "ExecuteTime": {
     "end_time": "2023-08-29T07:02:33.272325Z",
     "start_time": "2023-08-29T07:02:33.265312Z"
    }
   },
   "outputs": [],
   "source": [
    "from selenium import webdriver as wb\n",
    "from selenium.webdriver.common.by import By\n",
    "from selenium.webdriver.common.keys import Keys\n",
    "import time"
   ]
  },
  {
   "cell_type": "code",
   "execution_count": 208,
   "id": "9ea04885",
   "metadata": {
    "ExecuteTime": {
     "end_time": "2023-08-29T08:27:53.012696Z",
     "start_time": "2023-08-29T08:27:49.543792Z"
    }
   },
   "outputs": [],
   "source": [
    "#1. 크롬드라이버를 실행하여 네이버 지도 사이트로 이동\n",
    "driver = wb.Chrome()\n",
    "driver.get(\"https:map.naver.com/p\")"
   ]
  },
  {
   "cell_type": "code",
   "execution_count": 98,
   "id": "da5d2756",
   "metadata": {
    "ExecuteTime": {
     "end_time": "2023-08-29T01:31:21.226591Z",
     "start_time": "2023-08-29T01:31:20.965826Z"
    }
   },
   "outputs": [],
   "source": [
    "# 크롬 드라이버로 동명동 회식 검색하기\n",
    "search =driver.find_element(By.CSS_SELECTOR, \".input_search\")\n",
    "search.send_keys(\"동명동 회식\")\n",
    "search.send_keys(Keys.ENTER)"
   ]
  },
  {
   "cell_type": "code",
   "execution_count": 80,
   "id": "ce0f1b5e",
   "metadata": {
    "ExecuteTime": {
     "end_time": "2023-08-29T01:27:11.417228Z",
     "start_time": "2023-08-29T01:27:11.413509Z"
    }
   },
   "outputs": [],
   "source": [
    "# 미미원을 클릭해서 세부정보를 조회\n",
    "# 화면상에 데이터가 출력은 되는데 조작이 안될 때에는 iframe을 검사해라\n",
    "# 1. request는 iframe의 scf를 찾아가서 데이터 수집\n",
    "# 2. selenium에서는 현재 컴퓨터가 바라보고있는 html창을 변경"
   ]
  },
  {
   "cell_type": "code",
   "execution_count": 99,
   "id": "709db13b",
   "metadata": {
    "ExecuteTime": {
     "end_time": "2023-08-29T01:31:27.947159Z",
     "start_time": "2023-08-29T01:31:27.805149Z"
    }
   },
   "outputs": [],
   "source": [
    "# 컴퓨터에게 바라보고 있는 창을 원하는 iframe으로 변경\n",
    "# frame을 변경할 때는 switch_to.frame(\"iframe의 id\")\n",
    "driver.switch_to.frame(\"searchIframe\")\n",
    "title = driver.find_elements(By.CSS_SELECTOR, \".place_bluelink.YwYLL\")\n",
    "title[0].click()"
   ]
  },
  {
   "cell_type": "code",
   "execution_count": 103,
   "id": "baa69f49",
   "metadata": {
    "ExecuteTime": {
     "end_time": "2023-08-29T01:36:39.172773Z",
     "start_time": "2023-08-29T01:36:34.094677Z"
    }
   },
   "outputs": [
    {
     "name": "stdout",
     "output_type": "stream",
     "text": [
      "비치대게\n"
     ]
    }
   ],
   "source": [
    "# 상세정보에서 가게 이름정보 수집\n",
    "#iframe에서 iframe으로 바로 이동은 불가능\n",
    "driver.switch_to.default_content()\n",
    "time.sleep(5)\n",
    "driver.switch_to.frame(\"entryIframe\")\n",
    "sikdang = driver.find_element(By.CSS_SELECTOR, \".Fc1rA\")\n",
    "print(sikdang.text)"
   ]
  },
  {
   "cell_type": "code",
   "execution_count": 105,
   "id": "d896a6c5",
   "metadata": {
    "ExecuteTime": {
     "end_time": "2023-08-29T01:43:52.831667Z",
     "start_time": "2023-08-29T01:43:49.582182Z"
    }
   },
   "outputs": [
    {
     "name": "stdout",
     "output_type": "stream",
     "text": [
      "동명항대게마을\n"
     ]
    }
   ],
   "source": [
    "# 두번 째 가게 나 자동화를 위해서는 for문 이나 while문을 사용하는게 좋아보임\n",
    "ts3 =time.sleep(3)\n",
    "driver.switch_to.default_content()\n",
    "ts3\n",
    "driver.switch_to.frame(\"searchIframe\")\n",
    "ts3\n",
    "title = driver.find_elements(By.CSS_SELECTOR, \".place_bluelink.YwYLL\")\n",
    "title[1].click()\n",
    "ts3\n",
    "driver.switch_to.default_content()\n",
    "ts3\n",
    "driver.switch_to.frame(\"entryIframe\")\n",
    "sikudan = driver.find_element(By.CSS_SELECTOR, \".Fc1rA\")\n",
    "print(sikudan.text)\n",
    "    \n",
    "    \n",
    "    "
   ]
  },
  {
   "cell_type": "code",
   "execution_count": 258,
   "id": "6f20f808",
   "metadata": {
    "ExecuteTime": {
     "end_time": "2023-08-29T10:45:31.373190Z",
     "start_time": "2023-08-29T10:45:28.679879Z"
    }
   },
   "outputs": [],
   "source": [
    "# 셀 합치기\n",
    "# import하기\n",
    "from selenium import webdriver as wb\n",
    "from selenium.webdriver.common.by import By\n",
    "from selenium.webdriver.common.keys import Keys\n",
    "import time\n",
    "import pandas as pd\n",
    "\n",
    "driver = wb.Chrome()\n",
    "driver\n",
    "driver.get(\"https:map.naver.com/p\")"
   ]
  },
  {
   "cell_type": "code",
   "execution_count": 259,
   "id": "4d4d6e58",
   "metadata": {
    "ExecuteTime": {
     "end_time": "2023-08-29T10:45:43.366134Z",
     "start_time": "2023-08-29T10:45:40.150439Z"
    },
    "run_control": {
     "marked": true
    }
   },
   "outputs": [],
   "source": [
    "# 동명동 회식 검색\n",
    "search =driver.find_element(By.CSS_SELECTOR, \".input_search\")\n",
    "search.send_keys(\"동명동 회식\")\n",
    "search.send_keys(Keys.ENTER)\n",
    "time.sleep(3)"
   ]
  },
  {
   "cell_type": "code",
   "execution_count": 260,
   "id": "ec8ac0ba",
   "metadata": {
    "ExecuteTime": {
     "end_time": "2023-08-29T10:45:51.930157Z",
     "start_time": "2023-08-29T10:45:48.893509Z"
    }
   },
   "outputs": [],
   "source": [
    "# 컴퓨터에게 바라보고 있는 창을 원하는 iframe으로 변경\n",
    "# frame을 변경할 때는 switch_to.frame(\"iframe의 id\")\n",
    "driver.switch_to.frame(\"searchIframe\")\n",
    "time.sleep(3)"
   ]
  },
  {
   "cell_type": "code",
   "execution_count": 261,
   "id": "7ddddb07",
   "metadata": {
    "ExecuteTime": {
     "end_time": "2023-08-29T10:45:57.295912Z",
     "start_time": "2023-08-29T10:45:55.093789Z"
    }
   },
   "outputs": [],
   "source": [
    "# 첫 페이지에서\n",
    "# 다음버튼의 값을 먼저 가져오기\n",
    "arrow_list = driver.find_elements(By.CSS_SELECTOR, '#app-root > div > div.XUrfU > div.zRM9F > a')\n",
    "num = len(arrow_list)\n",
    "pages = num - 2\n",
    "flag = 0\n",
    "time.sleep(2)\n",
    "daum_btn = driver.find_element(By.CSS_SELECTOR, \"#app-root > div > div.XUrfU > div.zRM9F > a:nth-child(\"+str(num)+\") > svg\")\n",
    "print(num, pages)\n",
    "\n",
    "# ifame내에서 스크롤이 허락되는 부분이 다르므로 클릭을 해야한다.\n",
    "driver.find_element(By.CSS_SELECTOR,\".XUrfU\").click()"
   ]
  },
  {
   "cell_type": "code",
   "execution_count": 265,
   "id": "454ee789",
   "metadata": {
    "ExecuteTime": {
     "end_time": "2023-08-29T11:36:37.104504Z",
     "start_time": "2023-08-29T11:22:42.262734Z"
    },
    "scrolled": true
   },
   "outputs": [
    {
     "name": "stdout",
     "output_type": "stream",
     "text": [
      "5 3\n",
      "미미원\n",
      "황톳길\n",
      "RONNIQUE\n",
      "달곰식당\n",
      "알랭\n",
      "동명사랑채\n",
      "가원\n",
      "시스살롱\n",
      "동명로15\n",
      "칠복계\n",
      "엄마네돼지찌개\n",
      "나주식당\n",
      "소뇨\n",
      "바른초밥 두암점\n",
      "열도지\n",
      "민속촌\n",
      "맛삼\n",
      "청춘덮밥\n",
      "밤실마을\n",
      "바리에\n",
      "광주보쌈\n",
      "장독대\n",
      "소맥베이커리\n",
      "동명동 나른한 오후\n",
      "아카이타코\n",
      "황솔촌 충장점\n",
      "유명회관\n",
      "평화식당\n",
      "해남식당\n",
      "테스타\n",
      "박순자 녹두집\n",
      "사이공장\n",
      "어니스트식스티\n",
      "퍼스트네팔 광주본점\n",
      "1960청원모밀\n",
      "애슐리퀸즈 NC 충장점\n",
      "한옥식당\n",
      "에머이 광주충장로점\n",
      "말리화반점\n",
      "양인제과\n",
      "등촌칼국수\n",
      "칠우불고기 본점\n",
      "샤브향 광주문화전당점\n",
      "장모사랑\n",
      "인촌\n",
      "그라제1985\n",
      "보광옥\n",
      "토라네코\n",
      "다정푸드 뒤집고\n",
      "돈일촌\n",
      "2가 끝났습니다.\n",
      "마한지\n",
      "거목한정식\n",
      "무진장 떡볶이\n",
      "영암빈대떡\n",
      "동진식육식당\n",
      "제주덕구 광주 동명동점\n",
      "고려조삼계탕 금남점\n",
      "남동숯불생갈비\n",
      "대인시장독도횟집\n",
      "료코\n",
      "관지리\n",
      "수정식당\n",
      "올능이능이버섯백숙계림점\n",
      "구수숯불갈비\n",
      "직화부심\n",
      "광양 숯불구이 지산동점\n",
      "빨봉분식 충장로점\n",
      "송가네\n",
      "나산식당\n",
      "두암골풍천장어\n",
      "만계치킨 조대본점\n",
      "BHC치킨 광주금남로27번가점\n",
      "아리랑하우스\n",
      "삼정골\n",
      "쌍학\n",
      "이비가짬뽕 광주두암점\n",
      "이씨네오이시카레\n",
      "충장로 어나더키친 피터테이블\n",
      "동명이네\n",
      "이조감자탕\n",
      "김가원\n",
      "득량만횟집\n",
      "남원추어탕\n",
      "복록수\n",
      "완도바다\n",
      "파인트리\n",
      "새마을식당 광주충장로점 직화\n",
      "계절따라\n",
      "해남식당\n",
      "계림동나주곰탕\n",
      "A.C.C 회참치\n",
      "청진동해장국\n",
      "굴마을\n",
      "더빌리진\n",
      "한성일식\n",
      "OMG ghost PUB\n",
      "진도섬마을\n",
      "한국별관 본점\n",
      "정원\n",
      "담양참숯돼지갈비떡갈비\n",
      "3가 끝났습니다.\n",
      "부부식당 국밥 순대\n",
      "춘부집 광주산수점\n",
      "최씨부엌족발 두암점\n",
      "하동정\n",
      "양림148\n",
      "춘자생태탕\n",
      "동방삼겹\n",
      "파스쿠찌 광주충장점\n",
      "동보성\n",
      "지란지교\n",
      "돈구이불났네\n",
      "만년식당\n",
      "달빛\n",
      "네고치킨\n",
      "맷돌영양두유\n",
      "비아돼지찌개 산수본점\n",
      "북동가든\n",
      "일등회관\n",
      "오매치킨\n",
      "더33갈비\n",
      "동해바다\n",
      "켈리오켈리\n",
      "장원흑돼지숯불갈비\n",
      "양가네\n",
      "소반\n",
      "섬마을\n",
      "고사바베큐광주점\n",
      "4가 끝났습니다.\n",
      "3 2\n"
     ]
    }
   ],
   "source": [
    "# 셀 합치기\n",
    "# import하기\n",
    "from selenium import webdriver as wb\n",
    "from selenium.webdriver.common.by import By\n",
    "from selenium.webdriver.common.keys import Keys\n",
    "import time\n",
    "import pandas as pd\n",
    "# driver를 통해 네이버지도 접속\n",
    "driver = wb.Chrome()\n",
    "driver\n",
    "driver.get(\"https:map.naver.com/p\")\n",
    "# 동명동 회식 검색\n",
    "search =driver.find_element(By.CSS_SELECTOR, \".input_search\")\n",
    "search.send_keys(\"동명동 회식\")\n",
    "search.send_keys(Keys.ENTER)\n",
    "time.sleep(3) # 환경이 느리므로 time.sleep()\n",
    "sikudan_list = [] # 원하는 리스트,  여기서는 식당 리스트\n",
    "# 컴퓨터에게 바라보고 있는 창을 원하는 iframe으로 변경\n",
    "# frame을 변경할 때는 switch_to.frame(\"iframe의 id\")\n",
    "driver.switch_to.frame(\"searchIframe\")\n",
    "time.sleep(3)\n",
    "\n",
    "# 첫 페이지에서\n",
    "# 다음버튼의 값을 먼저 가져오기\n",
    "arrow_list = driver.find_elements(By.CSS_SELECTOR, '#app-root > div > div.XUrfU > div.zRM9F > a')\n",
    "num = len(arrow_list)\n",
    "pages = num - 2\n",
    "flag = 0\n",
    "time.sleep(2)\n",
    "daum_btn = driver.find_element(By.CSS_SELECTOR, \"#app-root > div > div.XUrfU > div.zRM9F > a:nth-child(\"+str(num)+\") >\") #버튼의 값\n",
    "print(num, pages) # 아래 길이와 실제 페이지 수 출력\n",
    "# while 문 시작\n",
    "while True:\n",
    "    driver.find_element(By.CSS_SELECTOR,\".XUrfU\").click()\n",
    "    body = driver.find_element(By.CSS_SELECTOR, \"body\")\n",
    "    for i in range(10): #페이지의 크기가 다르므로 안전하게 10번\n",
    "        body.send_keys(Keys.END)\n",
    "        time.sleep(1)\n",
    "        # 한번 할 때 마다 1초의 쉬는 시간\n",
    "    title = driver.find_elements(By.CSS_SELECTOR, \".place_bluelink.YwYLL\")\n",
    "    # 다 내린다음 타이틀을 선언후 시작\n",
    "    for j in title:\n",
    "        j.click() #title의 각 요소를 클릭\n",
    "        time.sleep(3) \n",
    "        driver.switch_to.default_content() # 아이프레임에서 메인으로 이동\n",
    "        driver.switch_to.frame(\"entryIframe\") # 새로운 아이프레임 창\n",
    "        sikudan = driver.find_element(By.CSS_SELECTOR, \".Fc1rA\") # 이름 가져오고 담기\n",
    "        print(sikudan.text) #테스트용 print\n",
    "        sikudan_list.append(sikudan.text) #data를 담기위해 append\n",
    "        driver.switch_to.default_content() # 메인으로 이동\n",
    "        time.sleep(3)\n",
    "        driver.switch_to.frame(\"searchIframe\")\n",
    "    #for 문 끝나면 daum 버튼 누르기\n",
    "    daum_btn.click()\n",
    "    flag += 1\n",
    "    print(f'{flag}페이지가 끝났습니다.')\n",
    "    if flag > pages-1:\n",
    "        print(flag, pages-1)\n",
    "        break\n",
    "# 이 셀에서는 최대 5페이지까지만 가능함"
   ]
  },
  {
   "cell_type": "code",
   "execution_count": 266,
   "id": "a05582fb",
   "metadata": {
    "ExecuteTime": {
     "end_time": "2023-08-29T11:38:01.469431Z",
     "start_time": "2023-08-29T11:38:01.434422Z"
    }
   },
   "outputs": [
    {
     "data": {
      "text/html": [
       "<div>\n",
       "<style scoped>\n",
       "    .dataframe tbody tr th:only-of-type {\n",
       "        vertical-align: middle;\n",
       "    }\n",
       "\n",
       "    .dataframe tbody tr th {\n",
       "        vertical-align: top;\n",
       "    }\n",
       "\n",
       "    .dataframe thead th {\n",
       "        text-align: right;\n",
       "    }\n",
       "</style>\n",
       "<table border=\"1\" class=\"dataframe\">\n",
       "  <thead>\n",
       "    <tr style=\"text-align: right;\">\n",
       "      <th></th>\n",
       "      <th>식당 리스트</th>\n",
       "    </tr>\n",
       "  </thead>\n",
       "  <tbody>\n",
       "    <tr>\n",
       "      <th>0</th>\n",
       "      <td>미미원</td>\n",
       "    </tr>\n",
       "    <tr>\n",
       "      <th>1</th>\n",
       "      <td>황톳길</td>\n",
       "    </tr>\n",
       "    <tr>\n",
       "      <th>2</th>\n",
       "      <td>RONNIQUE</td>\n",
       "    </tr>\n",
       "    <tr>\n",
       "      <th>3</th>\n",
       "      <td>달곰식당</td>\n",
       "    </tr>\n",
       "    <tr>\n",
       "      <th>4</th>\n",
       "      <td>알랭</td>\n",
       "    </tr>\n",
       "    <tr>\n",
       "      <th>...</th>\n",
       "      <td>...</td>\n",
       "    </tr>\n",
       "    <tr>\n",
       "      <th>122</th>\n",
       "      <td>장원흑돼지숯불갈비</td>\n",
       "    </tr>\n",
       "    <tr>\n",
       "      <th>123</th>\n",
       "      <td>양가네</td>\n",
       "    </tr>\n",
       "    <tr>\n",
       "      <th>124</th>\n",
       "      <td>소반</td>\n",
       "    </tr>\n",
       "    <tr>\n",
       "      <th>125</th>\n",
       "      <td>섬마을</td>\n",
       "    </tr>\n",
       "    <tr>\n",
       "      <th>126</th>\n",
       "      <td>고사바베큐광주점</td>\n",
       "    </tr>\n",
       "  </tbody>\n",
       "</table>\n",
       "<p>127 rows × 1 columns</p>\n",
       "</div>"
      ],
      "text/plain": [
       "        식당 리스트\n",
       "0          미미원\n",
       "1          황톳길\n",
       "2     RONNIQUE\n",
       "3         달곰식당\n",
       "4           알랭\n",
       "..         ...\n",
       "122  장원흑돼지숯불갈비\n",
       "123        양가네\n",
       "124         소반\n",
       "125        섬마을\n",
       "126   고사바베큐광주점\n",
       "\n",
       "[127 rows x 1 columns]"
      ]
     },
     "execution_count": 266,
     "metadata": {},
     "output_type": "execute_result"
    }
   ],
   "source": [
    "dic = {\"식당 리스트\" : sikudan_list}\n",
    "pd.DataFrame(dic)"
   ]
  },
  {
   "cell_type": "code",
   "execution_count": 314,
   "id": "68e94ef9",
   "metadata": {
    "ExecuteTime": {
     "end_time": "2023-08-30T02:14:31.655735Z",
     "start_time": "2023-08-30T02:00:33.547019Z"
    },
    "scrolled": true
   },
   "outputs": [
    {
     "name": "stdout",
     "output_type": "stream",
     "text": [
      "미미원\n",
      "황톳길\n",
      "RONNIQUE\n",
      "달곰식당\n",
      "알랭\n",
      "동명사랑채\n",
      "가원\n",
      "시스살롱\n",
      "동명로15\n",
      "칠복계\n",
      "엄마네돼지찌개\n",
      "나주식당\n",
      "소뇨\n",
      "바른초밥 두암점\n",
      "열도지\n",
      "민속촌\n",
      "맛삼\n",
      "청춘덮밥\n",
      "밤실마을\n",
      "바리에\n",
      "광주보쌈\n",
      "장독대\n",
      "소맥베이커리\n",
      "동명동 나른한 오후\n",
      "아카이타코\n",
      "황솔촌 충장점\n",
      "유명회관\n",
      "평화식당\n",
      "해남식당\n",
      "테스타\n",
      "박순자 녹두집\n",
      "사이공장\n",
      "어니스트식스티\n",
      "퍼스트네팔 광주본점\n",
      "1960청원모밀\n",
      "애슐리퀸즈 NC 충장점\n",
      "한옥식당\n",
      "에머이 광주충장로점\n",
      "말리화반점\n",
      "양인제과\n",
      "등촌칼국수\n",
      "칠우불고기 본점\n",
      "샤브향 광주문화전당점\n",
      "장모사랑\n",
      "인촌\n",
      "그라제1985\n",
      "보광옥\n",
      "토라네코\n",
      "다정푸드 뒤집고\n",
      "돈일촌\n",
      "1페이지가 끝났습니다.\n",
      "마한지\n",
      "거목한정식\n",
      "무진장 떡볶이\n",
      "영암빈대떡\n",
      "동진식육식당\n",
      "제주덕구 광주 동명동점\n",
      "고려조삼계탕 금남점\n",
      "남동숯불생갈비\n",
      "대인시장독도횟집\n",
      "료코\n",
      "관지리\n",
      "수정식당\n",
      "올능이능이버섯백숙계림점\n",
      "구수숯불갈비\n",
      "직화부심\n",
      "광양 숯불구이 지산동점\n",
      "빨봉분식 충장로점\n",
      "송가네\n",
      "나산식당\n",
      "두암골풍천장어\n",
      "만계치킨 조대본점\n",
      "BHC치킨 광주금남로27번가점\n",
      "아리랑하우스\n",
      "삼정골\n",
      "쌍학\n",
      "이비가짬뽕 광주두암점\n",
      "이씨네오이시카레\n",
      "충장로 어나더키친 피터테이블\n",
      "동명이네\n",
      "이조감자탕\n",
      "김가원\n",
      "득량만횟집\n",
      "남원추어탕\n",
      "복록수\n",
      "완도바다\n",
      "파인트리\n",
      "새마을식당 광주충장로점 직화\n",
      "계절따라\n",
      "해남식당\n",
      "계림동나주곰탕\n",
      "A.C.C 회참치\n",
      "청진동해장국\n",
      "굴마을\n",
      "더빌리진\n",
      "한성일식\n",
      "OMG ghost PUB\n",
      "진도섬마을\n",
      "한국별관 본점\n",
      "정원\n",
      "담양참숯돼지갈비떡갈비\n",
      "2페이지가 끝났습니다.\n",
      "부부식당 국밥 순대\n",
      "춘부집 광주산수점\n",
      "최씨부엌족발 두암점\n",
      "하동정\n",
      "양림148\n",
      "춘자생태탕\n",
      "동방삼겹\n",
      "파스쿠찌 광주충장점\n",
      "동보성\n",
      "지란지교\n",
      "돈구이불났네\n",
      "만년식당\n",
      "달빛\n",
      "네고치킨\n",
      "맷돌영양두유\n",
      "비아돼지찌개 산수본점\n",
      "북동가든\n",
      "일등회관\n",
      "오매치킨\n",
      "더33갈비\n",
      "동해바다\n",
      "켈리오켈리\n",
      "장원흑돼지숯불갈비\n",
      "양가네\n",
      "소반\n",
      "섬마을\n",
      "고사바베큐광주점\n",
      "2페이지에서 크롤링이 끝났습니다.\n",
      "['미미원', '황톳길', 'RONNIQUE', '달곰식당', '알랭', '동명사랑채', '가원', '시스살롱', '동명로15', '칠복계', '엄마네돼지찌개', '나주식당', '소뇨', '바른초밥 두암점', '열도지', '민속촌', '맛삼', '청춘덮밥', '밤실마을', '바리에', '광주보쌈', '장독대', '소맥베이커리', '동명동 나른한 오후', '아카이타코', '황솔촌 충장점', '유명회관', '평화식당', '해남식당', '테스타', '박순자 녹두집', '사이공장', '어니스트식스티', '퍼스트네팔 광주본점', '1960청원모밀', '애슐리퀸즈 NC 충장점', '한옥식당', '에머이 광주충장로점', '말리화반점', '양인제과', '등촌칼국수', '칠우불고기 본점', '샤브향 광주문화전당점', '장모사랑', '인촌', '그라제1985', '보광옥', '토라네코', '다정푸드 뒤집고', '돈일촌', '마한지', '거목한정식', '무진장 떡볶이', '영암빈대떡', '동진식육식당', '제주덕구 광주 동명동점', '고려조삼계탕 금남점', '남동숯불생갈비', '대인시장독도횟집', '료코', '관지리', '수정식당', '올능이능이버섯백숙계림점', '구수숯불갈비', '직화부심', '광양 숯불구이 지산동점', '빨봉분식 충장로점', '송가네', '나산식당', '두암골풍천장어', '만계치킨 조대본점', 'BHC치킨 광주금남로27번가점', '아리랑하우스', '삼정골', '쌍학', '이비가짬뽕 광주두암점', '이씨네오이시카레', '충장로 어나더키친 피터테이블', '동명이네', '이조감자탕', '김가원', '득량만횟집', '남원추어탕', '복록수', '완도바다', '파인트리', '새마을식당 광주충장로점 직화', '계절따라', '해남식당', '계림동나주곰탕', 'A.C.C 회참치', '청진동해장국', '굴마을', '더빌리진', '한성일식', 'OMG ghost PUB', '진도섬마을', '한국별관 본점', '정원', '담양참숯돼지갈비떡갈비', '부부식당 국밥 순대', '춘부집 광주산수점', '최씨부엌족발 두암점', '하동정', '양림148', '춘자생태탕', '동방삼겹', '파스쿠찌 광주충장점', '동보성', '지란지교', '돈구이불났네', '만년식당', '달빛', '네고치킨', '맷돌영양두유', '비아돼지찌개 산수본점', '북동가든', '일등회관', '오매치킨', '더33갈비', '동해바다', '켈리오켈리', '장원흑돼지숯불갈비', '양가네', '소반', '섬마을', '고사바베큐광주점']\n"
     ]
    }
   ],
   "source": [
    "# 셀 합치기\n",
    "# import하기\n",
    "from selenium import webdriver as wb\n",
    "from selenium.webdriver.common.by import By\n",
    "from selenium.webdriver.common.keys import Keys\n",
    "import time\n",
    "import pandas as pd\n",
    "\n",
    "def isLast(aria): #aria의 값을 바탕으로 True or False 반환\n",
    "    if aria == 'true':\n",
    "        return False\n",
    "    else:\n",
    "        return True\n",
    "# driver를 통해 네이버지도 접속\n",
    "driver = wb.Chrome()\n",
    "driver.get(\"https:map.naver.com/p\")\n",
    "# 동명동 회식 검색\n",
    "search =driver.find_element(By.CSS_SELECTOR, \".input_search\")\n",
    "search_value = \"동명동 회식\" #원하는대로 고칠 수 있음.\n",
    "search.send_keys(search_value)\n",
    "search.send_keys(Keys.ENTER)\n",
    "time.sleep(3) # 환경이 느리므로 time.sleep() , explictcity_wait 선호하는게 좋다네요\n",
    "# 컴퓨터에게 바라보고 있는 창을 원하는 iframe으로 변경\n",
    "# frame을 변경할 때는 switch_to.frame(\"iframe의 id\")\n",
    "driver.switch_to.frame(\"searchIframe\")\n",
    "time.sleep(3)\n",
    "# 첫 페이지에서\n",
    "# 다음버튼의 값을 먼저 가져오기\n",
    "arrow_list = driver.find_elements(By.CSS_SELECTOR, '#app-root > div > div.XUrfU > div.zRM9F > a')\n",
    "num = len(arrow_list) # 다음 버튼 찾기\n",
    "time.sleep(2)\n",
    "daum_btn = driver.find_element(By.CSS_SELECTOR, \"#app-root > div > div.XUrfU > div.zRM9F > a:nth-child(\"+str(num)+\")\") # 버튼의 a태그 값\n",
    "page = 0 # 전역변수 \n",
    "# while 문 시작\n",
    "place_list =[] # data프레임 처리를 위해 담을 리스트\n",
    "while True:\n",
    "    driver.find_element(By.CSS_SELECTOR,\".XUrfU\").click()\n",
    "    body = driver.find_element(By.CSS_SELECTOR, \"body\")\n",
    "    aria = daum_btn.get_attribute(\"aria-disabled\")\n",
    "    for i in range(10): #페이지의 크기가 다르므로 안전하게 10번\n",
    "        body.send_keys(Keys.END) # END를 눌러서 title의 길이 확보M\n",
    "        time.sleep(1)\n",
    "        # 한번 할 때 마다 1초의 쉬는 시간\n",
    "    title = driver.find_elements(By.CSS_SELECTOR, \".place_bluelink.YwYLL\") \n",
    "    # 다 내린다음 타이틀을 선언후 시작\n",
    "    for j in title:\n",
    "        j.click() #title의 각 요소를 클릭\n",
    "        time.sleep(3) \n",
    "        driver.switch_to.default_content() # 아이프레임에서 메인으로 이동\n",
    "        driver.switch_to.frame(\"entryIframe\") # 새로운 아이프레임 창\n",
    "        place_title = driver.find_element(By.CSS_SELECTOR, \".Fc1rA\") # 이름 가져오고 담기\n",
    "        print(place_title.text) #테스트용 print\n",
    "        place_list.append(place_title.text) #data를 담기위해 append\n",
    "        driver.switch_to.default_content() # 메인으로 이동\n",
    "        time.sleep(3)\n",
    "        driver.switch_to.frame(\"searchIframe\")\n",
    "    #for 문 끝나면 daum 버튼 누르기\n",
    "    if isLast(aria):\n",
    "        daum_btn.click()    \n",
    "        page += 1\n",
    "        print(f'{page}페이지가 끝났습니다.')\n",
    "    else:\n",
    "        print(f'{page}페이지에서 크롤링이 끝났습니다.')\n",
    "        break #while 문 탈출(크롤링 중단)\n",
    "driver.quit() # 끝났으니까 창 닫기\n",
    "dic = {'플레이스' : place_list}\n",
    "df = pd.DataFrame(dic)\n",
    "# 마지막페이지까지 진행할 수 있음\n",
    "place_list\n",
    "dic = {'플레이스 이름' : place_list}\n",
    "df = pd.DataFrame(dic)\n",
    "df.index = df.index +1 # 인덱스 더하기 1해서 1번 부터 나오게 \n",
    "print(place_list)\n",
    "dic = {'플레이스 이름' : place_list}\n",
    "df = pd.DataFrame(dic)\n",
    "df.index = df.index +1 # 인덱스 더하기 1해서 1번 부터 나오게 \n",
    "df.to_csv(search_value+\".csv\", encoding='EUC-KR')"
   ]
  },
  {
   "cell_type": "code",
   "execution_count": null,
   "id": "53d2c6f5",
   "metadata": {},
   "outputs": [],
   "source": []
  }
 ],
 "metadata": {
  "hide_input": false,
  "kernelspec": {
   "display_name": "Python 3 (ipykernel)",
   "language": "python",
   "name": "python3"
  },
  "language_info": {
   "codemirror_mode": {
    "name": "ipython",
    "version": 3
   },
   "file_extension": ".py",
   "mimetype": "text/x-python",
   "name": "python",
   "nbconvert_exporter": "python",
   "pygments_lexer": "ipython3",
   "version": "3.11.4"
  },
  "nbTranslate": {
   "displayLangs": [
    "*"
   ],
   "hotkey": "alt-t",
   "langInMainMenu": true,
   "sourceLang": "en",
   "targetLang": "fr",
   "useGoogleTranslate": true
  },
  "toc": {
   "base_numbering": 1,
   "nav_menu": {},
   "number_sections": true,
   "sideBar": true,
   "skip_h1_title": false,
   "title_cell": "Table of Contents",
   "title_sidebar": "Contents",
   "toc_cell": false,
   "toc_position": {},
   "toc_section_display": true,
   "toc_window_display": false
  },
  "varInspector": {
   "cols": {
    "lenName": 16,
    "lenType": 16,
    "lenVar": 40
   },
   "kernels_config": {
    "python": {
     "delete_cmd_postfix": "",
     "delete_cmd_prefix": "del ",
     "library": "var_list.py",
     "varRefreshCmd": "print(var_dic_list())"
    },
    "r": {
     "delete_cmd_postfix": ") ",
     "delete_cmd_prefix": "rm(",
     "library": "var_list.r",
     "varRefreshCmd": "cat(var_dic_list()) "
    }
   },
   "types_to_exclude": [
    "module",
    "function",
    "builtin_function_or_method",
    "instance",
    "_Feature"
   ],
   "window_display": false
  }
 },
 "nbformat": 4,
 "nbformat_minor": 5
}
