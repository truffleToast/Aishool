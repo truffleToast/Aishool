{
 "cells": [
  {
   "cell_type": "code",
   "execution_count": 1,
   "id": "0ac62675",
   "metadata": {
    "ExecuteTime": {
     "end_time": "2023-08-29T03:25:21.053975Z",
     "start_time": "2023-08-29T03:25:21.049158Z"
    }
   },
   "outputs": [],
   "source": [
    "from selenium import webdriver as wb\n",
    "from selenium.webdriver.common.by import By\n",
    "import time\n",
    "from selenium.webdriver.common.keys import Keys\n",
    "\n",
    "# 파일 시스템을 위한 라이브러리(삭제, 생성)\n",
    "import os\n",
    "# 이미지의 경로를 실제 파일로 저장\n",
    "from urllib.request import urlretrieve\n"
   ]
  },
  {
   "cell_type": "code",
   "execution_count": 8,
   "id": "a67cf9d9",
   "metadata": {
    "ExecuteTime": {
     "end_time": "2023-08-29T03:25:26.300308Z",
     "start_time": "2023-08-29T03:25:26.295757Z"
    }
   },
   "outputs": [],
   "source": [
    "# 바탕화면에 이미지라는 폴더가 없다면 바탕화면에 이미지라는 폴더를 만들어라\n",
    "if not os.path.isdir(\"C:/Users/user/Desktop/AIschool/Pythonstudy/Crawling/butterfly\"):\n",
    "    os.mkdir(\"C:/Users/user/Desktop/AIschool/Pythonstudy/Crawling/butterfly\")\n"
   ]
  },
  {
   "cell_type": "code",
   "execution_count": 9,
   "id": "1102e222",
   "metadata": {
    "ExecuteTime": {
     "end_time": "2023-08-29T03:25:55.650738Z",
     "start_time": "2023-08-29T03:25:52.064147Z"
    }
   },
   "outputs": [],
   "source": [
    "# driver 호출\n",
    "driver = wb.Chrome()\n",
    "driver.get(\"https://search.naver.com/search.naver?where=image&sm=tab_jum&query=%EB%82%98%EB%B9%84\")\n",
    "# 이미지 호출을 위해 끝까지 내리기 while문은 안됨(사실은 가능? 자바스크립트에서 Document.getId나 클래스로 가져와서 조건 처리)\n",
    "for i in range(10):\n",
    "    body = driver.find_element(By.CSS_SELECTOR, \"body\") \n",
    "    body.send_keys(Keys.END)"
   ]
  },
  {
   "cell_type": "code",
   "execution_count": 10,
   "id": "2c108d48",
   "metadata": {
    "ExecuteTime": {
     "end_time": "2023-08-29T02:34:06.901526Z",
     "start_time": "2023-08-29T02:34:06.878172Z"
    }
   },
   "outputs": [],
   "source": [
    "# 이미지 태그들 수집\n",
    "images = driver.find_elements(By.CSS_SELECTOR, \"._image._listImage\")"
   ]
  },
  {
   "cell_type": "code",
   "execution_count": 11,
   "id": "f0e7fe89",
   "metadata": {
    "ExecuteTime": {
     "end_time": "2023-08-29T02:35:47.317631Z",
     "start_time": "2023-08-29T02:35:47.295062Z"
    }
   },
   "outputs": [
    {
     "data": {
      "text/plain": [
       "'https://search.pstatic.net/common/?src=http%3A%2F%2Fblogfiles.naver.net%2FMjAyMzA3MTFfMjkz%2FMDAxNjg5MDY4NDQyMTA4.60oqDE5skIVJN5_1XSHh2leqXmF6uP2is1MfPmKguOIg.pVCtnlmj6z8Qi4mpHxc6Zvnbt1C4VHJS1PUSsVcvxi0g.JPEG.nk0711%2F0B8A9181.JPG&type=a340'"
      ]
     },
     "execution_count": 11,
     "metadata": {},
     "output_type": "execute_result"
    }
   ],
   "source": [
    "# 태그 안에 있는 속성을 가지고 올 때는 get_attribute(\"속성\")\n",
    "images[0].get_attribute(\"src\")"
   ]
  },
  {
   "cell_type": "code",
   "execution_count": 12,
   "id": "668a0c07",
   "metadata": {
    "ExecuteTime": {
     "end_time": "2023-08-29T02:40:09.957770Z",
     "start_time": "2023-08-29T02:40:09.078608Z"
    }
   },
   "outputs": [],
   "source": [
    "# src만 담아줄 리스트를 제작\n",
    "src_list = []\n",
    "for i in range(len(images)):\n",
    "    src_list.append(images[i].get_attribute(\"src\"))"
   ]
  },
  {
   "cell_type": "code",
   "execution_count": 7,
   "id": "863a2bfc",
   "metadata": {
    "ExecuteTime": {
     "end_time": "2023-08-29T02:40:16.443940Z",
     "start_time": "2023-08-29T02:40:16.438810Z"
    },
    "scrolled": true
   },
   "outputs": [
    {
     "data": {
      "text/plain": [
       "['https://search.pstatic.net/common/?src=http%3A%2F%2Fblogfiles.naver.net%2FMjAyMzA3MTFfMjkz%2FMDAxNjg5MDY4NDQyMTA4.60oqDE5skIVJN5_1XSHh2leqXmF6uP2is1MfPmKguOIg.pVCtnlmj6z8Qi4mpHxc6Zvnbt1C4VHJS1PUSsVcvxi0g.JPEG.nk0711%2F0B8A9181.JPG&type=a340',\n",
       " 'https://search.pstatic.net/common/?src=http%3A%2F%2Fblogfiles.naver.net%2FMjAyMzA5MTJfMTcw%2FMDAxNjk0NDkxMjQ5NTEz.3TPeur7-2AOovz7HzLRCv68w1ARAhTmBPPD480F4AmUg.8bBd6PZDaR6yE1tXjgtZRjd4LxlFygftvaEDOxLfw_Ag.JPEG.freefulman%2F16944911867451111848363221911164.jpg&type=a340',\n",
       " 'https://search.pstatic.net/common/?src=http%3A%2F%2Fblogfiles.naver.net%2FMjAyMzA3MThfMTQ1%2FMDAxNjg5NjgyMzk5NzI1.kIxMYjy4kmWPkY0odpuMY5aaNJw-1hLD_1Pf6b15KEwg.XDDiRcAqpqaqcphCa4oW1Qp6Sw9hjPcYcOveLgz03Dwg.JPEG.emrtka1%2FKakaoTalk_20230718_205621952_19.jpg&type=a340',\n",
       " 'https://search.pstatic.net/common/?src=http%3A%2F%2Fblogfiles.naver.net%2FMjAyMzAyMTlfMjkg%2FMDAxNjc2Nzc0MjY3MDY1.AKnO8vx6U9CecFNSpLFxZ1LgrvMJc969BqD7hH42O-Eg.7rNXFobMZ-ekysMeHInlFel35wBrDsaOlKF2Dr-GQvUg.JPEG.hajin711%2F1676774206860.jpg&type=a340',\n",
       " 'data:image/gif;base64,R0lGODlhAQABAIAAAAAAAP///yH5BAEAAAAALAAAAAABAAEAAAIBRAA7',\n",
       " 'https://search.pstatic.net/common/?src=http%3A%2F%2Fblogfiles.naver.net%2FMjAyMzA3MjBfMjYz%2FMDAxNjg5ODQ3NTg4Nzc5.OuNUGIIvKBUo3edgt2Gqug2-zPFu6zaHM9bneNYhQJog.PeG2tLFZ2KhyxXfcRW798L5Wtlsr0Fp7Gr2SKSZj1PEg.JPEG.hayacci%2FDSC00906.jpg&type=a340',\n",
       " 'data:image/gif;base64,R0lGODlhAQABAIAAAAAAAP///yH5BAEAAAAALAAAAAABAAEAAAIBRAA7',\n",
       " 'https://search.pstatic.net/common/?src=http%3A%2F%2Fblogfiles.naver.net%2FMjAyMzA1MTdfNjMg%2FMDAxNjg0MzIxNzk1NDk5.cf9sy7nU1MF79DSCH2o-bPkO07IMLrPS6QwATfut-YYg.WOAXWJ496w6_fXxTRh95Gw-_bI8r0zZ8XxyXWwotBGUg.PNG.sorthkk17%2F2023-05-17_20%253B08%253B53.PNG&type=a340',\n",
       " 'https://search.pstatic.net/common/?src=http%3A%2F%2Fblogfiles.naver.net%2FMjAyMzAzMjJfMzYg%2FMDAxNjc5NDYyMDYwMzU1.UPnyYAFY_8hGLwgCIfaJOc72S3o95RbaXx-KZo-1ZC4g.VZlOW67jmdJ5qO9siQxTciIg6OBzeOHMKDRs7FCBP0Ug.JPEG.ceo3945%2F0_CK_tc00240076199.jpg&type=a340',\n",
       " 'https://search.pstatic.net/common/?src=http%3A%2F%2Fblogfiles.naver.net%2FMjAyMzA3MDZfMTg1%2FMDAxNjg4NjE2NDA0MzA4.5FgD2PLAo1hrO2Sidplrx1vfFPZZww7bb7uTV8sbicAg.GpJOq-FC6yH8BCsY0_cxOe4vXKgdH8-oEX649YAlh2Ig.JPEG.dhfodhfo00%2F%25BF%25C0%25BB%25F6%25B3%25AA%25BA%25F120230701%25BF%25C0%25B4%25EB%25BB%25EA_%252827%2529.jpg&type=a340',\n",
       " 'https://search.pstatic.net/common/?src=http%3A%2F%2Fblogfiles.naver.net%2FMjAyMzA4MDRfMjQ1%2FMDAxNjkxMTQyNjgwNjg2.9phS4Gm163Dl02LUWHxy9ry_YD-lmFRMF631DJOHrdcg.IOujsHcdAccUr5KA8YmSY1GOCFVxBx--9gPUgUwN5hAg.JPEG.jooy831%2FMorpho-Butterfly.jpg&type=a340',\n",
       " 'data:image/gif;base64,R0lGODlhAQABAIAAAAAAAP///yH5BAEAAAAALAAAAAABAAEAAAIBRAA7',\n",
       " 'https://search.pstatic.net/common/?src=http%3A%2F%2Fblogfiles.naver.net%2FMjAyMzAyMjVfMjYw%2FMDAxNjc3MzE3MzMyOTgw.TaMrWrnub8RlOm6XJeyweXWpjypef4rKS5z4VNPZTLog.wT_4_T1vj6S3q--Z-eiQxlGxAUmmw2LKrn9zm3fxR5wg.JPEG.cncjd%2F%25C1%25F6%25C0%25B11.jpg&type=a340',\n",
       " 'https://search.pstatic.net/common/?src=http%3A%2F%2Fblogfiles.naver.net%2FMjAyMzA3MTNfMzAg%2FMDAxNjg5MjQ0NTYyMDM0.rXambVr4vns8WnD74obaARTi8ga1ivSNn11tnKHv0dcg.rtRjC_HDAIGeuM1K6Mv162JehOx9DC4IvaXQmrFE3iQg.JPEG.nc28%2F20230708-0D3A2567.jpg&type=a340',\n",
       " 'https://search.pstatic.net/common/?src=http%3A%2F%2Fblogfiles.naver.net%2FMjAyMjEwMTlfNTEg%2FMDAxNjY2MTgxMjIwNzQ4.8l9SokhCXt2WZA_9B_067qzTdXCIwxWxx95cOBSlA0Qg.C-20q3hfPWv7nG2Ug3ZsKYOWVt8Z3DJ1eJzcCJr0caQg.JPEG.nabigarden22%2F1_DSC00013-1.jpg&type=a340',\n",
       " 'data:image/gif;base64,R0lGODlhAQABAIAAAAAAAP///yH5BAEAAAAALAAAAAABAAEAAAIBRAA7',\n",
       " 'data:image/gif;base64,R0lGODlhAQABAIAAAAAAAP///yH5BAEAAAAALAAAAAABAAEAAAIBRAA7',\n",
       " 'data:image/gif;base64,R0lGODlhAQABAIAAAAAAAP///yH5BAEAAAAALAAAAAABAAEAAAIBRAA7',\n",
       " 'data:image/gif;base64,R0lGODlhAQABAIAAAAAAAP///yH5BAEAAAAALAAAAAABAAEAAAIBRAA7',\n",
       " 'data:image/gif;base64,R0lGODlhAQABAIAAAAAAAP///yH5BAEAAAAALAAAAAABAAEAAAIBRAA7',\n",
       " 'data:image/gif;base64,R0lGODlhAQABAIAAAAAAAP///yH5BAEAAAAALAAAAAABAAEAAAIBRAA7',\n",
       " 'data:image/gif;base64,R0lGODlhAQABAIAAAAAAAP///yH5BAEAAAAALAAAAAABAAEAAAIBRAA7',\n",
       " 'data:image/gif;base64,R0lGODlhAQABAIAAAAAAAP///yH5BAEAAAAALAAAAAABAAEAAAIBRAA7',\n",
       " 'data:image/gif;base64,R0lGODlhAQABAIAAAAAAAP///yH5BAEAAAAALAAAAAABAAEAAAIBRAA7',\n",
       " 'data:image/gif;base64,R0lGODlhAQABAIAAAAAAAP///yH5BAEAAAAALAAAAAABAAEAAAIBRAA7',\n",
       " 'data:image/gif;base64,R0lGODlhAQABAIAAAAAAAP///yH5BAEAAAAALAAAAAABAAEAAAIBRAA7',\n",
       " 'data:image/gif;base64,R0lGODlhAQABAIAAAAAAAP///yH5BAEAAAAALAAAAAABAAEAAAIBRAA7',\n",
       " 'data:image/gif;base64,R0lGODlhAQABAIAAAAAAAP///yH5BAEAAAAALAAAAAABAAEAAAIBRAA7',\n",
       " 'https://search.pstatic.net/common/?src=http%3A%2F%2Fblogfiles.naver.net%2FMjAyMzA0MDFfMjMy%2FMDAxNjgwMzQxMjEwMjU0.9CdwZCeTTFOEl6rhfC70rijV7Y4S6YKyX8b1JMWlhU0g.BwhLwgNYu9baO5mt4A5jxWudHrnbMGs6qi_4OvDKe5Ig.JPEG.71hartz%2F%25B4%25D9%25BF%25EE%25B7%25CE%25B5%25E5_%252826%2529.jpg&type=a340',\n",
       " 'data:image/gif;base64,R0lGODlhAQABAIAAAAAAAP///yH5BAEAAAAALAAAAAABAAEAAAIBRAA7',\n",
       " 'https://search.pstatic.net/sunny/?src=https%3A%2F%2Fimages.unsplash.com%2Fphoto-1682048408579-c97bbd003ed5%3Fixlib%3Drb-4.0.3%26ixid%3DM3wxMjA3fDB8MHxwaG90by1yZWxhdGVkfDF8fHxlbnwwfHx8fHw%253D%26w%3D1000%26q%3D80&type=a340',\n",
       " 'https://search.pstatic.net/common/?src=http%3A%2F%2Fblogfiles.naver.net%2FMjAyMzAyMDVfOTYg%2FMDAxNjc1NTMwNDMxOTA4._d9cyHJ8N7hDF8Gh4ByfDm-ISDnyGgmFzMTTsm2tZb0g.hscQeklM7RhQMxf-5q5PaVtXhSHiBqAxy1IKSvmtAhQg.JPEG.hwiyore%2FIMG_1836.JPG&type=a340',\n",
       " 'https://search.pstatic.net/common/?src=http%3A%2F%2Fblogfiles.naver.net%2FMjAyMzA3MjRfMTcx%2FMDAxNjkwMTY4NzM2Njc3.mNV9zbjAOJCIUpzAT8lAV-AovSE04UFxwJWobA6vw2wg.bFrtwJMOK_RGHOP73GSBVMjRxrALKkSccEP19bLhcNgg.JPEG.kimyd4100%2FDSC_6779.jpg&type=a340',\n",
       " 'https://search.pstatic.net/sunny/?src=https%3A%2F%2Fkmug.co.kr%2Fdata%2Ffile%2Fdata%2Fthumb-data_icon_icon_2_600x0.png&type=a340',\n",
       " 'https://search.pstatic.net/common/?src=http%3A%2F%2Fshop1.phinf.naver.net%2F20230713_43%2F1689256248174dQfia_PNG%2F40815335132423396_1025702286.jpg&type=a340',\n",
       " 'https://search.pstatic.net/common/?src=http%3A%2F%2Fblogfiles.naver.net%2FMjAyMzA3MDlfMjQy%2FMDAxNjg4ODk5NzE2ODQw.yd_V7b2MRQ3hSBFb4Y3izuK8CvIXH1wLXjoqfTtEHRwg.UrwXPJTGhgtAOCZ0DOjoDGcJyms8Gj6AN-qYhSp0aa4g.JPEG.tame62%2FL6810618.JPG&type=a340',\n",
       " 'https://search.pstatic.net/common/?src=http%3A%2F%2Fblogfiles.naver.net%2FMjAyMzA3MThfMjQy%2FMDAxNjg5Njg1NTgxMzgw.MIdYe2odZk7GlALNFkyFkfcxXtyHEiFuQ4Ay19tHqgQg.j127M-DGQqGU8GjRuvf_laJaEgpuSkE-NZl9DCWUTdcg.JPEG.winhanguk%2F%25B2%25BF%25B8%25B6%25B1%25EE%25B8%25B6%25B1%25CD%25BA%25CE%25C0%25FC%25B3%25AA%25BA%25F18.jpg&type=a340',\n",
       " 'https://search.pstatic.net/common/?src=http%3A%2F%2Fblogfiles.naver.net%2FMjAyMzA3MTlfMTI4%2FMDAxNjg5NzIzNDE3MTM1.rpTPAWwmFdQCkpt8LxWBkpOAVERlx435qxUsdQpPw98g.NV9Stz5-H9F-Kq2CBzxUjom3auWX8tIXS4E6hEoKDoEg.JPEG.1125tt%2F1689722566611.jpg&type=l340_165',\n",
       " 'https://search.pstatic.net/common/?src=http%3A%2F%2Fblogfiles.naver.net%2FMjAyMzA1MTZfMjY1%2FMDAxNjg0MjM2MDgwNjYz.6UhELkD885ixo6r6zdkTJ1VVqXxG6pu69bAgZ1073UEg.669NhEI3bUfiBgr0GBDGkQHu7LiFI0breFdtu5CdnXkg.JPEG.veritasmine%2F63%25B3%25B2%25B9%25E6%25C1%25A6%25BA%25F1%25B3%25AA%25BA%25F1%2528%25BE%25CF%252921-4-3%25BA%25D2%25BE%25CF.JPG&type=a340',\n",
       " 'https://search.pstatic.net/common/?src=http%3A%2F%2Fblogfiles.naver.net%2FMjAyMjEwMjlfNzUg%2FMDAxNjY3MDQ1MzQwODUz.gct__kjoz1W-i0YGALucbtfTgkFGkE2DygiVULbGrVEg.zZp9YMXvmXNJPpCtT_4pM0MO42DN4qD6vF5dkn297_0g.JPEG.hsc099%2F%25A4%25A4%25C0%25DB%25C0%25BA%25B8%25DA%25C0%25EF%25C0%25CC%25B3%25AA%25BA%25F1_IMG_3269.JPG&type=l340_165',\n",
       " 'https://search.pstatic.net/common/?src=http%3A%2F%2Fblogfiles.naver.net%2FMjAyMzA3MTdfNzUg%2FMDAxNjg5NTc4MjEyOTU2.f8_4S8mJgGf4t7zKCfaIhNcrf4qgn0MVl2jf48Vwepkg.rqLVHDT36KCbitaTIvnFJPq-jIKc2-kqD9xsij3VRQwg.JPEG.qudgns1219%2F1689578211750.jpg&type=l340_165',\n",
       " 'https://search.pstatic.net/common/?src=http%3A%2F%2Fblogfiles.naver.net%2FMjAyMzA1MDFfMTE1%2FMDAxNjgyOTI1NTE3OTQ2.coVRVKnLFfoKl1yVnEGpRALAV0QAMlu4I215QArQoQ0g.rbayraPtfi2s2J0PngS5LzgqIDdWZ5GXTYPKZTu1MHMg.JPEG.veritasmine%2F27%25BE%25CF%25B3%25A1%25B0%25CB%25C0%25BA-17-8-16%25BF%25CF%25B5%25B5.jpg&type=a340',\n",
       " 'https://search.pstatic.net/common/?src=http%3A%2F%2Fblogfiles.naver.net%2FMjAyMzA5MjNfMTM4%2FMDAxNjk1NDU2OTg2ODQ0.D4cSc5bWj4-kRCglVA-ifq5sWh7U-ux2r8XEe4ehq0og.D178031XXidOea7kYZPh5EhyWVX6tG-de7Dl1kmIZ24g.JPEG.fabiola04%2Ffleur%25A3%25ADxTurFgWXNDA%25A3%25ADunsplash.jpg&type=a340',\n",
       " 'https://search.pstatic.net/common/?src=http%3A%2F%2Fblogfiles.naver.net%2FMjAyMzA1MzFfMTYg%2FMDAxNjg1NDg1NDM3NDU5.LlarWFXHz8lRar-nEqZAlkmmiLBUR3BuCIMcYRcOMPIg.5bf_PloWDAk9dE7QEmlgkRWLDHb_h1UJED3qizDFSiMg.JPEG.taesol%2F3F1A0759-2.jpg&type=a340',\n",
       " 'https://search.pstatic.net/common/?src=http%3A%2F%2Fblogfiles.naver.net%2FMjAyMzA3MTZfMTU5%2FMDAxNjg5NTEwNjk4MjYz.mIq_9pzxi0igJopOxAp7j-1sLBq0u70o9flcgMAtwmgg.u4Vfttsey-S3kkVwWyk0ek68wB7widfTBvl5nyXPdAsg.JPEG.eovkf1019%2F1689510696841.jpg&type=ofullfill340_600_png',\n",
       " 'https://search.pstatic.net/common/?src=http%3A%2F%2Fblogfiles.naver.net%2FMjAyMjEwMTlfMTM5%2FMDAxNjY2MTgwODMwNjQ3.GfVEGfC9Hd7OKKujAgKrjRs3zY79O_uwCeM5xFeBKAkg.54O_VK0p-6iSkSfGMmJ6jBagLQfmHLQSA9yYiEL-Emsg.JPEG.nabigarden22%2F1_DSC00006_1.jpg&type=a340',\n",
       " 'https://search.pstatic.net/common/?src=http%3A%2F%2Fblogfiles.naver.net%2FMjAyMzA3MjNfMjU4%2FMDAxNjkwMDgzNjkyOTM4.XwGWdhl-NZKqJb3u7SA2jHwges0El_5NO1wtdovoILog.rVcCfQ7Y7Gu8eBzqsZxlNqd0mf4ZfLe7azahFrv9THsg.JPEG.ricetree5%2F%25B4%25EB%25BF%25D5%25B3%25AA%25BA%25F1%2528%25BC%25F6%25C4%25C6%2529%252C_2023.7.6._%25B3%25B2%25BE%25E7%25C1%25D6_%25BF%25EE%25B1%25E6%25BB%25EA%25C0%25D3%25B5%25B5_%25286%2529.JPG&type=a340',\n",
       " 'https://search.pstatic.net/common/?src=http%3A%2F%2Fblogfiles.naver.net%2FMjAyMzA3MjFfNDQg%2FMDAxNjg5OTA2OTA0NzY1.BVMFvoip2tYwMq1x9UAWcQBI0Lo0eXqRlLEwnkHr_bsg.Cl6ncsB_gkV9FQ1wSGTkSRSjGmilXJbJHxmCmx1-qp8g.JPEG.borisim3%2FDSC_9149.JPG&type=a340']"
      ]
     },
     "execution_count": 7,
     "metadata": {},
     "output_type": "execute_result"
    }
   ],
   "source": [
    "src_list"
   ]
  },
  {
   "cell_type": "code",
   "execution_count": 13,
   "id": "685c2f67",
   "metadata": {
    "ExecuteTime": {
     "end_time": "2023-08-29T02:45:56.451055Z",
     "start_time": "2023-08-29T02:45:47.448015Z"
    }
   },
   "outputs": [],
   "source": [
    "#이미지의 경로를 실제 파일로 저장\n",
    "for i in range(len(src_list)):\n",
    "    urlretrieve(src_list[i], \"C:/Users/user/Desktop/AIschool/Pythonstudy/Crawling/butterfly/\"+str(i)+\".jpg\" )"
   ]
  },
  {
   "cell_type": "code",
   "execution_count": null,
   "id": "91912272",
   "metadata": {},
   "outputs": [],
   "source": []
  }
 ],
 "metadata": {
  "hide_input": false,
  "kernelspec": {
   "display_name": "Python 3 (ipykernel)",
   "language": "python",
   "name": "python3"
  },
  "language_info": {
   "codemirror_mode": {
    "name": "ipython",
    "version": 3
   },
   "file_extension": ".py",
   "mimetype": "text/x-python",
   "name": "python",
   "nbconvert_exporter": "python",
   "pygments_lexer": "ipython3",
   "version": "3.11.5"
  },
  "nbTranslate": {
   "displayLangs": [
    "*"
   ],
   "hotkey": "alt-t",
   "langInMainMenu": true,
   "sourceLang": "en",
   "targetLang": "fr",
   "useGoogleTranslate": true
  },
  "toc": {
   "base_numbering": 1,
   "nav_menu": {},
   "number_sections": true,
   "sideBar": true,
   "skip_h1_title": false,
   "title_cell": "Table of Contents",
   "title_sidebar": "Contents",
   "toc_cell": false,
   "toc_position": {},
   "toc_section_display": true,
   "toc_window_display": false
  },
  "varInspector": {
   "cols": {
    "lenName": 16,
    "lenType": 16,
    "lenVar": 40
   },
   "kernels_config": {
    "python": {
     "delete_cmd_postfix": "",
     "delete_cmd_prefix": "del ",
     "library": "var_list.py",
     "varRefreshCmd": "print(var_dic_list())"
    },
    "r": {
     "delete_cmd_postfix": ") ",
     "delete_cmd_prefix": "rm(",
     "library": "var_list.r",
     "varRefreshCmd": "cat(var_dic_list()) "
    }
   },
   "types_to_exclude": [
    "module",
    "function",
    "builtin_function_or_method",
    "instance",
    "_Feature"
   ],
   "window_display": false
  }
 },
 "nbformat": 4,
 "nbformat_minor": 5
}
