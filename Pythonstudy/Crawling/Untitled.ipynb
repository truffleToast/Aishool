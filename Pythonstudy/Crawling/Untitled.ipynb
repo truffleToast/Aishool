{
 "cells": [
  {
   "cell_type": "markdown",
   "id": "11d97e5a",
   "metadata": {},
   "source": [
    "# 멜론 차트 데이터 수집\n"
   ]
  },
  {
   "cell_type": "markdown",
   "id": "61923280",
   "metadata": {},
   "source": [
    "## 멜론 크롤링 시작"
   ]
  },
  {
   "cell_type": "code",
   "execution_count": 1,
   "id": "a391f77e",
   "metadata": {
    "ExecuteTime": {
     "end_time": "2023-08-24T03:39:44.227829Z",
     "start_time": "2023-08-24T03:39:44.049740Z"
    }
   },
   "outputs": [],
   "source": [
    "import requests as req\n",
    "from bs4 import BeautifulSoup as bs"
   ]
  },
  {
   "cell_type": "code",
   "execution_count": 2,
   "id": "ea436753",
   "metadata": {
    "ExecuteTime": {
     "end_time": "2023-08-24T03:39:44.231428Z",
     "start_time": "2023-08-24T03:39:44.228828Z"
    }
   },
   "outputs": [],
   "source": [
    "head ={'User-Agent':'Mozilla/5.0 (Windows NT 10.0; Win64; x64) AppleWebKit/537.36 (KHTML, like Gecko) Chrome/116.0.0.0 Safari/537.36'}"
   ]
  },
  {
   "cell_type": "code",
   "execution_count": 3,
   "id": "336e4336",
   "metadata": {
    "ExecuteTime": {
     "end_time": "2023-08-24T03:39:44.331393Z",
     "start_time": "2023-08-24T03:39:44.233426Z"
    }
   },
   "outputs": [],
   "source": [
    "req = req.get(\"https://www.melon.com/chart/index.htm\", headers = head)"
   ]
  },
  {
   "cell_type": "code",
   "execution_count": 4,
   "id": "3ce45e23",
   "metadata": {
    "ExecuteTime": {
     "end_time": "2023-08-24T03:39:44.453006Z",
     "start_time": "2023-08-24T03:39:44.333390Z"
    }
   },
   "outputs": [],
   "source": [
    "melon = bs(req.text)"
   ]
  },
  {
   "cell_type": "markdown",
   "id": "aabf1a6d",
   "metadata": {},
   "source": [
    "## req를 통해서 멜론차트 정보를 요청"
   ]
  },
  {
   "cell_type": "code",
   "execution_count": 5,
   "id": "72c461d8",
   "metadata": {
    "ExecuteTime": {
     "end_time": "2023-08-24T03:39:44.456482Z",
     "start_time": "2023-08-24T03:39:44.453654Z"
    }
   },
   "outputs": [],
   "source": [
    "# bs를 통해서 html 데이터로 변경\n",
    "# 노래제목 수집\n",
    "# 가수이름 수집"
   ]
  },
  {
   "cell_type": "code",
   "execution_count": 6,
   "id": "5f223bc3",
   "metadata": {
    "ExecuteTime": {
     "end_time": "2023-08-24T03:39:44.482431Z",
     "start_time": "2023-08-24T03:39:44.458479Z"
    },
    "scrolled": true
   },
   "outputs": [],
   "source": [
    "song = melon.select(\"div.ellipsis.rank01 > span > a\")\n",
    "# 클래스값 중간에 공백이 있다는 건 -> 클래스가 복수개 이다.\n",
    "# 클래스와 아이디를 입력하는 이유는 css와 Javascript 에서 사용하기 위해서\n",
    "# 일반적으로 class는 css , id는 javascript \n",
    "# design을 위해서 css , 이벤트 발생을 위해서 id"
   ]
  },
  {
   "cell_type": "code",
   "execution_count": 7,
   "id": "c72e9141",
   "metadata": {
    "ExecuteTime": {
     "end_time": "2023-08-24T03:39:44.512990Z",
     "start_time": "2023-08-24T03:39:44.484278Z"
    }
   },
   "outputs": [],
   "source": [
    "singer = melon.select(\"div.ellipsis.rank02>span\")"
   ]
  },
  {
   "cell_type": "code",
   "execution_count": 8,
   "id": "30d56b5a",
   "metadata": {
    "ExecuteTime": {
     "end_time": "2023-08-24T03:39:44.520243Z",
     "start_time": "2023-08-24T03:39:44.515995Z"
    }
   },
   "outputs": [],
   "source": [
    "song_list =[]\n",
    "singer_list=[]\n",
    "for i in range(len(song)):\n",
    "    song_list.append(song[i].text)\n",
    "    singer_list.append(singer[i].text)"
   ]
  },
  {
   "cell_type": "markdown",
   "id": "62d8e27a",
   "metadata": {},
   "source": [
    "# pandas를 통해 데이터 만들기"
   ]
  },
  {
   "cell_type": "code",
   "execution_count": 9,
   "id": "41c1d001",
   "metadata": {
    "ExecuteTime": {
     "end_time": "2023-08-24T03:39:45.058431Z",
     "start_time": "2023-08-24T03:39:44.521808Z"
    }
   },
   "outputs": [],
   "source": [
    "import pandas as pd"
   ]
  },
  {
   "cell_type": "code",
   "execution_count": 10,
   "id": "ae64e2f7",
   "metadata": {
    "ExecuteTime": {
     "end_time": "2023-08-24T03:39:45.066469Z",
     "start_time": "2023-08-24T03:39:45.062900Z"
    }
   },
   "outputs": [],
   "source": [
    "dic = {\"노래 제목\": song_list ,\"가수 이름\" : singer_list}"
   ]
  },
  {
   "cell_type": "code",
   "execution_count": 11,
   "id": "c68858e4",
   "metadata": {
    "ExecuteTime": {
     "end_time": "2023-08-24T03:39:45.071347Z",
     "start_time": "2023-08-24T03:39:45.067475Z"
    }
   },
   "outputs": [],
   "source": [
    "melon =pd.DataFrame(dic)"
   ]
  },
  {
   "cell_type": "markdown",
   "id": "526f0f0b",
   "metadata": {},
   "source": [
    "# 데이터 파일로 만들기"
   ]
  },
  {
   "cell_type": "code",
   "execution_count": 14,
   "id": "315e9280",
   "metadata": {
    "ExecuteTime": {
     "end_time": "2023-08-24T03:41:10.533019Z",
     "start_time": "2023-08-24T03:41:10.529369Z"
    }
   },
   "outputs": [],
   "source": [
    "melon.index=melon.index+1 # 인덱스를 1부터 시작할 수 있게 변환"
   ]
  },
  {
   "cell_type": "code",
   "execution_count": null,
   "id": "9ab304b6",
   "metadata": {},
   "outputs": [],
   "source": [
    "#7. 파일로 만들기\n",
    "melon.to_csv(\"멜론차트.csv\", encoding=\"euc-kr\")"
   ]
  }
 ],
 "metadata": {
  "hide_input": false,
  "kernelspec": {
   "display_name": "Python 3 (ipykernel)",
   "language": "python",
   "name": "python3"
  },
  "language_info": {
   "codemirror_mode": {
    "name": "ipython",
    "version": 3
   },
   "file_extension": ".py",
   "mimetype": "text/x-python",
   "name": "python",
   "nbconvert_exporter": "python",
   "pygments_lexer": "ipython3",
   "version": "3.11.4"
  },
  "nbTranslate": {
   "displayLangs": [
    "*"
   ],
   "hotkey": "alt-t",
   "langInMainMenu": true,
   "sourceLang": "en",
   "targetLang": "fr",
   "useGoogleTranslate": true
  },
  "toc": {
   "base_numbering": 1,
   "nav_menu": {},
   "number_sections": true,
   "sideBar": true,
   "skip_h1_title": false,
   "title_cell": "Table of Contents",
   "title_sidebar": "Contents",
   "toc_cell": false,
   "toc_position": {},
   "toc_section_display": true,
   "toc_window_display": false
  },
  "varInspector": {
   "cols": {
    "lenName": 16,
    "lenType": 16,
    "lenVar": 40
   },
   "kernels_config": {
    "python": {
     "delete_cmd_postfix": "",
     "delete_cmd_prefix": "del ",
     "library": "var_list.py",
     "varRefreshCmd": "print(var_dic_list())"
    },
    "r": {
     "delete_cmd_postfix": ") ",
     "delete_cmd_prefix": "rm(",
     "library": "var_list.r",
     "varRefreshCmd": "cat(var_dic_list()) "
    }
   },
   "types_to_exclude": [
    "module",
    "function",
    "builtin_function_or_method",
    "instance",
    "_Feature"
   ],
   "window_display": false
  }
 },
 "nbformat": 4,
 "nbformat_minor": 5
}
