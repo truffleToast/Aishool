{
 "cells": [
  {
   "cell_type": "code",
   "execution_count": 2,
   "id": "f1d1c324",
   "metadata": {
    "ExecuteTime": {
     "end_time": "2023-08-28T03:36:20.368477Z",
     "start_time": "2023-08-28T03:36:20.365222Z"
    }
   },
   "outputs": [],
   "source": [
    "# practice \n",
    "from selenium import webdriver as wb\n",
    "from selenium.webdriver.common.by import By\n",
    "from selenium.webdriver.common.keys import Keys"
   ]
  },
  {
   "cell_type": "code",
   "execution_count": 6,
   "id": "9fd65358",
   "metadata": {
    "ExecuteTime": {
     "end_time": "2023-08-28T03:37:21.450668Z",
     "start_time": "2023-08-28T03:37:19.781555Z"
    }
   },
   "outputs": [],
   "source": [
    "driver =wb.Chrome()"
   ]
  },
  {
   "cell_type": "code",
   "execution_count": 7,
   "id": "7dd831ae",
   "metadata": {
    "ExecuteTime": {
     "end_time": "2023-08-28T03:37:26.090188Z",
     "start_time": "2023-08-28T03:37:21.468117Z"
    }
   },
   "outputs": [],
   "source": [
    "# driver를 통해 접근\n",
    "driver.get(\"https://quasarzone.com/bbs/qb_saleinfo?_method=post&type=&page=1&_token=gMI6xSuZaDurFGo6tmovwJT6uJHx4tt23JWEvHXm&category=PC%2F%ED%95%98%EB%93%9C%EC%9B%A8%EC%96%B4&popularity=&kind=subject&keyword=&sort=num%2C+reply&direction=DESC\")"
   ]
  },
  {
   "cell_type": "code",
   "execution_count": null,
   "id": "b82d5bf4",
   "metadata": {},
   "outputs": [],
   "source": [
    "# 가져올 데이터 선언\n"
   ]
  },
  {
   "cell_type": "code",
   "execution_count": 23,
   "id": "eff5490c",
   "metadata": {
    "ExecuteTime": {
     "end_time": "2023-08-28T05:22:36.135786Z",
     "start_time": "2023-08-28T05:22:36.083744Z"
    }
   },
   "outputs": [
    {
     "ename": "WebDriverException",
     "evalue": "Message: disconnected: not connected to DevTools\n  (failed to check if window was closed: disconnected: not connected to DevTools)\n  (Session info: chrome=116.0.5845.111)\nStacktrace:\n\tGetHandleVerifier [0x00007FF6314352A2+57122]\n\t(No symbol) [0x00007FF6313AEA92]\n\t(No symbol) [0x00007FF63127E3AB]\n\t(No symbol) [0x00007FF63126BA47]\n\t(No symbol) [0x00007FF63126B6C0]\n\t(No symbol) [0x00007FF63127FA71]\n\t(No symbol) [0x00007FF6312EE27F]\n\t(No symbol) [0x00007FF6312D6DB3]\n\t(No symbol) [0x00007FF6312AD2B1]\n\t(No symbol) [0x00007FF6312AE494]\n\tGetHandleVerifier [0x00007FF6316DEF82+2849794]\n\tGetHandleVerifier [0x00007FF631731D24+3189156]\n\tGetHandleVerifier [0x00007FF63172ACAF+3160367]\n\tGetHandleVerifier [0x00007FF6314C6D06+653702]\n\t(No symbol) [0x00007FF6313BA208]\n\t(No symbol) [0x00007FF6313B62C4]\n\t(No symbol) [0x00007FF6313B63F6]\n\t(No symbol) [0x00007FF6313A67A3]\n\tBaseThreadInitThunk [0x00007FFD06AB26AD+29]\n\tRtlUserThreadStart [0x00007FFD073EAA68+40]\n",
     "output_type": "error",
     "traceback": [
      "\u001b[1;31m---------------------------------------------------------------------------\u001b[0m",
      "\u001b[1;31mWebDriverException\u001b[0m                        Traceback (most recent call last)",
      "Cell \u001b[1;32mIn[23], line 2\u001b[0m\n\u001b[0;32m      1\u001b[0m \u001b[38;5;66;03m# 페이지 넘기기\u001b[39;00m\n\u001b[1;32m----> 2\u001b[0m pages \u001b[38;5;241m=\u001b[39m driver\u001b[38;5;241m.\u001b[39mfind_elements(By\u001b[38;5;241m.\u001b[39mCSS_SELECTOR, \u001b[38;5;124m\"\u001b[39m\u001b[38;5;124m.float-center> ul> li> a.on +\u001b[39m\u001b[38;5;124m\"\u001b[39m)\n",
      "File \u001b[1;32m~\\anaconda3\\Lib\\site-packages\\selenium\\webdriver\\remote\\webdriver.py:769\u001b[0m, in \u001b[0;36mWebDriver.find_elements\u001b[1;34m(self, by, value)\u001b[0m\n\u001b[0;32m    765\u001b[0m     value \u001b[38;5;241m=\u001b[39m \u001b[38;5;124mf\u001b[39m\u001b[38;5;124m'\u001b[39m\u001b[38;5;124m[name=\u001b[39m\u001b[38;5;124m\"\u001b[39m\u001b[38;5;132;01m{\u001b[39;00mvalue\u001b[38;5;132;01m}\u001b[39;00m\u001b[38;5;124m\"\u001b[39m\u001b[38;5;124m]\u001b[39m\u001b[38;5;124m'\u001b[39m\n\u001b[0;32m    767\u001b[0m \u001b[38;5;66;03m# Return empty list if driver returns null\u001b[39;00m\n\u001b[0;32m    768\u001b[0m \u001b[38;5;66;03m# See https://github.com/SeleniumHQ/selenium/issues/4555\u001b[39;00m\n\u001b[1;32m--> 769\u001b[0m \u001b[38;5;28;01mreturn\u001b[39;00m \u001b[38;5;28mself\u001b[39m\u001b[38;5;241m.\u001b[39mexecute(Command\u001b[38;5;241m.\u001b[39mFIND_ELEMENTS, {\u001b[38;5;124m\"\u001b[39m\u001b[38;5;124musing\u001b[39m\u001b[38;5;124m\"\u001b[39m: by, \u001b[38;5;124m\"\u001b[39m\u001b[38;5;124mvalue\u001b[39m\u001b[38;5;124m\"\u001b[39m: value})[\u001b[38;5;124m\"\u001b[39m\u001b[38;5;124mvalue\u001b[39m\u001b[38;5;124m\"\u001b[39m] \u001b[38;5;129;01mor\u001b[39;00m []\n",
      "File \u001b[1;32m~\\anaconda3\\Lib\\site-packages\\selenium\\webdriver\\remote\\webdriver.py:345\u001b[0m, in \u001b[0;36mWebDriver.execute\u001b[1;34m(self, driver_command, params)\u001b[0m\n\u001b[0;32m    343\u001b[0m response \u001b[38;5;241m=\u001b[39m \u001b[38;5;28mself\u001b[39m\u001b[38;5;241m.\u001b[39mcommand_executor\u001b[38;5;241m.\u001b[39mexecute(driver_command, params)\n\u001b[0;32m    344\u001b[0m \u001b[38;5;28;01mif\u001b[39;00m response:\n\u001b[1;32m--> 345\u001b[0m     \u001b[38;5;28mself\u001b[39m\u001b[38;5;241m.\u001b[39merror_handler\u001b[38;5;241m.\u001b[39mcheck_response(response)\n\u001b[0;32m    346\u001b[0m     response[\u001b[38;5;124m\"\u001b[39m\u001b[38;5;124mvalue\u001b[39m\u001b[38;5;124m\"\u001b[39m] \u001b[38;5;241m=\u001b[39m \u001b[38;5;28mself\u001b[39m\u001b[38;5;241m.\u001b[39m_unwrap_value(response\u001b[38;5;241m.\u001b[39mget(\u001b[38;5;124m\"\u001b[39m\u001b[38;5;124mvalue\u001b[39m\u001b[38;5;124m\"\u001b[39m, \u001b[38;5;28;01mNone\u001b[39;00m))\n\u001b[0;32m    347\u001b[0m     \u001b[38;5;28;01mreturn\u001b[39;00m response\n",
      "File \u001b[1;32m~\\anaconda3\\Lib\\site-packages\\selenium\\webdriver\\remote\\errorhandler.py:229\u001b[0m, in \u001b[0;36mErrorHandler.check_response\u001b[1;34m(self, response)\u001b[0m\n\u001b[0;32m    227\u001b[0m         alert_text \u001b[38;5;241m=\u001b[39m value[\u001b[38;5;124m\"\u001b[39m\u001b[38;5;124malert\u001b[39m\u001b[38;5;124m\"\u001b[39m]\u001b[38;5;241m.\u001b[39mget(\u001b[38;5;124m\"\u001b[39m\u001b[38;5;124mtext\u001b[39m\u001b[38;5;124m\"\u001b[39m)\n\u001b[0;32m    228\u001b[0m     \u001b[38;5;28;01mraise\u001b[39;00m exception_class(message, screen, stacktrace, alert_text)  \u001b[38;5;66;03m# type: ignore[call-arg]  # mypy is not smart enough here\u001b[39;00m\n\u001b[1;32m--> 229\u001b[0m \u001b[38;5;28;01mraise\u001b[39;00m exception_class(message, screen, stacktrace)\n",
      "\u001b[1;31mWebDriverException\u001b[0m: Message: disconnected: not connected to DevTools\n  (failed to check if window was closed: disconnected: not connected to DevTools)\n  (Session info: chrome=116.0.5845.111)\nStacktrace:\n\tGetHandleVerifier [0x00007FF6314352A2+57122]\n\t(No symbol) [0x00007FF6313AEA92]\n\t(No symbol) [0x00007FF63127E3AB]\n\t(No symbol) [0x00007FF63126BA47]\n\t(No symbol) [0x00007FF63126B6C0]\n\t(No symbol) [0x00007FF63127FA71]\n\t(No symbol) [0x00007FF6312EE27F]\n\t(No symbol) [0x00007FF6312D6DB3]\n\t(No symbol) [0x00007FF6312AD2B1]\n\t(No symbol) [0x00007FF6312AE494]\n\tGetHandleVerifier [0x00007FF6316DEF82+2849794]\n\tGetHandleVerifier [0x00007FF631731D24+3189156]\n\tGetHandleVerifier [0x00007FF63172ACAF+3160367]\n\tGetHandleVerifier [0x00007FF6314C6D06+653702]\n\t(No symbol) [0x00007FF6313BA208]\n\t(No symbol) [0x00007FF6313B62C4]\n\t(No symbol) [0x00007FF6313B63F6]\n\t(No symbol) [0x00007FF6313A67A3]\n\tBaseThreadInitThunk [0x00007FFD06AB26AD+29]\n\tRtlUserThreadStart [0x00007FFD073EAA68+40]\n"
     ]
    }
   ],
   "source": [
    "# 페이지 넘기기\n",
    "pages = driver.find_elements(By.CSS_SELECTOR, \".float-center> ul> li> a.on + \") \n",
    "# a.on만 지금 눌러져 있는거 하나밖에 없는거 확인 완료"
   ]
  },
  {
   "cell_type": "code",
   "execution_count": null,
   "id": "311a3126",
   "metadata": {},
   "outputs": [],
   "source": [
    "ㄹ"
   ]
  }
 ],
 "metadata": {
  "hide_input": false,
  "kernelspec": {
   "display_name": "Python 3 (ipykernel)",
   "language": "python",
   "name": "python3"
  },
  "language_info": {
   "codemirror_mode": {
    "name": "ipython",
    "version": 3
   },
   "file_extension": ".py",
   "mimetype": "text/x-python",
   "name": "python",
   "nbconvert_exporter": "python",
   "pygments_lexer": "ipython3",
   "version": "3.11.4"
  },
  "nbTranslate": {
   "displayLangs": [
    "*"
   ],
   "hotkey": "alt-t",
   "langInMainMenu": true,
   "sourceLang": "en",
   "targetLang": "fr",
   "useGoogleTranslate": true
  },
  "toc": {
   "base_numbering": 1,
   "nav_menu": {},
   "number_sections": true,
   "sideBar": true,
   "skip_h1_title": false,
   "title_cell": "Table of Contents",
   "title_sidebar": "Contents",
   "toc_cell": false,
   "toc_position": {},
   "toc_section_display": true,
   "toc_window_display": false
  },
  "varInspector": {
   "cols": {
    "lenName": 16,
    "lenType": 16,
    "lenVar": 40
   },
   "kernels_config": {
    "python": {
     "delete_cmd_postfix": "",
     "delete_cmd_prefix": "del ",
     "library": "var_list.py",
     "varRefreshCmd": "print(var_dic_list())"
    },
    "r": {
     "delete_cmd_postfix": ") ",
     "delete_cmd_prefix": "rm(",
     "library": "var_list.r",
     "varRefreshCmd": "cat(var_dic_list()) "
    }
   },
   "types_to_exclude": [
    "module",
    "function",
    "builtin_function_or_method",
    "instance",
    "_Feature"
   ],
   "window_display": false
  }
 },
 "nbformat": 4,
 "nbformat_minor": 5
}
