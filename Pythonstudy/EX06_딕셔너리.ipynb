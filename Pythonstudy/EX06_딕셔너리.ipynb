{
 "cells": [
  {
   "cell_type": "code",
   "execution_count": 15,
   "id": "84594cc5",
   "metadata": {},
   "outputs": [
    {
     "name": "stdout",
     "output_type": "stream",
     "text": [
      "{'name': '김미희', 'age': 20, 'phone': '010-2407-1465', 'birth': '07/05'}\n"
     ]
    }
   ],
   "source": [
    "# 딕셔너리 값 추가\n",
    "dic1 = { 'name': '김미희', 'age':20, 'phone':'010-2407-1465'}\n",
    "dic1['birth']='07/05'\n",
    "print(dic1)"
   ]
  },
  {
   "cell_type": "code",
   "execution_count": null,
   "id": "91b60624",
   "metadata": {},
   "outputs": [],
   "source": []
  },
  {
   "cell_type": "code",
   "execution_count": null,
   "id": "5083adbc",
   "metadata": {},
   "outputs": [],
   "source": []
  },
  {
   "cell_type": "code",
   "execution_count": 16,
   "id": "ba44e17a",
   "metadata": {},
   "outputs": [
    {
     "name": "stdout",
     "output_type": "stream",
     "text": [
      "김미희\n"
     ]
    }
   ],
   "source": [
    "# 딕셔너리 값 가져오기\n",
    "print(dic1['name'])"
   ]
  },
  {
   "cell_type": "code",
   "execution_count": 17,
   "id": "886f868c",
   "metadata": {},
   "outputs": [
    {
     "name": "stdout",
     "output_type": "stream",
     "text": [
      "김미희\n"
     ]
    }
   ],
   "source": [
    "addr =[ { 'name': '김미희', 'age':20, 'phone':'010-2407-1465'},{'name':'박병관', 'age':20,'phone':'010-1234-5678'}]\n",
    "print(addr[0]['name'])"
   ]
  },
  {
   "cell_type": "code",
   "execution_count": 18,
   "id": "f512df71",
   "metadata": {},
   "outputs": [
    {
     "data": {
      "text/plain": [
       "20"
      ]
     },
     "execution_count": 18,
     "metadata": {},
     "output_type": "execute_result"
    }
   ],
   "source": [
    "# 딕셔너리 값 가져오기\n",
    "# 딕셔너리명.get(key)\n",
    "dic1.get('age')"
   ]
  },
  {
   "cell_type": "code",
   "execution_count": 19,
   "id": "6d76e60c",
   "metadata": {},
   "outputs": [
    {
     "name": "stdout",
     "output_type": "stream",
     "text": [
      "[('name', '김미희'), ('age', 20), ('phone', '010-2407-1465'), ('birth', '07/05')]\n"
     ]
    }
   ],
   "source": [
    "# 딕셔너리 ket, value로 가져오가\n",
    "#print(dic1.items())\n",
    "print(list(dic1.items()))"
   ]
  },
  {
   "cell_type": "code",
   "execution_count": 20,
   "id": "5d50888e",
   "metadata": {},
   "outputs": [],
   "source": [
    "# 값 삭제하기\n",
    "# del 딕셔너리 명[key]\n",
    "del dic1['age']"
   ]
  },
  {
   "cell_type": "code",
   "execution_count": 23,
   "id": "bd35be5f",
   "metadata": {},
   "outputs": [
    {
     "data": {
      "text/plain": [
       "{}"
      ]
     },
     "execution_count": 23,
     "metadata": {},
     "output_type": "execute_result"
    }
   ],
   "source": [
    "dic1.clear()\n",
    "dic1"
   ]
  },
  {
   "cell_type": "code",
   "execution_count": 24,
   "id": "42fbc903",
   "metadata": {},
   "outputs": [],
   "source": [
    "dic2 = { 'name': '김미희', 'age':20, 'phone':'010-2407-1465'}"
   ]
  },
  {
   "cell_type": "code",
   "execution_count": 25,
   "id": "d9e514d4",
   "metadata": {},
   "outputs": [
    {
     "name": "stdout",
     "output_type": "stream",
     "text": [
      "김미희\n",
      "20\n",
      "010-2407-1465\n"
     ]
    }
   ],
   "source": [
    "# 딕셔너리를 멤버연산자와 같이 사용하기\n",
    "for value in dic2.values():\n",
    "    print(value)"
   ]
  },
  {
   "cell_type": "code",
   "execution_count": 26,
   "id": "a0497909",
   "metadata": {},
   "outputs": [
    {
     "data": {
      "text/plain": [
       "True"
      ]
     },
     "execution_count": 26,
     "metadata": {},
     "output_type": "execute_result"
    }
   ],
   "source": [
    "20 in dic2.values()"
   ]
  },
  {
   "cell_type": "code",
   "execution_count": null,
   "id": "42dbf961",
   "metadata": {},
   "outputs": [],
   "source": []
  }
 ],
 "metadata": {
  "kernelspec": {
   "display_name": "Python 3 (ipykernel)",
   "language": "python",
   "name": "python3"
  },
  "language_info": {
   "codemirror_mode": {
    "name": "ipython",
    "version": 3
   },
   "file_extension": ".py",
   "mimetype": "text/x-python",
   "name": "python",
   "nbconvert_exporter": "python",
   "pygments_lexer": "ipython3",
   "version": "3.10.9"
  }
 },
 "nbformat": 4,
 "nbformat_minor": 5
}
