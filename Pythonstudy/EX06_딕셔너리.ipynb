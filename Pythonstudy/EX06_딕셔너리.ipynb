{
 "cells": [
  {
   "cell_type": "code",
   "execution_count": 10,
   "id": "84594cc5",
   "metadata": {
    "ExecuteTime": {
     "end_time": "2023-09-05T06:13:51.285625Z",
     "start_time": "2023-09-05T06:13:51.282294Z"
    }
   },
   "outputs": [
    {
     "name": "stdout",
     "output_type": "stream",
     "text": [
      "{'name': '김김김', 'age': 20, 'phone': '010-0000-0000', 'birth': '07/05'}\n"
     ]
    }
   ],
   "source": [
    "# 딕셔너리 값 추가\n",
    "dic1 = { 'name': '김김김', 'age':20, 'phone':'010-0000-0000'}\n",
    "dic1['birth']='07/05'\n",
    "print(dic1)"
   ]
  },
  {
   "cell_type": "code",
   "execution_count": 11,
   "id": "ba44e17a",
   "metadata": {
    "ExecuteTime": {
     "end_time": "2023-09-05T06:13:51.483819Z",
     "start_time": "2023-09-05T06:13:51.480536Z"
    }
   },
   "outputs": [
    {
     "name": "stdout",
     "output_type": "stream",
     "text": [
      "김김김\n"
     ]
    }
   ],
   "source": [
    "# 딕셔너리 값 가져오기\n",
    "print(dic1['name'])"
   ]
  },
  {
   "cell_type": "code",
   "execution_count": 12,
   "id": "886f868c",
   "metadata": {
    "ExecuteTime": {
     "end_time": "2023-09-05T06:13:51.709750Z",
     "start_time": "2023-09-05T06:13:51.705517Z"
    }
   },
   "outputs": [
    {
     "name": "stdout",
     "output_type": "stream",
     "text": [
      "김미희\n"
     ]
    }
   ],
   "source": [
    "addr =[ { 'name': '김미희', 'age':20, 'phone':'010-2407-1465'},{'name':'박박박', 'age':20,'phone':'010-1234-5678'}]\n",
    "print(addr[0]['name'])"
   ]
  },
  {
   "cell_type": "code",
   "execution_count": 13,
   "id": "f512df71",
   "metadata": {
    "ExecuteTime": {
     "end_time": "2023-09-05T06:13:51.916625Z",
     "start_time": "2023-09-05T06:13:51.911593Z"
    }
   },
   "outputs": [
    {
     "data": {
      "text/plain": [
       "20"
      ]
     },
     "execution_count": 13,
     "metadata": {},
     "output_type": "execute_result"
    }
   ],
   "source": [
    "# 딕셔너리 값 가져오기\n",
    "# 딕셔너리명.get(key)\n",
    "dic1.get('age')"
   ]
  },
  {
   "cell_type": "code",
   "execution_count": 14,
   "id": "6d76e60c",
   "metadata": {
    "ExecuteTime": {
     "end_time": "2023-09-05T06:13:52.131912Z",
     "start_time": "2023-09-05T06:13:52.127612Z"
    }
   },
   "outputs": [
    {
     "name": "stdout",
     "output_type": "stream",
     "text": [
      "[('name', '김김김'), ('age', 20), ('phone', '010-0000-0000'), ('birth', '07/05')]\n"
     ]
    }
   ],
   "source": [
    "# 딕셔너리 ket, value로 가져오가\n",
    "#print(dic1.items())\n",
    "print(list(dic1.items()))"
   ]
  },
  {
   "cell_type": "code",
   "execution_count": 15,
   "id": "5d50888e",
   "metadata": {
    "ExecuteTime": {
     "end_time": "2023-09-05T06:13:52.331204Z",
     "start_time": "2023-09-05T06:13:52.328287Z"
    }
   },
   "outputs": [],
   "source": [
    "# 값 삭제하기\n",
    "# del 딕셔너리 명[key]\n",
    "del dic1['age']"
   ]
  },
  {
   "cell_type": "code",
   "execution_count": 16,
   "id": "bd35be5f",
   "metadata": {
    "ExecuteTime": {
     "end_time": "2023-09-05T06:13:52.516951Z",
     "start_time": "2023-09-05T06:13:52.512169Z"
    }
   },
   "outputs": [
    {
     "data": {
      "text/plain": [
       "{}"
      ]
     },
     "execution_count": 16,
     "metadata": {},
     "output_type": "execute_result"
    }
   ],
   "source": [
    "dic1.clear()\n",
    "dic1"
   ]
  },
  {
   "cell_type": "code",
   "execution_count": 17,
   "id": "42fbc903",
   "metadata": {
    "ExecuteTime": {
     "end_time": "2023-09-05T06:13:52.709347Z",
     "start_time": "2023-09-05T06:13:52.705541Z"
    }
   },
   "outputs": [],
   "source": [
    "dic2 = { 'name': '김김김', 'age':20, 'phone':'010-0000-0000'}"
   ]
  },
  {
   "cell_type": "code",
   "execution_count": 18,
   "id": "d9e514d4",
   "metadata": {
    "ExecuteTime": {
     "end_time": "2023-09-05T06:13:52.916161Z",
     "start_time": "2023-09-05T06:13:52.911789Z"
    }
   },
   "outputs": [
    {
     "name": "stdout",
     "output_type": "stream",
     "text": [
      "김김김\n",
      "20\n",
      "010-0000-0000\n"
     ]
    }
   ],
   "source": [
    "# 딕셔너리를 멤버연산자와 같이 사용하기\n",
    "for value in dic2.values():\n",
    "    print(value)"
   ]
  },
  {
   "cell_type": "code",
   "execution_count": 19,
   "id": "a0497909",
   "metadata": {
    "ExecuteTime": {
     "end_time": "2023-09-05T06:13:53.349474Z",
     "start_time": "2023-09-05T06:13:53.343964Z"
    }
   },
   "outputs": [
    {
     "data": {
      "text/plain": [
       "True"
      ]
     },
     "execution_count": 19,
     "metadata": {},
     "output_type": "execute_result"
    }
   ],
   "source": [
    "20 in dic2.values()"
   ]
  }
 ],
 "metadata": {
  "hide_input": false,
  "kernelspec": {
   "display_name": "Python 3 (ipykernel)",
   "language": "python",
   "name": "python3"
  },
  "language_info": {
   "codemirror_mode": {
    "name": "ipython",
    "version": 3
   },
   "file_extension": ".py",
   "mimetype": "text/x-python",
   "name": "python",
   "nbconvert_exporter": "python",
   "pygments_lexer": "ipython3",
   "version": "3.11.4"
  },
  "nbTranslate": {
   "displayLangs": [
    "*"
   ],
   "hotkey": "alt-t",
   "langInMainMenu": true,
   "sourceLang": "en",
   "targetLang": "fr",
   "useGoogleTranslate": true
  },
  "toc": {
   "base_numbering": 1,
   "nav_menu": {},
   "number_sections": true,
   "sideBar": true,
   "skip_h1_title": false,
   "title_cell": "Table of Contents",
   "title_sidebar": "Contents",
   "toc_cell": false,
   "toc_position": {},
   "toc_section_display": true,
   "toc_window_display": false
  },
  "varInspector": {
   "cols": {
    "lenName": 16,
    "lenType": 16,
    "lenVar": 40
   },
   "kernels_config": {
    "python": {
     "delete_cmd_postfix": "",
     "delete_cmd_prefix": "del ",
     "library": "var_list.py",
     "varRefreshCmd": "print(var_dic_list())"
    },
    "r": {
     "delete_cmd_postfix": ") ",
     "delete_cmd_prefix": "rm(",
     "library": "var_list.r",
     "varRefreshCmd": "cat(var_dic_list()) "
    }
   },
   "types_to_exclude": [
    "module",
    "function",
    "builtin_function_or_method",
    "instance",
    "_Feature"
   ],
   "window_display": false
  }
 },
 "nbformat": 4,
 "nbformat_minor": 5
}
