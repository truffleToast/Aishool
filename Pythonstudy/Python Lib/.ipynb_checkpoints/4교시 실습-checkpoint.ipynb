{
 "cells": [
  {
   "cell_type": "code",
   "execution_count": 1,
   "id": "c1f82d07",
   "metadata": {
    "ExecuteTime": {
     "end_time": "2023-08-23T06:19:46.894369Z",
     "start_time": "2023-08-23T06:19:46.403222Z"
    }
   },
   "outputs": [],
   "source": [
    "import pandas as pd"
   ]
  },
  {
   "cell_type": "code",
   "execution_count": 2,
   "id": "e4935dbd",
   "metadata": {
    "ExecuteTime": {
     "end_time": "2023-08-23T06:19:46.913826Z",
     "start_time": "2023-08-23T06:19:46.895376Z"
    }
   },
   "outputs": [],
   "source": [
    "c2015 = pd.read_csv(\"./crime/2015.csv\" , encoding= 'cp949', index_col='관서명')\n",
    "c2016 = pd.read_csv(\"./crime/2016.csv\" , encoding= 'cp949', index_col='관서명')\n",
    "c2017 = pd.read_csv(\"./crime/2017.csv\" , encoding= 'cp949', index_col='관서명')"
   ]
  },
  {
   "cell_type": "code",
   "execution_count": 3,
   "id": "85f78182",
   "metadata": {
    "ExecuteTime": {
     "end_time": "2023-08-23T06:19:46.930018Z",
     "start_time": "2023-08-23T06:19:46.914827Z"
    }
   },
   "outputs": [
    {
     "data": {
      "text/html": [
       "<div>\n",
       "<style scoped>\n",
       "    .dataframe tbody tr th:only-of-type {\n",
       "        vertical-align: middle;\n",
       "    }\n",
       "\n",
       "    .dataframe tbody tr th {\n",
       "        vertical-align: top;\n",
       "    }\n",
       "\n",
       "    .dataframe thead th {\n",
       "        text-align: right;\n",
       "    }\n",
       "</style>\n",
       "<table border=\"1\" class=\"dataframe\">\n",
       "  <thead>\n",
       "    <tr style=\"text-align: right;\">\n",
       "      <th></th>\n",
       "      <th>구분</th>\n",
       "      <th>살인</th>\n",
       "      <th>강도</th>\n",
       "      <th>강간·강제추행</th>\n",
       "      <th>절도</th>\n",
       "      <th>폭력</th>\n",
       "    </tr>\n",
       "    <tr>\n",
       "      <th>관서명</th>\n",
       "      <th></th>\n",
       "      <th></th>\n",
       "      <th></th>\n",
       "      <th></th>\n",
       "      <th></th>\n",
       "      <th></th>\n",
       "    </tr>\n",
       "  </thead>\n",
       "  <tbody>\n",
       "    <tr>\n",
       "      <th>광주지방경찰청계</th>\n",
       "      <td>발생건수</td>\n",
       "      <td>18</td>\n",
       "      <td>44</td>\n",
       "      <td>750</td>\n",
       "      <td>8425</td>\n",
       "      <td>9593</td>\n",
       "    </tr>\n",
       "    <tr>\n",
       "      <th>광주동부경찰서</th>\n",
       "      <td>발생건수</td>\n",
       "      <td>3</td>\n",
       "      <td>5</td>\n",
       "      <td>92</td>\n",
       "      <td>1100</td>\n",
       "      <td>1155</td>\n",
       "    </tr>\n",
       "    <tr>\n",
       "      <th>광주서부경찰서</th>\n",
       "      <td>발생건수</td>\n",
       "      <td>5</td>\n",
       "      <td>10</td>\n",
       "      <td>172</td>\n",
       "      <td>2050</td>\n",
       "      <td>2483</td>\n",
       "    </tr>\n",
       "    <tr>\n",
       "      <th>광주남부경찰서</th>\n",
       "      <td>발생건수</td>\n",
       "      <td>1</td>\n",
       "      <td>3</td>\n",
       "      <td>70</td>\n",
       "      <td>962</td>\n",
       "      <td>1081</td>\n",
       "    </tr>\n",
       "    <tr>\n",
       "      <th>광주북부경찰서</th>\n",
       "      <td>발생건수</td>\n",
       "      <td>5</td>\n",
       "      <td>14</td>\n",
       "      <td>256</td>\n",
       "      <td>2570</td>\n",
       "      <td>2621</td>\n",
       "    </tr>\n",
       "    <tr>\n",
       "      <th>광주광산경찰서</th>\n",
       "      <td>발생건수</td>\n",
       "      <td>4</td>\n",
       "      <td>12</td>\n",
       "      <td>160</td>\n",
       "      <td>1743</td>\n",
       "      <td>2253</td>\n",
       "    </tr>\n",
       "  </tbody>\n",
       "</table>\n",
       "</div>"
      ],
      "text/plain": [
       "            구분  살인  강도  강간·강제추행    절도    폭력\n",
       "관서명                                        \n",
       "광주지방경찰청계  발생건수  18  44      750  8425  9593\n",
       "광주동부경찰서   발생건수   3   5       92  1100  1155\n",
       "광주서부경찰서   발생건수   5  10      172  2050  2483\n",
       "광주남부경찰서   발생건수   1   3       70   962  1081\n",
       "광주북부경찰서   발생건수   5  14      256  2570  2621\n",
       "광주광산경찰서   발생건수   4  12      160  1743  2253"
      ]
     },
     "execution_count": 3,
     "metadata": {},
     "output_type": "execute_result"
    }
   ],
   "source": [
    "acc2015 = c2015[c2015['구분'] == '발생건수']\n",
    "acc2015"
   ]
  },
  {
   "cell_type": "code",
   "execution_count": 4,
   "id": "adad4295",
   "metadata": {
    "ExecuteTime": {
     "end_time": "2023-08-23T06:19:46.939368Z",
     "start_time": "2023-08-23T06:19:46.931016Z"
    }
   },
   "outputs": [
    {
     "data": {
      "text/html": [
       "<div>\n",
       "<style scoped>\n",
       "    .dataframe tbody tr th:only-of-type {\n",
       "        vertical-align: middle;\n",
       "    }\n",
       "\n",
       "    .dataframe tbody tr th {\n",
       "        vertical-align: top;\n",
       "    }\n",
       "\n",
       "    .dataframe thead th {\n",
       "        text-align: right;\n",
       "    }\n",
       "</style>\n",
       "<table border=\"1\" class=\"dataframe\">\n",
       "  <thead>\n",
       "    <tr style=\"text-align: right;\">\n",
       "      <th></th>\n",
       "      <th>구분</th>\n",
       "      <th>살인</th>\n",
       "      <th>강도</th>\n",
       "      <th>강간·강제추행</th>\n",
       "      <th>절도</th>\n",
       "      <th>폭력</th>\n",
       "    </tr>\n",
       "    <tr>\n",
       "      <th>관서명</th>\n",
       "      <th></th>\n",
       "      <th></th>\n",
       "      <th></th>\n",
       "      <th></th>\n",
       "      <th></th>\n",
       "      <th></th>\n",
       "    </tr>\n",
       "  </thead>\n",
       "  <tbody>\n",
       "    <tr>\n",
       "      <th>광주지방경찰청계</th>\n",
       "      <td>발생건수</td>\n",
       "      <td>17</td>\n",
       "      <td>47</td>\n",
       "      <td>701</td>\n",
       "      <td>6052</td>\n",
       "      <td>8599</td>\n",
       "    </tr>\n",
       "    <tr>\n",
       "      <th>광주동부경찰서</th>\n",
       "      <td>발생건수</td>\n",
       "      <td>3</td>\n",
       "      <td>8</td>\n",
       "      <td>83</td>\n",
       "      <td>832</td>\n",
       "      <td>1142</td>\n",
       "    </tr>\n",
       "    <tr>\n",
       "      <th>광주서부경찰서</th>\n",
       "      <td>발생건수</td>\n",
       "      <td>2</td>\n",
       "      <td>11</td>\n",
       "      <td>174</td>\n",
       "      <td>1417</td>\n",
       "      <td>2288</td>\n",
       "    </tr>\n",
       "    <tr>\n",
       "      <th>광주남부경찰서</th>\n",
       "      <td>발생건수</td>\n",
       "      <td>1</td>\n",
       "      <td>4</td>\n",
       "      <td>64</td>\n",
       "      <td>768</td>\n",
       "      <td>1028</td>\n",
       "    </tr>\n",
       "    <tr>\n",
       "      <th>광주북부경찰서</th>\n",
       "      <td>발생건수</td>\n",
       "      <td>6</td>\n",
       "      <td>7</td>\n",
       "      <td>205</td>\n",
       "      <td>1788</td>\n",
       "      <td>2142</td>\n",
       "    </tr>\n",
       "    <tr>\n",
       "      <th>광주광산경찰서</th>\n",
       "      <td>발생건수</td>\n",
       "      <td>5</td>\n",
       "      <td>17</td>\n",
       "      <td>175</td>\n",
       "      <td>1247</td>\n",
       "      <td>1999</td>\n",
       "    </tr>\n",
       "  </tbody>\n",
       "</table>\n",
       "</div>"
      ],
      "text/plain": [
       "            구분  살인  강도  강간·강제추행    절도    폭력\n",
       "관서명                                        \n",
       "광주지방경찰청계  발생건수  17  47      701  6052  8599\n",
       "광주동부경찰서   발생건수   3   8       83   832  1142\n",
       "광주서부경찰서   발생건수   2  11      174  1417  2288\n",
       "광주남부경찰서   발생건수   1   4       64   768  1028\n",
       "광주북부경찰서   발생건수   6   7      205  1788  2142\n",
       "광주광산경찰서   발생건수   5  17      175  1247  1999"
      ]
     },
     "execution_count": 4,
     "metadata": {},
     "output_type": "execute_result"
    }
   ],
   "source": [
    "acc2016 = c2016[c2016['구분'] == '발생건수']\n",
    "acc2016"
   ]
  },
  {
   "cell_type": "code",
   "execution_count": 5,
   "id": "f0a31d15",
   "metadata": {
    "ExecuteTime": {
     "end_time": "2023-08-23T06:19:46.948639Z",
     "start_time": "2023-08-23T06:19:46.940368Z"
    }
   },
   "outputs": [
    {
     "data": {
      "text/html": [
       "<div>\n",
       "<style scoped>\n",
       "    .dataframe tbody tr th:only-of-type {\n",
       "        vertical-align: middle;\n",
       "    }\n",
       "\n",
       "    .dataframe tbody tr th {\n",
       "        vertical-align: top;\n",
       "    }\n",
       "\n",
       "    .dataframe thead th {\n",
       "        text-align: right;\n",
       "    }\n",
       "</style>\n",
       "<table border=\"1\" class=\"dataframe\">\n",
       "  <thead>\n",
       "    <tr style=\"text-align: right;\">\n",
       "      <th></th>\n",
       "      <th>구분</th>\n",
       "      <th>살인</th>\n",
       "      <th>강도</th>\n",
       "      <th>강간·강제추행</th>\n",
       "      <th>절도</th>\n",
       "      <th>폭력</th>\n",
       "    </tr>\n",
       "    <tr>\n",
       "      <th>관서명</th>\n",
       "      <th></th>\n",
       "      <th></th>\n",
       "      <th></th>\n",
       "      <th></th>\n",
       "      <th></th>\n",
       "      <th></th>\n",
       "    </tr>\n",
       "  </thead>\n",
       "  <tbody>\n",
       "    <tr>\n",
       "      <th>광주지방경찰청계</th>\n",
       "      <td>발생건수</td>\n",
       "      <td>9</td>\n",
       "      <td>33</td>\n",
       "      <td>725</td>\n",
       "      <td>4816</td>\n",
       "      <td>8366</td>\n",
       "    </tr>\n",
       "    <tr>\n",
       "      <th>광주지방경찰청</th>\n",
       "      <td>발생건수</td>\n",
       "      <td>0</td>\n",
       "      <td>0</td>\n",
       "      <td>0</td>\n",
       "      <td>0</td>\n",
       "      <td>0</td>\n",
       "    </tr>\n",
       "    <tr>\n",
       "      <th>광주동부경찰서</th>\n",
       "      <td>발생건수</td>\n",
       "      <td>3</td>\n",
       "      <td>5</td>\n",
       "      <td>77</td>\n",
       "      <td>624</td>\n",
       "      <td>1090</td>\n",
       "    </tr>\n",
       "    <tr>\n",
       "      <th>광주서부경찰서</th>\n",
       "      <td>발생건수</td>\n",
       "      <td>0</td>\n",
       "      <td>7</td>\n",
       "      <td>196</td>\n",
       "      <td>1142</td>\n",
       "      <td>2293</td>\n",
       "    </tr>\n",
       "    <tr>\n",
       "      <th>광주남부경찰서</th>\n",
       "      <td>발생건수</td>\n",
       "      <td>0</td>\n",
       "      <td>4</td>\n",
       "      <td>68</td>\n",
       "      <td>577</td>\n",
       "      <td>898</td>\n",
       "    </tr>\n",
       "    <tr>\n",
       "      <th>광주북부경찰서</th>\n",
       "      <td>발생건수</td>\n",
       "      <td>3</td>\n",
       "      <td>5</td>\n",
       "      <td>215</td>\n",
       "      <td>1546</td>\n",
       "      <td>2176</td>\n",
       "    </tr>\n",
       "    <tr>\n",
       "      <th>광주광산경찰서</th>\n",
       "      <td>발생건수</td>\n",
       "      <td>3</td>\n",
       "      <td>12</td>\n",
       "      <td>169</td>\n",
       "      <td>927</td>\n",
       "      <td>1909</td>\n",
       "    </tr>\n",
       "  </tbody>\n",
       "</table>\n",
       "</div>"
      ],
      "text/plain": [
       "            구분  살인  강도  강간·강제추행    절도    폭력\n",
       "관서명                                        \n",
       "광주지방경찰청계  발생건수   9  33      725  4816  8366\n",
       "광주지방경찰청   발생건수   0   0        0     0     0\n",
       "광주동부경찰서   발생건수   3   5       77   624  1090\n",
       "광주서부경찰서   발생건수   0   7      196  1142  2293\n",
       "광주남부경찰서   발생건수   0   4       68   577   898\n",
       "광주북부경찰서   발생건수   3   5      215  1546  2176\n",
       "광주광산경찰서   발생건수   3  12      169   927  1909"
      ]
     },
     "execution_count": 5,
     "metadata": {},
     "output_type": "execute_result"
    }
   ],
   "source": [
    "acc2017 = c2017[c2017['구분'] == '발생건수']\n",
    "acc2017"
   ]
  },
  {
   "cell_type": "code",
   "execution_count": 6,
   "id": "16d2b807",
   "metadata": {
    "ExecuteTime": {
     "end_time": "2023-08-23T06:19:46.953729Z",
     "start_time": "2023-08-23T06:19:46.950635Z"
    }
   },
   "outputs": [],
   "source": [
    "sacc2015 =acc2015.loc[:,'살인':].sum(axis=1)\n",
    "sacc2015.name = '2015년총계'"
   ]
  },
  {
   "cell_type": "code",
   "execution_count": 7,
   "id": "04019db8",
   "metadata": {
    "ExecuteTime": {
     "end_time": "2023-08-23T06:19:46.960855Z",
     "start_time": "2023-08-23T06:19:46.955853Z"
    }
   },
   "outputs": [],
   "source": [
    "sacc2016 =acc2016.loc[:,'살인':].sum(axis=1)\n",
    "sacc2016.name = '2016년총계'"
   ]
  },
  {
   "cell_type": "code",
   "execution_count": 8,
   "id": "37e0d987",
   "metadata": {
    "ExecuteTime": {
     "end_time": "2023-08-23T06:19:46.968249Z",
     "start_time": "2023-08-23T06:19:46.964115Z"
    }
   },
   "outputs": [],
   "source": [
    "sacc2017 =acc2017.loc[:,'살인':].sum(axis=1)\n",
    "sacc2017.name = '2017년총계'"
   ]
  },
  {
   "cell_type": "code",
   "execution_count": 9,
   "id": "30eb1af0",
   "metadata": {
    "ExecuteTime": {
     "end_time": "2023-08-23T06:19:46.978223Z",
     "start_time": "2023-08-23T06:19:46.969535Z"
    }
   },
   "outputs": [
    {
     "data": {
      "text/html": [
       "<div>\n",
       "<style scoped>\n",
       "    .dataframe tbody tr th:only-of-type {\n",
       "        vertical-align: middle;\n",
       "    }\n",
       "\n",
       "    .dataframe tbody tr th {\n",
       "        vertical-align: top;\n",
       "    }\n",
       "\n",
       "    .dataframe thead th {\n",
       "        text-align: right;\n",
       "    }\n",
       "</style>\n",
       "<table border=\"1\" class=\"dataframe\">\n",
       "  <thead>\n",
       "    <tr style=\"text-align: right;\">\n",
       "      <th></th>\n",
       "      <th>2015년총계</th>\n",
       "      <th>2016년총계</th>\n",
       "      <th>2017년총계</th>\n",
       "    </tr>\n",
       "    <tr>\n",
       "      <th>관서명</th>\n",
       "      <th></th>\n",
       "      <th></th>\n",
       "      <th></th>\n",
       "    </tr>\n",
       "  </thead>\n",
       "  <tbody>\n",
       "    <tr>\n",
       "      <th>광주지방경찰청계</th>\n",
       "      <td>18830</td>\n",
       "      <td>15416</td>\n",
       "      <td>13949</td>\n",
       "    </tr>\n",
       "    <tr>\n",
       "      <th>광주동부경찰서</th>\n",
       "      <td>2355</td>\n",
       "      <td>2068</td>\n",
       "      <td>1799</td>\n",
       "    </tr>\n",
       "    <tr>\n",
       "      <th>광주서부경찰서</th>\n",
       "      <td>4720</td>\n",
       "      <td>3892</td>\n",
       "      <td>3638</td>\n",
       "    </tr>\n",
       "    <tr>\n",
       "      <th>광주남부경찰서</th>\n",
       "      <td>2117</td>\n",
       "      <td>1865</td>\n",
       "      <td>1547</td>\n",
       "    </tr>\n",
       "    <tr>\n",
       "      <th>광주북부경찰서</th>\n",
       "      <td>5466</td>\n",
       "      <td>4148</td>\n",
       "      <td>3945</td>\n",
       "    </tr>\n",
       "    <tr>\n",
       "      <th>광주광산경찰서</th>\n",
       "      <td>4172</td>\n",
       "      <td>3443</td>\n",
       "      <td>3020</td>\n",
       "    </tr>\n",
       "  </tbody>\n",
       "</table>\n",
       "</div>"
      ],
      "text/plain": [
       "          2015년총계  2016년총계  2017년총계\n",
       "관서명                                \n",
       "광주지방경찰청계    18830    15416    13949\n",
       "광주동부경찰서      2355     2068     1799\n",
       "광주서부경찰서      4720     3892     3638\n",
       "광주남부경찰서      2117     1865     1547\n",
       "광주북부경찰서      5466     4148     3945\n",
       "광주광산경찰서      4172     3443     3020"
      ]
     },
     "execution_count": 9,
     "metadata": {},
     "output_type": "execute_result"
    }
   ],
   "source": [
    "total = pd.concat([sacc2015,sacc2016,sacc2017], axis =1, join='inner')\n",
    "total"
   ]
  },
  {
   "cell_type": "code",
   "execution_count": 10,
   "id": "9fba1fb4",
   "metadata": {
    "ExecuteTime": {
     "end_time": "2023-08-23T06:19:46.993552Z",
     "start_time": "2023-08-23T06:19:46.982212Z"
    }
   },
   "outputs": [
    {
     "data": {
      "text/html": [
       "<div>\n",
       "<style scoped>\n",
       "    .dataframe tbody tr th:only-of-type {\n",
       "        vertical-align: middle;\n",
       "    }\n",
       "\n",
       "    .dataframe tbody tr th {\n",
       "        vertical-align: top;\n",
       "    }\n",
       "\n",
       "    .dataframe thead th {\n",
       "        text-align: right;\n",
       "    }\n",
       "</style>\n",
       "<table border=\"1\" class=\"dataframe\">\n",
       "  <thead>\n",
       "    <tr style=\"text-align: right;\">\n",
       "      <th></th>\n",
       "      <th>2015년총계</th>\n",
       "      <th>2016년총계</th>\n",
       "      <th>2017년총계</th>\n",
       "      <th>2015-2016 증감율</th>\n",
       "    </tr>\n",
       "    <tr>\n",
       "      <th>관서명</th>\n",
       "      <th></th>\n",
       "      <th></th>\n",
       "      <th></th>\n",
       "      <th></th>\n",
       "    </tr>\n",
       "  </thead>\n",
       "  <tbody>\n",
       "    <tr>\n",
       "      <th>광주지방경찰청계</th>\n",
       "      <td>18830</td>\n",
       "      <td>15416</td>\n",
       "      <td>13949</td>\n",
       "      <td>-18.130643</td>\n",
       "    </tr>\n",
       "    <tr>\n",
       "      <th>광주동부경찰서</th>\n",
       "      <td>2355</td>\n",
       "      <td>2068</td>\n",
       "      <td>1799</td>\n",
       "      <td>-12.186837</td>\n",
       "    </tr>\n",
       "    <tr>\n",
       "      <th>광주서부경찰서</th>\n",
       "      <td>4720</td>\n",
       "      <td>3892</td>\n",
       "      <td>3638</td>\n",
       "      <td>-17.542373</td>\n",
       "    </tr>\n",
       "    <tr>\n",
       "      <th>광주남부경찰서</th>\n",
       "      <td>2117</td>\n",
       "      <td>1865</td>\n",
       "      <td>1547</td>\n",
       "      <td>-11.903637</td>\n",
       "    </tr>\n",
       "    <tr>\n",
       "      <th>광주북부경찰서</th>\n",
       "      <td>5466</td>\n",
       "      <td>4148</td>\n",
       "      <td>3945</td>\n",
       "      <td>-24.112697</td>\n",
       "    </tr>\n",
       "    <tr>\n",
       "      <th>광주광산경찰서</th>\n",
       "      <td>4172</td>\n",
       "      <td>3443</td>\n",
       "      <td>3020</td>\n",
       "      <td>-17.473634</td>\n",
       "    </tr>\n",
       "  </tbody>\n",
       "</table>\n",
       "</div>"
      ],
      "text/plain": [
       "          2015년총계  2016년총계  2017년총계  2015-2016 증감율\n",
       "관서명                                               \n",
       "광주지방경찰청계    18830    15416    13949     -18.130643\n",
       "광주동부경찰서      2355     2068     1799     -12.186837\n",
       "광주서부경찰서      4720     3892     3638     -17.542373\n",
       "광주남부경찰서      2117     1865     1547     -11.903637\n",
       "광주북부경찰서      5466     4148     3945     -24.112697\n",
       "광주광산경찰서      4172     3443     3020     -17.473634"
      ]
     },
     "execution_count": 10,
     "metadata": {},
     "output_type": "execute_result"
    }
   ],
   "source": [
    "total['2015-2016 증감율'] = (total['2016년총계']-total['2015년총계'])/total['2015년총계'] * 100\n",
    "total"
   ]
  },
  {
   "cell_type": "code",
   "execution_count": 11,
   "id": "67514ec9",
   "metadata": {
    "ExecuteTime": {
     "end_time": "2023-08-23T06:19:47.002699Z",
     "start_time": "2023-08-23T06:19:46.994612Z"
    }
   },
   "outputs": [
    {
     "data": {
      "text/html": [
       "<div>\n",
       "<style scoped>\n",
       "    .dataframe tbody tr th:only-of-type {\n",
       "        vertical-align: middle;\n",
       "    }\n",
       "\n",
       "    .dataframe tbody tr th {\n",
       "        vertical-align: top;\n",
       "    }\n",
       "\n",
       "    .dataframe thead th {\n",
       "        text-align: right;\n",
       "    }\n",
       "</style>\n",
       "<table border=\"1\" class=\"dataframe\">\n",
       "  <thead>\n",
       "    <tr style=\"text-align: right;\">\n",
       "      <th></th>\n",
       "      <th>2015년총계</th>\n",
       "      <th>2016년총계</th>\n",
       "      <th>2017년총계</th>\n",
       "      <th>2015-2016 증감율</th>\n",
       "      <th>2016-2017 증감율</th>\n",
       "    </tr>\n",
       "    <tr>\n",
       "      <th>관서명</th>\n",
       "      <th></th>\n",
       "      <th></th>\n",
       "      <th></th>\n",
       "      <th></th>\n",
       "      <th></th>\n",
       "    </tr>\n",
       "  </thead>\n",
       "  <tbody>\n",
       "    <tr>\n",
       "      <th>광주지방경찰청계</th>\n",
       "      <td>18830</td>\n",
       "      <td>15416</td>\n",
       "      <td>13949</td>\n",
       "      <td>-18.130643</td>\n",
       "      <td>-9.516087</td>\n",
       "    </tr>\n",
       "    <tr>\n",
       "      <th>광주동부경찰서</th>\n",
       "      <td>2355</td>\n",
       "      <td>2068</td>\n",
       "      <td>1799</td>\n",
       "      <td>-12.186837</td>\n",
       "      <td>-13.007737</td>\n",
       "    </tr>\n",
       "    <tr>\n",
       "      <th>광주서부경찰서</th>\n",
       "      <td>4720</td>\n",
       "      <td>3892</td>\n",
       "      <td>3638</td>\n",
       "      <td>-17.542373</td>\n",
       "      <td>-6.526208</td>\n",
       "    </tr>\n",
       "    <tr>\n",
       "      <th>광주남부경찰서</th>\n",
       "      <td>2117</td>\n",
       "      <td>1865</td>\n",
       "      <td>1547</td>\n",
       "      <td>-11.903637</td>\n",
       "      <td>-17.050938</td>\n",
       "    </tr>\n",
       "    <tr>\n",
       "      <th>광주북부경찰서</th>\n",
       "      <td>5466</td>\n",
       "      <td>4148</td>\n",
       "      <td>3945</td>\n",
       "      <td>-24.112697</td>\n",
       "      <td>-4.893925</td>\n",
       "    </tr>\n",
       "    <tr>\n",
       "      <th>광주광산경찰서</th>\n",
       "      <td>4172</td>\n",
       "      <td>3443</td>\n",
       "      <td>3020</td>\n",
       "      <td>-17.473634</td>\n",
       "      <td>-12.285797</td>\n",
       "    </tr>\n",
       "  </tbody>\n",
       "</table>\n",
       "</div>"
      ],
      "text/plain": [
       "          2015년총계  2016년총계  2017년총계  2015-2016 증감율  2016-2017 증감율\n",
       "관서명                                                              \n",
       "광주지방경찰청계    18830    15416    13949     -18.130643      -9.516087\n",
       "광주동부경찰서      2355     2068     1799     -12.186837     -13.007737\n",
       "광주서부경찰서      4720     3892     3638     -17.542373      -6.526208\n",
       "광주남부경찰서      2117     1865     1547     -11.903637     -17.050938\n",
       "광주북부경찰서      5466     4148     3945     -24.112697      -4.893925\n",
       "광주광산경찰서      4172     3443     3020     -17.473634     -12.285797"
      ]
     },
     "execution_count": 11,
     "metadata": {},
     "output_type": "execute_result"
    }
   ],
   "source": [
    "total['2016-2017 증감율'] = (total['2017년총계']-total['2016년총계'])/total['2016년총계'] *100\n",
    "total"
   ]
  },
  {
   "cell_type": "code",
   "execution_count": 12,
   "id": "0ca3d08a",
   "metadata": {
    "ExecuteTime": {
     "end_time": "2023-08-23T06:19:47.009308Z",
     "start_time": "2023-08-23T06:19:47.004814Z"
    }
   },
   "outputs": [
    {
     "data": {
      "text/plain": [
       "Index(['2015년총계', '2016년총계', '2017년총계', '2015-2016 증감율', '2016-2017 증감율'], dtype='object')"
      ]
     },
     "execution_count": 12,
     "metadata": {},
     "output_type": "execute_result"
    }
   ],
   "source": [
    "total.columns"
   ]
  },
  {
   "cell_type": "code",
   "execution_count": 13,
   "id": "4c2460e7",
   "metadata": {
    "ExecuteTime": {
     "end_time": "2023-08-23T06:19:47.018442Z",
     "start_time": "2023-08-23T06:19:47.011463Z"
    }
   },
   "outputs": [],
   "source": [
    "total = total[['2015년총계' ,'2015-2016 증감율', '2016년총계','2016-2017 증감율','2017년총계' ]]"
   ]
  },
  {
   "cell_type": "code",
   "execution_count": 14,
   "id": "4655f7db",
   "metadata": {
    "ExecuteTime": {
     "end_time": "2023-08-23T06:19:47.028112Z",
     "start_time": "2023-08-23T06:19:47.019734Z"
    }
   },
   "outputs": [
    {
     "data": {
      "text/html": [
       "<div>\n",
       "<style scoped>\n",
       "    .dataframe tbody tr th:only-of-type {\n",
       "        vertical-align: middle;\n",
       "    }\n",
       "\n",
       "    .dataframe tbody tr th {\n",
       "        vertical-align: top;\n",
       "    }\n",
       "\n",
       "    .dataframe thead th {\n",
       "        text-align: right;\n",
       "    }\n",
       "</style>\n",
       "<table border=\"1\" class=\"dataframe\">\n",
       "  <thead>\n",
       "    <tr style=\"text-align: right;\">\n",
       "      <th></th>\n",
       "      <th>2015년총계</th>\n",
       "      <th>2015-2016 증감율</th>\n",
       "      <th>2016년총계</th>\n",
       "      <th>2016-2017 증감율</th>\n",
       "      <th>2017년총계</th>\n",
       "    </tr>\n",
       "    <tr>\n",
       "      <th>관서명</th>\n",
       "      <th></th>\n",
       "      <th></th>\n",
       "      <th></th>\n",
       "      <th></th>\n",
       "      <th></th>\n",
       "    </tr>\n",
       "  </thead>\n",
       "  <tbody>\n",
       "    <tr>\n",
       "      <th>광주지방경찰청계</th>\n",
       "      <td>18830</td>\n",
       "      <td>-18.130643</td>\n",
       "      <td>15416</td>\n",
       "      <td>-9.516087</td>\n",
       "      <td>13949</td>\n",
       "    </tr>\n",
       "    <tr>\n",
       "      <th>광주동부경찰서</th>\n",
       "      <td>2355</td>\n",
       "      <td>-12.186837</td>\n",
       "      <td>2068</td>\n",
       "      <td>-13.007737</td>\n",
       "      <td>1799</td>\n",
       "    </tr>\n",
       "    <tr>\n",
       "      <th>광주서부경찰서</th>\n",
       "      <td>4720</td>\n",
       "      <td>-17.542373</td>\n",
       "      <td>3892</td>\n",
       "      <td>-6.526208</td>\n",
       "      <td>3638</td>\n",
       "    </tr>\n",
       "    <tr>\n",
       "      <th>광주남부경찰서</th>\n",
       "      <td>2117</td>\n",
       "      <td>-11.903637</td>\n",
       "      <td>1865</td>\n",
       "      <td>-17.050938</td>\n",
       "      <td>1547</td>\n",
       "    </tr>\n",
       "    <tr>\n",
       "      <th>광주북부경찰서</th>\n",
       "      <td>5466</td>\n",
       "      <td>-24.112697</td>\n",
       "      <td>4148</td>\n",
       "      <td>-4.893925</td>\n",
       "      <td>3945</td>\n",
       "    </tr>\n",
       "    <tr>\n",
       "      <th>광주광산경찰서</th>\n",
       "      <td>4172</td>\n",
       "      <td>-17.473634</td>\n",
       "      <td>3443</td>\n",
       "      <td>-12.285797</td>\n",
       "      <td>3020</td>\n",
       "    </tr>\n",
       "  </tbody>\n",
       "</table>\n",
       "</div>"
      ],
      "text/plain": [
       "          2015년총계  2015-2016 증감율  2016년총계  2016-2017 증감율  2017년총계\n",
       "관서명                                                              \n",
       "광주지방경찰청계    18830     -18.130643    15416      -9.516087    13949\n",
       "광주동부경찰서      2355     -12.186837     2068     -13.007737     1799\n",
       "광주서부경찰서      4720     -17.542373     3892      -6.526208     3638\n",
       "광주남부경찰서      2117     -11.903637     1865     -17.050938     1547\n",
       "광주북부경찰서      5466     -24.112697     4148      -4.893925     3945\n",
       "광주광산경찰서      4172     -17.473634     3443     -12.285797     3020"
      ]
     },
     "execution_count": 14,
     "metadata": {},
     "output_type": "execute_result"
    }
   ],
   "source": [
    "total"
   ]
  },
  {
   "cell_type": "code",
   "execution_count": 15,
   "id": "916fd1a6",
   "metadata": {
    "ExecuteTime": {
     "end_time": "2023-08-23T06:19:47.031789Z",
     "start_time": "2023-08-23T06:19:47.029346Z"
    }
   },
   "outputs": [],
   "source": [
    "# 원래는 drop해서 진행해야 합니다."
   ]
  },
  {
   "cell_type": "code",
   "execution_count": 16,
   "id": "f9f9cd04",
   "metadata": {
    "ExecuteTime": {
     "end_time": "2023-08-23T06:19:47.036704Z",
     "start_time": "2023-08-23T06:19:47.032798Z"
    }
   },
   "outputs": [],
   "source": [
    "# 컬럼명 수정 (rename)\n",
    "total.rename(columns={'2015년총계': '2015년 총계', '2016년총계': '2016년 총계', '2017년총계': '2017년 총계'}, inplace=True)"
   ]
  },
  {
   "cell_type": "code",
   "execution_count": 17,
   "id": "ce3d9aac",
   "metadata": {
    "ExecuteTime": {
     "end_time": "2023-08-23T06:19:47.044496Z",
     "start_time": "2023-08-23T06:19:47.037958Z"
    }
   },
   "outputs": [
    {
     "data": {
      "text/html": [
       "<div>\n",
       "<style scoped>\n",
       "    .dataframe tbody tr th:only-of-type {\n",
       "        vertical-align: middle;\n",
       "    }\n",
       "\n",
       "    .dataframe tbody tr th {\n",
       "        vertical-align: top;\n",
       "    }\n",
       "\n",
       "    .dataframe thead th {\n",
       "        text-align: right;\n",
       "    }\n",
       "</style>\n",
       "<table border=\"1\" class=\"dataframe\">\n",
       "  <thead>\n",
       "    <tr style=\"text-align: right;\">\n",
       "      <th></th>\n",
       "      <th>2015년 총계</th>\n",
       "      <th>2015-2016 증감율</th>\n",
       "      <th>2016년 총계</th>\n",
       "      <th>2016-2017 증감율</th>\n",
       "      <th>2017년 총계</th>\n",
       "    </tr>\n",
       "    <tr>\n",
       "      <th>관서명</th>\n",
       "      <th></th>\n",
       "      <th></th>\n",
       "      <th></th>\n",
       "      <th></th>\n",
       "      <th></th>\n",
       "    </tr>\n",
       "  </thead>\n",
       "  <tbody>\n",
       "    <tr>\n",
       "      <th>광주지방경찰청계</th>\n",
       "      <td>18830</td>\n",
       "      <td>-18.130643</td>\n",
       "      <td>15416</td>\n",
       "      <td>-9.516087</td>\n",
       "      <td>13949</td>\n",
       "    </tr>\n",
       "    <tr>\n",
       "      <th>광주동부경찰서</th>\n",
       "      <td>2355</td>\n",
       "      <td>-12.186837</td>\n",
       "      <td>2068</td>\n",
       "      <td>-13.007737</td>\n",
       "      <td>1799</td>\n",
       "    </tr>\n",
       "    <tr>\n",
       "      <th>광주서부경찰서</th>\n",
       "      <td>4720</td>\n",
       "      <td>-17.542373</td>\n",
       "      <td>3892</td>\n",
       "      <td>-6.526208</td>\n",
       "      <td>3638</td>\n",
       "    </tr>\n",
       "    <tr>\n",
       "      <th>광주남부경찰서</th>\n",
       "      <td>2117</td>\n",
       "      <td>-11.903637</td>\n",
       "      <td>1865</td>\n",
       "      <td>-17.050938</td>\n",
       "      <td>1547</td>\n",
       "    </tr>\n",
       "    <tr>\n",
       "      <th>광주북부경찰서</th>\n",
       "      <td>5466</td>\n",
       "      <td>-24.112697</td>\n",
       "      <td>4148</td>\n",
       "      <td>-4.893925</td>\n",
       "      <td>3945</td>\n",
       "    </tr>\n",
       "    <tr>\n",
       "      <th>광주광산경찰서</th>\n",
       "      <td>4172</td>\n",
       "      <td>-17.473634</td>\n",
       "      <td>3443</td>\n",
       "      <td>-12.285797</td>\n",
       "      <td>3020</td>\n",
       "    </tr>\n",
       "  </tbody>\n",
       "</table>\n",
       "</div>"
      ],
      "text/plain": [
       "          2015년 총계  2015-2016 증감율  2016년 총계  2016-2017 증감율  2017년 총계\n",
       "관서명                                                                 \n",
       "광주지방경찰청계     18830     -18.130643     15416      -9.516087     13949\n",
       "광주동부경찰서       2355     -12.186837      2068     -13.007737      1799\n",
       "광주서부경찰서       4720     -17.542373      3892      -6.526208      3638\n",
       "광주남부경찰서       2117     -11.903637      1865     -17.050938      1547\n",
       "광주북부경찰서       5466     -24.112697      4148      -4.893925      3945\n",
       "광주광산경찰서       4172     -17.473634      3443     -12.285797      3020"
      ]
     },
     "execution_count": 17,
     "metadata": {},
     "output_type": "execute_result"
    }
   ],
   "source": [
    "total"
   ]
  },
  {
   "cell_type": "code",
   "execution_count": null,
   "id": "0ddb62e7",
   "metadata": {},
   "outputs": [],
   "source": []
  },
  {
   "cell_type": "code",
   "execution_count": null,
   "id": "a261aec1",
   "metadata": {},
   "outputs": [],
   "source": []
  },
  {
   "cell_type": "code",
   "execution_count": null,
   "id": "2c95c23e",
   "metadata": {},
   "outputs": [],
   "source": []
  },
  {
   "cell_type": "code",
   "execution_count": null,
   "id": "7cb57857",
   "metadata": {},
   "outputs": [],
   "source": []
  },
  {
   "cell_type": "code",
   "execution_count": null,
   "id": "c15279fe",
   "metadata": {},
   "outputs": [],
   "source": []
  }
 ],
 "metadata": {
  "hide_input": false,
  "kernelspec": {
   "display_name": "Python 3 (ipykernel)",
   "language": "python",
   "name": "python3"
  },
  "language_info": {
   "codemirror_mode": {
    "name": "ipython",
    "version": 3
   },
   "file_extension": ".py",
   "mimetype": "text/x-python",
   "name": "python",
   "nbconvert_exporter": "python",
   "pygments_lexer": "ipython3",
   "version": "3.11.4"
  },
  "nbTranslate": {
   "displayLangs": [
    "*"
   ],
   "hotkey": "alt-t",
   "langInMainMenu": true,
   "sourceLang": "en",
   "targetLang": "fr",
   "useGoogleTranslate": true
  },
  "toc": {
   "base_numbering": 1,
   "nav_menu": {},
   "number_sections": true,
   "sideBar": true,
   "skip_h1_title": false,
   "title_cell": "Table of Contents",
   "title_sidebar": "Contents",
   "toc_cell": false,
   "toc_position": {},
   "toc_section_display": true,
   "toc_window_display": false
  },
  "varInspector": {
   "cols": {
    "lenName": 16,
    "lenType": 16,
    "lenVar": 40
   },
   "kernels_config": {
    "python": {
     "delete_cmd_postfix": "",
     "delete_cmd_prefix": "del ",
     "library": "var_list.py",
     "varRefreshCmd": "print(var_dic_list())"
    },
    "r": {
     "delete_cmd_postfix": ") ",
     "delete_cmd_prefix": "rm(",
     "library": "var_list.r",
     "varRefreshCmd": "cat(var_dic_list()) "
    }
   },
   "types_to_exclude": [
    "module",
    "function",
    "builtin_function_or_method",
    "instance",
    "_Feature"
   ],
   "window_display": false
  }
 },
 "nbformat": 4,
 "nbformat_minor": 5
}
