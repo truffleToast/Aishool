{
 "cells": [
  {
   "cell_type": "markdown",
   "id": "2bb68af4",
   "metadata": {},
   "source": [
    "## 문제정의\n",
    " * 훈련데이터와 테스트 데이터 이해하기\n",
    " \n",
    " * 머신러닝의 일련의 과정 이해하기\n",
    " \n",
    " * AND연산의 결과를 도출하는 머신러닝 모델 학습하기"
   ]
  },
  {
   "cell_type": "code",
   "execution_count": 17,
   "id": "e8fa5906",
   "metadata": {
    "ExecuteTime": {
     "end_time": "2023-08-25T07:47:07.033255Z",
     "start_time": "2023-08-25T07:47:07.030151Z"
    }
   },
   "outputs": [],
   "source": [
    "import pandas as pd\n",
    "import numpy as np\n",
    "import matplotlib.pyplot as plt"
   ]
  },
  {
   "cell_type": "markdown",
   "id": "5bb17d35",
   "metadata": {},
   "source": [
    "## 데이터 준비\n",
    "* and연산 데이터 생성하기"
   ]
  },
  {
   "cell_type": "code",
   "execution_count": 18,
   "id": "f9cb6731",
   "metadata": {
    "ExecuteTime": {
     "end_time": "2023-08-25T07:47:07.379434Z",
     "start_time": "2023-08-25T07:47:07.373600Z"
    }
   },
   "outputs": [],
   "source": [
    "df = pd.DataFrame({'A': [0, 0,1,1,1,0,1,0] , 'B' : [0, 1, 0,1,0,0,1,1], 'A and B' : [0, 0, 0,1,0,0,1,0]})"
   ]
  },
  {
   "cell_type": "code",
   "execution_count": 19,
   "id": "22cadfee",
   "metadata": {
    "ExecuteTime": {
     "end_time": "2023-08-25T07:47:07.557406Z",
     "start_time": "2023-08-25T07:47:07.549486Z"
    }
   },
   "outputs": [
    {
     "data": {
      "text/html": [
       "<div>\n",
       "<style scoped>\n",
       "    .dataframe tbody tr th:only-of-type {\n",
       "        vertical-align: middle;\n",
       "    }\n",
       "\n",
       "    .dataframe tbody tr th {\n",
       "        vertical-align: top;\n",
       "    }\n",
       "\n",
       "    .dataframe thead th {\n",
       "        text-align: right;\n",
       "    }\n",
       "</style>\n",
       "<table border=\"1\" class=\"dataframe\">\n",
       "  <thead>\n",
       "    <tr style=\"text-align: right;\">\n",
       "      <th></th>\n",
       "      <th>A</th>\n",
       "      <th>B</th>\n",
       "      <th>A and B</th>\n",
       "    </tr>\n",
       "  </thead>\n",
       "  <tbody>\n",
       "    <tr>\n",
       "      <th>0</th>\n",
       "      <td>0</td>\n",
       "      <td>0</td>\n",
       "      <td>0</td>\n",
       "    </tr>\n",
       "    <tr>\n",
       "      <th>1</th>\n",
       "      <td>0</td>\n",
       "      <td>1</td>\n",
       "      <td>0</td>\n",
       "    </tr>\n",
       "    <tr>\n",
       "      <th>2</th>\n",
       "      <td>1</td>\n",
       "      <td>0</td>\n",
       "      <td>0</td>\n",
       "    </tr>\n",
       "    <tr>\n",
       "      <th>3</th>\n",
       "      <td>1</td>\n",
       "      <td>1</td>\n",
       "      <td>1</td>\n",
       "    </tr>\n",
       "    <tr>\n",
       "      <th>4</th>\n",
       "      <td>1</td>\n",
       "      <td>0</td>\n",
       "      <td>0</td>\n",
       "    </tr>\n",
       "    <tr>\n",
       "      <th>5</th>\n",
       "      <td>0</td>\n",
       "      <td>0</td>\n",
       "      <td>0</td>\n",
       "    </tr>\n",
       "    <tr>\n",
       "      <th>6</th>\n",
       "      <td>1</td>\n",
       "      <td>1</td>\n",
       "      <td>1</td>\n",
       "    </tr>\n",
       "    <tr>\n",
       "      <th>7</th>\n",
       "      <td>0</td>\n",
       "      <td>1</td>\n",
       "      <td>0</td>\n",
       "    </tr>\n",
       "  </tbody>\n",
       "</table>\n",
       "</div>"
      ],
      "text/plain": [
       "   A  B  A and B\n",
       "0  0  0        0\n",
       "1  0  1        0\n",
       "2  1  0        0\n",
       "3  1  1        1\n",
       "4  1  0        0\n",
       "5  0  0        0\n",
       "6  1  1        1\n",
       "7  0  1        0"
      ]
     },
     "execution_count": 19,
     "metadata": {},
     "output_type": "execute_result"
    }
   ],
   "source": [
    "df"
   ]
  },
  {
   "cell_type": "code",
   "execution_count": 20,
   "id": "c5d87eee",
   "metadata": {
    "ExecuteTime": {
     "end_time": "2023-08-25T07:47:07.718033Z",
     "start_time": "2023-08-25T07:47:07.714535Z"
    }
   },
   "outputs": [],
   "source": [
    "#X 문제(A, B컬럼 ) Y 답: (A and B) 컬럼\n",
    "# numpy > 2차원 배열 [행] , 배열[행][열] , 배열 [행, 열]\n",
    "# 판다스 > df.loc[행, 열], df.iloc[행,열]\n",
    "\n",
    "x = df.iloc[:,:2]"
   ]
  },
  {
   "cell_type": "code",
   "execution_count": 21,
   "id": "51e66e92",
   "metadata": {
    "ExecuteTime": {
     "end_time": "2023-08-25T07:47:07.901529Z",
     "start_time": "2023-08-25T07:47:07.890239Z"
    }
   },
   "outputs": [
    {
     "data": {
      "text/html": [
       "<div>\n",
       "<style scoped>\n",
       "    .dataframe tbody tr th:only-of-type {\n",
       "        vertical-align: middle;\n",
       "    }\n",
       "\n",
       "    .dataframe tbody tr th {\n",
       "        vertical-align: top;\n",
       "    }\n",
       "\n",
       "    .dataframe thead th {\n",
       "        text-align: right;\n",
       "    }\n",
       "</style>\n",
       "<table border=\"1\" class=\"dataframe\">\n",
       "  <thead>\n",
       "    <tr style=\"text-align: right;\">\n",
       "      <th></th>\n",
       "      <th>A</th>\n",
       "      <th>B</th>\n",
       "    </tr>\n",
       "  </thead>\n",
       "  <tbody>\n",
       "    <tr>\n",
       "      <th>0</th>\n",
       "      <td>0</td>\n",
       "      <td>0</td>\n",
       "    </tr>\n",
       "    <tr>\n",
       "      <th>1</th>\n",
       "      <td>0</td>\n",
       "      <td>1</td>\n",
       "    </tr>\n",
       "    <tr>\n",
       "      <th>2</th>\n",
       "      <td>1</td>\n",
       "      <td>0</td>\n",
       "    </tr>\n",
       "    <tr>\n",
       "      <th>3</th>\n",
       "      <td>1</td>\n",
       "      <td>1</td>\n",
       "    </tr>\n",
       "    <tr>\n",
       "      <th>4</th>\n",
       "      <td>1</td>\n",
       "      <td>0</td>\n",
       "    </tr>\n",
       "    <tr>\n",
       "      <th>5</th>\n",
       "      <td>0</td>\n",
       "      <td>0</td>\n",
       "    </tr>\n",
       "    <tr>\n",
       "      <th>6</th>\n",
       "      <td>1</td>\n",
       "      <td>1</td>\n",
       "    </tr>\n",
       "    <tr>\n",
       "      <th>7</th>\n",
       "      <td>0</td>\n",
       "      <td>1</td>\n",
       "    </tr>\n",
       "  </tbody>\n",
       "</table>\n",
       "</div>"
      ],
      "text/plain": [
       "   A  B\n",
       "0  0  0\n",
       "1  0  1\n",
       "2  1  0\n",
       "3  1  1\n",
       "4  1  0\n",
       "5  0  0\n",
       "6  1  1\n",
       "7  0  1"
      ]
     },
     "execution_count": 21,
     "metadata": {},
     "output_type": "execute_result"
    }
   ],
   "source": [
    "# X =\n",
    "df.loc[:,['A','B']]  #리스트로 접근 하나하나\n",
    "df.loc[:,'A':'B'] #끝 값 포함\n",
    "df.iloc[:,:2] # 끝 값 포함X\n",
    "df[['A','B']] # 컬럼 인덱싱(슬라이싱 설정)"
   ]
  },
  {
   "cell_type": "code",
   "execution_count": 22,
   "id": "df1fc10f",
   "metadata": {
    "ExecuteTime": {
     "end_time": "2023-08-25T07:47:08.074968Z",
     "start_time": "2023-08-25T07:47:08.068997Z"
    }
   },
   "outputs": [
    {
     "data": {
      "text/plain": [
       "0    0\n",
       "1    0\n",
       "2    0\n",
       "3    1\n",
       "4    0\n",
       "5    0\n",
       "6    1\n",
       "7    0\n",
       "Name: A and B, dtype: int64"
      ]
     },
     "execution_count": 22,
     "metadata": {},
     "output_type": "execute_result"
    }
   ],
   "source": [
    "y = df['A and B']\n",
    "y"
   ]
  },
  {
   "cell_type": "code",
   "execution_count": 23,
   "id": "c10f59ca",
   "metadata": {
    "ExecuteTime": {
     "end_time": "2023-08-25T07:47:08.256909Z",
     "start_time": "2023-08-25T07:47:08.253105Z"
    }
   },
   "outputs": [
    {
     "name": "stdout",
     "output_type": "stream",
     "text": [
      "문제 크기: (8, 2)\n",
      "답의 크기: (8,)\n"
     ]
    }
   ],
   "source": [
    "print('문제 크기:' ,x.shape)\n",
    "print('답의 크기:' ,y.shape)"
   ]
  },
  {
   "cell_type": "markdown",
   "id": "096c2f08",
   "metadata": {},
   "source": [
    "## 훈련용, 테스트용 분리"
   ]
  },
  {
   "cell_type": "code",
   "execution_count": 24,
   "id": "84206f65",
   "metadata": {
    "ExecuteTime": {
     "end_time": "2023-08-25T07:47:08.633112Z",
     "start_time": "2023-08-25T07:47:08.626971Z"
    }
   },
   "outputs": [
    {
     "data": {
      "text/html": [
       "<div>\n",
       "<style scoped>\n",
       "    .dataframe tbody tr th:only-of-type {\n",
       "        vertical-align: middle;\n",
       "    }\n",
       "\n",
       "    .dataframe tbody tr th {\n",
       "        vertical-align: top;\n",
       "    }\n",
       "\n",
       "    .dataframe thead th {\n",
       "        text-align: right;\n",
       "    }\n",
       "</style>\n",
       "<table border=\"1\" class=\"dataframe\">\n",
       "  <thead>\n",
       "    <tr style=\"text-align: right;\">\n",
       "      <th></th>\n",
       "      <th>A</th>\n",
       "      <th>B</th>\n",
       "    </tr>\n",
       "  </thead>\n",
       "  <tbody>\n",
       "    <tr>\n",
       "      <th>0</th>\n",
       "      <td>0</td>\n",
       "      <td>0</td>\n",
       "    </tr>\n",
       "    <tr>\n",
       "      <th>1</th>\n",
       "      <td>0</td>\n",
       "      <td>1</td>\n",
       "    </tr>\n",
       "    <tr>\n",
       "      <th>2</th>\n",
       "      <td>1</td>\n",
       "      <td>0</td>\n",
       "    </tr>\n",
       "    <tr>\n",
       "      <th>3</th>\n",
       "      <td>1</td>\n",
       "      <td>1</td>\n",
       "    </tr>\n",
       "    <tr>\n",
       "      <th>4</th>\n",
       "      <td>1</td>\n",
       "      <td>0</td>\n",
       "    </tr>\n",
       "    <tr>\n",
       "      <th>5</th>\n",
       "      <td>0</td>\n",
       "      <td>0</td>\n",
       "    </tr>\n",
       "    <tr>\n",
       "      <th>6</th>\n",
       "      <td>1</td>\n",
       "      <td>1</td>\n",
       "    </tr>\n",
       "    <tr>\n",
       "      <th>7</th>\n",
       "      <td>0</td>\n",
       "      <td>1</td>\n",
       "    </tr>\n",
       "  </tbody>\n",
       "</table>\n",
       "</div>"
      ],
      "text/plain": [
       "   A  B\n",
       "0  0  0\n",
       "1  0  1\n",
       "2  1  0\n",
       "3  1  1\n",
       "4  1  0\n",
       "5  0  0\n",
       "6  1  1\n",
       "7  0  1"
      ]
     },
     "execution_count": 24,
     "metadata": {},
     "output_type": "execute_result"
    }
   ],
   "source": [
    "# 훈련용(학습과정), 테스트용(평가 및 예측 과정 ) 분리\n",
    "# X- 훈련용(행 접근), X- 테스트용(행 ,접근)\n",
    "x"
   ]
  },
  {
   "cell_type": "code",
   "execution_count": 25,
   "id": "b1bcb2da",
   "metadata": {
    "ExecuteTime": {
     "end_time": "2023-08-25T07:47:08.815977Z",
     "start_time": "2023-08-25T07:47:08.812327Z"
    }
   },
   "outputs": [],
   "source": [
    "X_train = x.iloc[:6]\n",
    "X_test= x.iloc[6:]"
   ]
  },
  {
   "cell_type": "code",
   "execution_count": 26,
   "id": "591fe43a",
   "metadata": {
    "ExecuteTime": {
     "end_time": "2023-08-25T07:47:08.991524Z",
     "start_time": "2023-08-25T07:47:08.988203Z"
    }
   },
   "outputs": [],
   "source": [
    "y_train = y.iloc[:6]\n",
    "y_test = y.iloc[6:]"
   ]
  },
  {
   "cell_type": "code",
   "execution_count": 27,
   "id": "a3ee84f8",
   "metadata": {
    "ExecuteTime": {
     "end_time": "2023-08-25T07:47:09.178305Z",
     "start_time": "2023-08-25T07:47:09.173407Z"
    }
   },
   "outputs": [
    {
     "name": "stdout",
     "output_type": "stream",
     "text": [
      "X_train의 크기 : (6, 2)\n",
      "Y_train의 크기:  (6,)\n",
      "X_test의 크기:  (2, 2)\n",
      "Y_test의 크기:  (2,)\n"
     ]
    }
   ],
   "source": [
    "print(\"X_train의 크기 :\", X_train.shape)\n",
    "print(\"Y_train의 크기: \", y_train.shape)\n",
    "print(\"X_test의 크기: \", X_test.shape)\n",
    "print(\"Y_test의 크기: \", y_test.shape)"
   ]
  },
  {
   "cell_type": "markdown",
   "id": "8eed95ea",
   "metadata": {},
   "source": [
    "## 데이터 탐색(탐색적 데이터 분석)\n",
    "* a 컬럼\n",
    "* b컬럼\n",
    "* a and b 컬럼\n",
    "* 결측치 , 이상치\n",
    "\n",
    "## 모델링\n",
    "* 모델 선택 및 하이퍼파라미터 초청\n",
    "* 모델 학습\n",
    "* 모델 예측 및 평가\n"
   ]
  },
  {
   "cell_type": "code",
   "execution_count": 28,
   "id": "8bab0981",
   "metadata": {
    "ExecuteTime": {
     "end_time": "2023-08-25T07:47:09.550168Z",
     "start_time": "2023-08-25T07:47:09.546853Z"
    }
   },
   "outputs": [],
   "source": [
    "# 모델 불러오기\n",
    "# 분류하는 모델 중 knn 모델을 불러오기\n",
    "# sklearn(scikit-learn) 머신러닝 패키지 : 머신러닝에 사용되는 도구를 담은 패키지\n",
    "# 지도/ 비지도/ 강화, 분류/회귀, 평가 공식(기능), 데이터 전처리하는 기능\n",
    "from sklearn.neighbors import KNeighborsClassifier\n",
    "from sklearn.metrics import accuracy_score"
   ]
  },
  {
   "cell_type": "code",
   "execution_count": 29,
   "id": "b03170ed",
   "metadata": {
    "ExecuteTime": {
     "end_time": "2023-08-25T07:47:09.730394Z",
     "start_time": "2023-08-25T07:47:09.726802Z"
    }
   },
   "outputs": [],
   "source": [
    "# 모델 객체 생성\n",
    "knn_model = KNeighborsClassifier(n_neighbors=1)"
   ]
  },
  {
   "cell_type": "code",
   "execution_count": 30,
   "id": "7e90f449",
   "metadata": {
    "ExecuteTime": {
     "end_time": "2023-08-25T07:47:09.917741Z",
     "start_time": "2023-08-25T07:47:09.910912Z"
    }
   },
   "outputs": [
    {
     "data": {
      "text/html": [
       "<style>#sk-container-id-2 {color: black;}#sk-container-id-2 pre{padding: 0;}#sk-container-id-2 div.sk-toggleable {background-color: white;}#sk-container-id-2 label.sk-toggleable__label {cursor: pointer;display: block;width: 100%;margin-bottom: 0;padding: 0.3em;box-sizing: border-box;text-align: center;}#sk-container-id-2 label.sk-toggleable__label-arrow:before {content: \"▸\";float: left;margin-right: 0.25em;color: #696969;}#sk-container-id-2 label.sk-toggleable__label-arrow:hover:before {color: black;}#sk-container-id-2 div.sk-estimator:hover label.sk-toggleable__label-arrow:before {color: black;}#sk-container-id-2 div.sk-toggleable__content {max-height: 0;max-width: 0;overflow: hidden;text-align: left;background-color: #f0f8ff;}#sk-container-id-2 div.sk-toggleable__content pre {margin: 0.2em;color: black;border-radius: 0.25em;background-color: #f0f8ff;}#sk-container-id-2 input.sk-toggleable__control:checked~div.sk-toggleable__content {max-height: 200px;max-width: 100%;overflow: auto;}#sk-container-id-2 input.sk-toggleable__control:checked~label.sk-toggleable__label-arrow:before {content: \"▾\";}#sk-container-id-2 div.sk-estimator input.sk-toggleable__control:checked~label.sk-toggleable__label {background-color: #d4ebff;}#sk-container-id-2 div.sk-label input.sk-toggleable__control:checked~label.sk-toggleable__label {background-color: #d4ebff;}#sk-container-id-2 input.sk-hidden--visually {border: 0;clip: rect(1px 1px 1px 1px);clip: rect(1px, 1px, 1px, 1px);height: 1px;margin: -1px;overflow: hidden;padding: 0;position: absolute;width: 1px;}#sk-container-id-2 div.sk-estimator {font-family: monospace;background-color: #f0f8ff;border: 1px dotted black;border-radius: 0.25em;box-sizing: border-box;margin-bottom: 0.5em;}#sk-container-id-2 div.sk-estimator:hover {background-color: #d4ebff;}#sk-container-id-2 div.sk-parallel-item::after {content: \"\";width: 100%;border-bottom: 1px solid gray;flex-grow: 1;}#sk-container-id-2 div.sk-label:hover label.sk-toggleable__label {background-color: #d4ebff;}#sk-container-id-2 div.sk-serial::before {content: \"\";position: absolute;border-left: 1px solid gray;box-sizing: border-box;top: 0;bottom: 0;left: 50%;z-index: 0;}#sk-container-id-2 div.sk-serial {display: flex;flex-direction: column;align-items: center;background-color: white;padding-right: 0.2em;padding-left: 0.2em;position: relative;}#sk-container-id-2 div.sk-item {position: relative;z-index: 1;}#sk-container-id-2 div.sk-parallel {display: flex;align-items: stretch;justify-content: center;background-color: white;position: relative;}#sk-container-id-2 div.sk-item::before, #sk-container-id-2 div.sk-parallel-item::before {content: \"\";position: absolute;border-left: 1px solid gray;box-sizing: border-box;top: 0;bottom: 0;left: 50%;z-index: -1;}#sk-container-id-2 div.sk-parallel-item {display: flex;flex-direction: column;z-index: 1;position: relative;background-color: white;}#sk-container-id-2 div.sk-parallel-item:first-child::after {align-self: flex-end;width: 50%;}#sk-container-id-2 div.sk-parallel-item:last-child::after {align-self: flex-start;width: 50%;}#sk-container-id-2 div.sk-parallel-item:only-child::after {width: 0;}#sk-container-id-2 div.sk-dashed-wrapped {border: 1px dashed gray;margin: 0 0.4em 0.5em 0.4em;box-sizing: border-box;padding-bottom: 0.4em;background-color: white;}#sk-container-id-2 div.sk-label label {font-family: monospace;font-weight: bold;display: inline-block;line-height: 1.2em;}#sk-container-id-2 div.sk-label-container {text-align: center;}#sk-container-id-2 div.sk-container {/* jupyter's `normalize.less` sets `[hidden] { display: none; }` but bootstrap.min.css set `[hidden] { display: none !important; }` so we also need the `!important` here to be able to override the default hidden behavior on the sphinx rendered scikit-learn.org. See: https://github.com/scikit-learn/scikit-learn/issues/21755 */display: inline-block !important;position: relative;}#sk-container-id-2 div.sk-text-repr-fallback {display: none;}</style><div id=\"sk-container-id-2\" class=\"sk-top-container\"><div class=\"sk-text-repr-fallback\"><pre>KNeighborsClassifier(n_neighbors=1)</pre><b>In a Jupyter environment, please rerun this cell to show the HTML representation or trust the notebook. <br />On GitHub, the HTML representation is unable to render, please try loading this page with nbviewer.org.</b></div><div class=\"sk-container\" hidden><div class=\"sk-item\"><div class=\"sk-estimator sk-toggleable\"><input class=\"sk-toggleable__control sk-hidden--visually\" id=\"sk-estimator-id-2\" type=\"checkbox\" checked><label for=\"sk-estimator-id-2\" class=\"sk-toggleable__label sk-toggleable__label-arrow\">KNeighborsClassifier</label><div class=\"sk-toggleable__content\"><pre>KNeighborsClassifier(n_neighbors=1)</pre></div></div></div></div></div>"
      ],
      "text/plain": [
       "KNeighborsClassifier(n_neighbors=1)"
      ]
     },
     "execution_count": 30,
     "metadata": {},
     "output_type": "execute_result"
    }
   ],
   "source": [
    "#모델 학습\n",
    "#모델이 학습할 때 사용하는 함수 : fit()\n",
    "knn_model.fit(X_train, y_train)"
   ]
  },
  {
   "cell_type": "code",
   "execution_count": 33,
   "id": "62de3bf3",
   "metadata": {
    "ExecuteTime": {
     "end_time": "2023-08-25T07:47:36.893283Z",
     "start_time": "2023-08-25T07:47:36.886812Z"
    }
   },
   "outputs": [
    {
     "data": {
      "text/plain": [
       "array([1, 0], dtype=int64)"
      ]
     },
     "execution_count": 33,
     "metadata": {},
     "output_type": "execute_result"
    }
   ],
   "source": [
    "# 모델 예측\n",
    "# knn_model.predict(테스트용 문제)\n",
    "pre = knn_model.predict(X_test)\n",
    "pre\n",
    "# 예측 결과를 담은 변수\n",
    "# 예측이 실제 정답과 항상 같지 않음, 예측이 틀릴 수 있음(오류가 있을 수 있음)"
   ]
  },
  {
   "cell_type": "code",
   "execution_count": 32,
   "id": "b4c335c2",
   "metadata": {
    "ExecuteTime": {
     "end_time": "2023-08-25T07:47:10.586406Z",
     "start_time": "2023-08-25T07:47:10.580666Z"
    }
   },
   "outputs": [
    {
     "data": {
      "text/plain": [
       "1.0"
      ]
     },
     "execution_count": 32,
     "metadata": {},
     "output_type": "execute_result"
    }
   ],
   "source": [
    "# 모델 평가\n",
    "# accuracy_score() - 예측이 실제 값과 비교했을 때 몇개나 잘 맞췄는지 표현하는 점수 척도\n",
    "accuracy_score(y_test, pre) # 1.0*100 = 100% 전체 다 맞춘 상황"
   ]
  },
  {
   "cell_type": "code",
   "execution_count": null,
   "id": "984adf75",
   "metadata": {},
   "outputs": [],
   "source": []
  },
  {
   "cell_type": "code",
   "execution_count": null,
   "id": "d17f3c30",
   "metadata": {},
   "outputs": [],
   "source": []
  }
 ],
 "metadata": {
  "hide_input": false,
  "kernelspec": {
   "display_name": "Python 3 (ipykernel)",
   "language": "python",
   "name": "python3"
  },
  "language_info": {
   "codemirror_mode": {
    "name": "ipython",
    "version": 3
   },
   "file_extension": ".py",
   "mimetype": "text/x-python",
   "name": "python",
   "nbconvert_exporter": "python",
   "pygments_lexer": "ipython3",
   "version": "3.11.5"
  },
  "nbTranslate": {
   "displayLangs": [
    "*"
   ],
   "hotkey": "alt-t",
   "langInMainMenu": true,
   "sourceLang": "en",
   "targetLang": "fr",
   "useGoogleTranslate": true
  },
  "toc": {
   "base_numbering": 1,
   "nav_menu": {},
   "number_sections": true,
   "sideBar": true,
   "skip_h1_title": false,
   "title_cell": "Table of Contents",
   "title_sidebar": "Contents",
   "toc_cell": false,
   "toc_position": {},
   "toc_section_display": true,
   "toc_window_display": false
  },
  "varInspector": {
   "cols": {
    "lenName": 16,
    "lenType": 16,
    "lenVar": 40
   },
   "kernels_config": {
    "python": {
     "delete_cmd_postfix": "",
     "delete_cmd_prefix": "del ",
     "library": "var_list.py",
     "varRefreshCmd": "print(var_dic_list())"
    },
    "r": {
     "delete_cmd_postfix": ") ",
     "delete_cmd_prefix": "rm(",
     "library": "var_list.r",
     "varRefreshCmd": "cat(var_dic_list()) "
    }
   },
   "types_to_exclude": [
    "module",
    "function",
    "builtin_function_or_method",
    "instance",
    "_Feature"
   ],
   "window_display": false
  }
 },
 "nbformat": 4,
 "nbformat_minor": 5
}
