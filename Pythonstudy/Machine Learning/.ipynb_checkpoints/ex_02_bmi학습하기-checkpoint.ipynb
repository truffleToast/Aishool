{
 "cells": [
  {
   "cell_type": "markdown",
   "id": "9824f849",
   "metadata": {},
   "source": [
    "# .목표\n",
    "* 문제정의\n",
    "     *  500명의 키와 몸무게, 비만도 라벨을 활용하여 비만을 판단하는 모델을 짜보자\n",
    "     * 머신러닝 과정을 이해해 보자."
   ]
  },
  {
   "cell_type": "code",
   "execution_count": 1,
   "id": "edf2b45e",
   "metadata": {
    "ExecuteTime": {
     "end_time": "2023-08-28T05:03:04.377714Z",
     "start_time": "2023-08-28T05:03:01.660502Z"
    }
   },
   "outputs": [],
   "source": [
    "# 판다스 , 시각화\n",
    "import pandas as pd\n",
    "import matplotlib.pyplot as plt\n",
    "\n",
    "# 모델 관련한 불러오는 코드\n",
    "# knn 모델 불러오기, 측정 도구 불러오기\n",
    "from sklearn.neighbors import KNeighborsClassifier\n",
    "from sklearn.metrics import accuracy_score"
   ]
  },
  {
   "cell_type": "markdown",
   "id": "8666ffb1",
   "metadata": {},
   "source": [
    "# 데이터 가져오기"
   ]
  },
  {
   "cell_type": "markdown",
   "id": "ee48f669",
   "metadata": {},
   "source": [
    "##  .데이터 준비(수집)"
   ]
  },
  {
   "cell_type": "code",
   "execution_count": 2,
   "id": "a6d7e5cd",
   "metadata": {
    "ExecuteTime": {
     "end_time": "2023-08-28T05:03:04.420248Z",
     "start_time": "2023-08-28T05:03:04.384955Z"
    }
   },
   "outputs": [
    {
     "data": {
      "text/html": [
       "<div>\n",
       "<style scoped>\n",
       "    .dataframe tbody tr th:only-of-type {\n",
       "        vertical-align: middle;\n",
       "    }\n",
       "\n",
       "    .dataframe tbody tr th {\n",
       "        vertical-align: top;\n",
       "    }\n",
       "\n",
       "    .dataframe thead th {\n",
       "        text-align: right;\n",
       "    }\n",
       "</style>\n",
       "<table border=\"1\" class=\"dataframe\">\n",
       "  <thead>\n",
       "    <tr style=\"text-align: right;\">\n",
       "      <th></th>\n",
       "      <th>Gender</th>\n",
       "      <th>Height</th>\n",
       "      <th>Weight</th>\n",
       "    </tr>\n",
       "    <tr>\n",
       "      <th>Label</th>\n",
       "      <th></th>\n",
       "      <th></th>\n",
       "      <th></th>\n",
       "    </tr>\n",
       "  </thead>\n",
       "  <tbody>\n",
       "    <tr>\n",
       "      <th>Obesity</th>\n",
       "      <td>Male</td>\n",
       "      <td>174</td>\n",
       "      <td>96</td>\n",
       "    </tr>\n",
       "    <tr>\n",
       "      <th>Normal</th>\n",
       "      <td>Male</td>\n",
       "      <td>189</td>\n",
       "      <td>87</td>\n",
       "    </tr>\n",
       "    <tr>\n",
       "      <th>Obesity</th>\n",
       "      <td>Female</td>\n",
       "      <td>185</td>\n",
       "      <td>110</td>\n",
       "    </tr>\n",
       "    <tr>\n",
       "      <th>Overweight</th>\n",
       "      <td>Female</td>\n",
       "      <td>195</td>\n",
       "      <td>104</td>\n",
       "    </tr>\n",
       "    <tr>\n",
       "      <th>Overweight</th>\n",
       "      <td>Male</td>\n",
       "      <td>149</td>\n",
       "      <td>61</td>\n",
       "    </tr>\n",
       "    <tr>\n",
       "      <th>...</th>\n",
       "      <td>...</td>\n",
       "      <td>...</td>\n",
       "      <td>...</td>\n",
       "    </tr>\n",
       "    <tr>\n",
       "      <th>Extreme Obesity</th>\n",
       "      <td>Female</td>\n",
       "      <td>150</td>\n",
       "      <td>153</td>\n",
       "    </tr>\n",
       "    <tr>\n",
       "      <th>Obesity</th>\n",
       "      <td>Female</td>\n",
       "      <td>184</td>\n",
       "      <td>121</td>\n",
       "    </tr>\n",
       "    <tr>\n",
       "      <th>Extreme Obesity</th>\n",
       "      <td>Female</td>\n",
       "      <td>141</td>\n",
       "      <td>136</td>\n",
       "    </tr>\n",
       "    <tr>\n",
       "      <th>Extreme Obesity</th>\n",
       "      <td>Male</td>\n",
       "      <td>150</td>\n",
       "      <td>95</td>\n",
       "    </tr>\n",
       "    <tr>\n",
       "      <th>Extreme Obesity</th>\n",
       "      <td>Male</td>\n",
       "      <td>173</td>\n",
       "      <td>131</td>\n",
       "    </tr>\n",
       "  </tbody>\n",
       "</table>\n",
       "<p>500 rows × 3 columns</p>\n",
       "</div>"
      ],
      "text/plain": [
       "                 Gender  Height  Weight\n",
       "Label                                  \n",
       "Obesity            Male     174      96\n",
       "Normal             Male     189      87\n",
       "Obesity          Female     185     110\n",
       "Overweight       Female     195     104\n",
       "Overweight         Male     149      61\n",
       "...                 ...     ...     ...\n",
       "Extreme Obesity  Female     150     153\n",
       "Obesity          Female     184     121\n",
       "Extreme Obesity  Female     141     136\n",
       "Extreme Obesity    Male     150      95\n",
       "Extreme Obesity    Male     173     131\n",
       "\n",
       "[500 rows x 3 columns]"
      ]
     },
     "execution_count": 2,
     "metadata": {},
     "output_type": "execute_result"
    }
   ],
   "source": [
    "#pd.read_csv('파일 경로 설정')\n",
    "#data변수에 담기\n",
    "#Label을 인덱스로 설정\n",
    "data = pd.read_csv(\"./data/bmi_500.csv\", index_col=\"Label\")\n",
    "data"
   ]
  },
  {
   "cell_type": "code",
   "execution_count": 3,
   "id": "75aac715",
   "metadata": {
    "ExecuteTime": {
     "end_time": "2023-08-28T05:03:04.445971Z",
     "start_time": "2023-08-28T05:03:04.428968Z"
    }
   },
   "outputs": [
    {
     "name": "stdout",
     "output_type": "stream",
     "text": [
      "<class 'pandas.core.frame.DataFrame'>\n",
      "Index: 500 entries, Obesity to Extreme Obesity\n",
      "Data columns (total 3 columns):\n",
      " #   Column  Non-Null Count  Dtype \n",
      "---  ------  --------------  ----- \n",
      " 0   Gender  500 non-null    object\n",
      " 1   Height  500 non-null    int64 \n",
      " 2   Weight  500 non-null    int64 \n",
      "dtypes: int64(2), object(1)\n",
      "memory usage: 15.6+ KB\n"
     ]
    }
   ],
   "source": [
    "# dataFrame의 정보 보기\n",
    "data.info()\n",
    "#data.shape\n",
    "#성별 컬럼, 키 , 몸무게, 모두 결측치 x -> not null 카운트\n",
    "# 데이터 확인 필수! -> 머신러닝 모델은 문자를 이해할 수 없음.\n",
    "# 이번 실습에서는 Height, Weight , Label 3개만 사용"
   ]
  },
  {
   "cell_type": "markdown",
   "id": "8206477d",
   "metadata": {
    "heading_collapsed": true
   },
   "source": [
    "## 데이터 전처리는 pass"
   ]
  },
  {
   "cell_type": "markdown",
   "id": "04380877",
   "metadata": {},
   "source": [
    "## 데이터 분석(탐색)"
   ]
  },
  {
   "cell_type": "code",
   "execution_count": 4,
   "id": "49530ffb",
   "metadata": {
    "ExecuteTime": {
     "end_time": "2023-08-28T05:03:04.465814Z",
     "start_time": "2023-08-28T05:03:04.454858Z"
    }
   },
   "outputs": [
    {
     "data": {
      "text/html": [
       "<div>\n",
       "<style scoped>\n",
       "    .dataframe tbody tr th:only-of-type {\n",
       "        vertical-align: middle;\n",
       "    }\n",
       "\n",
       "    .dataframe tbody tr th {\n",
       "        vertical-align: top;\n",
       "    }\n",
       "\n",
       "    .dataframe thead th {\n",
       "        text-align: right;\n",
       "    }\n",
       "</style>\n",
       "<table border=\"1\" class=\"dataframe\">\n",
       "  <thead>\n",
       "    <tr style=\"text-align: right;\">\n",
       "      <th></th>\n",
       "      <th>Height</th>\n",
       "      <th>Weight</th>\n",
       "    </tr>\n",
       "  </thead>\n",
       "  <tbody>\n",
       "    <tr>\n",
       "      <th>count</th>\n",
       "      <td>500.000000</td>\n",
       "      <td>500.000000</td>\n",
       "    </tr>\n",
       "    <tr>\n",
       "      <th>mean</th>\n",
       "      <td>169.944000</td>\n",
       "      <td>106.000000</td>\n",
       "    </tr>\n",
       "    <tr>\n",
       "      <th>std</th>\n",
       "      <td>16.375261</td>\n",
       "      <td>32.382607</td>\n",
       "    </tr>\n",
       "    <tr>\n",
       "      <th>min</th>\n",
       "      <td>140.000000</td>\n",
       "      <td>50.000000</td>\n",
       "    </tr>\n",
       "    <tr>\n",
       "      <th>25%</th>\n",
       "      <td>156.000000</td>\n",
       "      <td>80.000000</td>\n",
       "    </tr>\n",
       "    <tr>\n",
       "      <th>50%</th>\n",
       "      <td>170.500000</td>\n",
       "      <td>106.000000</td>\n",
       "    </tr>\n",
       "    <tr>\n",
       "      <th>75%</th>\n",
       "      <td>184.000000</td>\n",
       "      <td>136.000000</td>\n",
       "    </tr>\n",
       "    <tr>\n",
       "      <th>max</th>\n",
       "      <td>199.000000</td>\n",
       "      <td>160.000000</td>\n",
       "    </tr>\n",
       "  </tbody>\n",
       "</table>\n",
       "</div>"
      ],
      "text/plain": [
       "           Height      Weight\n",
       "count  500.000000  500.000000\n",
       "mean   169.944000  106.000000\n",
       "std     16.375261   32.382607\n",
       "min    140.000000   50.000000\n",
       "25%    156.000000   80.000000\n",
       "50%    170.500000  106.000000\n",
       "75%    184.000000  136.000000\n",
       "max    199.000000  160.000000"
      ]
     },
     "execution_count": 4,
     "metadata": {},
     "output_type": "execute_result"
    }
   ],
   "source": [
    "#describe()\n",
    "# int, float 컬럼들에 대해서 먼저 작용\n",
    "data.describe()\n",
    "# data의 갯수, 평균, 표준편차, 최소값, 사분위수 , 최대값 등이 나온다."
   ]
  },
  {
   "cell_type": "code",
   "execution_count": 5,
   "id": "ec3dcefe",
   "metadata": {
    "ExecuteTime": {
     "end_time": "2023-08-28T05:03:04.481366Z",
     "start_time": "2023-08-28T05:03:04.475385Z"
    }
   },
   "outputs": [
    {
     "data": {
      "text/plain": [
       "Index(['Obesity', 'Normal', 'Overweight', 'Extreme Obesity', 'Weak',\n",
       "       'Extremely Weak'],\n",
       "      dtype='object', name='Label')"
      ]
     },
     "execution_count": 5,
     "metadata": {},
     "output_type": "execute_result"
    }
   ],
   "source": [
    "# 먼저 Label 확인이 필요함\n",
    "# 중복없이 Label값을 확인해보자\n",
    "data.index.unique()\n",
    "# unique는 중복을 허락하지 않음.\n",
    "# Extreme Obesity 고도비만\n",
    "# Obesity 비만\n",
    "# OverWeight 과체중\n",
    "# Normal 표준\n",
    "# weak 저체중\n",
    "# Extremely weak 마름"
   ]
  },
  {
   "cell_type": "code",
   "execution_count": 6,
   "id": "1e37bdb3",
   "metadata": {
    "ExecuteTime": {
     "end_time": "2023-08-28T05:03:04.497986Z",
     "start_time": "2023-08-28T05:03:04.488641Z"
    }
   },
   "outputs": [
    {
     "data": {
      "text/plain": [
       "Extreme Obesity    198\n",
       "Obesity            130\n",
       "Normal              69\n",
       "Overweight          68\n",
       "Weak                22\n",
       "Extremely Weak      13\n",
       "Name: Label, dtype: int64"
      ]
     },
     "execution_count": 6,
     "metadata": {},
     "output_type": "execute_result"
    }
   ],
   "source": [
    "data.index.value_counts()"
   ]
  },
  {
   "cell_type": "markdown",
   "id": "36b1001d",
   "metadata": {
    "run_control": {
     "marked": true
    }
   },
   "source": [
    "## 시각화 해보기 : 비만도 레이블을 가지고"
   ]
  },
  {
   "cell_type": "code",
   "execution_count": 7,
   "id": "f6ca1e7d",
   "metadata": {
    "ExecuteTime": {
     "end_time": "2023-08-28T05:03:04.788397Z",
     "start_time": "2023-08-28T05:03:04.506129Z"
    },
    "code_folding": [
     0
    ],
    "scrolled": true
   },
   "outputs": [
    {
     "data": {
      "image/png": "[encoded data removed]",
      "text/plain": [
       "<Figure size 640x480 with 1 Axes>"
      ]
     },
     "metadata": {},
     "output_type": "display_data"
    }
   ],
   "source": [
    "# x축 키, y축 몸무게를 기준으로 산점도 그려보기\n",
    "# Extreme Obesity\n",
    "\n",
    "EO = data.loc['Extreme Obesity'] \n",
    "EO.shape\n",
    "plt.scatter(EO.iloc[:,1],EO.iloc[:,2], c= \"blue\" , label ='ext obes')\n",
    "\n",
    "O =data.loc['Obesity']\n",
    "plt.scatter(O[\"Height\"], O[\"Weight\"], c=\"hotpink\", label =\"obes\")\n",
    "plt.xlabel('Height')\n",
    "plt.ylabel('Weight')\n",
    "plt.ylabel.location = 0\n",
    "plt.legend() # 범례 표시\n",
    "plt.show()"
   ]
  },
  {
   "cell_type": "markdown",
   "id": "0ee34b30",
   "metadata": {},
   "source": [
    "###  함수 사용하기"
   ]
  },
  {
   "cell_type": "code",
   "execution_count": 8,
   "id": "3b334986",
   "metadata": {
    "ExecuteTime": {
     "end_time": "2023-08-28T05:03:04.800008Z",
     "start_time": "2023-08-28T05:03:04.796738Z"
    }
   },
   "outputs": [],
   "source": [
    "def bmi_draw(label, color):\n",
    "    O =data.loc[label]\n",
    "    plt.scatter(O[\"Height\"], O[\"Weight\"], c= color , label = label)"
   ]
  },
  {
   "cell_type": "code",
   "execution_count": 9,
   "id": "754d9004",
   "metadata": {
    "ExecuteTime": {
     "end_time": "2023-08-28T05:03:04.814435Z",
     "start_time": "2023-08-28T05:03:04.811739Z"
    }
   },
   "outputs": [],
   "source": [
    "# Label을 하나씩 연결하면서 , 색감도 설정하며 함수를 6번 사용해보자"
   ]
  },
  {
   "cell_type": "code",
   "execution_count": 10,
   "id": "94f1d7a8",
   "metadata": {
    "ExecuteTime": {
     "end_time": "2023-08-28T05:03:05.001224Z",
     "start_time": "2023-08-28T05:03:04.825075Z"
    },
    "scrolled": true
   },
   "outputs": [
    {
     "data": {
      "image/png": "[encoded data removed]",
      "text/plain": [
       "<Figure size 640x480 with 1 Axes>"
      ]
     },
     "metadata": {},
     "output_type": "display_data"
    }
   ],
   "source": [
    "bmi_draw('Extreme Obesity', 'red')\n",
    "bmi_draw('Obesity', 'hotpink')\n",
    "bmi_draw('Overweight', 'pink')\n",
    "bmi_draw('Normal', 'cyan')\n",
    "bmi_draw('Weak', 'skyblue')\n",
    "bmi_draw('Extremely Weak', 'blue')\n",
    "plt.xlabel = \"Height\"\n",
    "plt.ylabel = \"Weight\"\n",
    "plt.legend()\n",
    "plt.show()"
   ]
  },
  {
   "cell_type": "markdown",
   "id": "3b004c17",
   "metadata": {},
   "source": [
    "## 모델링\n",
    "* 모델 선택 및 하이퍼 파라미터 조정(knn 모델)\n",
    "* 모델 학습\n",
    "* 모델 예측 및 평가"
   ]
  },
  {
   "cell_type": "code",
   "execution_count": 11,
   "id": "e69cfd3f",
   "metadata": {
    "ExecuteTime": {
     "end_time": "2023-08-28T05:03:05.017383Z",
     "start_time": "2023-08-28T05:03:05.008876Z"
    }
   },
   "outputs": [
    {
     "data": {
      "text/html": [
       "<div>\n",
       "<style scoped>\n",
       "    .dataframe tbody tr th:only-of-type {\n",
       "        vertical-align: middle;\n",
       "    }\n",
       "\n",
       "    .dataframe tbody tr th {\n",
       "        vertical-align: top;\n",
       "    }\n",
       "\n",
       "    .dataframe thead th {\n",
       "        text-align: right;\n",
       "    }\n",
       "</style>\n",
       "<table border=\"1\" class=\"dataframe\">\n",
       "  <thead>\n",
       "    <tr style=\"text-align: right;\">\n",
       "      <th></th>\n",
       "      <th>Label</th>\n",
       "      <th>Gender</th>\n",
       "      <th>Height</th>\n",
       "      <th>Weight</th>\n",
       "    </tr>\n",
       "  </thead>\n",
       "  <tbody>\n",
       "    <tr>\n",
       "      <th>0</th>\n",
       "      <td>Obesity</td>\n",
       "      <td>Male</td>\n",
       "      <td>174</td>\n",
       "      <td>96</td>\n",
       "    </tr>\n",
       "    <tr>\n",
       "      <th>1</th>\n",
       "      <td>Normal</td>\n",
       "      <td>Male</td>\n",
       "      <td>189</td>\n",
       "      <td>87</td>\n",
       "    </tr>\n",
       "    <tr>\n",
       "      <th>2</th>\n",
       "      <td>Obesity</td>\n",
       "      <td>Female</td>\n",
       "      <td>185</td>\n",
       "      <td>110</td>\n",
       "    </tr>\n",
       "    <tr>\n",
       "      <th>3</th>\n",
       "      <td>Overweight</td>\n",
       "      <td>Female</td>\n",
       "      <td>195</td>\n",
       "      <td>104</td>\n",
       "    </tr>\n",
       "    <tr>\n",
       "      <th>4</th>\n",
       "      <td>Overweight</td>\n",
       "      <td>Male</td>\n",
       "      <td>149</td>\n",
       "      <td>61</td>\n",
       "    </tr>\n",
       "    <tr>\n",
       "      <th>...</th>\n",
       "      <td>...</td>\n",
       "      <td>...</td>\n",
       "      <td>...</td>\n",
       "      <td>...</td>\n",
       "    </tr>\n",
       "    <tr>\n",
       "      <th>495</th>\n",
       "      <td>Extreme Obesity</td>\n",
       "      <td>Female</td>\n",
       "      <td>150</td>\n",
       "      <td>153</td>\n",
       "    </tr>\n",
       "    <tr>\n",
       "      <th>496</th>\n",
       "      <td>Obesity</td>\n",
       "      <td>Female</td>\n",
       "      <td>184</td>\n",
       "      <td>121</td>\n",
       "    </tr>\n",
       "    <tr>\n",
       "      <th>497</th>\n",
       "      <td>Extreme Obesity</td>\n",
       "      <td>Female</td>\n",
       "      <td>141</td>\n",
       "      <td>136</td>\n",
       "    </tr>\n",
       "    <tr>\n",
       "      <th>498</th>\n",
       "      <td>Extreme Obesity</td>\n",
       "      <td>Male</td>\n",
       "      <td>150</td>\n",
       "      <td>95</td>\n",
       "    </tr>\n",
       "    <tr>\n",
       "      <th>499</th>\n",
       "      <td>Extreme Obesity</td>\n",
       "      <td>Male</td>\n",
       "      <td>173</td>\n",
       "      <td>131</td>\n",
       "    </tr>\n",
       "  </tbody>\n",
       "</table>\n",
       "<p>500 rows × 4 columns</p>\n",
       "</div>"
      ],
      "text/plain": [
       "               Label  Gender  Height  Weight\n",
       "0            Obesity    Male     174      96\n",
       "1             Normal    Male     189      87\n",
       "2            Obesity  Female     185     110\n",
       "3         Overweight  Female     195     104\n",
       "4         Overweight    Male     149      61\n",
       "..               ...     ...     ...     ...\n",
       "495  Extreme Obesity  Female     150     153\n",
       "496          Obesity  Female     184     121\n",
       "497  Extreme Obesity  Female     141     136\n",
       "498  Extreme Obesity    Male     150      95\n",
       "499  Extreme Obesity    Male     173     131\n",
       "\n",
       "[500 rows x 4 columns]"
      ]
     },
     "execution_count": 11,
     "metadata": {},
     "output_type": "execute_result"
    }
   ],
   "source": [
    "# 인덱스에 있는 label을 컬럼쪽으로 이동하기 : df.reset_index()\n",
    "# 컬럼영 확인 df.columns\n",
    "data2 = data.reset_index()\n",
    "data2"
   ]
  },
  {
   "cell_type": "code",
   "execution_count": 12,
   "id": "880ca323",
   "metadata": {
    "ExecuteTime": {
     "end_time": "2023-08-28T05:03:05.032947Z",
     "start_time": "2023-08-28T05:03:05.030573Z"
    }
   },
   "outputs": [],
   "source": [
    "# 문제 , 답 (컬럼 분리)\n",
    "X= data2.iloc[:,2:]\n",
    "\n",
    "y=data2[\"Label\"]"
   ]
  },
  {
   "cell_type": "code",
   "execution_count": 27,
   "id": "119e0528",
   "metadata": {
    "ExecuteTime": {
     "end_time": "2023-08-28T05:16:09.804606Z",
     "start_time": "2023-08-28T05:16:09.797889Z"
    }
   },
   "outputs": [
    {
     "data": {
      "text/plain": [
       "((150, 2), (350, 2))"
      ]
     },
     "execution_count": 27,
     "metadata": {},
     "output_type": "execute_result"
    }
   ],
   "source": [
    "# 7: 3의 경우에는\n",
    "X_train=X.iloc[:int(X.shape[0]*0.7)] # shape 열의 크기를 구한 뒤 * 0.7 로 곱해서 슬라이싱  \n",
    "X_train\n",
    "X_test =X.iloc[int(X.shape[0]*0.7):]\n",
    "X_test\n",
    "X_test.shape, X_train.shape"
   ]
  },
  {
   "cell_type": "code",
   "execution_count": 14,
   "id": "b9eb893a",
   "metadata": {
    "ExecuteTime": {
     "end_time": "2023-08-28T05:03:05.076828Z",
     "start_time": "2023-08-28T05:03:05.067764Z"
    },
    "scrolled": true
   },
   "outputs": [
    {
     "data": {
      "text/plain": [
       "350             Normal\n",
       "351             Normal\n",
       "352             Normal\n",
       "353    Extreme Obesity\n",
       "354     Extremely Weak\n",
       "            ...       \n",
       "495    Extreme Obesity\n",
       "496            Obesity\n",
       "497    Extreme Obesity\n",
       "498    Extreme Obesity\n",
       "499    Extreme Obesity\n",
       "Name: Label, Length: 150, dtype: object"
      ]
     },
     "execution_count": 14,
     "metadata": {},
     "output_type": "execute_result"
    }
   ],
   "source": [
    "# 행이 총 몇개 ? 500\n",
    "# train, test 데이터로 분리하는 비율\n",
    "# 7:3 (7.5: 2.5), (8:2)\n",
    "y_train = y[:int(y.shape[0]*0.7)] # 코드의 재사용을 위해서 사용\n",
    "y_test = y[int(y.shape[0]*0.7):]\n",
    "y_test"
   ]
  },
  {
   "cell_type": "code",
   "execution_count": 15,
   "id": "33addc6c",
   "metadata": {
    "ExecuteTime": {
     "end_time": "2023-08-28T05:03:05.161263Z",
     "start_time": "2023-08-28T05:03:05.157732Z"
    },
    "run_control": {
     "marked": true
    }
   },
   "outputs": [],
   "source": [
    "# 판다스에서\n",
    "# loc, iloc 인덱서를 사용해야 가능\n",
    "# df.loc[행,열]\n",
    "# df.iloc[행,열]\n",
    "\n",
    "# 행 데이터 접근 \n",
    "# df.loc[행] , df.loc[값:값] ==> df.loc[행:행]\n",
    "# df.iloc[행], df.iloc[값:값] ==> df.iloc[행:행]\n",
    "\n",
    "# 열 데이터 접근\n",
    "# df.loc[:,열] ,  df.loc[:, 열:열]\n",
    "# df.iloc[:,열인덱스] ,  df.loc[:, 열인덱스:열인덱스]\n",
    "\n",
    "# 행,열 접근\n",
    "# df.loc[시작행:끝행, 시작열:끝열]   \n",
    "# df.iloc[시작행인덱스:끝행인덱스, 시작열인덱스:끝열인덱스]   "
   ]
  },
  {
   "cell_type": "code",
   "execution_count": 16,
   "id": "afdfae3c",
   "metadata": {
    "ExecuteTime": {
     "end_time": "2023-08-28T05:03:05.716408Z",
     "start_time": "2023-08-28T05:03:05.712933Z"
    }
   },
   "outputs": [],
   "source": [
    "# 모델 불러오기\n",
    "# 분류하는 모델 중 knn 모델을 불러오기\n",
    "# sklearn(scikit-learn) 머신러닝 패키지 : 머신러닝에 사용되는 도구를 담은 패키지\n",
    "# 지도/ 비지도/ 강화, 분류/회귀, 평가 공식(기능), 데이터 전처리하는 기능\n",
    "from sklearn.neighbors import KNeighborsClassifier\n",
    "# 데이터 클래스의 개수는 6개\n",
    "from sklearn.metrics import accuracy_score\n",
    "# 여섯개 중에 한개를 판단하는 것 - > 다중 분류"
   ]
  },
  {
   "cell_type": "code",
   "execution_count": null,
   "id": "0c50f2ad",
   "metadata": {},
   "outputs": [],
   "source": [
    "# knn_model 이라는 변수로 모델 객체 생성\n",
    "# 사람이 설정하는 매개변수 => 하이퍼 파라미터\n",
    "# 이웃의 수 n_neighbors = 5개"
   ]
  },
  {
   "cell_type": "code",
   "execution_count": 21,
   "id": "5f09f187",
   "metadata": {
    "ExecuteTime": {
     "end_time": "2023-08-28T05:03:14.205284Z",
     "start_time": "2023-08-28T05:03:14.201673Z"
    }
   },
   "outputs": [],
   "source": [
    "knn_model = KNeighborsClassifier(n_neighbors=13)"
   ]
  },
  {
   "cell_type": "code",
   "execution_count": 22,
   "id": "3d953ca8",
   "metadata": {
    "ExecuteTime": {
     "end_time": "2023-08-28T05:03:14.783556Z",
     "start_time": "2023-08-28T05:03:14.776171Z"
    }
   },
   "outputs": [
    {
     "data": {
      "text/html": [
       "<style>#sk-container-id-2 {color: black;}#sk-container-id-2 pre{padding: 0;}#sk-container-id-2 div.sk-toggleable {background-color: white;}#sk-container-id-2 label.sk-toggleable__label {cursor: pointer;display: block;width: 100%;margin-bottom: 0;padding: 0.3em;box-sizing: border-box;text-align: center;}#sk-container-id-2 label.sk-toggleable__label-arrow:before {content: \"▸\";float: left;margin-right: 0.25em;color: #696969;}#sk-container-id-2 label.sk-toggleable__label-arrow:hover:before {color: black;}#sk-container-id-2 div.sk-estimator:hover label.sk-toggleable__label-arrow:before {color: black;}#sk-container-id-2 div.sk-toggleable__content {max-height: 0;max-width: 0;overflow: hidden;text-align: left;background-color: #f0f8ff;}#sk-container-id-2 div.sk-toggleable__content pre {margin: 0.2em;color: black;border-radius: 0.25em;background-color: #f0f8ff;}#sk-container-id-2 input.sk-toggleable__control:checked~div.sk-toggleable__content {max-height: 200px;max-width: 100%;overflow: auto;}#sk-container-id-2 input.sk-toggleable__control:checked~label.sk-toggleable__label-arrow:before {content: \"▾\";}#sk-container-id-2 div.sk-estimator input.sk-toggleable__control:checked~label.sk-toggleable__label {background-color: #d4ebff;}#sk-container-id-2 div.sk-label input.sk-toggleable__control:checked~label.sk-toggleable__label {background-color: #d4ebff;}#sk-container-id-2 input.sk-hidden--visually {border: 0;clip: rect(1px 1px 1px 1px);clip: rect(1px, 1px, 1px, 1px);height: 1px;margin: -1px;overflow: hidden;padding: 0;position: absolute;width: 1px;}#sk-container-id-2 div.sk-estimator {font-family: monospace;background-color: #f0f8ff;border: 1px dotted black;border-radius: 0.25em;box-sizing: border-box;margin-bottom: 0.5em;}#sk-container-id-2 div.sk-estimator:hover {background-color: #d4ebff;}#sk-container-id-2 div.sk-parallel-item::after {content: \"\";width: 100%;border-bottom: 1px solid gray;flex-grow: 1;}#sk-container-id-2 div.sk-label:hover label.sk-toggleable__label {background-color: #d4ebff;}#sk-container-id-2 div.sk-serial::before {content: \"\";position: absolute;border-left: 1px solid gray;box-sizing: border-box;top: 0;bottom: 0;left: 50%;z-index: 0;}#sk-container-id-2 div.sk-serial {display: flex;flex-direction: column;align-items: center;background-color: white;padding-right: 0.2em;padding-left: 0.2em;position: relative;}#sk-container-id-2 div.sk-item {position: relative;z-index: 1;}#sk-container-id-2 div.sk-parallel {display: flex;align-items: stretch;justify-content: center;background-color: white;position: relative;}#sk-container-id-2 div.sk-item::before, #sk-container-id-2 div.sk-parallel-item::before {content: \"\";position: absolute;border-left: 1px solid gray;box-sizing: border-box;top: 0;bottom: 0;left: 50%;z-index: -1;}#sk-container-id-2 div.sk-parallel-item {display: flex;flex-direction: column;z-index: 1;position: relative;background-color: white;}#sk-container-id-2 div.sk-parallel-item:first-child::after {align-self: flex-end;width: 50%;}#sk-container-id-2 div.sk-parallel-item:last-child::after {align-self: flex-start;width: 50%;}#sk-container-id-2 div.sk-parallel-item:only-child::after {width: 0;}#sk-container-id-2 div.sk-dashed-wrapped {border: 1px dashed gray;margin: 0 0.4em 0.5em 0.4em;box-sizing: border-box;padding-bottom: 0.4em;background-color: white;}#sk-container-id-2 div.sk-label label {font-family: monospace;font-weight: bold;display: inline-block;line-height: 1.2em;}#sk-container-id-2 div.sk-label-container {text-align: center;}#sk-container-id-2 div.sk-container {/* jupyter's `normalize.less` sets `[hidden] { display: none; }` but bootstrap.min.css set `[hidden] { display: none !important; }` so we also need the `!important` here to be able to override the default hidden behavior on the sphinx rendered scikit-learn.org. See: https://github.com/scikit-learn/scikit-learn/issues/21755 */display: inline-block !important;position: relative;}#sk-container-id-2 div.sk-text-repr-fallback {display: none;}</style><div id=\"sk-container-id-2\" class=\"sk-top-container\"><div class=\"sk-text-repr-fallback\"><pre>KNeighborsClassifier(n_neighbors=13)</pre><b>In a Jupyter environment, please rerun this cell to show the HTML representation or trust the notebook. <br />On GitHub, the HTML representation is unable to render, please try loading this page with nbviewer.org.</b></div><div class=\"sk-container\" hidden><div class=\"sk-item\"><div class=\"sk-estimator sk-toggleable\"><input class=\"sk-toggleable__control sk-hidden--visually\" id=\"sk-estimator-id-2\" type=\"checkbox\" checked><label for=\"sk-estimator-id-2\" class=\"sk-toggleable__label sk-toggleable__label-arrow\">KNeighborsClassifier</label><div class=\"sk-toggleable__content\"><pre>KNeighborsClassifier(n_neighbors=13)</pre></div></div></div></div></div>"
      ],
      "text/plain": [
       "KNeighborsClassifier(n_neighbors=13)"
      ]
     },
     "execution_count": 22,
     "metadata": {},
     "output_type": "execute_result"
    }
   ],
   "source": [
    "knn_model.fit(X_train, y_train)"
   ]
  },
  {
   "cell_type": "code",
   "execution_count": 23,
   "id": "6724f44c",
   "metadata": {
    "ExecuteTime": {
     "end_time": "2023-08-28T05:03:15.283463Z",
     "start_time": "2023-08-28T05:03:15.274837Z"
    }
   },
   "outputs": [
    {
     "data": {
      "text/plain": [
       "array(['Normal', 'Normal', 'Normal', 'Extreme Obesity', 'Extremely Weak',\n",
       "       'Obesity', 'Obesity', 'Extreme Obesity', 'Weak', 'Extreme Obesity',\n",
       "       'Weak', 'Extreme Obesity', 'Extreme Obesity', 'Obesity',\n",
       "       'Extreme Obesity', 'Extreme Obesity', 'Overweight', 'Obesity',\n",
       "       'Extreme Obesity', 'Overweight', 'Overweight', 'Extreme Obesity',\n",
       "       'Weak', 'Normal', 'Obesity', 'Extreme Obesity', 'Extreme Obesity',\n",
       "       'Extreme Obesity', 'Extreme Obesity', 'Overweight',\n",
       "       'Extreme Obesity', 'Weak', 'Obesity', 'Extreme Obesity',\n",
       "       'Extreme Obesity', 'Normal', 'Extreme Obesity', 'Obesity',\n",
       "       'Overweight', 'Normal', 'Normal', 'Normal', 'Normal', 'Overweight',\n",
       "       'Extreme Obesity', 'Overweight', 'Overweight', 'Extreme Obesity',\n",
       "       'Overweight', 'Extreme Obesity', 'Overweight', 'Obesity', 'Normal',\n",
       "       'Obesity', 'Obesity', 'Extreme Obesity', 'Normal',\n",
       "       'Extreme Obesity', 'Extreme Obesity', 'Extreme Obesity', 'Weak',\n",
       "       'Obesity', 'Extreme Obesity', 'Extreme Obesity', 'Extreme Obesity',\n",
       "       'Obesity', 'Extreme Obesity', 'Normal', 'Extreme Obesity',\n",
       "       'Normal', 'Weak', 'Extreme Obesity', 'Extreme Obesity', 'Obesity',\n",
       "       'Normal', 'Normal', 'Extreme Obesity', 'Obesity', 'Obesity',\n",
       "       'Obesity', 'Overweight', 'Extreme Obesity', 'Extreme Obesity',\n",
       "       'Obesity', 'Normal', 'Extreme Obesity', 'Extreme Obesity',\n",
       "       'Extreme Obesity', 'Weak', 'Extreme Obesity', 'Obesity', 'Normal',\n",
       "       'Extreme Obesity', 'Extreme Obesity', 'Obesity', 'Extreme Obesity',\n",
       "       'Obesity', 'Obesity', 'Extreme Obesity', 'Extreme Obesity',\n",
       "       'Extreme Obesity', 'Obesity', 'Extreme Obesity', 'Extremely Weak',\n",
       "       'Normal', 'Overweight', 'Obesity', 'Overweight', 'Obesity',\n",
       "       'Extreme Obesity', 'Obesity', 'Extreme Obesity', 'Weak',\n",
       "       'Extreme Obesity', 'Overweight', 'Extreme Obesity', 'Overweight',\n",
       "       'Extreme Obesity', 'Extreme Obesity', 'Overweight',\n",
       "       'Extreme Obesity', 'Extreme Obesity', 'Normal', 'Extreme Obesity',\n",
       "       'Obesity', 'Obesity', 'Extreme Obesity', 'Normal', 'Normal',\n",
       "       'Extreme Obesity', 'Extreme Obesity', 'Obesity', 'Extreme Obesity',\n",
       "       'Obesity', 'Obesity', 'Obesity', 'Extreme Obesity', 'Normal',\n",
       "       'Obesity', 'Extreme Obesity', 'Normal', 'Extreme Obesity',\n",
       "       'Extremely Weak', 'Normal', 'Extreme Obesity', 'Extreme Obesity',\n",
       "       'Obesity', 'Extreme Obesity', 'Extreme Obesity', 'Extreme Obesity'],\n",
       "      dtype=object)"
      ]
     },
     "execution_count": 23,
     "metadata": {},
     "output_type": "execute_result"
    }
   ],
   "source": [
    "# 모델 예측\n",
    "# knn_model.predict(테스트용 문제)\n",
    "pre = knn_model.predict(X_test)\n",
    "pre\n",
    "# 예측 결과를 담은 변수\n",
    "# 예측이 실제 정답과 항상 같지 않음, 예측이 틀릴 수 있음(오류가 있을 수 있음)"
   ]
  },
  {
   "cell_type": "code",
   "execution_count": 24,
   "id": "c552d752",
   "metadata": {
    "ExecuteTime": {
     "end_time": "2023-08-28T05:03:15.823012Z",
     "start_time": "2023-08-28T05:03:15.817400Z"
    }
   },
   "outputs": [
    {
     "data": {
      "text/plain": [
       "0.9133333333333333"
      ]
     },
     "execution_count": 24,
     "metadata": {},
     "output_type": "execute_result"
    }
   ],
   "source": [
    "# 모델 평가\n",
    "# accuracy_score() - 예측이 실제 값과 비교했을 때 몇개나 잘 맞췄는지 표현하는 점수 척도\n",
    "accuracy_score(y_test, pre) # 1.0*100 = 100% 전체 다 맞춘 상황"
   ]
  },
  {
   "cell_type": "code",
   "execution_count": null,
   "id": "71f61269",
   "metadata": {},
   "outputs": [],
   "source": []
  },
  {
   "cell_type": "code",
   "execution_count": null,
   "id": "3453aec3",
   "metadata": {},
   "outputs": [],
   "source": []
  }
 ],
 "metadata": {
  "hide_input": false,
  "kernelspec": {
   "display_name": "Python 3 (ipykernel)",
   "language": "python",
   "name": "python3"
  },
  "language_info": {
   "codemirror_mode": {
    "name": "ipython",
    "version": 3
   },
   "file_extension": ".py",
   "mimetype": "text/x-python",
   "name": "python",
   "nbconvert_exporter": "python",
   "pygments_lexer": "ipython3",
   "version": "3.11.4"
  },
  "nbTranslate": {
   "displayLangs": [
    "*"
   ],
   "hotkey": "alt-t",
   "langInMainMenu": true,
   "sourceLang": "en",
   "targetLang": "fr",
   "useGoogleTranslate": true
  },
  "toc": {
   "base_numbering": 1,
   "nav_menu": {},
   "number_sections": true,
   "sideBar": true,
   "skip_h1_title": false,
   "title_cell": "Table of Contents",
   "title_sidebar": "Contents",
   "toc_cell": false,
   "toc_position": {},
   "toc_section_display": true,
   "toc_window_display": false
  },
  "varInspector": {
   "cols": {
    "lenName": 16,
    "lenType": 16,
    "lenVar": 40
   },
   "kernels_config": {
    "python": {
     "delete_cmd_postfix": "",
     "delete_cmd_prefix": "del ",
     "library": "var_list.py",
     "varRefreshCmd": "print(var_dic_list())"
    },
    "r": {
     "delete_cmd_postfix": ") ",
     "delete_cmd_prefix": "rm(",
     "library": "var_list.r",
     "varRefreshCmd": "cat(var_dic_list()) "
    }
   },
   "types_to_exclude": [
    "module",
    "function",
    "builtin_function_or_method",
    "instance",
    "_Feature"
   ],
   "window_display": false
  }
 },
 "nbformat": 4,
 "nbformat_minor": 5
}
