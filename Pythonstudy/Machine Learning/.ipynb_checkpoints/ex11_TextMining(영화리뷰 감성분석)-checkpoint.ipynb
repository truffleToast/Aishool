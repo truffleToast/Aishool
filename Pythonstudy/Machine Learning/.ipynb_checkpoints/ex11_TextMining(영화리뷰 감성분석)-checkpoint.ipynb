{
 "cells": [
  {
   "cell_type": "markdown",
   "id": "9d66ed67",
   "metadata": {},
   "source": [
    "### 1. 문제정의\n",
    "- 영화리뷰데이터를 활용해서 긍정, 부정 감성분석 진행하자!\n",
    "    - 감성분석이란?\n",
    "    - 특정 주제에 대한 글의 감성 태도를 파악하는 것 (긍정/부정)\n",
    "- 텍스트데이터를 다루는 방법에 대해서 이해해보자!"
   ]
  },
  {
   "cell_type": "code",
   "execution_count": 1,
   "id": "92ce2e25",
   "metadata": {},
   "outputs": [],
   "source": [
    "# 파일 불러오는 방법\n",
    "import pandas as pd\n",
    "import numpy as np\n",
    "from sklearn.datasets import load_files"
   ]
  },
  {
   "cell_type": "code",
   "execution_count": 2,
   "id": "36111a9a",
   "metadata": {},
   "outputs": [
    {
     "ename": "FileNotFoundError",
     "evalue": "[WinError 3] 지정된 경로를 찾을 수 없습니다: 'data/aclImdb/train/'",
     "output_type": "error",
     "traceback": [
      "\u001b[1;31m---------------------------------------------------------------------------\u001b[0m",
      "\u001b[1;31mFileNotFoundError\u001b[0m                         Traceback (most recent call last)",
      "Cell \u001b[1;32mIn[2], line 3\u001b[0m\n\u001b[0;32m      1\u001b[0m \u001b[38;5;66;03m# 파일 불러오기\u001b[39;00m\n\u001b[0;32m      2\u001b[0m data_url \u001b[38;5;241m=\u001b[39m \u001b[38;5;124m'\u001b[39m\u001b[38;5;124mdata/aclImdb/train/\u001b[39m\u001b[38;5;124m'\u001b[39m\n\u001b[1;32m----> 3\u001b[0m rv_train \u001b[38;5;241m=\u001b[39m load_files(data_url,shuffle\u001b[38;5;241m=\u001b[39m\u001b[38;5;28;01mTrue\u001b[39;00m)\n\u001b[0;32m      4\u001b[0m rv_train\n",
      "File \u001b[1;32m~\\anaconda3\\Lib\\site-packages\\sklearn\\datasets\\_base.py:219\u001b[0m, in \u001b[0;36mload_files\u001b[1;34m(container_path, description, categories, load_content, shuffle, encoding, decode_error, random_state, allowed_extensions)\u001b[0m\n\u001b[0;32m    215\u001b[0m target_names \u001b[38;5;241m=\u001b[39m []\n\u001b[0;32m    216\u001b[0m filenames \u001b[38;5;241m=\u001b[39m []\n\u001b[0;32m    218\u001b[0m folders \u001b[38;5;241m=\u001b[39m [\n\u001b[1;32m--> 219\u001b[0m     f \u001b[38;5;28;01mfor\u001b[39;00m f \u001b[38;5;129;01min\u001b[39;00m \u001b[38;5;28msorted\u001b[39m(listdir(container_path)) \u001b[38;5;28;01mif\u001b[39;00m isdir(join(container_path, f))\n\u001b[0;32m    220\u001b[0m ]\n\u001b[0;32m    222\u001b[0m \u001b[38;5;28;01mif\u001b[39;00m categories \u001b[38;5;129;01mis\u001b[39;00m \u001b[38;5;129;01mnot\u001b[39;00m \u001b[38;5;28;01mNone\u001b[39;00m:\n\u001b[0;32m    223\u001b[0m     folders \u001b[38;5;241m=\u001b[39m [f \u001b[38;5;28;01mfor\u001b[39;00m f \u001b[38;5;129;01min\u001b[39;00m folders \u001b[38;5;28;01mif\u001b[39;00m f \u001b[38;5;129;01min\u001b[39;00m categories]\n",
      "\u001b[1;31mFileNotFoundError\u001b[0m: [WinError 3] 지정된 경로를 찾을 수 없습니다: 'data/aclImdb/train/'"
     ]
    }
   ],
   "source": [
    "# 파일 불러오기\n",
    "data_url = './deep/aclImdb/aclImdb/train/'\n",
    "rv_train = load_files(data_url,shuffle=True)\n",
    "rv_train"
   ]
  },
  {
   "cell_type": "code",
   "execution_count": null,
   "id": "72937a3b",
   "metadata": {},
   "outputs": [],
   "source": [
    "# bunch객체 : 머신러닝 자료 구조중 하나로 딕셔너리처럼 사용가능\n",
    "# key : value\n",
    "# 데이터 추출을 위해 key값을 활용하기!\n",
    "\n",
    "# 리뷰데이터의 키값확인하기!\n",
    "rv_train.keys()"
   ]
  },
  {
   "cell_type": "code",
   "execution_count": null,
   "id": "080650da",
   "metadata": {},
   "outputs": [],
   "source": [
    "# 문제 데이터 가져오기\n",
    "txt_train = rv_train['data']\n",
    "# 정답 데이터 가져오기\n",
    "y_train = rv_train['target']"
   ]
  },
  {
   "cell_type": "code",
   "execution_count": null,
   "id": "c7fa93a6",
   "metadata": {},
   "outputs": [],
   "source": [
    "# 정답데이터의 이름 확인하기\n",
    "rv_train['target_names']\n",
    "# 0 == neg(부정)\n",
    "# 1 == pos(긍정)"
   ]
  },
  {
   "cell_type": "code",
   "execution_count": null,
   "id": "22e3d65a",
   "metadata": {},
   "outputs": [],
   "source": [
    "# 테스트용 데이터 불러오기\n",
    "data_url2 ='./deep/aclImdb/test/'\n",
    "rv_test = load_files(data_url2, shuffle=True)\n",
    "rv_test"
   ]
  },
  {
   "cell_type": "code",
   "execution_count": null,
   "id": "cae7554f",
   "metadata": {},
   "outputs": [],
   "source": [
    "# 테스트용 데이터 분리하기\n",
    "# txt_test : 문제 데이터\n",
    "txt_test = rv_test['data']\n",
    "# y_test : 정답 데이터\n",
    "y_test = rv_test['target']"
   ]
  },
  {
   "cell_type": "code",
   "execution_count": null,
   "id": "fb18d9f0",
   "metadata": {},
   "outputs": [],
   "source": [
    "len(txt_test)"
   ]
  },
  {
   "cell_type": "code",
   "execution_count": null,
   "id": "db6cfbb0",
   "metadata": {},
   "outputs": [],
   "source": [
    "len(txt_train)"
   ]
  },
  {
   "cell_type": "markdown",
   "id": "d5f8ac1d",
   "metadata": {},
   "source": [
    "### 텍스트데이터 전처리\n",
    "- 불용어(의미없는 단어) 제거\n",
    "- 오탈자 띄어쓰기 교정\n",
    "- 정제, 정규화 어간추출, 표제어 추출"
   ]
  },
  {
   "cell_type": "code",
   "execution_count": null,
   "id": "ca5d21db",
   "metadata": {},
   "outputs": [],
   "source": [
    "# 불용어 처리\n",
    "txt_train\n",
    "# train데이터의 <br> 태그 삭제\n",
    "# 리스트 내부에서 반복문작성하기\n",
    "# 대입변수명 = [누적하고 싶은 결과값 for i in 대상의 범위]\n",
    "txt_train = [i.replace(b'<br />', b'') for i in txt_train]"
   ]
  },
  {
   "cell_type": "code",
   "execution_count": null,
   "id": "ac6d8dbc",
   "metadata": {},
   "outputs": [],
   "source": [
    "txt_test = [i.replace(b'<br />',b'') for i in txt_test]"
   ]
  },
  {
   "cell_type": "markdown",
   "id": "8df36675",
   "metadata": {},
   "source": [
    "### 토큰화"
   ]
  },
  {
   "cell_type": "code",
   "execution_count": null,
   "id": "e6ca3893",
   "metadata": {},
   "outputs": [],
   "source": [
    "from sklearn.feature_extraction.text import CountVectorizer\n",
    "# CountVectorizer : 빈도수 기반 벡터화도구\n",
    "# 오직 띄어쓰기만을 기준으로 하여 단어를 자른 후에 BOW를 만듬!!"
   ]
  },
  {
   "cell_type": "code",
   "execution_count": null,
   "id": "6d897408",
   "metadata": {},
   "outputs": [],
   "source": [
    "test_words = ['Hello my name is youghwa', 'I love you', 'you are a student','I love myself','Hello how are you']"
   ]
  },
  {
   "cell_type": "code",
   "execution_count": null,
   "id": "446869db",
   "metadata": {},
   "outputs": [],
   "source": [
    "# 카운트벡터라이저 객체 생성\n",
    "vect = CountVectorizer()"
   ]
  },
  {
   "cell_type": "code",
   "execution_count": null,
   "id": "dfa73ab5",
   "metadata": {},
   "outputs": [],
   "source": [
    "# 단어사전 구축하기\n",
    "vect.fit(test_words)"
   ]
  },
  {
   "cell_type": "code",
   "execution_count": null,
   "id": "a5353c06",
   "metadata": {},
   "outputs": [],
   "source": [
    "# 단어사전 확인\n",
    "print(vect.vocabulary_)"
   ]
  },
  {
   "cell_type": "code",
   "execution_count": null,
   "id": "dbffa454",
   "metadata": {},
   "outputs": [],
   "source": [
    "# 우리의 문장들을 수치데이터로 변경\n",
    "vect.transform(test_words)"
   ]
  },
  {
   "cell_type": "code",
   "execution_count": null,
   "id": "d69c8d17",
   "metadata": {},
   "outputs": [],
   "source": [
    "vect1 = vect.transform(test_words).toarray()\n",
    "vect1"
   ]
  },
  {
   "cell_type": "markdown",
   "id": "768842a4",
   "metadata": {},
   "source": [
    "- txt_train, txt_test 모두 수치화 진행"
   ]
  },
  {
   "cell_type": "code",
   "execution_count": null,
   "id": "656d946b",
   "metadata": {},
   "outputs": [],
   "source": [
    "# 1. 카운트벡터라이저 객체 생성\n",
    "rv_vect = CountVectorizer()"
   ]
  },
  {
   "cell_type": "code",
   "execution_count": null,
   "id": "dc1fabdc",
   "metadata": {},
   "outputs": [],
   "source": [
    "# 2. 단어사전 구축(train, test 둘 다 진행하기)\n",
    "rv_vect.fit(txt_train)"
   ]
  },
  {
   "cell_type": "code",
   "execution_count": null,
   "id": "8e52b664",
   "metadata": {},
   "outputs": [],
   "source": [
    "rv_vect.fit(txt_test)"
   ]
  },
  {
   "cell_type": "code",
   "execution_count": null,
   "id": "c5b2f1cc",
   "metadata": {},
   "outputs": [],
   "source": [
    "X_train = rv_vect.transform(txt_train)\n",
    "X_test = rv_vect.transform(txt_test)"
   ]
  },
  {
   "cell_type": "markdown",
   "id": "3e24de64",
   "metadata": {},
   "source": [
    "### 모델링"
   ]
  },
  {
   "cell_type": "code",
   "execution_count": null,
   "id": "8592c777",
   "metadata": {},
   "outputs": [],
   "source": [
    "# 로지스틱회귀모델을 사용하여 긍,부정\n",
    "from sklearn.linear_model import LogisticRegression"
   ]
  },
  {
   "cell_type": "code",
   "execution_count": null,
   "id": "4a28c7cd",
   "metadata": {},
   "outputs": [],
   "source": [
    "# 모델 객체 생성\n",
    "logi = LogisticRegression()"
   ]
  },
  {
   "cell_type": "code",
   "execution_count": null,
   "id": "dbb06efd",
   "metadata": {},
   "outputs": [],
   "source": [
    "# 모델 학습\n",
    "logi.fit(X_train,y_train)"
   ]
  },
  {
   "cell_type": "code",
   "execution_count": null,
   "id": "b5206486",
   "metadata": {},
   "outputs": [],
   "source": [
    "# 모델 평가\n",
    "logi.score(X_test,y_test)"
   ]
  },
  {
   "cell_type": "markdown",
   "id": "291d80ca",
   "metadata": {},
   "source": [
    "- 우리의 리뷰를 작성해서 잘 맞추는지 확인해보자!!!"
   ]
  },
  {
   "cell_type": "code",
   "execution_count": null,
   "id": "0c568107",
   "metadata": {},
   "outputs": [],
   "source": [
    "data = [\"This was a horrible movie. It's a waste of time and money. It was like watching Desperately Seeking Susan meets Boo from Monsters Inc.\"]"
   ]
  },
  {
   "cell_type": "code",
   "execution_count": null,
   "id": "accb75d9",
   "metadata": {},
   "outputs": [],
   "source": [
    "tf_data = rv_vect.transform(data)\n",
    "tf_data"
   ]
  },
  {
   "cell_type": "code",
   "execution_count": null,
   "id": "31d11692",
   "metadata": {},
   "outputs": [],
   "source": [
    "logi.predict(tf_data)"
   ]
  },
  {
   "cell_type": "code",
   "execution_count": null,
   "id": "a9351b58",
   "metadata": {},
   "outputs": [],
   "source": [
    "data2 = [\"It seems fun,but it's not fun.\"]"
   ]
  },
  {
   "cell_type": "code",
   "execution_count": null,
   "id": "afaf8346",
   "metadata": {},
   "outputs": [],
   "source": [
    "tf_data2 = rv_vect.transform(data2)"
   ]
  },
  {
   "cell_type": "code",
   "execution_count": null,
   "id": "a9cb6eb5",
   "metadata": {},
   "outputs": [],
   "source": [
    "logi.predict(tf_data2)"
   ]
  },
  {
   "cell_type": "markdown",
   "id": "e1a5fd9c",
   "metadata": {},
   "source": [
    "### TF-IDF\n",
    "- TF-IDF(Term Frequency - Inverse Document Frequency)\n",
    "- 단어의 중요도를 확인할 때 단순 카운트기반이 아닌 모든 문서를 확인 후에 특정 문서에만 자주 등장하는 단어들은 가중치를 부여하는 방식\n",
    "- TF : 하나의 문서에 등장하는 횟수\n",
    "- DF : 전체의 문서에 등장하는 횟수\n",
    "- 결과값이 클수록 중요가 높은 단어, 결과값이 낮을 수록 중요도가 낮은 단어"
   ]
  },
  {
   "attachments": {
    "image.png": {
     "image/png": "[encoded data removed]"
    }
   },
   "cell_type": "markdown",
   "id": "be4ad8e4",
   "metadata": {},
   "source": [
    "![image.png](attachment:image.png)"
   ]
  },
  {
   "cell_type": "code",
   "execution_count": null,
   "id": "ed678e5f",
   "metadata": {},
   "outputs": [],
   "source": [
    "# 도구 불러오기\n",
    "from sklearn.feature_extraction.text import TfidfVectorizer"
   ]
  },
  {
   "cell_type": "code",
   "execution_count": null,
   "id": "4631dcfb",
   "metadata": {},
   "outputs": [],
   "source": [
    "corpus = ['I love you',\n",
    "         'I hate you',\n",
    "         'you know I want your love',\n",
    "         'I miss you']"
   ]
  },
  {
   "cell_type": "code",
   "execution_count": null,
   "id": "75edcee2",
   "metadata": {},
   "outputs": [],
   "source": [
    "# 객체 생성\n",
    "tfidf_vect = TfidfVectorizer()"
   ]
  },
  {
   "cell_type": "code",
   "execution_count": null,
   "id": "26fa140a",
   "metadata": {},
   "outputs": [],
   "source": [
    "# 단어사전 생성\n",
    "tfidf_vect.fit(corpus)"
   ]
  },
  {
   "cell_type": "code",
   "execution_count": null,
   "id": "fb6cadce",
   "metadata": {},
   "outputs": [],
   "source": [
    "print(tfidf_vect.vocabulary_)"
   ]
  },
  {
   "cell_type": "code",
   "execution_count": null,
   "id": "2766cd43",
   "metadata": {
    "scrolled": true
   },
   "outputs": [],
   "source": [
    "tfidf_vect.transform(corpus).toarray()"
   ]
  }
 ],
 "metadata": {
  "kernelspec": {
   "display_name": "Python 3 (ipykernel)",
   "language": "python",
   "name": "python3"
  },
  "language_info": {
   "codemirror_mode": {
    "name": "ipython",
    "version": 3
   },
   "file_extension": ".py",
   "mimetype": "text/x-python",
   "name": "python",
   "nbconvert_exporter": "python",
   "pygments_lexer": "ipython3",
   "version": "3.11.5"
  }
 },
 "nbformat": 4,
 "nbformat_minor": 5
}
