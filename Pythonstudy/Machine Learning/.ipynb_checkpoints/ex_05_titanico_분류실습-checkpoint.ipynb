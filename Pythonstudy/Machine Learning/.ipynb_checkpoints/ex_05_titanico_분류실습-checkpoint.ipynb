{
 "cells": [
  {
   "cell_type": "markdown",
   "id": "59e667aa",
   "metadata": {},
   "source": [
    "## . 목표! : \n",
    "- 타이타닉 데이터를 활용하여 생존자와 사망자를 예측해보자\n",
    "- kaggle 경진대회에 참가하여 우리 점수를 확인해보자!\n",
    "- 머신러닝의 전체과정을 체험해보자"
   ]
  },
  {
   "cell_type": "markdown",
   "id": "f9761327",
   "metadata": {},
   "source": [
    "## . 머신러닝 과정\n",
    "1. 문제정의: 목표 설정, 어떤 모델\n",
    "2. 데이터 수집: 분류를 할거라면 class로 담긴 레이블 있는 데이터 수집\n",
    "3. 데이터 전처리 : 머신러닝의 학습을 위해 이상치나 결측치를 처리하는 과정\n",
    "4. 데이터 탐색: 기술통계, 특성간의 관계\n",
    "5. 모델 선택 및 하이퍼 파라미터 설정\n",
    "6. 모델 예측 및 평가\n",
    "7. 모델 서비스 화"
   ]
  },
  {
   "cell_type": "markdown",
   "id": "fbcf28fe",
   "metadata": {},
   "source": [
    "## . 임포트하기"
   ]
  },
  {
   "cell_type": "code",
   "execution_count": 1,
   "id": "86bae97f",
   "metadata": {
    "ExecuteTime": {
     "end_time": "2023-09-01T07:19:14.648664Z",
     "start_time": "2023-09-01T07:19:11.466365Z"
    }
   },
   "outputs": [],
   "source": [
    "import numpy as np\n",
    "import pandas as pd\n",
    "import matplotlib.pyplot as plt \n",
    "import seaborn as sns # 시각화 라이브러리\n",
    "# train, test 분리하는 도구\n",
    "from sklearn.model_selection import train_test_split\n",
    "# 평가 도구\n",
    "from sklearn.metrics import accuracy_score\n",
    "# tree model - 사망/ 생존 이진분류\n",
    "from sklearn.tree import DecisionTreeClassifier"
   ]
  },
  {
   "cell_type": "code",
   "execution_count": 2,
   "id": "36e1eb33",
   "metadata": {
    "ExecuteTime": {
     "end_time": "2023-09-01T07:19:14.653796Z",
     "start_time": "2023-09-01T07:19:14.650667Z"
    }
   },
   "outputs": [],
   "source": [
    "# train, test 변수에 데이터 불러와서 담기\n",
    "# 단, 인덱스를 승객의 번호로 설정해서 담아줄 것"
   ]
  },
  {
   "cell_type": "code",
   "execution_count": 3,
   "id": "bc5a19a3",
   "metadata": {
    "ExecuteTime": {
     "end_time": "2023-09-01T07:19:14.674410Z",
     "start_time": "2023-09-01T07:19:14.654798Z"
    }
   },
   "outputs": [],
   "source": [
    "train = pd.read_csv(\"data/titanic/train.csv\", index_col=\"PassengerId\")\n",
    "test = pd.read_csv(\"data/titanic/test.csv\", index_col= \"PassengerId\")"
   ]
  },
  {
   "cell_type": "markdown",
   "id": "71b37dad",
   "metadata": {
    "ExecuteTime": {
     "end_time": "2023-08-31T06:28:42.048912Z",
     "start_time": "2023-08-31T06:28:42.044686Z"
    }
   },
   "source": [
    " 0.   Survived  - 생존/ 사망 여부 (답 데이터, Class Label)  \n",
    " 1.   Pclass    - 승객의 등급(1- 귀족층,2- 중간층,3- 하위계층)  \n",
    " 2.   Name      - 이름        \n",
    " 3.  Sex       - 성별(male, female)\n",
    " 4.  Age       - 나이(0~  \n",
    " 5.  SibSp     - 형제자매+배우자 수  \n",
    " 6.  Parch     - 부모 + 자식 수  \n",
    " 7.  Ticket    - 티겟 번호  \n",
    " 8.  Fare      - 요금  \n",
    " 9.  Cabin     - 객실번호  \n",
    " 10.  Embarked  - 승선항  "
   ]
  },
  {
   "cell_type": "code",
   "execution_count": 4,
   "id": "38a5cb67",
   "metadata": {
    "ExecuteTime": {
     "end_time": "2023-09-01T07:19:14.684625Z",
     "start_time": "2023-09-01T07:19:14.675413Z"
    }
   },
   "outputs": [
    {
     "name": "stdout",
     "output_type": "stream",
     "text": [
      "<class 'pandas.core.frame.DataFrame'>\n",
      "Int64Index: 418 entries, 892 to 1309\n",
      "Data columns (total 10 columns):\n",
      " #   Column    Non-Null Count  Dtype  \n",
      "---  ------    --------------  -----  \n",
      " 0   Pclass    418 non-null    int64  \n",
      " 1   Name      418 non-null    object \n",
      " 2   Sex       418 non-null    object \n",
      " 3   Age       332 non-null    float64\n",
      " 4   SibSp     418 non-null    int64  \n",
      " 5   Parch     418 non-null    int64  \n",
      " 6   Ticket    418 non-null    object \n",
      " 7   Fare      417 non-null    float64\n",
      " 8   Cabin     91 non-null     object \n",
      " 9   Embarked  418 non-null    object \n",
      "dtypes: float64(2), int64(3), object(5)\n",
      "memory usage: 35.9+ KB\n"
     ]
    }
   ],
   "source": [
    "test.info() # 테스트 정보확인"
   ]
  },
  {
   "cell_type": "code",
   "execution_count": 5,
   "id": "6399f2e1",
   "metadata": {
    "ExecuteTime": {
     "end_time": "2023-09-01T07:19:14.694737Z",
     "start_time": "2023-09-01T07:19:14.685626Z"
    }
   },
   "outputs": [
    {
     "name": "stdout",
     "output_type": "stream",
     "text": [
      "<class 'pandas.core.frame.DataFrame'>\n",
      "Int64Index: 891 entries, 1 to 891\n",
      "Data columns (total 11 columns):\n",
      " #   Column    Non-Null Count  Dtype  \n",
      "---  ------    --------------  -----  \n",
      " 0   Survived  891 non-null    int64  \n",
      " 1   Pclass    891 non-null    int64  \n",
      " 2   Name      891 non-null    object \n",
      " 3   Sex       891 non-null    object \n",
      " 4   Age       714 non-null    float64\n",
      " 5   SibSp     891 non-null    int64  \n",
      " 6   Parch     891 non-null    int64  \n",
      " 7   Ticket    891 non-null    object \n",
      " 8   Fare      891 non-null    float64\n",
      " 9   Cabin     204 non-null    object \n",
      " 10  Embarked  889 non-null    object \n",
      "dtypes: float64(2), int64(4), object(5)\n",
      "memory usage: 83.5+ KB\n"
     ]
    }
   ],
   "source": [
    "train.info() # 정보 확인"
   ]
  },
  {
   "cell_type": "code",
   "execution_count": 6,
   "id": "381582a6",
   "metadata": {
    "ExecuteTime": {
     "end_time": "2023-09-01T07:19:14.699659Z",
     "start_time": "2023-09-01T07:19:14.695742Z"
    }
   },
   "outputs": [
    {
     "name": "stdout",
     "output_type": "stream",
     "text": [
      "트레인 크기:  (891, 11)\n",
      "테스트 크기:  (418, 10)\n"
     ]
    }
   ],
   "source": [
    "# 크기 확인\n",
    "print('트레인 크기: ', train.shape)\n",
    "print('테스트 크기: ', test.shape) # 테스트에는 정답 데이터가 없다."
   ]
  },
  {
   "cell_type": "code",
   "execution_count": 7,
   "id": "89ddf22a",
   "metadata": {
    "ExecuteTime": {
     "end_time": "2023-09-01T07:19:14.703071Z",
     "start_time": "2023-09-01T07:19:14.700663Z"
    }
   },
   "outputs": [],
   "source": [
    "# 컬럼명만 뽑아서 확인하기"
   ]
  },
  {
   "cell_type": "code",
   "execution_count": 8,
   "id": "e6cc2a51",
   "metadata": {
    "ExecuteTime": {
     "end_time": "2023-09-01T07:19:14.706999Z",
     "start_time": "2023-09-01T07:19:14.704072Z"
    },
    "scrolled": true
   },
   "outputs": [
    {
     "name": "stdout",
     "output_type": "stream",
     "text": [
      "Index(['Survived', 'Pclass', 'Name', 'Sex', 'Age', 'SibSp', 'Parch', 'Ticket',\n",
      "       'Fare', 'Cabin', 'Embarked'],\n",
      "      dtype='object')\n",
      "Index(['Pclass', 'Name', 'Sex', 'Age', 'SibSp', 'Parch', 'Ticket', 'Fare',\n",
      "       'Cabin', 'Embarked'],\n",
      "      dtype='object')\n"
     ]
    }
   ],
   "source": [
    "print(train.columns)\n",
    "print(test.columns)"
   ]
  },
  {
   "cell_type": "markdown",
   "id": "f77f3f8a",
   "metadata": {},
   "source": [
    "### 데이터 전처리 및 탐색\n",
    "- 결측치 확인"
   ]
  },
  {
   "cell_type": "code",
   "execution_count": 9,
   "id": "21dbc519",
   "metadata": {
    "ExecuteTime": {
     "end_time": "2023-09-01T07:19:14.716046Z",
     "start_time": "2023-09-01T07:19:14.708006Z"
    }
   },
   "outputs": [
    {
     "name": "stdout",
     "output_type": "stream",
     "text": [
      "<class 'pandas.core.frame.DataFrame'>\n",
      "Int64Index: 891 entries, 1 to 891\n",
      "Data columns (total 11 columns):\n",
      " #   Column    Non-Null Count  Dtype  \n",
      "---  ------    --------------  -----  \n",
      " 0   Survived  891 non-null    int64  \n",
      " 1   Pclass    891 non-null    int64  \n",
      " 2   Name      891 non-null    object \n",
      " 3   Sex       891 non-null    object \n",
      " 4   Age       714 non-null    float64\n",
      " 5   SibSp     891 non-null    int64  \n",
      " 6   Parch     891 non-null    int64  \n",
      " 7   Ticket    891 non-null    object \n",
      " 8   Fare      891 non-null    float64\n",
      " 9   Cabin     204 non-null    object \n",
      " 10  Embarked  889 non-null    object \n",
      "dtypes: float64(2), int64(4), object(5)\n",
      "memory usage: 83.5+ KB\n"
     ]
    }
   ],
   "source": [
    "train.info()\n",
    "#AGE, Cabin , Embarked 에 결측치가 존재"
   ]
  },
  {
   "cell_type": "code",
   "execution_count": 10,
   "id": "9f0718bb",
   "metadata": {
    "ExecuteTime": {
     "end_time": "2023-09-01T07:19:14.727917Z",
     "start_time": "2023-09-01T07:19:14.718050Z"
    }
   },
   "outputs": [
    {
     "data": {
      "text/plain": [
       "Pclass      418\n",
       "Name        418\n",
       "Sex         418\n",
       "Age         332\n",
       "SibSp       418\n",
       "Parch       418\n",
       "Ticket      418\n",
       "Fare        417\n",
       "Cabin        91\n",
       "Embarked    418\n",
       "dtype: int64"
      ]
     },
     "execution_count": 10,
     "metadata": {},
     "output_type": "execute_result"
    }
   ],
   "source": [
    "test.count()\n",
    "#Age에 결측치가 존재"
   ]
  },
  {
   "cell_type": "code",
   "execution_count": 11,
   "id": "7fb136f2",
   "metadata": {
    "ExecuteTime": {
     "end_time": "2023-09-01T07:19:14.735497Z",
     "start_time": "2023-09-01T07:19:14.728920Z"
    }
   },
   "outputs": [
    {
     "name": "stdout",
     "output_type": "stream",
     "text": [
      "(418, 10)\n"
     ]
    },
    {
     "data": {
      "text/plain": [
       "Pclass        0\n",
       "Name          0\n",
       "Sex           0\n",
       "Age          86\n",
       "SibSp         0\n",
       "Parch         0\n",
       "Ticket        0\n",
       "Fare          1\n",
       "Cabin       327\n",
       "Embarked      0\n",
       "dtype: int64"
      ]
     },
     "execution_count": 11,
     "metadata": {},
     "output_type": "execute_result"
    }
   ],
   "source": [
    "# 판다스 함수 통해서 test 결측치 확인\n",
    "# 데이터 자리에 결측치가 있니? => 데이터.isnull()\n",
    "print(test.shape)\n",
    "test.isnull().sum()\n",
    "# 결측치 존재 컬럼 Age, Fare, Cabin\n",
    "# 결측치를 삭제하기 보다는 채우면서 처리해보겠음."
   ]
  },
  {
   "cell_type": "markdown",
   "id": "389bf2c1",
   "metadata": {},
   "source": [
    "#### train- Embarked 결측치 처리\n",
    "- 승객이 탑승한 항구 이름"
   ]
  },
  {
   "cell_type": "code",
   "execution_count": 12,
   "id": "d879e016",
   "metadata": {
    "ExecuteTime": {
     "end_time": "2023-09-01T07:19:14.740617Z",
     "start_time": "2023-09-01T07:19:14.738499Z"
    }
   },
   "outputs": [],
   "source": [
    "# trian 데이터를 기준으로 embarked 컬럼 확인"
   ]
  },
  {
   "cell_type": "code",
   "execution_count": 13,
   "id": "2eedca01",
   "metadata": {
    "ExecuteTime": {
     "end_time": "2023-09-01T07:19:14.748501Z",
     "start_time": "2023-09-01T07:19:14.741618Z"
    }
   },
   "outputs": [
    {
     "data": {
      "text/plain": [
       "PassengerId\n",
       "1      S\n",
       "2      C\n",
       "3      S\n",
       "4      S\n",
       "5      S\n",
       "      ..\n",
       "887    S\n",
       "888    S\n",
       "889    S\n",
       "890    C\n",
       "891    Q\n",
       "Name: Embarked, Length: 891, dtype: object"
      ]
     },
     "execution_count": 13,
     "metadata": {},
     "output_type": "execute_result"
    }
   ],
   "source": [
    "train['Embarked']"
   ]
  },
  {
   "cell_type": "code",
   "execution_count": 14,
   "id": "0e3f4ff2",
   "metadata": {
    "ExecuteTime": {
     "end_time": "2023-09-01T07:19:14.755800Z",
     "start_time": "2023-09-01T07:19:14.752503Z"
    }
   },
   "outputs": [],
   "source": [
    "#test 안보나요\n",
    "# 탐색용 데이터는 trian,\n",
    "# 모델학습 : 모델이 학습을 잘하도록 데이터를 셋팅\n",
    "# test 데이터는 모델을 일반화 하는데 도움이 되지 않음\n",
    "# train 데이터가 학습할 때 사용되고 모델의 일반화에 도움을 줌"
   ]
  },
  {
   "cell_type": "code",
   "execution_count": 15,
   "id": "fdcf9e99",
   "metadata": {
    "ExecuteTime": {
     "end_time": "2023-09-01T07:19:14.763738Z",
     "start_time": "2023-09-01T07:19:14.756808Z"
    }
   },
   "outputs": [
    {
     "data": {
      "text/plain": [
       "S    646\n",
       "C    168\n",
       "Q     77\n",
       "Name: Embarked, dtype: int64"
      ]
     },
     "execution_count": 15,
     "metadata": {},
     "output_type": "execute_result"
    }
   ],
   "source": [
    "# Embarekd 결측치를 'S'로 채우기\n",
    "#fillna(채울값)\n",
    "train['Embarked'] = train['Embarked'].fillna('S')\n",
    "train['Embarked'].unique()\n",
    "train['Embarked'].value_counts()"
   ]
  },
  {
   "cell_type": "code",
   "execution_count": 16,
   "id": "22059caf",
   "metadata": {
    "ExecuteTime": {
     "end_time": "2023-09-01T07:19:14.768256Z",
     "start_time": "2023-09-01T07:19:14.765739Z"
    }
   },
   "outputs": [],
   "source": [
    "# 자동화 하는 코드를 짜면 되겟넹"
   ]
  },
  {
   "cell_type": "markdown",
   "id": "d01c4390",
   "metadata": {},
   "source": [
    "####  test-fare데이터 결측치 처리\n",
    "1. 요금 평균, 중앙값 계산 가능\n",
    "2. 데이터 분석을 진행하면서 관련이 있을 법한 컬럼을 연관지어서 대체값을 확인해보자"
   ]
  },
  {
   "cell_type": "code",
   "execution_count": 17,
   "id": "ca423e39",
   "metadata": {
    "ExecuteTime": {
     "end_time": "2023-09-01T07:19:14.780202Z",
     "start_time": "2023-09-01T07:19:14.772258Z"
    }
   },
   "outputs": [
    {
     "data": {
      "text/plain": [
       "count    891.000000\n",
       "mean      32.204208\n",
       "std       49.693429\n",
       "min        0.000000\n",
       "25%        7.910400\n",
       "50%       14.454200\n",
       "75%       31.000000\n",
       "max      512.329200\n",
       "Name: Fare, dtype: float64"
      ]
     },
     "execution_count": 17,
     "metadata": {},
     "output_type": "execute_result"
    }
   ],
   "source": [
    "# train을 기준으로 데이터 탐색\n",
    "train['Fare'].describe()\n",
    "# 4분위 수와 중앙값 , 표준편차, 평균이 나옴\n",
    "#요금의 대표값으로 평균보다 중앙값이 더 나을 수 있음."
   ]
  },
  {
   "cell_type": "code",
   "execution_count": 18,
   "id": "80f906fe",
   "metadata": {
    "ExecuteTime": {
     "end_time": "2023-09-01T07:19:14.786132Z",
     "start_time": "2023-09-01T07:19:14.781210Z"
    }
   },
   "outputs": [
    {
     "name": "stdout",
     "output_type": "stream",
     "text": [
      "Survived    1.000000\n",
      "Pclass      0.338481\n",
      "Age         0.077221\n",
      "SibSp       0.035322\n",
      "Parch       0.081629\n",
      "Fare        0.257307\n",
      "Name: Survived, dtype: float64\n"
     ]
    },
    {
     "name": "stderr",
     "output_type": "stream",
     "text": [
      "C:\\Users\\user\\AppData\\Local\\Temp\\ipykernel_10052\\452811239.py:6: FutureWarning: The default value of numeric_only in DataFrame.corr is deprecated. In a future version, it will default to False. Select only valid columns or specify the value of numeric_only to silence this warning.\n",
      "  print(train.corr()['Survived'].abs()) # Pclass가 생존 / 사망에 연관이 있을 수 있겟다.\n"
     ]
    }
   ],
   "source": [
    "# 변수간의 상관관계\n",
    "# 상관계수 : - 1 ~ 1 사이의 상관계수\n",
    "# 각 컬럼의 상관 정도를 파악 할 수 있음.\n",
    "# -1과 1에 가까울 수록 변수간의 관계성이 있음.\n",
    "#생존사망과 연관이 있는 컬럼 확인해보기\n",
    "print(train.corr()['Survived'].abs()) # Pclass가 생존 / 사망에 연관이 있을 수 있겟다.\n",
    "# 등급에 따라서 요금의 중앙값으로 의미가 있을 수 있다."
   ]
  },
  {
   "cell_type": "code",
   "execution_count": 19,
   "id": "bdf23c12",
   "metadata": {
    "ExecuteTime": {
     "end_time": "2023-09-01T07:19:14.790949Z",
     "start_time": "2023-09-01T07:19:14.787134Z"
    }
   },
   "outputs": [
    {
     "data": {
      "text/plain": [
       "array([3, 1, 2], dtype=int64)"
      ]
     },
     "execution_count": 19,
     "metadata": {},
     "output_type": "execute_result"
    }
   ],
   "source": [
    "Pclass_coulmn =train['Pclass'].unique()\n",
    "Pclass_coulmn"
   ]
  },
  {
   "cell_type": "code",
   "execution_count": 20,
   "id": "c7567a76",
   "metadata": {
    "ExecuteTime": {
     "end_time": "2023-09-01T07:19:14.795572Z",
     "start_time": "2023-09-01T07:19:14.791951Z"
    }
   },
   "outputs": [],
   "source": [
    "# Pclass 와 Fare 두개의 컬럼만 인덱싱하기\n",
    "pf =train[['Pclass', 'Fare']]\n",
    "# Pcalss 1,2,3 등급끼리 묶기 (그룹화 하기)\n",
    "# median() 집계함수 연결"
   ]
  },
  {
   "cell_type": "code",
   "execution_count": 21,
   "id": "db930d29",
   "metadata": {
    "ExecuteTime": {
     "end_time": "2023-09-01T07:19:14.801303Z",
     "start_time": "2023-09-01T07:19:14.796576Z"
    }
   },
   "outputs": [],
   "source": [
    "# 불리언 색인으로 찾기 .. 개더러움\n",
    "pf1 = pf[pf['Pclass'] == 1]\n",
    "pf2 = pf[pf['Pclass'] == 2]\n",
    "pf3 = pf[pf['Pclass'] == 3]\n",
    "mp1 =pf1['Fare'].median()\n",
    "mp2 =pf2['Fare'].median()\n",
    "mp3 =pf3['Fare'].median()"
   ]
  },
  {
   "cell_type": "code",
   "execution_count": 22,
   "id": "30e75000",
   "metadata": {
    "ExecuteTime": {
     "end_time": "2023-09-01T07:19:14.815238Z",
     "start_time": "2023-09-01T07:19:14.802308Z"
    }
   },
   "outputs": [
    {
     "data": {
      "text/html": [
       "<div>\n",
       "<style scoped>\n",
       "    .dataframe tbody tr th:only-of-type {\n",
       "        vertical-align: middle;\n",
       "    }\n",
       "\n",
       "    .dataframe tbody tr th {\n",
       "        vertical-align: top;\n",
       "    }\n",
       "\n",
       "    .dataframe thead th {\n",
       "        text-align: right;\n",
       "    }\n",
       "</style>\n",
       "<table border=\"1\" class=\"dataframe\">\n",
       "  <thead>\n",
       "    <tr style=\"text-align: right;\">\n",
       "      <th></th>\n",
       "      <th>Fare</th>\n",
       "    </tr>\n",
       "    <tr>\n",
       "      <th>Pclass</th>\n",
       "      <th></th>\n",
       "    </tr>\n",
       "  </thead>\n",
       "  <tbody>\n",
       "    <tr>\n",
       "      <th>1</th>\n",
       "      <td>60.2875</td>\n",
       "    </tr>\n",
       "    <tr>\n",
       "      <th>2</th>\n",
       "      <td>14.2500</td>\n",
       "    </tr>\n",
       "    <tr>\n",
       "      <th>3</th>\n",
       "      <td>8.0500</td>\n",
       "    </tr>\n",
       "  </tbody>\n",
       "</table>\n",
       "</div>"
      ],
      "text/plain": [
       "           Fare\n",
       "Pclass         \n",
       "1       60.2875\n",
       "2       14.2500\n",
       "3        8.0500"
      ]
     },
     "execution_count": 22,
     "metadata": {},
     "output_type": "execute_result"
    }
   ],
   "source": [
    "answer = pd.DataFrame([mp1,mp2,mp3])\n",
    "answer.index = answer.index +1 \n",
    "answer.index.name = \"Pclass\"\n",
    "answer.columns = [\"Fare\"]\n",
    "answer"
   ]
  },
  {
   "cell_type": "code",
   "execution_count": 23,
   "id": "6fa3c33f",
   "metadata": {
    "ExecuteTime": {
     "end_time": "2023-09-01T07:19:14.827010Z",
     "start_time": "2023-09-01T07:19:14.816239Z"
    }
   },
   "outputs": [
    {
     "data": {
      "text/html": [
       "<div>\n",
       "<style scoped>\n",
       "    .dataframe tbody tr th:only-of-type {\n",
       "        vertical-align: middle;\n",
       "    }\n",
       "\n",
       "    .dataframe tbody tr th {\n",
       "        vertical-align: top;\n",
       "    }\n",
       "\n",
       "    .dataframe thead th {\n",
       "        text-align: right;\n",
       "    }\n",
       "</style>\n",
       "<table border=\"1\" class=\"dataframe\">\n",
       "  <thead>\n",
       "    <tr style=\"text-align: right;\">\n",
       "      <th></th>\n",
       "      <th>Fare</th>\n",
       "    </tr>\n",
       "    <tr>\n",
       "      <th>Pclass</th>\n",
       "      <th></th>\n",
       "    </tr>\n",
       "  </thead>\n",
       "  <tbody>\n",
       "    <tr>\n",
       "      <th>1</th>\n",
       "      <td>84.154687</td>\n",
       "    </tr>\n",
       "    <tr>\n",
       "      <th>2</th>\n",
       "      <td>20.662183</td>\n",
       "    </tr>\n",
       "    <tr>\n",
       "      <th>3</th>\n",
       "      <td>13.675550</td>\n",
       "    </tr>\n",
       "  </tbody>\n",
       "</table>\n",
       "</div>"
      ],
      "text/plain": [
       "             Fare\n",
       "Pclass           \n",
       "1       84.154687\n",
       "2       20.662183\n",
       "3       13.675550"
      ]
     },
     "metadata": {},
     "output_type": "display_data"
    },
    {
     "data": {
      "text/html": [
       "<div>\n",
       "<style scoped>\n",
       "    .dataframe tbody tr th:only-of-type {\n",
       "        vertical-align: middle;\n",
       "    }\n",
       "\n",
       "    .dataframe tbody tr th {\n",
       "        vertical-align: top;\n",
       "    }\n",
       "\n",
       "    .dataframe thead th {\n",
       "        text-align: right;\n",
       "    }\n",
       "</style>\n",
       "<table border=\"1\" class=\"dataframe\">\n",
       "  <thead>\n",
       "    <tr style=\"text-align: right;\">\n",
       "      <th></th>\n",
       "      <th>Fare</th>\n",
       "    </tr>\n",
       "    <tr>\n",
       "      <th>Pclass</th>\n",
       "      <th></th>\n",
       "    </tr>\n",
       "  </thead>\n",
       "  <tbody>\n",
       "    <tr>\n",
       "      <th>1</th>\n",
       "      <td>60.2875</td>\n",
       "    </tr>\n",
       "    <tr>\n",
       "      <th>2</th>\n",
       "      <td>14.2500</td>\n",
       "    </tr>\n",
       "    <tr>\n",
       "      <th>3</th>\n",
       "      <td>8.0500</td>\n",
       "    </tr>\n",
       "  </tbody>\n",
       "</table>\n",
       "</div>"
      ],
      "text/plain": [
       "           Fare\n",
       "Pclass         \n",
       "1       60.2875\n",
       "2       14.2500\n",
       "3        8.0500"
      ]
     },
     "metadata": {},
     "output_type": "display_data"
    }
   ],
   "source": [
    "display(pf.groupby(['Pclass']).mean())\n",
    "display(pf.groupby(['Pclass']).median())\n",
    "# 1 ~ 3 등급에 따라 결측치 가져오기 "
   ]
  },
  {
   "cell_type": "code",
   "execution_count": 24,
   "id": "c59bc8ff",
   "metadata": {
    "ExecuteTime": {
     "end_time": "2023-09-01T07:19:14.840620Z",
     "start_time": "2023-09-01T07:19:14.828013Z"
    }
   },
   "outputs": [
    {
     "data": {
      "text/html": [
       "<div>\n",
       "<style scoped>\n",
       "    .dataframe tbody tr th:only-of-type {\n",
       "        vertical-align: middle;\n",
       "    }\n",
       "\n",
       "    .dataframe tbody tr th {\n",
       "        vertical-align: top;\n",
       "    }\n",
       "\n",
       "    .dataframe thead th {\n",
       "        text-align: right;\n",
       "    }\n",
       "</style>\n",
       "<table border=\"1\" class=\"dataframe\">\n",
       "  <thead>\n",
       "    <tr style=\"text-align: right;\">\n",
       "      <th></th>\n",
       "      <th>Pclass</th>\n",
       "      <th>Name</th>\n",
       "      <th>Sex</th>\n",
       "      <th>Age</th>\n",
       "      <th>SibSp</th>\n",
       "      <th>Parch</th>\n",
       "      <th>Ticket</th>\n",
       "      <th>Fare</th>\n",
       "      <th>Cabin</th>\n",
       "      <th>Embarked</th>\n",
       "    </tr>\n",
       "    <tr>\n",
       "      <th>PassengerId</th>\n",
       "      <th></th>\n",
       "      <th></th>\n",
       "      <th></th>\n",
       "      <th></th>\n",
       "      <th></th>\n",
       "      <th></th>\n",
       "      <th></th>\n",
       "      <th></th>\n",
       "      <th></th>\n",
       "      <th></th>\n",
       "    </tr>\n",
       "  </thead>\n",
       "  <tbody>\n",
       "    <tr>\n",
       "      <th>1044</th>\n",
       "      <td>3</td>\n",
       "      <td>Storey, Mr. Thomas</td>\n",
       "      <td>male</td>\n",
       "      <td>60.5</td>\n",
       "      <td>0</td>\n",
       "      <td>0</td>\n",
       "      <td>3701</td>\n",
       "      <td>NaN</td>\n",
       "      <td>NaN</td>\n",
       "      <td>S</td>\n",
       "    </tr>\n",
       "  </tbody>\n",
       "</table>\n",
       "</div>"
      ],
      "text/plain": [
       "             Pclass                Name   Sex   Age  SibSp  Parch Ticket  \\\n",
       "PassengerId                                                                \n",
       "1044              3  Storey, Mr. Thomas  male  60.5      0      0   3701   \n",
       "\n",
       "             Fare Cabin Embarked  \n",
       "PassengerId                       \n",
       "1044          NaN   NaN        S  "
      ]
     },
     "metadata": {},
     "output_type": "display_data"
    },
    {
     "data": {
      "text/html": [
       "<div>\n",
       "<style scoped>\n",
       "    .dataframe tbody tr th:only-of-type {\n",
       "        vertical-align: middle;\n",
       "    }\n",
       "\n",
       "    .dataframe tbody tr th {\n",
       "        vertical-align: top;\n",
       "    }\n",
       "\n",
       "    .dataframe thead th {\n",
       "        text-align: right;\n",
       "    }\n",
       "</style>\n",
       "<table border=\"1\" class=\"dataframe\">\n",
       "  <thead>\n",
       "    <tr style=\"text-align: right;\">\n",
       "      <th></th>\n",
       "      <th>Pclass</th>\n",
       "      <th>Name</th>\n",
       "      <th>Sex</th>\n",
       "      <th>Age</th>\n",
       "      <th>SibSp</th>\n",
       "      <th>Parch</th>\n",
       "      <th>Ticket</th>\n",
       "      <th>Fare</th>\n",
       "      <th>Cabin</th>\n",
       "      <th>Embarked</th>\n",
       "    </tr>\n",
       "    <tr>\n",
       "      <th>PassengerId</th>\n",
       "      <th></th>\n",
       "      <th></th>\n",
       "      <th></th>\n",
       "      <th></th>\n",
       "      <th></th>\n",
       "      <th></th>\n",
       "      <th></th>\n",
       "      <th></th>\n",
       "      <th></th>\n",
       "      <th></th>\n",
       "    </tr>\n",
       "  </thead>\n",
       "  <tbody>\n",
       "  </tbody>\n",
       "</table>\n",
       "</div>"
      ],
      "text/plain": [
       "Empty DataFrame\n",
       "Columns: [Pclass, Name, Sex, Age, SibSp, Parch, Ticket, Fare, Cabin, Embarked]\n",
       "Index: []"
      ]
     },
     "metadata": {},
     "output_type": "display_data"
    }
   ],
   "source": [
    "#test- Fare 컬럼에 결측치가 있는 행 정보 출력하기\n",
    "display(test[test['Fare'].isnull()]) #boolean 인덱싱\n",
    "#fillna() 모든 결측치 자리에 같은 값을 채워버림\n",
    "test['Fare'].fillna(8.0500, inplace= True) #결측치 처리해서 바로 넣기\n",
    "display(test[test['Fare'].isnull()]) #boolean 인덱싱 #"
   ]
  },
  {
   "cell_type": "code",
   "execution_count": 25,
   "id": "6e4a6fdf",
   "metadata": {
    "ExecuteTime": {
     "end_time": "2023-09-01T07:19:14.847278Z",
     "start_time": "2023-09-01T07:19:14.842622Z"
    }
   },
   "outputs": [
    {
     "name": "stdout",
     "output_type": "stream",
     "text": [
      "<class 'pandas.core.series.Series'>\n",
      "Int64Index: 418 entries, 892 to 1309\n",
      "Series name: Fare\n",
      "Non-Null Count  Dtype  \n",
      "--------------  -----  \n",
      "418 non-null    float64\n",
      "dtypes: float64(1)\n",
      "memory usage: 6.5 KB\n"
     ]
    }
   ],
   "source": [
    "test['Fare'].dtype\n",
    "test['Fare'].info()"
   ]
  },
  {
   "cell_type": "markdown",
   "id": "4d0796b1",
   "metadata": {
    "ExecuteTime": {
     "end_time": "2023-09-01T05:27:33.602368Z",
     "start_time": "2023-09-01T05:27:33.599467Z"
    }
   },
   "source": [
    "#### Age컬럼 결측치 채우기\n",
    "- 단순 기술 통계로만 채우지 않고, 다른 컬럼과의 상관관계를 이용해서 결측치를 채워보는 방향으로 진행해보자.\n",
    "- Pclass, Sex와 연관지어서 나이 통계 확인해보자. "
   ]
  },
  {
   "cell_type": "code",
   "execution_count": 26,
   "id": "b78e5166",
   "metadata": {
    "ExecuteTime": {
     "end_time": "2023-09-01T07:19:14.855699Z",
     "start_time": "2023-09-01T07:19:14.848280Z"
    }
   },
   "outputs": [
    {
     "name": "stderr",
     "output_type": "stream",
     "text": [
      "C:\\Users\\user\\AppData\\Local\\Temp\\ipykernel_10052\\971127915.py:1: FutureWarning: The default value of numeric_only in DataFrame.corr is deprecated. In a future version, it will default to False. Select only valid columns or specify the value of numeric_only to silence this warning.\n",
      "  train.corr().abs()\n"
     ]
    },
    {
     "data": {
      "text/plain": [
       "count    714.000000\n",
       "mean      29.699118\n",
       "std       14.526497\n",
       "min        0.420000\n",
       "25%       20.125000\n",
       "50%       28.000000\n",
       "75%       38.000000\n",
       "max       80.000000\n",
       "Name: Age, dtype: float64"
      ]
     },
     "execution_count": 26,
     "metadata": {},
     "output_type": "execute_result"
    }
   ],
   "source": [
    "train.corr().abs()\n",
    "train['Age'].describe()\n",
    "# 평균, 중앙값의 큰 차이가 없음\n",
    "# 평균치로 데이터를 처리해보자."
   ]
  },
  {
   "cell_type": "code",
   "execution_count": 27,
   "id": "f870b9f4",
   "metadata": {
    "ExecuteTime": {
     "end_time": "2023-09-01T07:19:14.869191Z",
     "start_time": "2023-09-01T07:19:14.859705Z"
    }
   },
   "outputs": [
    {
     "data": {
      "text/html": [
       "<div>\n",
       "<style scoped>\n",
       "    .dataframe tbody tr th:only-of-type {\n",
       "        vertical-align: middle;\n",
       "    }\n",
       "\n",
       "    .dataframe tbody tr th {\n",
       "        vertical-align: top;\n",
       "    }\n",
       "\n",
       "    .dataframe thead th {\n",
       "        text-align: right;\n",
       "    }\n",
       "</style>\n",
       "<table border=\"1\" class=\"dataframe\">\n",
       "  <thead>\n",
       "    <tr style=\"text-align: right;\">\n",
       "      <th></th>\n",
       "      <th>Pclass</th>\n",
       "      <th>Age</th>\n",
       "      <th>Sex</th>\n",
       "    </tr>\n",
       "    <tr>\n",
       "      <th>PassengerId</th>\n",
       "      <th></th>\n",
       "      <th></th>\n",
       "      <th></th>\n",
       "    </tr>\n",
       "  </thead>\n",
       "  <tbody>\n",
       "    <tr>\n",
       "      <th>1</th>\n",
       "      <td>3</td>\n",
       "      <td>22.0</td>\n",
       "      <td>male</td>\n",
       "    </tr>\n",
       "    <tr>\n",
       "      <th>2</th>\n",
       "      <td>1</td>\n",
       "      <td>38.0</td>\n",
       "      <td>female</td>\n",
       "    </tr>\n",
       "    <tr>\n",
       "      <th>3</th>\n",
       "      <td>3</td>\n",
       "      <td>26.0</td>\n",
       "      <td>female</td>\n",
       "    </tr>\n",
       "    <tr>\n",
       "      <th>4</th>\n",
       "      <td>1</td>\n",
       "      <td>35.0</td>\n",
       "      <td>female</td>\n",
       "    </tr>\n",
       "    <tr>\n",
       "      <th>5</th>\n",
       "      <td>3</td>\n",
       "      <td>35.0</td>\n",
       "      <td>male</td>\n",
       "    </tr>\n",
       "    <tr>\n",
       "      <th>...</th>\n",
       "      <td>...</td>\n",
       "      <td>...</td>\n",
       "      <td>...</td>\n",
       "    </tr>\n",
       "    <tr>\n",
       "      <th>887</th>\n",
       "      <td>2</td>\n",
       "      <td>27.0</td>\n",
       "      <td>male</td>\n",
       "    </tr>\n",
       "    <tr>\n",
       "      <th>888</th>\n",
       "      <td>1</td>\n",
       "      <td>19.0</td>\n",
       "      <td>female</td>\n",
       "    </tr>\n",
       "    <tr>\n",
       "      <th>889</th>\n",
       "      <td>3</td>\n",
       "      <td>NaN</td>\n",
       "      <td>female</td>\n",
       "    </tr>\n",
       "    <tr>\n",
       "      <th>890</th>\n",
       "      <td>1</td>\n",
       "      <td>26.0</td>\n",
       "      <td>male</td>\n",
       "    </tr>\n",
       "    <tr>\n",
       "      <th>891</th>\n",
       "      <td>3</td>\n",
       "      <td>32.0</td>\n",
       "      <td>male</td>\n",
       "    </tr>\n",
       "  </tbody>\n",
       "</table>\n",
       "<p>891 rows × 3 columns</p>\n",
       "</div>"
      ],
      "text/plain": [
       "             Pclass   Age     Sex\n",
       "PassengerId                      \n",
       "1                 3  22.0    male\n",
       "2                 1  38.0  female\n",
       "3                 3  26.0  female\n",
       "4                 1  35.0  female\n",
       "5                 3  35.0    male\n",
       "...             ...   ...     ...\n",
       "887               2  27.0    male\n",
       "888               1  19.0  female\n",
       "889               3   NaN  female\n",
       "890               1  26.0    male\n",
       "891               3  32.0    male\n",
       "\n",
       "[891 rows x 3 columns]"
      ]
     },
     "execution_count": 27,
     "metadata": {},
     "output_type": "execute_result"
    }
   ],
   "source": [
    "# 1. 등급 나이에 여성 평균\n",
    "# 1. 남성 나이 평균\n",
    "# 2. 여성 나이평균\n",
    "# 2. 남성 나이평균\n",
    "# 3. 여성 나이평균\n",
    "# 4. 여성 나이평균\n",
    "tps =train[['Pclass', 'Age' , 'Sex']]\n",
    "tps"
   ]
  },
  {
   "cell_type": "code",
   "execution_count": 28,
   "id": "0359e893",
   "metadata": {
    "ExecuteTime": {
     "end_time": "2023-09-01T07:19:14.875623Z",
     "start_time": "2023-09-01T07:19:14.870194Z"
    }
   },
   "outputs": [],
   "source": [
    "gb1 = tps.groupby(['Pclass','Sex']).mean()"
   ]
  },
  {
   "cell_type": "code",
   "execution_count": 29,
   "id": "cdb5bfab",
   "metadata": {
    "ExecuteTime": {
     "end_time": "2023-09-01T07:19:14.884747Z",
     "start_time": "2023-09-01T07:19:14.876626Z"
    }
   },
   "outputs": [
    {
     "data": {
      "text/plain": [
       "Age    21.75\n",
       "Name: (3, female), dtype: float64"
      ]
     },
     "execution_count": 29,
     "metadata": {},
     "output_type": "execute_result"
    }
   ],
   "source": [
    "# gbs1\n",
    "# 인덱스가 2개 => 멀티인덱스 (중복인덱스)\n",
    "# 3 female 평균나이 데이터 접근해보기\n",
    "gb1.loc[(3,'female')]\n"
   ]
  },
  {
   "cell_type": "code",
   "execution_count": 30,
   "id": "aef21183",
   "metadata": {
    "ExecuteTime": {
     "end_time": "2023-09-01T07:19:14.891284Z",
     "start_time": "2023-09-01T07:19:14.885749Z"
    }
   },
   "outputs": [
    {
     "data": {
      "text/plain": [
       "Age    41.281386\n",
       "Name: (1, male), dtype: float64"
      ]
     },
     "execution_count": 30,
     "metadata": {},
     "output_type": "execute_result"
    }
   ],
   "source": [
    "gb1.loc[(1,'male')]"
   ]
  },
  {
   "cell_type": "code",
   "execution_count": 31,
   "id": "c65efe09",
   "metadata": {
    "ExecuteTime": {
     "end_time": "2023-09-01T07:19:14.896488Z",
     "start_time": "2023-09-01T07:19:14.892288Z"
    }
   },
   "outputs": [
    {
     "data": {
      "text/plain": [
       "True"
      ]
     },
     "execution_count": 31,
     "metadata": {},
     "output_type": "execute_result"
    }
   ],
   "source": [
    "# 추가적으로 이해하는 코드\n",
    "# numpy 안에 null값 확인하는 함수\n",
    "# Nan \n",
    "a= np.array([1,2 , np.nan])\n",
    "np.isnan(a[2])"
   ]
  },
  {
   "cell_type": "code",
   "execution_count": 32,
   "id": "9b7561ff",
   "metadata": {
    "ExecuteTime": {
     "end_time": "2023-09-01T07:19:14.908510Z",
     "start_time": "2023-09-01T07:19:14.897491Z"
    },
    "scrolled": true
   },
   "outputs": [
    {
     "data": {
      "text/html": [
       "<div>\n",
       "<style scoped>\n",
       "    .dataframe tbody tr th:only-of-type {\n",
       "        vertical-align: middle;\n",
       "    }\n",
       "\n",
       "    .dataframe tbody tr th {\n",
       "        vertical-align: top;\n",
       "    }\n",
       "\n",
       "    .dataframe thead th {\n",
       "        text-align: right;\n",
       "    }\n",
       "</style>\n",
       "<table border=\"1\" class=\"dataframe\">\n",
       "  <thead>\n",
       "    <tr style=\"text-align: right;\">\n",
       "      <th></th>\n",
       "      <th>Survived</th>\n",
       "      <th>Pclass</th>\n",
       "      <th>Name</th>\n",
       "      <th>Sex</th>\n",
       "      <th>Age</th>\n",
       "      <th>SibSp</th>\n",
       "      <th>Parch</th>\n",
       "      <th>Ticket</th>\n",
       "      <th>Fare</th>\n",
       "      <th>Cabin</th>\n",
       "      <th>Embarked</th>\n",
       "    </tr>\n",
       "    <tr>\n",
       "      <th>PassengerId</th>\n",
       "      <th></th>\n",
       "      <th></th>\n",
       "      <th></th>\n",
       "      <th></th>\n",
       "      <th></th>\n",
       "      <th></th>\n",
       "      <th></th>\n",
       "      <th></th>\n",
       "      <th></th>\n",
       "      <th></th>\n",
       "      <th></th>\n",
       "    </tr>\n",
       "  </thead>\n",
       "  <tbody>\n",
       "    <tr>\n",
       "      <th>6</th>\n",
       "      <td>0</td>\n",
       "      <td>3</td>\n",
       "      <td>Moran, Mr. James</td>\n",
       "      <td>male</td>\n",
       "      <td>NaN</td>\n",
       "      <td>0</td>\n",
       "      <td>0</td>\n",
       "      <td>330877</td>\n",
       "      <td>8.4583</td>\n",
       "      <td>NaN</td>\n",
       "      <td>Q</td>\n",
       "    </tr>\n",
       "    <tr>\n",
       "      <th>18</th>\n",
       "      <td>1</td>\n",
       "      <td>2</td>\n",
       "      <td>Williams, Mr. Charles Eugene</td>\n",
       "      <td>male</td>\n",
       "      <td>NaN</td>\n",
       "      <td>0</td>\n",
       "      <td>0</td>\n",
       "      <td>244373</td>\n",
       "      <td>13.0000</td>\n",
       "      <td>NaN</td>\n",
       "      <td>S</td>\n",
       "    </tr>\n",
       "    <tr>\n",
       "      <th>20</th>\n",
       "      <td>1</td>\n",
       "      <td>3</td>\n",
       "      <td>Masselmani, Mrs. Fatima</td>\n",
       "      <td>female</td>\n",
       "      <td>NaN</td>\n",
       "      <td>0</td>\n",
       "      <td>0</td>\n",
       "      <td>2649</td>\n",
       "      <td>7.2250</td>\n",
       "      <td>NaN</td>\n",
       "      <td>C</td>\n",
       "    </tr>\n",
       "    <tr>\n",
       "      <th>27</th>\n",
       "      <td>0</td>\n",
       "      <td>3</td>\n",
       "      <td>Emir, Mr. Farred Chehab</td>\n",
       "      <td>male</td>\n",
       "      <td>NaN</td>\n",
       "      <td>0</td>\n",
       "      <td>0</td>\n",
       "      <td>2631</td>\n",
       "      <td>7.2250</td>\n",
       "      <td>NaN</td>\n",
       "      <td>C</td>\n",
       "    </tr>\n",
       "    <tr>\n",
       "      <th>29</th>\n",
       "      <td>1</td>\n",
       "      <td>3</td>\n",
       "      <td>O'Dwyer, Miss. Ellen \"Nellie\"</td>\n",
       "      <td>female</td>\n",
       "      <td>NaN</td>\n",
       "      <td>0</td>\n",
       "      <td>0</td>\n",
       "      <td>330959</td>\n",
       "      <td>7.8792</td>\n",
       "      <td>NaN</td>\n",
       "      <td>Q</td>\n",
       "    </tr>\n",
       "    <tr>\n",
       "      <th>...</th>\n",
       "      <td>...</td>\n",
       "      <td>...</td>\n",
       "      <td>...</td>\n",
       "      <td>...</td>\n",
       "      <td>...</td>\n",
       "      <td>...</td>\n",
       "      <td>...</td>\n",
       "      <td>...</td>\n",
       "      <td>...</td>\n",
       "      <td>...</td>\n",
       "      <td>...</td>\n",
       "    </tr>\n",
       "    <tr>\n",
       "      <th>860</th>\n",
       "      <td>0</td>\n",
       "      <td>3</td>\n",
       "      <td>Razi, Mr. Raihed</td>\n",
       "      <td>male</td>\n",
       "      <td>NaN</td>\n",
       "      <td>0</td>\n",
       "      <td>0</td>\n",
       "      <td>2629</td>\n",
       "      <td>7.2292</td>\n",
       "      <td>NaN</td>\n",
       "      <td>C</td>\n",
       "    </tr>\n",
       "    <tr>\n",
       "      <th>864</th>\n",
       "      <td>0</td>\n",
       "      <td>3</td>\n",
       "      <td>Sage, Miss. Dorothy Edith \"Dolly\"</td>\n",
       "      <td>female</td>\n",
       "      <td>NaN</td>\n",
       "      <td>8</td>\n",
       "      <td>2</td>\n",
       "      <td>CA. 2343</td>\n",
       "      <td>69.5500</td>\n",
       "      <td>NaN</td>\n",
       "      <td>S</td>\n",
       "    </tr>\n",
       "    <tr>\n",
       "      <th>869</th>\n",
       "      <td>0</td>\n",
       "      <td>3</td>\n",
       "      <td>van Melkebeke, Mr. Philemon</td>\n",
       "      <td>male</td>\n",
       "      <td>NaN</td>\n",
       "      <td>0</td>\n",
       "      <td>0</td>\n",
       "      <td>345777</td>\n",
       "      <td>9.5000</td>\n",
       "      <td>NaN</td>\n",
       "      <td>S</td>\n",
       "    </tr>\n",
       "    <tr>\n",
       "      <th>879</th>\n",
       "      <td>0</td>\n",
       "      <td>3</td>\n",
       "      <td>Laleff, Mr. Kristo</td>\n",
       "      <td>male</td>\n",
       "      <td>NaN</td>\n",
       "      <td>0</td>\n",
       "      <td>0</td>\n",
       "      <td>349217</td>\n",
       "      <td>7.8958</td>\n",
       "      <td>NaN</td>\n",
       "      <td>S</td>\n",
       "    </tr>\n",
       "    <tr>\n",
       "      <th>889</th>\n",
       "      <td>0</td>\n",
       "      <td>3</td>\n",
       "      <td>Johnston, Miss. Catherine Helen \"Carrie\"</td>\n",
       "      <td>female</td>\n",
       "      <td>NaN</td>\n",
       "      <td>1</td>\n",
       "      <td>2</td>\n",
       "      <td>W./C. 6607</td>\n",
       "      <td>23.4500</td>\n",
       "      <td>NaN</td>\n",
       "      <td>S</td>\n",
       "    </tr>\n",
       "  </tbody>\n",
       "</table>\n",
       "<p>177 rows × 11 columns</p>\n",
       "</div>"
      ],
      "text/plain": [
       "             Survived  Pclass                                      Name  \\\n",
       "PassengerId                                                               \n",
       "6                   0       3                          Moran, Mr. James   \n",
       "18                  1       2              Williams, Mr. Charles Eugene   \n",
       "20                  1       3                   Masselmani, Mrs. Fatima   \n",
       "27                  0       3                   Emir, Mr. Farred Chehab   \n",
       "29                  1       3             O'Dwyer, Miss. Ellen \"Nellie\"   \n",
       "...               ...     ...                                       ...   \n",
       "860                 0       3                          Razi, Mr. Raihed   \n",
       "864                 0       3         Sage, Miss. Dorothy Edith \"Dolly\"   \n",
       "869                 0       3               van Melkebeke, Mr. Philemon   \n",
       "879                 0       3                        Laleff, Mr. Kristo   \n",
       "889                 0       3  Johnston, Miss. Catherine Helen \"Carrie\"   \n",
       "\n",
       "                Sex  Age  SibSp  Parch      Ticket     Fare Cabin Embarked  \n",
       "PassengerId                                                                 \n",
       "6              male  NaN      0      0      330877   8.4583   NaN        Q  \n",
       "18             male  NaN      0      0      244373  13.0000   NaN        S  \n",
       "20           female  NaN      0      0        2649   7.2250   NaN        C  \n",
       "27             male  NaN      0      0        2631   7.2250   NaN        C  \n",
       "29           female  NaN      0      0      330959   7.8792   NaN        Q  \n",
       "...             ...  ...    ...    ...         ...      ...   ...      ...  \n",
       "860            male  NaN      0      0        2629   7.2292   NaN        C  \n",
       "864          female  NaN      8      2    CA. 2343  69.5500   NaN        S  \n",
       "869            male  NaN      0      0      345777   9.5000   NaN        S  \n",
       "879            male  NaN      0      0      349217   7.8958   NaN        S  \n",
       "889          female  NaN      1      2  W./C. 6607  23.4500   NaN        S  \n",
       "\n",
       "[177 rows x 11 columns]"
      ]
     },
     "execution_count": 32,
     "metadata": {},
     "output_type": "execute_result"
    }
   ],
   "source": [
    "# train, test결측치\n",
    "# train, Age 컬럼의 결측치가 행 정보 출력하기\n",
    "train[train['Age'].isnull()]\n",
    "# 사용자 정의 함수 생성: Pclass, sex를 확인해서 gb1에 있는 평균 나이로 대체\n",
    "# 판다스 데이터랑 어떻게 연결? apply()"
   ]
  },
  {
   "cell_type": "code",
   "execution_count": 33,
   "id": "5bda972f",
   "metadata": {
    "ExecuteTime": {
     "end_time": "2023-09-01T07:19:15.157531Z",
     "start_time": "2023-09-01T07:19:14.909513Z"
    },
    "scrolled": true
   },
   "outputs": [
    {
     "name": "stdout",
     "output_type": "stream",
     "text": [
      "Survived                          0\n",
      "Pclass                            3\n",
      "Name        Braund, Mr. Owen Harris\n",
      "Sex                            male\n",
      "Age                            22.0\n",
      "SibSp                             1\n",
      "Parch                             0\n",
      "Ticket                    A/5 21171\n",
      "Fare                           7.25\n",
      "Cabin                           NaN\n",
      "Embarked                          S\n",
      "Name: 1, dtype: object\n",
      "Survived                                                    1\n",
      "Pclass                                                      1\n",
      "Name        Cumings, Mrs. John Bradley (Florence Briggs Th...\n",
      "Sex                                                    female\n",
      "Age                                                      38.0\n",
      "SibSp                                                       1\n",
      "Parch                                                       0\n",
      "Ticket                                               PC 17599\n",
      "Fare                                                  71.2833\n",
      "Cabin                                                     C85\n",
      "Embarked                                                    C\n",
      "Name: 2, dtype: object\n",
      "Survived                         1\n",
      "Pclass                           3\n",
      "Name        Heikkinen, Miss. Laina\n",
      "Sex                         female\n",
      "Age                           26.0\n",
      "SibSp                            0\n",
      "Parch                            0\n",
      "Ticket            STON/O2. 3101282\n",
      "Fare                         7.925\n",
      "Cabin                          NaN\n",
      "Embarked                         S\n",
      "Name: 3, dtype: object\n",
      "Survived                                               1\n",
      "Pclass                                                 1\n",
      "Name        Futrelle, Mrs. Jacques Heath (Lily May Peel)\n",
      "Sex                                               female\n",
      "Age                                                 35.0\n",
      "SibSp                                                  1\n",
      "Parch                                                  0\n",
      "Ticket                                            113803\n",
      "Fare                                                53.1\n",
      "Cabin                                               C123\n",
      "Embarked                                               S\n",
      "Name: 4, dtype: object\n",
      "Survived                           0\n",
      "Pclass                             3\n",
      "Name        Allen, Mr. William Henry\n",
      "Sex                             male\n",
      "Age                             35.0\n",
      "SibSp                              0\n",
      "Parch                              0\n",
      "Ticket                        373450\n",
      "Fare                            8.05\n",
      "Cabin                            NaN\n",
      "Embarked                           S\n",
      "Name: 5, dtype: object\n",
      "Survived                   0\n",
      "Pclass                     3\n",
      "Name        Moran, Mr. James\n",
      "Sex                     male\n",
      "Age                      NaN\n",
      "SibSp                      0\n",
      "Parch                      0\n",
      "Ticket                330877\n",
      "Fare                  8.4583\n",
      "Cabin                    NaN\n",
      "Embarked                   Q\n",
      "Name: 6, dtype: object\n",
      "Survived                          0\n",
      "Pclass                            1\n",
      "Name        McCarthy, Mr. Timothy J\n",
      "Sex                            male\n",
      "Age                            54.0\n",
      "SibSp                             0\n",
      "Parch                             0\n",
      "Ticket                        17463\n",
      "Fare                        51.8625\n",
      "Cabin                           E46\n",
      "Embarked                          S\n",
      "Name: 7, dtype: object\n",
      "Survived                                 0\n",
      "Pclass                                   3\n",
      "Name        Palsson, Master. Gosta Leonard\n",
      "Sex                                   male\n",
      "Age                                    2.0\n",
      "SibSp                                    3\n",
      "Parch                                    1\n",
      "Ticket                              349909\n",
      "Fare                                21.075\n",
      "Cabin                                  NaN\n",
      "Embarked                                 S\n",
      "Name: 8, dtype: object\n",
      "Survived                                                    1\n",
      "Pclass                                                      3\n",
      "Name        Johnson, Mrs. Oscar W (Elisabeth Vilhelmina Berg)\n",
      "Sex                                                    female\n",
      "Age                                                      27.0\n",
      "SibSp                                                       0\n",
      "Parch                                                       2\n",
      "Ticket                                                 347742\n",
      "Fare                                                  11.1333\n",
      "Cabin                                                     NaN\n",
      "Embarked                                                    S\n",
      "Name: 9, dtype: object\n",
      "Survived                                      1\n",
      "Pclass                                        2\n",
      "Name        Nasser, Mrs. Nicholas (Adele Achem)\n",
      "Sex                                      female\n",
      "Age                                        14.0\n",
      "SibSp                                         1\n",
      "Parch                                         0\n",
      "Ticket                                   237736\n",
      "Fare                                    30.0708\n",
      "Cabin                                       NaN\n",
      "Embarked                                      C\n",
      "Name: 10, dtype: object\n",
      "Survived                                  1\n",
      "Pclass                                    3\n",
      "Name        Sandstrom, Miss. Marguerite Rut\n",
      "Sex                                  female\n",
      "Age                                     4.0\n",
      "SibSp                                     1\n",
      "Parch                                     1\n",
      "Ticket                              PP 9549\n",
      "Fare                                   16.7\n",
      "Cabin                                    G6\n",
      "Embarked                                  S\n",
      "Name: 11, dtype: object\n",
      "Survived                           1\n",
      "Pclass                             1\n",
      "Name        Bonnell, Miss. Elizabeth\n",
      "Sex                           female\n",
      "Age                             58.0\n",
      "SibSp                              0\n",
      "Parch                              0\n",
      "Ticket                        113783\n",
      "Fare                           26.55\n",
      "Cabin                           C103\n",
      "Embarked                           S\n",
      "Name: 12, dtype: object\n",
      "Survived                                 0\n",
      "Pclass                                   3\n",
      "Name        Saundercock, Mr. William Henry\n",
      "Sex                                   male\n",
      "Age                                   20.0\n",
      "SibSp                                    0\n",
      "Parch                                    0\n",
      "Ticket                           A/5. 2151\n",
      "Fare                                  8.05\n",
      "Cabin                                  NaN\n",
      "Embarked                                 S\n",
      "Name: 13, dtype: object\n",
      "Survived                              0\n",
      "Pclass                                3\n",
      "Name        Andersson, Mr. Anders Johan\n",
      "Sex                                male\n",
      "Age                                39.0\n",
      "SibSp                                 1\n",
      "Parch                                 5\n",
      "Ticket                           347082\n",
      "Fare                             31.275\n",
      "Cabin                               NaN\n",
      "Embarked                              S\n",
      "Name: 14, dtype: object\n",
      "Survived                                       0\n",
      "Pclass                                         3\n",
      "Name        Vestrom, Miss. Hulda Amanda Adolfina\n",
      "Sex                                       female\n",
      "Age                                         14.0\n",
      "SibSp                                          0\n",
      "Parch                                          0\n",
      "Ticket                                    350406\n",
      "Fare                                      7.8542\n",
      "Cabin                                        NaN\n",
      "Embarked                                       S\n",
      "Name: 15, dtype: object\n",
      "Survived                                   1\n",
      "Pclass                                     2\n",
      "Name        Hewlett, Mrs. (Mary D Kingcome) \n",
      "Sex                                   female\n",
      "Age                                     55.0\n",
      "SibSp                                      0\n",
      "Parch                                      0\n",
      "Ticket                                248706\n",
      "Fare                                    16.0\n",
      "Cabin                                    NaN\n",
      "Embarked                                   S\n",
      "Name: 16, dtype: object\n",
      "Survived                       0\n",
      "Pclass                         3\n",
      "Name        Rice, Master. Eugene\n",
      "Sex                         male\n",
      "Age                          2.0\n",
      "SibSp                          4\n",
      "Parch                          1\n",
      "Ticket                    382652\n",
      "Fare                      29.125\n",
      "Cabin                        NaN\n",
      "Embarked                       Q\n",
      "Name: 17, dtype: object\n",
      "Survived                               1\n",
      "Pclass                                 2\n",
      "Name        Williams, Mr. Charles Eugene\n",
      "Sex                                 male\n",
      "Age                                  NaN\n",
      "SibSp                                  0\n",
      "Parch                                  0\n",
      "Ticket                            244373\n",
      "Fare                                13.0\n",
      "Cabin                                NaN\n",
      "Embarked                               S\n",
      "Name: 18, dtype: object\n",
      "Survived                                                    0\n",
      "Pclass                                                      3\n",
      "Name        Vander Planke, Mrs. Julius (Emelia Maria Vande...\n",
      "Sex                                                    female\n",
      "Age                                                      31.0\n",
      "SibSp                                                       1\n",
      "Parch                                                       0\n",
      "Ticket                                                 345763\n",
      "Fare                                                     18.0\n",
      "Cabin                                                     NaN\n",
      "Embarked                                                    S\n",
      "Name: 19, dtype: object\n",
      "Survived                          1\n",
      "Pclass                            3\n",
      "Name        Masselmani, Mrs. Fatima\n",
      "Sex                          female\n",
      "Age                             NaN\n",
      "SibSp                             0\n",
      "Parch                             0\n",
      "Ticket                         2649\n",
      "Fare                          7.225\n"
     ]
    },
    {
     "data": {
      "text/html": [
       "<b>limit_output extension: Maximum message size of 10000 exceeded with 99603 characters</b>"
      ]
     },
     "metadata": {},
     "output_type": "display_data"
    }
   ],
   "source": [
    "def test_def(data):\n",
    "#    print(data['Pclass'], data['Sex'])\n",
    "    print(data)\n",
    "train.apply(test_def, axis=1) # 한 사람 대한 정보가 처리단위로 연결 \n",
    "#🅱️ 열에 대해 모두 접근하니까 행별로 Series가 생성된다."
   ]
  },
  {
   "cell_type": "code",
   "execution_count": 34,
   "id": "65afb8e0",
   "metadata": {
    "ExecuteTime": {
     "end_time": "2023-09-01T07:19:15.189522Z",
     "start_time": "2023-09-01T07:19:15.158534Z"
    }
   },
   "outputs": [],
   "source": [
    "def fill_age(data):\n",
    "    # 만약 data['age']가 결측치라면 gb1에서 가져오기\n",
    "    if np.isnan(data['Age']):\n",
    "        gb1_age = gb1.loc[(data['Pclass'], data['Sex'])]\n",
    "        return gb1_age\n",
    "    # 만약 data['age']가 결측치가 아니라면 원래 나이값을 반환\n",
    "    else:\n",
    "        return data['Age']\n",
    "        \n",
    "train['Age'] = train.apply(fill_age, axis =1).astype('int64')"
   ]
  },
  {
   "cell_type": "code",
   "execution_count": 35,
   "id": "46ba5343",
   "metadata": {
    "ExecuteTime": {
     "end_time": "2023-09-01T07:19:15.197823Z",
     "start_time": "2023-09-01T07:19:15.190526Z"
    }
   },
   "outputs": [
    {
     "name": "stdout",
     "output_type": "stream",
     "text": [
      "<class 'pandas.core.frame.DataFrame'>\n",
      "Int64Index: 891 entries, 1 to 891\n",
      "Data columns (total 11 columns):\n",
      " #   Column    Non-Null Count  Dtype  \n",
      "---  ------    --------------  -----  \n",
      " 0   Survived  891 non-null    int64  \n",
      " 1   Pclass    891 non-null    int64  \n",
      " 2   Name      891 non-null    object \n",
      " 3   Sex       891 non-null    object \n",
      " 4   Age       891 non-null    int64  \n",
      " 5   SibSp     891 non-null    int64  \n",
      " 6   Parch     891 non-null    int64  \n",
      " 7   Ticket    891 non-null    object \n",
      " 8   Fare      891 non-null    float64\n",
      " 9   Cabin     204 non-null    object \n",
      " 10  Embarked  891 non-null    object \n",
      "dtypes: float64(1), int64(5), object(5)\n",
      "memory usage: 83.5+ KB\n"
     ]
    }
   ],
   "source": [
    "train.info()"
   ]
  },
  {
   "cell_type": "code",
   "execution_count": 36,
   "id": "480d358d",
   "metadata": {
    "ExecuteTime": {
     "end_time": "2023-09-01T07:19:15.230828Z",
     "start_time": "2023-09-01T07:19:15.203836Z"
    }
   },
   "outputs": [
    {
     "name": "stdout",
     "output_type": "stream",
     "text": [
      "<class 'pandas.core.frame.DataFrame'>\n",
      "Int64Index: 418 entries, 892 to 1309\n",
      "Data columns (total 10 columns):\n",
      " #   Column    Non-Null Count  Dtype  \n",
      "---  ------    --------------  -----  \n",
      " 0   Pclass    418 non-null    int64  \n",
      " 1   Name      418 non-null    object \n",
      " 2   Sex       418 non-null    object \n",
      " 3   Age       418 non-null    int64  \n",
      " 4   SibSp     418 non-null    int64  \n",
      " 5   Parch     418 non-null    int64  \n",
      " 6   Ticket    418 non-null    object \n",
      " 7   Fare      418 non-null    float64\n",
      " 8   Cabin     91 non-null     object \n",
      " 9   Embarked  418 non-null    object \n",
      "dtypes: float64(1), int64(4), object(5)\n",
      "memory usage: 35.9+ KB\n"
     ]
    },
    {
     "data": {
      "text/plain": [
       "0"
      ]
     },
     "execution_count": 36,
     "metadata": {},
     "output_type": "execute_result"
    }
   ],
   "source": [
    "# test Age coulmn 결측치 처리하기\n",
    "test['Age'] = test.apply(fill_age, axis=1).astype('int64') \n",
    "# test의 결측치를 채울 때도 train(모델의 일반화 도움을 주는) 데이터를 기준으로 채워준다.\n",
    "test.info()\n",
    "test['Age'].isnull().sum()"
   ]
  },
  {
   "cell_type": "markdown",
   "id": "ad506882",
   "metadata": {},
   "source": [
    "#### cabin 컬럼 결측치 채우기"
   ]
  },
  {
   "cell_type": "code",
   "execution_count": 37,
   "id": "c2727f79",
   "metadata": {
    "ExecuteTime": {
     "end_time": "2023-09-01T07:19:15.237962Z",
     "start_time": "2023-09-01T07:19:15.231837Z"
    }
   },
   "outputs": [
    {
     "data": {
      "text/plain": [
       "array([nan, 'C85', 'C123', 'E46', 'G6', 'C103', 'D56', 'A6',\n",
       "       'C23 C25 C27', 'B78', 'D33', 'B30', 'C52', 'B28', 'C83', 'F33',\n",
       "       'F G73', 'E31', 'A5', 'D10 D12', 'D26', 'C110', 'B58 B60', 'E101',\n",
       "       'F E69', 'D47', 'B86', 'F2', 'C2', 'E33', 'B19', 'A7', 'C49', 'F4',\n",
       "       'A32', 'B4', 'B80', 'A31', 'D36', 'D15', 'C93', 'C78', 'D35',\n",
       "       'C87', 'B77', 'E67', 'B94', 'C125', 'C99', 'C118', 'D7', 'A19',\n",
       "       'B49', 'D', 'C22 C26', 'C106', 'C65', 'E36', 'C54',\n",
       "       'B57 B59 B63 B66', 'C7', 'E34', 'C32', 'B18', 'C124', 'C91', 'E40',\n",
       "       'T', 'C128', 'D37', 'B35', 'E50', 'C82', 'B96 B98', 'E10', 'E44',\n",
       "       'A34', 'C104', 'C111', 'C92', 'E38', 'D21', 'E12', 'E63', 'A14',\n",
       "       'B37', 'C30', 'D20', 'B79', 'E25', 'D46', 'B73', 'C95', 'B38',\n",
       "       'B39', 'B22', 'C86', 'C70', 'A16', 'C101', 'C68', 'A10', 'E68',\n",
       "       'B41', 'A20', 'D19', 'D50', 'D9', 'A23', 'B50', 'A26', 'D48',\n",
       "       'E58', 'C126', 'B71', 'B51 B53 B55', 'D49', 'B5', 'B20', 'F G63',\n",
       "       'C62 C64', 'E24', 'C90', 'C45', 'E8', 'B101', 'D45', 'C46', 'D30',\n",
       "       'E121', 'D11', 'E77', 'F38', 'B3', 'D6', 'B82 B84', 'D17', 'A36',\n",
       "       'B102', 'B69', 'E49', 'C47', 'D28', 'E17', 'A24', 'C50', 'B42',\n",
       "       'C148'], dtype=object)"
      ]
     },
     "execution_count": 37,
     "metadata": {},
     "output_type": "execute_result"
    }
   ],
   "source": [
    "train[['Cabin']] # 방번호 일거 같은데용\n",
    "train['Cabin'].unique()"
   ]
  },
  {
   "cell_type": "code",
   "execution_count": 38,
   "id": "6901815d",
   "metadata": {
    "ExecuteTime": {
     "end_time": "2023-09-01T07:19:15.251875Z",
     "start_time": "2023-09-01T07:19:15.238974Z"
    },
    "scrolled": true
   },
   "outputs": [
    {
     "name": "stdout",
     "output_type": "stream",
     "text": [
      "<class 'pandas.core.series.Series'>\n",
      "Int64Index: 891 entries, 1 to 891\n",
      "Series name: Cabin\n",
      "Non-Null Count  Dtype \n",
      "--------------  ----- \n",
      "891 non-null    object\n",
      "dtypes: object(1)\n",
      "memory usage: 13.9+ KB\n",
      "\n",
      "<class 'pandas.core.series.Series'>\n",
      "Int64Index: 418 entries, 892 to 1309\n",
      "Series name: Cabin\n",
      "Non-Null Count  Dtype \n",
      "--------------  ----- \n",
      "418 non-null    object\n",
      "dtypes: object(1)\n",
      "memory usage: 6.5+ KB\n"
     ]
    }
   ],
   "source": [
    "# 'M' 임의로 Cabin의 결측치를 채워보기\n",
    "\n",
    "train['Cabin'].fillna('M', inplace = True)\n",
    "test['Cabin'].fillna('M', inplace = True)\n",
    "\n",
    "train['Cabin'].info()\n",
    "print()\n",
    "test['Cabin'].info()"
   ]
  },
  {
   "cell_type": "code",
   "execution_count": 39,
   "id": "86e7cc1b",
   "metadata": {
    "ExecuteTime": {
     "end_time": "2023-09-01T07:19:15.259247Z",
     "start_time": "2023-09-01T07:19:15.253883Z"
    }
   },
   "outputs": [],
   "source": [
    "#train에 Cabin 컬럼 접근해서 살펴보기\n",
    "train['Cabin'][2][0]\n",
    "train['Deck']=train['Cabin'].str[0]\n",
    "test['Deck'] = test['Cabin'].str[0]"
   ]
  },
  {
   "cell_type": "code",
   "execution_count": 40,
   "id": "846fbf26",
   "metadata": {
    "ExecuteTime": {
     "end_time": "2023-09-01T07:19:15.264569Z",
     "start_time": "2023-09-01T07:19:15.260251Z"
    }
   },
   "outputs": [],
   "source": [
    "# Cabin 컬럼 삭제하기\n",
    "# train, test\n",
    "train.drop(['Cabin'], axis=1, inplace= True)\n",
    "\n",
    "test.drop(['Cabin'], axis=1, inplace= True)"
   ]
  },
  {
   "cell_type": "code",
   "execution_count": 44,
   "id": "c41d109e",
   "metadata": {
    "ExecuteTime": {
     "end_time": "2023-09-01T07:20:00.757262Z",
     "start_time": "2023-09-01T07:20:00.743547Z"
    }
   },
   "outputs": [
    {
     "name": "stdout",
     "output_type": "stream",
     "text": [
      "<class 'pandas.core.frame.DataFrame'>\n",
      "Int64Index: 891 entries, 1 to 891\n",
      "Data columns (total 11 columns):\n",
      " #   Column    Non-Null Count  Dtype  \n",
      "---  ------    --------------  -----  \n",
      " 0   Survived  891 non-null    int64  \n",
      " 1   Pclass    891 non-null    int64  \n",
      " 2   Name      891 non-null    object \n",
      " 3   Sex       891 non-null    object \n",
      " 4   Age       891 non-null    int64  \n",
      " 5   SibSp     891 non-null    int64  \n",
      " 6   Parch     891 non-null    int64  \n",
      " 7   Ticket    891 non-null    object \n",
      " 8   Fare      891 non-null    float64\n",
      " 9   Embarked  891 non-null    object \n",
      " 10  Deck      891 non-null    object \n",
      "dtypes: float64(1), int64(5), object(5)\n",
      "memory usage: 115.8+ KB\n",
      "\n",
      "<class 'pandas.core.frame.DataFrame'>\n",
      "Int64Index: 418 entries, 892 to 1309\n",
      "Data columns (total 10 columns):\n",
      " #   Column    Non-Null Count  Dtype  \n",
      "---  ------    --------------  -----  \n",
      " 0   Pclass    418 non-null    int64  \n",
      " 1   Name      418 non-null    object \n",
      " 2   Sex       418 non-null    object \n",
      " 3   Age       418 non-null    int64  \n",
      " 4   SibSp     418 non-null    int64  \n",
      " 5   Parch     418 non-null    int64  \n",
      " 6   Ticket    418 non-null    object \n",
      " 7   Fare      418 non-null    float64\n",
      " 8   Embarked  418 non-null    object \n",
      " 9   Deck      418 non-null    object \n",
      "dtypes: float64(1), int64(4), object(5)\n",
      "memory usage: 35.9+ KB\n"
     ]
    }
   ],
   "source": [
    "#info 확인\n",
    "train.info()\n",
    "print()\n",
    "test.info()"
   ]
  },
  {
   "cell_type": "markdown",
   "id": "2783830f",
   "metadata": {},
   "source": [
    "### 데이터 탐색\n",
    "* train 데이터를 이용해서 탐색 진행함\n",
    "* test를 탐색하는 것은 모델의 일반화에 도움 안됨\n",
    "* Deck컬럼이 생존/사망과 얼마나 연관이 있는지 확인해보기"
   ]
  },
  {
   "cell_type": "code",
   "execution_count": 45,
   "id": "fd8e95dd",
   "metadata": {
    "ExecuteTime": {
     "end_time": "2023-09-01T07:31:29.507011Z",
     "start_time": "2023-09-01T07:31:29.104103Z"
    }
   },
   "outputs": [
    {
     "data": {
      "image/png": "[encoded data removed]",
      "text/plain": [
       "<Figure size 640x480 with 1 Axes>"
      ]
     },
     "metadata": {},
     "output_type": "display_data"
    }
   ],
   "source": [
    "#x- Deck, y_Surived\n",
    "sns.countplot(data = train, x= 'Deck', hue= 'Survived')\n",
    "plt.show()"
   ]
  },
  {
   "cell_type": "markdown",
   "id": "95290b65",
   "metadata": {
    "ExecuteTime": {
     "end_time": "2023-09-01T07:32:25.954808Z",
     "start_time": "2023-09-01T07:32:25.951818Z"
    }
   },
   "source": [
    "- M( 결측값)에서 상대적으로 사망률이 높다.\n",
    "- Pclass와 Survived 컬럼의 관계확인(생존/ 사망 연관)\n",
    "\n",
    "- C, E, D, B에서는 상대적으로 생존율이 좋다."
   ]
  },
  {
   "cell_type": "code",
   "execution_count": 48,
   "id": "062269a2",
   "metadata": {
    "ExecuteTime": {
     "end_time": "2023-09-01T07:36:12.111811Z",
     "start_time": "2023-09-01T07:36:11.983987Z"
    },
    "scrolled": true
   },
   "outputs": [
    {
     "data": {
      "image/png": "[encoded data removed]",
      "text/plain": [
       "<Figure size 500x300 with 1 Axes>"
      ]
     },
     "metadata": {},
     "output_type": "display_data"
    }
   ],
   "source": [
    "plt.figure(figsize=(5,3))\n",
    "sns.countplot(data = train, x= 'Pclass',hue='Survived')\n",
    "plt.show()"
   ]
  },
  {
   "cell_type": "markdown",
   "id": "26acb94d",
   "metadata": {},
   "source": [
    "- 승객의 등급이 높을 수록 비교적 생존율이 높다\n",
    "- 3등급의 승객들은 많이 사망함\n",
    "- Deck과 Pclass의 시각화"
   ]
  },
  {
   "cell_type": "code",
   "execution_count": 49,
   "id": "6ff2ce64",
   "metadata": {
    "ExecuteTime": {
     "end_time": "2023-09-01T07:38:43.722747Z",
     "start_time": "2023-09-01T07:38:43.517674Z"
    },
    "scrolled": true
   },
   "outputs": [
    {
     "data": {
      "image/png": "[encoded data removed]",
      "text/plain": [
       "<Figure size 640x480 with 1 Axes>"
      ]
     },
     "metadata": {},
     "output_type": "display_data"
    }
   ],
   "source": [
    "sns.countplot(data = train, x='Deck' ,hue= 'Pclass')\n",
    "plt.show()"
   ]
  },
  {
   "cell_type": "markdown",
   "id": "5ed72b5a",
   "metadata": {},
   "source": [
    "- M안에는 3등급의 사람들이 많아서 사망율이 높게 출력\n",
    "- Sex와 Survived관계 확인해보기"
   ]
  },
  {
   "cell_type": "code",
   "execution_count": 51,
   "id": "54763ff3",
   "metadata": {
    "ExecuteTime": {
     "end_time": "2023-09-01T07:44:57.592235Z",
     "start_time": "2023-09-01T07:44:57.487620Z"
    }
   },
   "outputs": [
    {
     "data": {
      "image/png": "[encoded data removed]",
      "text/plain": [
       "<Figure size 640x480 with 1 Axes>"
      ]
     },
     "metadata": {},
     "output_type": "display_data"
    }
   ],
   "source": [
    "sns.countplot(data= train, x= 'Sex', hue='Survived')\n",
    "plt.show()\n",
    "# 올바르지 않은 사회 "
   ]
  },
  {
   "cell_type": "code",
   "execution_count": null,
   "id": "90fcc3cb",
   "metadata": {},
   "outputs": [],
   "source": []
  }
 ],
 "metadata": {
  "hide_input": false,
  "kernelspec": {
   "display_name": "Python 3 (ipykernel)",
   "language": "python",
   "name": "python3"
  },
  "language_info": {
   "codemirror_mode": {
    "name": "ipython",
    "version": 3
   },
   "file_extension": ".py",
   "mimetype": "text/x-python",
   "name": "python",
   "nbconvert_exporter": "python",
   "pygments_lexer": "ipython3",
   "version": "3.11.4"
  },
  "nbTranslate": {
   "displayLangs": [
    "*"
   ],
   "hotkey": "alt-t",
   "langInMainMenu": true,
   "sourceLang": "en",
   "targetLang": "fr",
   "useGoogleTranslate": true
  },
  "toc": {
   "base_numbering": 1,
   "nav_menu": {},
   "number_sections": true,
   "sideBar": true,
   "skip_h1_title": false,
   "title_cell": "Table of Contents",
   "title_sidebar": "Contents",
   "toc_cell": false,
   "toc_position": {},
   "toc_section_display": true,
   "toc_window_display": false
  },
  "varInspector": {
   "cols": {
    "lenName": 16,
    "lenType": 16,
    "lenVar": 40
   },
   "kernels_config": {
    "python": {
     "delete_cmd_postfix": "",
     "delete_cmd_prefix": "del ",
     "library": "var_list.py",
     "varRefreshCmd": "print(var_dic_list())"
    },
    "r": {
     "delete_cmd_postfix": ") ",
     "delete_cmd_prefix": "rm(",
     "library": "var_list.r",
     "varRefreshCmd": "cat(var_dic_list()) "
    }
   },
   "types_to_exclude": [
    "module",
    "function",
    "builtin_function_or_method",
    "instance",
    "_Feature"
   ],
   "window_display": false
  }
 },
 "nbformat": 4,
 "nbformat_minor": 5
}
