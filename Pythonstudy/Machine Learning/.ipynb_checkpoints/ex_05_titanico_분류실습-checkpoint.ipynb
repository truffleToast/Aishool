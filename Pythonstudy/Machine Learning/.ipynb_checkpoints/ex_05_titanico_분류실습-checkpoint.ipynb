{
 "cells": [
  {
   "cell_type": "markdown",
   "id": "59e667aa",
   "metadata": {},
   "source": [
    "## . 목표! : \n",
    "- 타이타닉 데이터를 활용하여 생존자와 사망자를 예측해보자\n",
    "- kaggle 경진대회에 참가하여 우리 점수를 확인해보자!\n",
    "- 머신러닝의 전체과정을 체험해보자"
   ]
  },
  {
   "cell_type": "markdown",
   "id": "f9761327",
   "metadata": {},
   "source": [
    "## . 머신러닝 과정\n",
    "1. 문제정의: 목표 설정, 어떤 모델\n",
    "2. 데이터 수집: 분류를 할거라면 class로 담긴 레이블 있는 데이터 수집\n",
    "3. 데이터 전처리 : 머신러닝의 학습을 위해 이상치나 결측치를 처리하는 과정\n",
    "4. 데이터 탐색: 기술통계, 특성간의 관계\n",
    "5. 모델 선택 및 하이퍼 파라미터 설정\n",
    "6. 모델 예측 및 평가\n",
    "7. 모델 서비스 화"
   ]
  },
  {
   "cell_type": "markdown",
   "id": "fbcf28fe",
   "metadata": {},
   "source": [
    "## . 임포트하기"
   ]
  },
  {
   "cell_type": "code",
   "execution_count": 1,
   "id": "86bae97f",
   "metadata": {
    "ExecuteTime": {
     "end_time": "2023-08-31T07:16:13.576475Z",
     "start_time": "2023-08-31T07:16:10.518203Z"
    }
   },
   "outputs": [],
   "source": [
    "import numpy as np\n",
    "import pandas as pd\n",
    "import matplotlib.pyplot as plt \n",
    "import seaborn as sns # 시각화 라이브러리\n",
    "# train, test 분리하는 도구\n",
    "from sklearn.model_selection import train_test_split\n",
    "# 평가 도구\n",
    "from sklearn.metrics import accuracy_score\n",
    "# tree model - 사망/ 생존 이진분류\n",
    "from sklearn.tree import DecisionTreeClassifier"
   ]
  },
  {
   "cell_type": "code",
   "execution_count": 2,
   "id": "36e1eb33",
   "metadata": {
    "ExecuteTime": {
     "end_time": "2023-08-31T07:16:13.582813Z",
     "start_time": "2023-08-31T07:16:13.579477Z"
    }
   },
   "outputs": [],
   "source": [
    "# train, test 변수에 데이터 불러와서 담기\n",
    "# 단, 인덱스를 승객의 번호로 설정해서 담아줄 것"
   ]
  },
  {
   "cell_type": "code",
   "execution_count": 3,
   "id": "bc5a19a3",
   "metadata": {
    "ExecuteTime": {
     "end_time": "2023-08-31T07:16:13.607174Z",
     "start_time": "2023-08-31T07:16:13.584815Z"
    }
   },
   "outputs": [],
   "source": [
    "train = pd.read_csv(\"data/titanic/train.csv\", index_col=\"PassengerId\")\n",
    "test = pd.read_csv(\"data/titanic/test.csv\", index_col= \"PassengerId\")"
   ]
  },
  {
   "cell_type": "markdown",
   "id": "71b37dad",
   "metadata": {
    "ExecuteTime": {
     "end_time": "2023-08-31T06:28:42.048912Z",
     "start_time": "2023-08-31T06:28:42.044686Z"
    }
   },
   "source": [
    " 0.   Survived  - 생존/ 사망 여부 (답 데이터, Class Label)  \n",
    " 1.   Pclass    - 승객의 등급(1- 귀족층,2- 중간층,3- 하위계층)  \n",
    " 2.   Name      - 이름        \n",
    " 3.  Sex       - 성별(male, female)\n",
    " 4.  Age       - 나이(0~  \n",
    " 5.  SibSp     - 형제자매+배우자 수  \n",
    " 6.  Parch     - 부모 + 자식 수  \n",
    " 7.  Ticket    - 티겟 번호  \n",
    " 8.  Fare      - 요금  \n",
    " 9.  Cabin     - 객실번호  \n",
    " 10.  Embarked  - 승선항  "
   ]
  },
  {
   "cell_type": "code",
   "execution_count": 4,
   "id": "38a5cb67",
   "metadata": {
    "ExecuteTime": {
     "end_time": "2023-08-31T07:16:13.621773Z",
     "start_time": "2023-08-31T07:16:13.608178Z"
    }
   },
   "outputs": [
    {
     "name": "stdout",
     "output_type": "stream",
     "text": [
      "<class 'pandas.core.frame.DataFrame'>\n",
      "Int64Index: 418 entries, 892 to 1309\n",
      "Data columns (total 10 columns):\n",
      " #   Column    Non-Null Count  Dtype  \n",
      "---  ------    --------------  -----  \n",
      " 0   Pclass    418 non-null    int64  \n",
      " 1   Name      418 non-null    object \n",
      " 2   Sex       418 non-null    object \n",
      " 3   Age       332 non-null    float64\n",
      " 4   SibSp     418 non-null    int64  \n",
      " 5   Parch     418 non-null    int64  \n",
      " 6   Ticket    418 non-null    object \n",
      " 7   Fare      417 non-null    float64\n",
      " 8   Cabin     91 non-null     object \n",
      " 9   Embarked  418 non-null    object \n",
      "dtypes: float64(2), int64(3), object(5)\n",
      "memory usage: 35.9+ KB\n"
     ]
    }
   ],
   "source": [
    "test.info() # 테스트 정보확인"
   ]
  },
  {
   "cell_type": "code",
   "execution_count": 5,
   "id": "6399f2e1",
   "metadata": {
    "ExecuteTime": {
     "end_time": "2023-08-31T07:16:13.633365Z",
     "start_time": "2023-08-31T07:16:13.623776Z"
    }
   },
   "outputs": [
    {
     "name": "stdout",
     "output_type": "stream",
     "text": [
      "<class 'pandas.core.frame.DataFrame'>\n",
      "Int64Index: 891 entries, 1 to 891\n",
      "Data columns (total 11 columns):\n",
      " #   Column    Non-Null Count  Dtype  \n",
      "---  ------    --------------  -----  \n",
      " 0   Survived  891 non-null    int64  \n",
      " 1   Pclass    891 non-null    int64  \n",
      " 2   Name      891 non-null    object \n",
      " 3   Sex       891 non-null    object \n",
      " 4   Age       714 non-null    float64\n",
      " 5   SibSp     891 non-null    int64  \n",
      " 6   Parch     891 non-null    int64  \n",
      " 7   Ticket    891 non-null    object \n",
      " 8   Fare      891 non-null    float64\n",
      " 9   Cabin     204 non-null    object \n",
      " 10  Embarked  889 non-null    object \n",
      "dtypes: float64(2), int64(4), object(5)\n",
      "memory usage: 83.5+ KB\n"
     ]
    }
   ],
   "source": [
    "train.info() # 정보 확인"
   ]
  },
  {
   "cell_type": "code",
   "execution_count": 6,
   "id": "381582a6",
   "metadata": {
    "ExecuteTime": {
     "end_time": "2023-08-31T07:16:13.643754Z",
     "start_time": "2023-08-31T07:16:13.635601Z"
    }
   },
   "outputs": [
    {
     "name": "stdout",
     "output_type": "stream",
     "text": [
      "트레인 크기:  (891, 11)\n",
      "테스트 크기:  (418, 10)\n"
     ]
    }
   ],
   "source": [
    "# 크기 확인\n",
    "print('트레인 크기: ', train.shape)\n",
    "print('테스트 크기: ', test.shape) # 테스트에는 정답 데이터가 없다."
   ]
  },
  {
   "cell_type": "code",
   "execution_count": 7,
   "id": "89ddf22a",
   "metadata": {
    "ExecuteTime": {
     "end_time": "2023-08-31T07:16:13.651494Z",
     "start_time": "2023-08-31T07:16:13.647758Z"
    }
   },
   "outputs": [],
   "source": [
    "# 컬럼명만 뽑아서 확인하기"
   ]
  },
  {
   "cell_type": "code",
   "execution_count": 8,
   "id": "e6cc2a51",
   "metadata": {
    "ExecuteTime": {
     "end_time": "2023-08-31T07:16:13.662255Z",
     "start_time": "2023-08-31T07:16:13.656498Z"
    },
    "scrolled": true
   },
   "outputs": [
    {
     "name": "stdout",
     "output_type": "stream",
     "text": [
      "Index(['Survived', 'Pclass', 'Name', 'Sex', 'Age', 'SibSp', 'Parch', 'Ticket',\n",
      "       'Fare', 'Cabin', 'Embarked'],\n",
      "      dtype='object')\n",
      "Index(['Pclass', 'Name', 'Sex', 'Age', 'SibSp', 'Parch', 'Ticket', 'Fare',\n",
      "       'Cabin', 'Embarked'],\n",
      "      dtype='object')\n"
     ]
    }
   ],
   "source": [
    "print(train.columns)\n",
    "print(test.columns)"
   ]
  },
  {
   "cell_type": "markdown",
   "id": "f77f3f8a",
   "metadata": {},
   "source": [
    "### 데이터 전처리 및 탐색\n",
    "- 결측치 확인"
   ]
  },
  {
   "cell_type": "code",
   "execution_count": 9,
   "id": "21dbc519",
   "metadata": {
    "ExecuteTime": {
     "end_time": "2023-08-31T07:16:13.682473Z",
     "start_time": "2023-08-31T07:16:13.667270Z"
    }
   },
   "outputs": [
    {
     "name": "stdout",
     "output_type": "stream",
     "text": [
      "<class 'pandas.core.frame.DataFrame'>\n",
      "Int64Index: 891 entries, 1 to 891\n",
      "Data columns (total 11 columns):\n",
      " #   Column    Non-Null Count  Dtype  \n",
      "---  ------    --------------  -----  \n",
      " 0   Survived  891 non-null    int64  \n",
      " 1   Pclass    891 non-null    int64  \n",
      " 2   Name      891 non-null    object \n",
      " 3   Sex       891 non-null    object \n",
      " 4   Age       714 non-null    float64\n",
      " 5   SibSp     891 non-null    int64  \n",
      " 6   Parch     891 non-null    int64  \n",
      " 7   Ticket    891 non-null    object \n",
      " 8   Fare      891 non-null    float64\n",
      " 9   Cabin     204 non-null    object \n",
      " 10  Embarked  889 non-null    object \n",
      "dtypes: float64(2), int64(4), object(5)\n",
      "memory usage: 83.5+ KB\n"
     ]
    }
   ],
   "source": [
    "train.info()\n",
    "#AGE, Cabin , Embarked 에 결측치가 존재"
   ]
  },
  {
   "cell_type": "code",
   "execution_count": 10,
   "id": "9f0718bb",
   "metadata": {
    "ExecuteTime": {
     "end_time": "2023-08-31T07:16:13.699822Z",
     "start_time": "2023-08-31T07:16:13.684475Z"
    }
   },
   "outputs": [
    {
     "data": {
      "text/plain": [
       "Pclass      418\n",
       "Name        418\n",
       "Sex         418\n",
       "Age         332\n",
       "SibSp       418\n",
       "Parch       418\n",
       "Ticket      418\n",
       "Fare        417\n",
       "Cabin        91\n",
       "Embarked    418\n",
       "dtype: int64"
      ]
     },
     "execution_count": 10,
     "metadata": {},
     "output_type": "execute_result"
    }
   ],
   "source": [
    "test.count()\n",
    "#Age에 결측치가 존재"
   ]
  },
  {
   "cell_type": "code",
   "execution_count": 11,
   "id": "7fb136f2",
   "metadata": {
    "ExecuteTime": {
     "end_time": "2023-08-31T07:16:13.712079Z",
     "start_time": "2023-08-31T07:16:13.701825Z"
    }
   },
   "outputs": [
    {
     "name": "stdout",
     "output_type": "stream",
     "text": [
      "(418, 10)\n"
     ]
    },
    {
     "data": {
      "text/plain": [
       "Pclass        0\n",
       "Name          0\n",
       "Sex           0\n",
       "Age          86\n",
       "SibSp         0\n",
       "Parch         0\n",
       "Ticket        0\n",
       "Fare          1\n",
       "Cabin       327\n",
       "Embarked      0\n",
       "dtype: int64"
      ]
     },
     "execution_count": 11,
     "metadata": {},
     "output_type": "execute_result"
    }
   ],
   "source": [
    "# 판다스 함수 통해서 test 결측치 확인\n",
    "# 데이터 자리에 결측치가 있니? => 데이터.isnull()\n",
    "print(test.shape)\n",
    "test.isnull().sum()\n",
    "# 결측치 존재 컬럼 Age, Fare, Cabin\n",
    "# 결측치를 삭제하기 보다는 채우면서 처리해보겠음."
   ]
  },
  {
   "cell_type": "markdown",
   "id": "389bf2c1",
   "metadata": {},
   "source": [
    "#### train- Embarked 결측치 처리\n",
    "- 승객이 탑승한 항구 이름"
   ]
  },
  {
   "cell_type": "code",
   "execution_count": 12,
   "id": "d879e016",
   "metadata": {
    "ExecuteTime": {
     "end_time": "2023-08-31T07:16:13.720573Z",
     "start_time": "2023-08-31T07:16:13.716082Z"
    }
   },
   "outputs": [],
   "source": [
    "# trian 데이터를 기준으로 embarked 컬럼 확인"
   ]
  },
  {
   "cell_type": "code",
   "execution_count": 13,
   "id": "2eedca01",
   "metadata": {
    "ExecuteTime": {
     "end_time": "2023-08-31T07:16:13.730540Z",
     "start_time": "2023-08-31T07:16:13.722577Z"
    }
   },
   "outputs": [
    {
     "data": {
      "text/plain": [
       "PassengerId\n",
       "1      S\n",
       "2      C\n",
       "3      S\n",
       "4      S\n",
       "5      S\n",
       "      ..\n",
       "887    S\n",
       "888    S\n",
       "889    S\n",
       "890    C\n",
       "891    Q\n",
       "Name: Embarked, Length: 891, dtype: object"
      ]
     },
     "execution_count": 13,
     "metadata": {},
     "output_type": "execute_result"
    }
   ],
   "source": [
    "train['Embarked']"
   ]
  },
  {
   "cell_type": "code",
   "execution_count": 14,
   "id": "0e3f4ff2",
   "metadata": {
    "ExecuteTime": {
     "end_time": "2023-08-31T07:16:13.738740Z",
     "start_time": "2023-08-31T07:16:13.734544Z"
    }
   },
   "outputs": [],
   "source": [
    "#test 안보나요\n",
    "# 탐색용 데이터는 trian,\n",
    "# 모델학습 : 모델이 학습을 잘하도록 데이터를 셋팅\n",
    "# test 데이터는 모델을 일반화 하는데 도움이 되지 않음\n",
    "# train 데이터가 학습할 때 사용되고 모델의 일반화에 도움을 줌"
   ]
  },
  {
   "cell_type": "code",
   "execution_count": 16,
   "id": "fdcf9e99",
   "metadata": {
    "ExecuteTime": {
     "end_time": "2023-08-31T07:16:33.069915Z",
     "start_time": "2023-08-31T07:16:33.062034Z"
    }
   },
   "outputs": [
    {
     "data": {
      "text/plain": [
       "S    646\n",
       "C    168\n",
       "Q     77\n",
       "Name: Embarked, dtype: int64"
      ]
     },
     "execution_count": 16,
     "metadata": {},
     "output_type": "execute_result"
    }
   ],
   "source": [
    "# Embarekd 결측치를 'S'로 채우기\n",
    "#fillna(채울값)\n",
    "train['Embarked'] = train['Embarked'].fillna('S')\n",
    "train['Embarked'].unique()\n",
    "train['Embarked'].value_counts()"
   ]
  },
  {
   "cell_type": "code",
   "execution_count": 17,
   "id": "22059caf",
   "metadata": {
    "ExecuteTime": {
     "end_time": "2023-08-31T07:17:14.137879Z",
     "start_time": "2023-08-31T07:17:14.135471Z"
    }
   },
   "outputs": [],
   "source": [
    "# 자동화 하는 코드를 짜면 되겟넹"
   ]
  },
  {
   "cell_type": "markdown",
   "id": "d01c4390",
   "metadata": {},
   "source": [
    "####  test-fare데이터 결측치 처리\n",
    "1. 요금 평균, 중앙값 계산 가능\n",
    "2. 데이터 분석을 진행하면서 관련이 있을 법한 컬럼을 연관지어서 대체값을 확인해보자"
   ]
  },
  {
   "cell_type": "code",
   "execution_count": 22,
   "id": "ca423e39",
   "metadata": {
    "ExecuteTime": {
     "end_time": "2023-08-31T07:22:09.492438Z",
     "start_time": "2023-08-31T07:22:09.482913Z"
    }
   },
   "outputs": [
    {
     "data": {
      "text/plain": [
       "count    891.000000\n",
       "mean      32.204208\n",
       "std       49.693429\n",
       "min        0.000000\n",
       "25%        7.910400\n",
       "50%       14.454200\n",
       "75%       31.000000\n",
       "max      512.329200\n",
       "Name: Fare, dtype: float64"
      ]
     },
     "execution_count": 22,
     "metadata": {},
     "output_type": "execute_result"
    }
   ],
   "source": [
    "# train을 기준으로 데이터 탐색\n",
    "train['Fare'].describe()\n",
    "# 4분위 수와 중앙값 , 표준편차, 평균이 나옴\n",
    "#요금의 대표값으로 평균보다 중앙값이 더 나을 수 있음."
   ]
  },
  {
   "cell_type": "code",
   "execution_count": 34,
   "id": "80f906fe",
   "metadata": {
    "ExecuteTime": {
     "end_time": "2023-08-31T07:31:54.687028Z",
     "start_time": "2023-08-31T07:31:54.679535Z"
    }
   },
   "outputs": [
    {
     "name": "stderr",
     "output_type": "stream",
     "text": [
      "C:\\Users\\user\\AppData\\Local\\Temp\\ipykernel_3548\\4126046463.py:6: FutureWarning: The default value of numeric_only in DataFrame.corr is deprecated. In a future version, it will default to False. Select only valid columns or specify the value of numeric_only to silence this warning.\n",
      "  train.corr()['Survived'].abs()\n"
     ]
    },
    {
     "data": {
      "text/plain": [
       "Survived    1.000000\n",
       "Pclass      0.338481\n",
       "Age         0.077221\n",
       "SibSp       0.035322\n",
       "Parch       0.081629\n",
       "Fare        0.257307\n",
       "Name: Survived, dtype: float64"
      ]
     },
     "execution_count": 34,
     "metadata": {},
     "output_type": "execute_result"
    }
   ],
   "source": [
    "# 변수간의 상관관계\n",
    "# 상관계수 : - 1 ~ 1 사이의 상관계수\n",
    "# 각 컬럼의 상관 정도를 파악 할 수 있음.\n",
    "# -1과 1에 가까울 수록 변수간의 관계성이 있음.\n",
    "#생존사망과 연관이 있는 컬럼 확인해보기\n",
    "train.corr()['Survived'].abs() # Pclass가 생존 / 사망에 연관이 있을 수 있겟다.\n",
    "# 등급에 따라서 요금의 중앙값으로 의미가 있을 수 있다."
   ]
  },
  {
   "cell_type": "code",
   "execution_count": 36,
   "id": "bdf23c12",
   "metadata": {
    "ExecuteTime": {
     "end_time": "2023-08-31T07:34:48.042163Z",
     "start_time": "2023-08-31T07:34:48.038574Z"
    }
   },
   "outputs": [],
   "source": [
    "Pclass_coulmn =train['Pclass'].unique()"
   ]
  },
  {
   "cell_type": "code",
   "execution_count": 40,
   "id": "c7567a76",
   "metadata": {
    "ExecuteTime": {
     "end_time": "2023-08-31T07:37:15.563460Z",
     "start_time": "2023-08-31T07:37:15.559505Z"
    }
   },
   "outputs": [],
   "source": [
    "# Pclass 와 Fare 두개의 컬럼만 인덱싱하기\n",
    "pf =train[['Pclass', 'Fare']]\n",
    "# Pcalss 1,2,3 등급끼리 묶기 (그룹화 하기)\n",
    "# median() 집계함수 연결"
   ]
  },
  {
   "cell_type": "code",
   "execution_count": 53,
   "id": "db930d29",
   "metadata": {
    "ExecuteTime": {
     "end_time": "2023-08-31T07:46:20.428617Z",
     "start_time": "2023-08-31T07:46:20.422489Z"
    }
   },
   "outputs": [],
   "source": [
    "# 불리언 색인으로 찾기 .. 개더러움\n",
    "pf1 = pf[pf['Pclass'] ==1]\n",
    "pf2 = pf[pf['Pclass'] == 2]\n",
    "pf3 = pf[pf['Pclass'] == 3]\n",
    "mp1 =pf1['Fare'].median()\n",
    "mp2 =pf2['Fare'].median()\n",
    "mp3 =pf3['Fare'].median()"
   ]
  },
  {
   "cell_type": "code",
   "execution_count": 88,
   "id": "30e75000",
   "metadata": {
    "ExecuteTime": {
     "end_time": "2023-08-31T07:55:33.756600Z",
     "start_time": "2023-08-31T07:55:33.748007Z"
    }
   },
   "outputs": [
    {
     "data": {
      "text/html": [
       "<div>\n",
       "<style scoped>\n",
       "    .dataframe tbody tr th:only-of-type {\n",
       "        vertical-align: middle;\n",
       "    }\n",
       "\n",
       "    .dataframe tbody tr th {\n",
       "        vertical-align: top;\n",
       "    }\n",
       "\n",
       "    .dataframe thead th {\n",
       "        text-align: right;\n",
       "    }\n",
       "</style>\n",
       "<table border=\"1\" class=\"dataframe\">\n",
       "  <thead>\n",
       "    <tr style=\"text-align: right;\">\n",
       "      <th></th>\n",
       "      <th>Fare</th>\n",
       "    </tr>\n",
       "    <tr>\n",
       "      <th>Pclass</th>\n",
       "      <th></th>\n",
       "    </tr>\n",
       "  </thead>\n",
       "  <tbody>\n",
       "    <tr>\n",
       "      <th>1</th>\n",
       "      <td>60.2875</td>\n",
       "    </tr>\n",
       "    <tr>\n",
       "      <th>2</th>\n",
       "      <td>14.2500</td>\n",
       "    </tr>\n",
       "    <tr>\n",
       "      <th>3</th>\n",
       "      <td>8.0500</td>\n",
       "    </tr>\n",
       "  </tbody>\n",
       "</table>\n",
       "</div>"
      ],
      "text/plain": [
       "           Fare\n",
       "Pclass         \n",
       "1       60.2875\n",
       "2       14.2500\n",
       "3        8.0500"
      ]
     },
     "execution_count": 88,
     "metadata": {},
     "output_type": "execute_result"
    }
   ],
   "source": [
    "answer = pd.DataFrame([mp1,mp2,mp3])\n",
    "answer.index = answer.index +1 \n",
    "answer.index.name = \"Pclass\"\n",
    "answer.columns = [\"Fare\"]\n",
    "answer"
   ]
  },
  {
   "cell_type": "code",
   "execution_count": 48,
   "id": "6fa3c33f",
   "metadata": {
    "ExecuteTime": {
     "end_time": "2023-08-31T07:43:23.856517Z",
     "start_time": "2023-08-31T07:43:23.838721Z"
    }
   },
   "outputs": [
    {
     "data": {
      "text/html": [
       "<div>\n",
       "<style scoped>\n",
       "    .dataframe tbody tr th:only-of-type {\n",
       "        vertical-align: middle;\n",
       "    }\n",
       "\n",
       "    .dataframe tbody tr th {\n",
       "        vertical-align: top;\n",
       "    }\n",
       "\n",
       "    .dataframe thead th {\n",
       "        text-align: right;\n",
       "    }\n",
       "</style>\n",
       "<table border=\"1\" class=\"dataframe\">\n",
       "  <thead>\n",
       "    <tr style=\"text-align: right;\">\n",
       "      <th></th>\n",
       "      <th>Fare</th>\n",
       "    </tr>\n",
       "    <tr>\n",
       "      <th>Pclass</th>\n",
       "      <th></th>\n",
       "    </tr>\n",
       "  </thead>\n",
       "  <tbody>\n",
       "    <tr>\n",
       "      <th>1</th>\n",
       "      <td>60.2875</td>\n",
       "    </tr>\n",
       "    <tr>\n",
       "      <th>2</th>\n",
       "      <td>14.2500</td>\n",
       "    </tr>\n",
       "    <tr>\n",
       "      <th>3</th>\n",
       "      <td>8.0500</td>\n",
       "    </tr>\n",
       "  </tbody>\n",
       "</table>\n",
       "</div>"
      ],
      "text/plain": [
       "           Fare\n",
       "Pclass         \n",
       "1       60.2875\n",
       "2       14.2500\n",
       "3        8.0500"
      ]
     },
     "execution_count": 48,
     "metadata": {},
     "output_type": "execute_result"
    }
   ],
   "source": [
    "pf.groupby(['Pclass']).median()"
   ]
  },
  {
   "cell_type": "code",
   "execution_count": null,
   "id": "c59bc8ff",
   "metadata": {},
   "outputs": [],
   "source": []
  }
 ],
 "metadata": {
  "hide_input": false,
  "kernelspec": {
   "display_name": "Python 3 (ipykernel)",
   "language": "python",
   "name": "python3"
  },
  "language_info": {
   "codemirror_mode": {
    "name": "ipython",
    "version": 3
   },
   "file_extension": ".py",
   "mimetype": "text/x-python",
   "name": "python",
   "nbconvert_exporter": "python",
   "pygments_lexer": "ipython3",
   "version": "3.11.4"
  },
  "nbTranslate": {
   "displayLangs": [
    "*"
   ],
   "hotkey": "alt-t",
   "langInMainMenu": true,
   "sourceLang": "en",
   "targetLang": "fr",
   "useGoogleTranslate": true
  },
  "toc": {
   "base_numbering": 1,
   "nav_menu": {},
   "number_sections": true,
   "sideBar": true,
   "skip_h1_title": false,
   "title_cell": "Table of Contents",
   "title_sidebar": "Contents",
   "toc_cell": false,
   "toc_position": {},
   "toc_section_display": true,
   "toc_window_display": false
  },
  "varInspector": {
   "cols": {
    "lenName": 16,
    "lenType": 16,
    "lenVar": 40
   },
   "kernels_config": {
    "python": {
     "delete_cmd_postfix": "",
     "delete_cmd_prefix": "del ",
     "library": "var_list.py",
     "varRefreshCmd": "print(var_dic_list())"
    },
    "r": {
     "delete_cmd_postfix": ") ",
     "delete_cmd_prefix": "rm(",
     "library": "var_list.r",
     "varRefreshCmd": "cat(var_dic_list()) "
    }
   },
   "types_to_exclude": [
    "module",
    "function",
    "builtin_function_or_method",
    "instance",
    "_Feature"
   ],
   "window_display": false
  }
 },
 "nbformat": 4,
 "nbformat_minor": 5
}
