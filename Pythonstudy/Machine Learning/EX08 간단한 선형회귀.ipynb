{
 "cells": [
  {
   "cell_type": "markdown",
   "id": "7871cad6",
   "metadata": {
    "ExecuteTime": {
     "end_time": "2023-09-07T05:49:19.432213Z",
     "start_time": "2023-09-07T05:49:19.429896Z"
    },
    "code_folding": []
   },
   "source": [
    "# 문제정의: 선형회귀 이해하기\n",
    "- 성적 데이터를 기반으로 선형회귀를 이해해 보자"
   ]
  },
  {
   "cell_type": "markdown",
   "id": "3fee92e1",
   "metadata": {},
   "source": [
    "## 선형 모델 :\n",
    "- 입력특성(features , target)을 설명할 수 있는 선형 함수를 구하는 것\n",
    "- 문제가 1개일 때: y = wx +b\n",
    "- 문제가 i개일 때 ^y = ∑(W¡X¡) + b¡ "
   ]
  },
  {
   "cell_type": "code",
   "execution_count": 93,
   "id": "95f73c54",
   "metadata": {
    "ExecuteTime": {
     "end_time": "2023-09-07T07:20:38.054795Z",
     "start_time": "2023-09-07T07:20:38.045577Z"
    }
   },
   "outputs": [
    {
     "data": {
      "text/html": [
       "<div>\n",
       "<style scoped>\n",
       "    .dataframe tbody tr th:only-of-type {\n",
       "        vertical-align: middle;\n",
       "    }\n",
       "\n",
       "    .dataframe tbody tr th {\n",
       "        vertical-align: top;\n",
       "    }\n",
       "\n",
       "    .dataframe thead th {\n",
       "        text-align: right;\n",
       "    }\n",
       "</style>\n",
       "<table border=\"1\" class=\"dataframe\">\n",
       "  <thead>\n",
       "    <tr style=\"text-align: right;\">\n",
       "      <th></th>\n",
       "      <th>공부시간</th>\n",
       "      <th>성적</th>\n",
       "    </tr>\n",
       "    <tr>\n",
       "      <th>사람</th>\n",
       "      <th></th>\n",
       "      <th></th>\n",
       "    </tr>\n",
       "  </thead>\n",
       "  <tbody>\n",
       "    <tr>\n",
       "      <th>준영</th>\n",
       "      <td>2</td>\n",
       "      <td>20</td>\n",
       "    </tr>\n",
       "    <tr>\n",
       "      <th>종화</th>\n",
       "      <td>4</td>\n",
       "      <td>40</td>\n",
       "    </tr>\n",
       "    <tr>\n",
       "      <th>경민</th>\n",
       "      <td>8</td>\n",
       "      <td>80</td>\n",
       "    </tr>\n",
       "    <tr>\n",
       "      <th>승훈</th>\n",
       "      <td>9</td>\n",
       "      <td>90</td>\n",
       "    </tr>\n",
       "  </tbody>\n",
       "</table>\n",
       "</div>"
      ],
      "text/plain": [
       "    공부시간  성적\n",
       "사람          \n",
       "준영     2  20\n",
       "종화     4  40\n",
       "경민     8  80\n",
       "승훈     9  90"
      ]
     },
     "execution_count": 93,
     "metadata": {},
     "output_type": "execute_result"
    }
   ],
   "source": [
    "import pandas as pd\n",
    "import matplotlib.pyplot as plt\n",
    "dic1 ={\"공부시간\": [2,4,8,9],\"성적\": [20,40,80,90], \"사람\" : ['준영', '종화', '경민', '승훈']}\n",
    "df =pd.DataFrame(dic1)\n",
    "df.index =df[\"사람\"]\n",
    "df= df.iloc[:,:2]\n",
    "df"
   ]
  },
  {
   "cell_type": "markdown",
   "id": "33d2c44b",
   "metadata": {
    "ExecuteTime": {
     "end_time": "2023-09-07T06:10:43.650203Z",
     "start_time": "2023-09-07T06:10:43.647198Z"
    }
   },
   "source": [
    "###  MSE 평균제곱오차\n",
    "1. 수학 공식을 이용한 해석\n",
    "2. 경사하강법(XGBOOST에서 오차 계산하는 방법)"
   ]
  },
  {
   "cell_type": "code",
   "execution_count": 34,
   "id": "1204ad13",
   "metadata": {
    "ExecuteTime": {
     "end_time": "2023-09-07T06:10:43.650203Z",
     "start_time": "2023-09-07T06:10:43.647198Z"
    }
   },
   "outputs": [],
   "source": [
    "from sklearn.linear_model import LinearRegression as lmM"
   ]
  },
  {
   "cell_type": "code",
   "execution_count": 35,
   "id": "70b9274d",
   "metadata": {
    "ExecuteTime": {
     "end_time": "2023-09-07T06:11:35.400842Z",
     "start_time": "2023-09-07T06:11:35.334154Z"
    }
   },
   "outputs": [
    {
     "data": {
      "text/html": [
       "<style>#sk-container-id-1 {color: black;}#sk-container-id-1 pre{padding: 0;}#sk-container-id-1 div.sk-toggleable {background-color: white;}#sk-container-id-1 label.sk-toggleable__label {cursor: pointer;display: block;width: 100%;margin-bottom: 0;padding: 0.3em;box-sizing: border-box;text-align: center;}#sk-container-id-1 label.sk-toggleable__label-arrow:before {content: \"▸\";float: left;margin-right: 0.25em;color: #696969;}#sk-container-id-1 label.sk-toggleable__label-arrow:hover:before {color: black;}#sk-container-id-1 div.sk-estimator:hover label.sk-toggleable__label-arrow:before {color: black;}#sk-container-id-1 div.sk-toggleable__content {max-height: 0;max-width: 0;overflow: hidden;text-align: left;background-color: #f0f8ff;}#sk-container-id-1 div.sk-toggleable__content pre {margin: 0.2em;color: black;border-radius: 0.25em;background-color: #f0f8ff;}#sk-container-id-1 input.sk-toggleable__control:checked~div.sk-toggleable__content {max-height: 200px;max-width: 100%;overflow: auto;}#sk-container-id-1 input.sk-toggleable__control:checked~label.sk-toggleable__label-arrow:before {content: \"▾\";}#sk-container-id-1 div.sk-estimator input.sk-toggleable__control:checked~label.sk-toggleable__label {background-color: #d4ebff;}#sk-container-id-1 div.sk-label input.sk-toggleable__control:checked~label.sk-toggleable__label {background-color: #d4ebff;}#sk-container-id-1 input.sk-hidden--visually {border: 0;clip: rect(1px 1px 1px 1px);clip: rect(1px, 1px, 1px, 1px);height: 1px;margin: -1px;overflow: hidden;padding: 0;position: absolute;width: 1px;}#sk-container-id-1 div.sk-estimator {font-family: monospace;background-color: #f0f8ff;border: 1px dotted black;border-radius: 0.25em;box-sizing: border-box;margin-bottom: 0.5em;}#sk-container-id-1 div.sk-estimator:hover {background-color: #d4ebff;}#sk-container-id-1 div.sk-parallel-item::after {content: \"\";width: 100%;border-bottom: 1px solid gray;flex-grow: 1;}#sk-container-id-1 div.sk-label:hover label.sk-toggleable__label {background-color: #d4ebff;}#sk-container-id-1 div.sk-serial::before {content: \"\";position: absolute;border-left: 1px solid gray;box-sizing: border-box;top: 0;bottom: 0;left: 50%;z-index: 0;}#sk-container-id-1 div.sk-serial {display: flex;flex-direction: column;align-items: center;background-color: white;padding-right: 0.2em;padding-left: 0.2em;position: relative;}#sk-container-id-1 div.sk-item {position: relative;z-index: 1;}#sk-container-id-1 div.sk-parallel {display: flex;align-items: stretch;justify-content: center;background-color: white;position: relative;}#sk-container-id-1 div.sk-item::before, #sk-container-id-1 div.sk-parallel-item::before {content: \"\";position: absolute;border-left: 1px solid gray;box-sizing: border-box;top: 0;bottom: 0;left: 50%;z-index: -1;}#sk-container-id-1 div.sk-parallel-item {display: flex;flex-direction: column;z-index: 1;position: relative;background-color: white;}#sk-container-id-1 div.sk-parallel-item:first-child::after {align-self: flex-end;width: 50%;}#sk-container-id-1 div.sk-parallel-item:last-child::after {align-self: flex-start;width: 50%;}#sk-container-id-1 div.sk-parallel-item:only-child::after {width: 0;}#sk-container-id-1 div.sk-dashed-wrapped {border: 1px dashed gray;margin: 0 0.4em 0.5em 0.4em;box-sizing: border-box;padding-bottom: 0.4em;background-color: white;}#sk-container-id-1 div.sk-label label {font-family: monospace;font-weight: bold;display: inline-block;line-height: 1.2em;}#sk-container-id-1 div.sk-label-container {text-align: center;}#sk-container-id-1 div.sk-container {/* jupyter's `normalize.less` sets `[hidden] { display: none; }` but bootstrap.min.css set `[hidden] { display: none !important; }` so we also need the `!important` here to be able to override the default hidden behavior on the sphinx rendered scikit-learn.org. See: https://github.com/scikit-learn/scikit-learn/issues/21755 */display: inline-block !important;position: relative;}#sk-container-id-1 div.sk-text-repr-fallback {display: none;}</style><div id=\"sk-container-id-1\" class=\"sk-top-container\"><div class=\"sk-text-repr-fallback\"><pre>LinearRegression()</pre><b>In a Jupyter environment, please rerun this cell to show the HTML representation or trust the notebook. <br />On GitHub, the HTML representation is unable to render, please try loading this page with nbviewer.org.</b></div><div class=\"sk-container\" hidden><div class=\"sk-item\"><div class=\"sk-estimator sk-toggleable\"><input class=\"sk-toggleable__control sk-hidden--visually\" id=\"sk-estimator-id-1\" type=\"checkbox\" checked><label for=\"sk-estimator-id-1\" class=\"sk-toggleable__label sk-toggleable__label-arrow\">LinearRegression</label><div class=\"sk-toggleable__content\"><pre>LinearRegression()</pre></div></div></div></div></div>"
      ],
      "text/plain": [
       "LinearRegression()"
      ]
     },
     "execution_count": 35,
     "metadata": {},
     "output_type": "execute_result"
    }
   ],
   "source": [
    "lm_model =lm()\n",
    "# 학습\n",
    "lm_model.fit(df[[\"공부시간\"]],df[\"성적\"])"
   ]
  },
  {
   "cell_type": "code",
   "execution_count": 76,
   "id": "82e31d3b",
   "metadata": {
    "ExecuteTime": {
     "end_time": "2023-09-07T06:36:00.673633Z",
     "start_time": "2023-09-07T06:36:00.669390Z"
    }
   },
   "outputs": [
    {
     "name": "stdout",
     "output_type": "stream",
     "text": [
      "가중치, 기울기 : [10.] 편향, 오차 : 7.105427357601002e-15\n"
     ]
    }
   ],
   "source": [
    "# y =wx + b (1개의 문제)\n",
    "print('가중치, 기울기 :', lm_model.coef_, '편향, 오차 :',  lm_model.intercept_ )"
   ]
  },
  {
   "cell_type": "code",
   "execution_count": 47,
   "id": "cf93d0f6",
   "metadata": {
    "ExecuteTime": {
     "end_time": "2023-09-07T06:16:12.222475Z",
     "start_time": "2023-09-07T06:16:12.215244Z"
    }
   },
   "outputs": [
    {
     "name": "stderr",
     "output_type": "stream",
     "text": [
      "C:\\Users\\user\\anaconda3\\Lib\\site-packages\\sklearn\\base.py:464: UserWarning: X does not have valid feature names, but LinearRegression was fitted with feature names\n",
      "  warnings.warn(\n"
     ]
    },
    {
     "data": {
      "text/plain": [
       "array([70.])"
      ]
     },
     "execution_count": 47,
     "metadata": {},
     "output_type": "execute_result"
    }
   ],
   "source": [
    "# 7시간 공부했을 때 몇 점이 나올건가?\n",
    "pred = lm_model.predict([[7]])\n",
    "pred"
   ]
  },
  {
   "cell_type": "markdown",
   "id": "3ed96977",
   "metadata": {},
   "source": [
    "###  H(x)\n",
    "- 가설함수"
   ]
  },
  {
   "cell_type": "code",
   "execution_count": 50,
   "id": "d4fe4ca6",
   "metadata": {
    "ExecuteTime": {
     "end_time": "2023-09-07T06:19:20.602367Z",
     "start_time": "2023-09-07T06:19:20.599013Z"
    }
   },
   "outputs": [],
   "source": [
    "#함수정의\n",
    "def h(w, x):\n",
    "    return w * x + 0"
   ]
  },
  {
   "cell_type": "markdown",
   "id": "e5861045",
   "metadata": {},
   "source": [
    "### 비용함수(Cost Function)\n",
    "- 오차"
   ]
  },
  {
   "cell_type": "code",
   "execution_count": 55,
   "id": "9bf27a61",
   "metadata": {
    "ExecuteTime": {
     "end_time": "2023-09-07T06:24:48.105995Z",
     "start_time": "2023-09-07T06:24:48.102212Z"
    }
   },
   "outputs": [],
   "source": [
    "# 비용함수 정의\n",
    "# data: 문제값\n",
    "# target: 정답(실제 값)\n",
    "# weight : 가중치\n",
    "def cost(data, target, weight):\n",
    "    # 예측\n",
    "    y_pre = h(weight,data)\n",
    "    # 평균 제곱 오차\n",
    "    error =  ((target - y_pre) ** 2).mean()\n",
    "    return error"
   ]
  },
  {
   "cell_type": "code",
   "execution_count": 60,
   "id": "be3be5d2",
   "metadata": {
    "ExecuteTime": {
     "end_time": "2023-09-07T06:26:14.493858Z",
     "start_time": "2023-09-07T06:26:14.486830Z"
    }
   },
   "outputs": [
    {
     "data": {
      "text/plain": [
       "0.0"
      ]
     },
     "execution_count": 60,
     "metadata": {},
     "output_type": "execute_result"
    }
   ],
   "source": [
    "# 가중치에 따른 오차값 확인\n",
    "cost(df[\"공부시간\"],df[\"성적\"], 8)\n",
    "cost(df[\"공부시간\"],df[\"성적\"], 7)\n",
    "cost(df[\"공부시간\"],df[\"성적\"], 11)\n",
    "cost(df[\"공부시간\"],df[\"성적\"], 10)"
   ]
  },
  {
   "cell_type": "code",
   "execution_count": 74,
   "id": "0b46fbf2",
   "metadata": {
    "ExecuteTime": {
     "end_time": "2023-09-07T06:35:40.738179Z",
     "start_time": "2023-09-07T06:35:40.653001Z"
    }
   },
   "outputs": [
    {
     "data": {
      "image/png": "[encoded data removed]",
      "text/plain": [
       "<Figure size 640x480 with 1 Axes>"
      ]
     },
     "metadata": {},
     "output_type": "display_data"
    }
   ],
   "source": [
    "# 가중치 변화에 따르 비용함수의 변화를 그래프로 그려보자\n",
    "cost_list = [cost(df[\"공부시간\"],df[\"성적\"], i) for i in range(5,16)]\n",
    "plt.plot(range(5,16), cost_list)\n",
    "plt.grid()\n",
    "plt.show()"
   ]
  },
  {
   "cell_type": "code",
   "execution_count": 73,
   "id": "da5a2322",
   "metadata": {
    "ExecuteTime": {
     "end_time": "2023-09-07T06:35:11.405395Z",
     "start_time": "2023-09-07T06:35:11.397953Z"
    }
   },
   "outputs": [
    {
     "data": {
      "text/plain": [
       "1.0"
      ]
     },
     "execution_count": 73,
     "metadata": {},
     "output_type": "execute_result"
    }
   ],
   "source": [
    "lm_model.score(df[['공부시간']], df['성적'])\n",
    "# 분류모델 :score - 정확도\n",
    "# 회귀모델 : score(MSE를 기반으로한 R2score) - 유사도\n",
    "# R2score : 결정계수"
   ]
  },
  {
   "cell_type": "markdown",
   "id": "7da41d5f",
   "metadata": {
    "code_folding": [
     0
    ]
   },
   "source": [
    "## 경사하강법\n",
    "- SGDRegressor\n",
    "- 점진적으로 오차가 적은 선형함수를 찾아가는 방법\n",
    "- 오차를 수정하는 방향으로 그래프를 다시 그림\n",
    "- 점진적으로 찾아가므로 계산량이 많아서 시간이 오래걸림\n",
    "- 학습률(learning rate, eta0)\n",
    "    - 너무 크게 설정하면 오차가 커짐(발산)\n",
    "    - 너무 작게 설정하면 국소지역점에 바져서 최적해를 찾을 수 없음\n",
    "- 오차가 유의미하게 변하지 않을 경우 early-stopping"
   ]
  },
  {
   "cell_type": "code",
   "execution_count": 92,
   "id": "c67bbf26",
   "metadata": {
    "ExecuteTime": {
     "end_time": "2023-09-07T07:02:29.170474Z",
     "start_time": "2023-09-07T07:02:29.156704Z"
    },
    "scrolled": true
   },
   "outputs": [
    {
     "name": "stdout",
     "output_type": "stream",
     "text": [
      "-- Epoch 1\n",
      "Norm: 1.25, NNZs: 1, Bias: 0.176276, T: 4, Avg. loss: 1895.732819\n",
      "Total training time: 0.00 seconds.\n",
      "-- Epoch 2\n",
      "Norm: 2.12, NNZs: 1, Bias: 0.296893, T: 8, Avg. loss: 1471.382442\n",
      "Total training time: 0.00 seconds.\n",
      "-- Epoch 3\n",
      "Norm: 2.81, NNZs: 1, Bias: 0.393559, T: 12, Avg. loss: 1198.423406\n",
      "Total training time: 0.00 seconds.\n",
      "-- Epoch 4\n",
      "Norm: 3.39, NNZs: 1, Bias: 0.475042, T: 16, Avg. loss: 998.284808\n",
      "Total training time: 0.00 seconds.\n",
      "-- Epoch 5\n",
      "Norm: 3.90, NNZs: 1, Bias: 0.545347, T: 20, Avg. loss: 840.707727\n",
      "Total training time: 0.00 seconds.\n",
      "-- Epoch 6\n",
      "Norm: 4.34, NNZs: 1, Bias: 0.607236, T: 24, Avg. loss: 715.126801\n",
      "Total training time: 0.00 seconds.\n",
      "-- Epoch 7\n",
      "Norm: 4.74, NNZs: 1, Bias: 0.662112, T: 28, Avg. loss: 613.294159\n",
      "Total training time: 0.00 seconds.\n",
      "-- Epoch 8\n",
      "Norm: 5.09, NNZs: 1, Bias: 0.711272, T: 32, Avg. loss: 528.576413\n",
      "Total training time: 0.00 seconds.\n",
      "-- Epoch 9\n",
      "Norm: 5.41, NNZs: 1, Bias: 0.755749, T: 36, Avg. loss: 457.901087\n",
      "Total training time: 0.00 seconds.\n",
      "-- Epoch 10\n",
      "Norm: 5.70, NNZs: 1, Bias: 0.795978, T: 40, Avg. loss: 398.582357\n",
      "Total training time: 0.00 seconds.\n",
      "-- Epoch 11\n",
      "Norm: 5.97, NNZs: 1, Bias: 0.832632, T: 44, Avg. loss: 348.013476\n",
      "Total training time: 0.00 seconds.\n",
      "-- Epoch 12\n",
      "Norm: 6.21, NNZs: 1, Bias: 0.866259, T: 48, Avg. loss: 304.863585\n",
      "Total training time: 0.00 seconds.\n",
      "-- Epoch 13\n",
      "Norm: 6.43, NNZs: 1, Bias: 0.897013, T: 52, Avg. loss: 267.956290\n",
      "Total training time: 0.00 seconds.\n",
      "-- Epoch 14\n",
      "Norm: 6.63, NNZs: 1, Bias: 0.925317, T: 56, Avg. loss: 236.028648\n",
      "Total training time: 0.00 seconds.\n",
      "-- Epoch 15\n",
      "Norm: 6.82, NNZs: 1, Bias: 0.951508, T: 60, Avg. loss: 208.397883\n",
      "Total training time: 0.00 seconds.\n",
      "-- Epoch 16\n",
      "Norm: 7.00, NNZs: 1, Bias: 0.975637, T: 64, Avg. loss: 184.469197\n",
      "Total training time: 0.00 seconds.\n",
      "-- Epoch 17\n",
      "Norm: 7.16, NNZs: 1, Bias: 0.997995, T: 68, Avg. loss: 163.559130\n",
      "Total training time: 0.00 seconds.\n",
      "-- Epoch 18\n",
      "Norm: 7.31, NNZs: 1, Bias: 1.018806, T: 72, Avg. loss: 145.282513\n",
      "Total training time: 0.00 seconds.\n",
      "-- Epoch 19\n",
      "Norm: 7.45, NNZs: 1, Bias: 1.038080, T: 76, Avg. loss: 129.311669\n",
      "Total training time: 0.00 seconds.\n",
      "-- Epoch 20\n",
      "Norm: 7.58, NNZs: 1, Bias: 1.056027, T: 80, Avg. loss: 115.250189\n",
      "Total training time: 0.00 seconds.\n",
      "-- Epoch 21\n",
      "Norm: 7.71, NNZs: 1, Bias: 1.072807, T: 84, Avg. loss: 102.866982\n",
      "Total training time: 0.00 seconds.\n",
      "-- Epoch 22\n",
      "Norm: 7.82, NNZs: 1, Bias: 1.088408, T: 88, Avg. loss: 91.970849\n",
      "Total training time: 0.00 seconds.\n",
      "-- Epoch 23\n",
      "Norm: 7.93, NNZs: 1, Bias: 1.102989, T: 92, Avg. loss: 82.320581\n",
      "Total training time: 0.00 seconds.\n",
      "-- Epoch 24\n",
      "Norm: 8.03, NNZs: 1, Bias: 1.116669, T: 96, Avg. loss: 73.771319\n",
      "Total training time: 0.00 seconds.\n",
      "-- Epoch 25\n",
      "Norm: 8.12, NNZs: 1, Bias: 1.129428, T: 100, Avg. loss: 66.206784\n",
      "Total training time: 0.00 seconds.\n",
      "-- Epoch 26\n",
      "Norm: 8.21, NNZs: 1, Bias: 1.141388, T: 104, Avg. loss: 59.474927\n",
      "Total training time: 0.00 seconds.\n",
      "-- Epoch 27\n",
      "Norm: 8.29, NNZs: 1, Bias: 1.152640, T: 108, Avg. loss: 53.481865\n",
      "Total training time: 0.00 seconds.\n",
      "-- Epoch 28\n",
      "Norm: 8.37, NNZs: 1, Bias: 1.163159, T: 112, Avg. loss: 48.154647\n",
      "Total training time: 0.00 seconds.\n",
      "-- Epoch 29\n",
      "Norm: 8.44, NNZs: 1, Bias: 1.173044, T: 116, Avg. loss: 43.394771\n",
      "Total training time: 0.00 seconds.\n",
      "-- Epoch 30\n",
      "Norm: 8.51, NNZs: 1, Bias: 1.182364, T: 120, Avg. loss: 39.139766\n",
      "Total training time: 0.00 seconds.\n",
      "-- Epoch 31\n",
      "Norm: 8.57, NNZs: 1, Bias: 1.191095, T: 124, Avg. loss: 35.342731\n",
      "Total training time: 0.00 seconds.\n",
      "-- Epoch 32\n",
      "Norm: 8.64, NNZs: 1, Bias: 1.199315, T: 128, Avg. loss: 31.938455\n",
      "Total training time: 0.00 seconds.\n",
      "-- Epoch 33\n",
      "Norm: 8.69, NNZs: 1, Bias: 1.207081, T: 132, Avg. loss: 28.884448\n",
      "Total training time: 0.00 seconds.\n",
      "-- Epoch 34\n",
      "Norm: 8.75, NNZs: 1, Bias: 1.214368, T: 136, Avg. loss: 26.149969\n",
      "Total training time: 0.00 seconds.\n",
      "-- Epoch 35\n",
      "Norm: 8.80, NNZs: 1, Bias: 1.221239, T: 140, Avg. loss: 23.691071\n",
      "Total training time: 0.00 seconds.\n",
      "-- Epoch 36\n",
      "Norm: 8.85, NNZs: 1, Bias: 1.227741, T: 144, Avg. loss: 21.478312\n",
      "Total training time: 0.00 seconds.\n",
      "-- Epoch 37\n",
      "Norm: 8.89, NNZs: 1, Bias: 1.233849, T: 148, Avg. loss: 19.491226\n",
      "Total training time: 0.00 seconds.\n",
      "-- Epoch 38\n",
      "Norm: 8.94, NNZs: 1, Bias: 1.239618, T: 152, Avg. loss: 17.699755\n",
      "Total training time: 0.00 seconds.\n",
      "-- Epoch 39\n",
      "Norm: 8.98, NNZs: 1, Bias: 1.245083, T: 156, Avg. loss: 16.083167\n",
      "Total training time: 0.00 seconds.\n",
      "-- Epoch 40\n",
      "Norm: 9.02, NNZs: 1, Bias: 1.250223, T: 160, Avg. loss: 14.627660\n",
      "Total training time: 0.00 seconds.\n",
      "-- Epoch 41\n",
      "Norm: 9.05, NNZs: 1, Bias: 1.255082, T: 164, Avg. loss: 13.312419\n",
      "Total training time: 0.00 seconds.\n",
      "-- Epoch 42\n",
      "Norm: 9.09, NNZs: 1, Bias: 1.259691, T: 168, Avg. loss: 12.122633\n",
      "Total training time: 0.00 seconds.\n",
      "-- Epoch 43\n",
      "Norm: 9.12, NNZs: 1, Bias: 1.264030, T: 172, Avg. loss: 11.048897\n",
      "Total training time: 0.00 seconds.\n",
      "-- Epoch 44\n",
      "Norm: 9.15, NNZs: 1, Bias: 1.268136, T: 176, Avg. loss: 10.076645\n",
      "Total training time: 0.00 seconds.\n",
      "-- Epoch 45\n",
      "Norm: 9.18, NNZs: 1, Bias: 1.272033, T: 180, Avg. loss: 9.195155\n",
      "Total training time: 0.00 seconds.\n",
      "-- Epoch 46\n",
      "Norm: 9.21, NNZs: 1, Bias: 1.275705, T: 184, Avg. loss: 8.397968\n",
      "Total training time: 0.00 seconds.\n",
      "-- Epoch 47\n",
      "Norm: 9.24, NNZs: 1, Bias: 1.279181, T: 188, Avg. loss: 7.674795\n",
      "Total training time: 0.00 seconds.\n",
      "-- Epoch 48\n",
      "Norm: 9.26, NNZs: 1, Bias: 1.282485, T: 192, Avg. loss: 7.017784\n",
      "Total training time: 0.00 seconds.\n",
      "-- Epoch 49\n",
      "Norm: 9.29, NNZs: 1, Bias: 1.285597, T: 196, Avg. loss: 6.422469\n",
      "Total training time: 0.00 seconds.\n",
      "-- Epoch 50\n",
      "Norm: 9.31, NNZs: 1, Bias: 1.288547, T: 200, Avg. loss: 5.881525\n",
      "Total training time: 0.00 seconds.\n",
      "-- Epoch 51\n",
      "Norm: 9.33, NNZs: 1, Bias: 1.291350, T: 204, Avg. loss: 5.389137\n",
      "Total training time: 0.00 seconds.\n",
      "-- Epoch 52\n",
      "Norm: 9.35, NNZs: 1, Bias: 1.293993, T: 208, Avg. loss: 4.942205\n",
      "Total training time: 0.00 seconds.\n",
      "-- Epoch 53\n",
      "Norm: 9.37, NNZs: 1, Bias: 1.296498, T: 212, Avg. loss: 4.535480\n",
      "Total training time: 0.00 seconds.\n",
      "-- Epoch 54\n",
      "Norm: 9.39, NNZs: 1, Bias: 1.298881, T: 216, Avg. loss: 4.164606\n",
      "Total training time: 0.00 seconds.\n",
      "-- Epoch 55\n",
      "Norm: 9.41, NNZs: 1, Bias: 1.301127, T: 220, Avg. loss: 3.827429\n",
      "Total training time: 0.00 seconds.\n",
      "-- Epoch 56\n",
      "Norm: 9.43, NNZs: 1, Bias: 1.303256, T: 224, Avg. loss: 3.520163\n",
      "Total training time: 0.00 seconds.\n",
      "-- Epoch 57\n",
      "Norm: 9.44, NNZs: 1, Bias: 1.305282, T: 228, Avg. loss: 3.239516\n",
      "Total training time: 0.00 seconds.\n",
      "-- Epoch 58\n",
      "Norm: 9.46, NNZs: 1, Bias: 1.307192, T: 232, Avg. loss: 2.983989\n",
      "Total training time: 0.00 seconds.\n",
      "-- Epoch 59\n",
      "Norm: 9.47, NNZs: 1, Bias: 1.309002, T: 236, Avg. loss: 2.750838\n",
      "Total training time: 0.00 seconds.\n",
      "-- Epoch 60\n",
      "Norm: 9.49, NNZs: 1, Bias: 1.310725, T: 240, Avg. loss: 2.537551\n",
      "Total training time: 0.00 seconds.\n",
      "-- Epoch 61\n",
      "Norm: 9.50, NNZs: 1, Bias: 1.312348, T: 244, Avg. loss: 2.343086\n",
      "Total training time: 0.00 seconds.\n",
      "-- Epoch 62\n",
      "Norm: 9.52, NNZs: 1, Bias: 1.313887, T: 248, Avg. loss: 2.165448\n",
      "Total training time: 0.00 seconds.\n",
      "-- Epoch 63\n",
      "Norm: 9.53, NNZs: 1, Bias: 1.315351, T: 252, Avg. loss: 2.002702\n",
      "Total training time: 0.00 seconds.\n",
      "-- Epoch 64\n",
      "Norm: 9.54, NNZs: 1, Bias: 1.316730, T: 256, Avg. loss: 1.854126\n",
      "Total training time: 0.00 seconds.\n",
      "-- Epoch 65\n",
      "Norm: 9.55, NNZs: 1, Bias: 1.318037, T: 260, Avg. loss: 1.718266\n",
      "Total training time: 0.00 seconds.\n",
      "-- Epoch 66\n",
      "Norm: 9.56, NNZs: 1, Bias: 1.319280, T: 264, Avg. loss: 1.593617\n",
      "Total training time: 0.00 seconds.\n",
      "-- Epoch 67\n",
      "Norm: 9.57, NNZs: 1, Bias: 1.320450, T: 268, Avg. loss: 1.479684\n",
      "Total training time: 0.00 seconds.\n",
      "-- Epoch 68\n",
      "Norm: 9.58, NNZs: 1, Bias: 1.321558, T: 272, Avg. loss: 1.375403\n",
      "Total training time: 0.00 seconds.\n",
      "-- Epoch 69\n",
      "Norm: 9.59, NNZs: 1, Bias: 1.322612, T: 276, Avg. loss: 1.279595\n",
      "Total training time: 0.00 seconds.\n",
      "-- Epoch 70\n",
      "Norm: 9.60, NNZs: 1, Bias: 1.323602, T: 280, Avg. loss: 1.191924\n",
      "Total training time: 0.00 seconds.\n",
      "-- Epoch 71\n",
      "Norm: 9.61, NNZs: 1, Bias: 1.324539, T: 284, Avg. loss: 1.111613\n",
      "Total training time: 0.00 seconds.\n",
      "-- Epoch 72\n",
      "Norm: 9.62, NNZs: 1, Bias: 1.325431, T: 288, Avg. loss: 1.037726\n",
      "Total training time: 0.00 seconds.\n",
      "-- Epoch 73\n",
      "Norm: 9.62, NNZs: 1, Bias: 1.326266, T: 292, Avg. loss: 0.970044\n",
      "Total training time: 0.00 seconds.\n",
      "-- Epoch 74\n",
      "Norm: 9.63, NNZs: 1, Bias: 1.327057, T: 296, Avg. loss: 0.907995\n",
      "Total training time: 0.00 seconds.\n",
      "-- Epoch 75\n",
      "Norm: 9.64, NNZs: 1, Bias: 1.327808, T: 300, Avg. loss: 0.850834\n",
      "Total training time: 0.00 seconds.\n",
      "-- Epoch 76\n",
      "Norm: 9.65, NNZs: 1, Bias: 1.328510, T: 304, Avg. loss: 0.798421\n",
      "Total training time: 0.00 seconds.\n",
      "-- Epoch 77\n",
      "Norm: 9.65, NNZs: 1, Bias: 1.329174, T: 308, Avg. loss: 0.750336\n",
      "Total training time: 0.00 seconds.\n",
      "-- Epoch 78\n",
      "Norm: 9.66, NNZs: 1, Bias: 1.329803, T: 312, Avg. loss: 0.705981\n",
      "Total training time: 0.00 seconds.\n",
      "-- Epoch 79\n",
      "Norm: 9.67, NNZs: 1, Bias: 1.330391, T: 316, Avg. loss: 0.665273\n",
      "Total training time: 0.00 seconds.\n",
      "-- Epoch 80\n",
      "Norm: 9.67, NNZs: 1, Bias: 1.330945, T: 320, Avg. loss: 0.627903\n",
      "Total training time: 0.00 seconds.\n",
      "-- Epoch 81\n",
      "Norm: 9.68, NNZs: 1, Bias: 1.331470, T: 324, Avg. loss: 0.593386\n",
      "Total training time: 0.00 seconds.\n",
      "-- Epoch 82\n",
      "Norm: 9.68, NNZs: 1, Bias: 1.331958, T: 328, Avg. loss: 0.561679\n",
      "Total training time: 0.00 seconds.\n",
      "-- Epoch 83\n",
      "Norm: 9.69, NNZs: 1, Bias: 1.332417, T: 332, Avg. loss: 0.532556\n",
      "Total training time: 0.00 seconds.\n",
      "-- Epoch 84\n",
      "Norm: 9.69, NNZs: 1, Bias: 1.332851, T: 336, Avg. loss: 0.505621\n",
      "Total training time: 0.00 seconds.\n",
      "-- Epoch 85\n",
      "Norm: 9.70, NNZs: 1, Bias: 1.333253, T: 340, Avg. loss: 0.480859\n",
      "Total training time: 0.00 seconds.\n",
      "-- Epoch 86\n",
      "Norm: 9.70, NNZs: 1, Bias: 1.333629, T: 344, Avg. loss: 0.458103\n",
      "Total training time: 0.00 seconds.\n",
      "-- Epoch 87\n",
      "Norm: 9.71, NNZs: 1, Bias: 1.333984, T: 348, Avg. loss: 0.437029\n",
      "Total training time: 0.00 seconds.\n",
      "-- Epoch 88\n",
      "Norm: 9.71, NNZs: 1, Bias: 1.334311, T: 352, Avg. loss: 0.417639\n",
      "Total training time: 0.00 seconds.\n",
      "-- Epoch 89\n",
      "Norm: 9.71, NNZs: 1, Bias: 1.334616, T: 356, Avg. loss: 0.399813\n",
      "Total training time: 0.00 seconds."
     ]
    },
    {
     "data": {
      "text/html": [
       "<b>limit_output extension: Maximum message size of 10000 exceeded with 14897 characters</b>"
      ]
     },
     "metadata": {},
     "output_type": "display_data"
    }
   ],
   "source": [
    "from sklearn.linear_model import SGDRegressor as sgd\n",
    "# 모델 생성 및 하이퍼 파라미터 설정\n",
    "sgd_model = sgdr(max_iter= 5000, eta0=0.001, verbose=1 )\n",
    "# max_iter 가중치 업데이트 반복 횟수\n",
    "#eta0 : 학습률\n",
    "sgd_model.fit(df[['공부시간']], df['성적'])"
   ]
  },
  {
   "cell_type": "code",
   "execution_count": 90,
   "id": "ec406ced",
   "metadata": {
    "ExecuteTime": {
     "end_time": "2023-09-07T06:49:09.040922Z",
     "start_time": "2023-09-07T06:49:09.038171Z"
    }
   },
   "outputs": [],
   "source": [
    "# early stopping을 통해 학습이 정지됨 -> LGBM 모델에 있는 속성\n",
    "# Epoch 가중치가 업데이트 된 횟수 \n",
    "# loss 비용 : 오차값"
   ]
  },
  {
   "cell_type": "code",
   "execution_count": 91,
   "id": "a648d3b7",
   "metadata": {
    "ExecuteTime": {
     "end_time": "2023-09-07T06:49:23.885927Z",
     "start_time": "2023-09-07T06:49:23.876798Z"
    },
    "scrolled": false
   },
   "outputs": [
    {
     "name": "stderr",
     "output_type": "stream",
     "text": [
      "C:\\Users\\user\\anaconda3\\Lib\\site-packages\\sklearn\\base.py:464: UserWarning: X does not have valid feature names, but SGDRegressor was fitted with feature names\n",
      "  warnings.warn(\n"
     ]
    },
    {
     "data": {
      "text/plain": [
       "0.9995469433774614"
      ]
     },
     "execution_count": 91,
     "metadata": {},
     "output_type": "execute_result"
    }
   ],
   "source": [
    "sgd_model.predict([[7]])\n",
    "sgd_model.score(df[['공부시간']], df['성적'])\n",
    "# 1에 가까울수록 모델이 예측한 성능이 높다."
   ]
  },
  {
   "cell_type": "code",
   "execution_count": 97,
   "id": "b7b51a21",
   "metadata": {
    "ExecuteTime": {
     "end_time": "2023-09-07T07:35:53.062988Z",
     "start_time": "2023-09-07T07:35:53.059447Z"
    }
   },
   "outputs": [],
   "source": [
    "##  입력 데이터를 완벽하게 설명하는 회귀식은 불가능 --> 오차가 가장 작은 선형함수를 찾는 다는 것은?\n",
    "# 내가 가지고 있는 각각의 오차들의 평균제곱오차 MSE 가장 작은 선형함수를 찾는 행위\n",
    "# 평균 제곱 오차가 가장 작은 선형 함수 : 최적(최선)의 선형함수"
   ]
  },
  {
   "cell_type": "markdown",
   "id": "3d758317",
   "metadata": {},
   "source": [
    "## 평균 제곱오차가 가장 작은 선형함수를 찾는 방법\n",
    "1. 수학적 계산\n",
    "    - 장점 : 적은 계산으로 구함 --> 한번에 최적의 선형함수를 찾음\n",
    "    - 단점 : 공식이 완벽하지 않을 경우 잘못찾을 수 있음. 공식 수정이 불가능하다.\n",
    "2. 경사하강법\n",
    "    - 장점 : 잘못된 분석을 하였을 때 수정할 수 있다.\n",
    "    - 단점: 점진적으로 찾아가므로 계산량이 많다."
   ]
  },
  {
   "cell_type": "code",
   "execution_count": null,
   "id": "06443318",
   "metadata": {},
   "outputs": [],
   "source": []
  }
 ],
 "metadata": {
  "hide_input": false,
  "kernelspec": {
   "display_name": "Python 3 (ipykernel)",
   "language": "python",
   "name": "python3"
  },
  "language_info": {
   "codemirror_mode": {
    "name": "ipython",
    "version": 3
   },
   "file_extension": ".py",
   "mimetype": "text/x-python",
   "name": "python",
   "nbconvert_exporter": "python",
   "pygments_lexer": "ipython3",
   "version": "3.11.4"
  },
  "nbTranslate": {
   "displayLangs": [
    "*"
   ],
   "hotkey": "alt-t",
   "langInMainMenu": true,
   "sourceLang": "en",
   "targetLang": "fr",
   "useGoogleTranslate": true
  },
  "toc": {
   "base_numbering": 1,
   "nav_menu": {},
   "number_sections": true,
   "sideBar": true,
   "skip_h1_title": false,
   "title_cell": "Table of Contents",
   "title_sidebar": "Contents",
   "toc_cell": false,
   "toc_position": {},
   "toc_section_display": true,
   "toc_window_display": false
  },
  "varInspector": {
   "cols": {
    "lenName": 16,
    "lenType": 16,
    "lenVar": 40
   },
   "kernels_config": {
    "python": {
     "delete_cmd_postfix": "",
     "delete_cmd_prefix": "del ",
     "library": "var_list.py",
     "varRefreshCmd": "print(var_dic_list())"
    },
    "r": {
     "delete_cmd_postfix": ") ",
     "delete_cmd_prefix": "rm(",
     "library": "var_list.r",
     "varRefreshCmd": "cat(var_dic_list()) "
    }
   },
   "types_to_exclude": [
    "module",
    "function",
    "builtin_function_or_method",
    "instance",
    "_Feature"
   ],
   "window_display": false
  }
 },
 "nbformat": 4,
 "nbformat_minor": 5
}
