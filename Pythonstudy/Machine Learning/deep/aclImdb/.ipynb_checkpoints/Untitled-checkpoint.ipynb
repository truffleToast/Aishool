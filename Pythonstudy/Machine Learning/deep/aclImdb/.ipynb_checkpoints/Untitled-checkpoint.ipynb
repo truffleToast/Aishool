{
 "cells": [
  {
   "cell_type": "markdown",
   "id": "ed91f2f0",
   "metadata": {},
   "source": [
    "# 문제정의\n",
    "- 영화리뷰 데이터를 활용하여 긍정, 부정 감성분석 진행하자\n",
    "    - 감성분석이란?\n",
    "    - 특정주제에 대한 글의 감성 태도를 파악하는 것(긍정/부정)\n",
    "- 텍스트데이터를 다루는 방법에 대해서 이해해보자!\n"
   ]
  },
  {
   "cell_type": "code",
   "execution_count": 7,
   "id": "053f4d50",
   "metadata": {},
   "outputs": [],
   "source": [
    "# 파일불러오는 IMPORT\n",
    "import numpy as np\n",
    "import pandas as pd\n",
    "from sklearn.datasets import load_files"
   ]
  },
  {
   "cell_type": "code",
   "execution_count": null,
   "id": "b7c12b24",
   "metadata": {},
   "outputs": [],
   "source": [
    "data_url = './train/'\n",
    "rv_train=load_files(data_url, shuffle=True)"
   ]
  },
  {
   "cell_type": "raw",
   "id": "c47def79",
   "metadata": {},
   "source": [
    "rv_train.keys()\n",
    "\n",
    "rv_train =rv_train['data']"
   ]
  },
  {
   "cell_type": "code",
   "execution_count": null,
   "id": "5ebd6d3d",
   "metadata": {},
   "outputs": [],
   "source": [
    "txt_train =rv_train['data']\n",
    "y_train = rv_train['target']"
   ]
  }
 ],
 "metadata": {
  "kernelspec": {
   "display_name": "Python 3 (ipykernel)",
   "language": "python",
   "name": "python3"
  },
  "language_info": {
   "codemirror_mode": {
    "name": "ipython",
    "version": 3
   },
   "file_extension": ".py",
   "mimetype": "text/x-python",
   "name": "python",
   "nbconvert_exporter": "python",
   "pygments_lexer": "ipython3",
   "version": "3.11.5"
  }
 },
 "nbformat": 4,
 "nbformat_minor": 5
}
