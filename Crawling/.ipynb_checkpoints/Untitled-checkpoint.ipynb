{
 "cells": [
  {
   "cell_type": "markdown",
   "id": "002b2da0",
   "metadata": {},
   "source": [
    "# 크롤링 임포트"
   ]
  },
  {
   "cell_type": "code",
   "execution_count": 1,
   "id": "3a7fdd62",
   "metadata": {
    "ExecuteTime": {
     "end_time": "2023-08-24T00:37:31.524981Z",
     "start_time": "2023-08-24T00:37:31.401743Z"
    }
   },
   "outputs": [],
   "source": [
    "import requests as req"
   ]
  },
  {
   "cell_type": "code",
   "execution_count": 2,
   "id": "553232bd",
   "metadata": {
    "ExecuteTime": {
     "end_time": "2023-08-24T00:37:36.547339Z",
     "start_time": "2023-08-24T00:37:31.527262Z"
    }
   },
   "outputs": [
    {
     "data": {
      "text/plain": [
       "<Response [200]>"
      ]
     },
     "execution_count": 2,
     "metadata": {},
     "output_type": "execute_result"
    }
   ],
   "source": [
    "#1. req를 통해서 네이버 페이지 정보를 요청\n",
    "#2. response -> 응답코드를 넘겨받는다.\n",
    "# 200,300 -> 통신에 성공했습니다.\n",
    "# 400 -> 클라이언트 요청에 문제가 있다.\n",
    "# 500 -> DB연결에 문제가 있다.\n",
    "ren=req.get(\"http://www.naver.com\")\n",
    "ren"
   ]
  },
  {
   "cell_type": "code",
   "execution_count": 3,
   "id": "2f3e3804",
   "metadata": {
    "ExecuteTime": {
     "end_time": "2023-08-24T00:37:48.967447Z",
     "start_time": "2023-08-24T00:37:48.942206Z"
    }
   },
   "outputs": [
    {
     "data": {
      "text/plain": [
       "'   <!doctype html> <html lang=\"ko\" class=\"fzoom\"> <head> <meta charset=\"utf-8\"> <meta name=\"Referrer\" content=\"origin\"> <meta http-equiv=\"X-UA-Compatible\" content=\"IE=edge\"> <meta name=\"viewport\" content=\"width=1190\"> <title>NAVER</title> <meta name=\"apple-mobile-web-app-title\" content=\"NAVER\"/> <meta name=\"robots\" content=\"index,nofollow\"/> <meta name=\"description\" content=\"네이버 메인에서 다양한 정보와 유용한 컨텐츠를 만나 보세요\"/> <meta property=\"og:title\" content=\"네이버\"> <meta property=\"og:url\" content=\"https://www.naver.com/\"> <meta property=\"og:image\" content=\"https://s.pstatic.net/static/www/mobile/edit/2016/0705/mobile_212852414260.png\"> <meta property=\"og:description\" content=\"네이버 메인에서 다양한 정보와 유용한 컨텐츠를 만나 보세요\"/> <meta name=\"twitter:card\" content=\"summary\"> <meta name=\"twitter:title\" content=\"\"> <meta name=\"twitter:url\" content=\"https://www.naver.com/\"> <meta name=\"twitter:image\" content=\"https://s.pstatic.net/static/www/mobile/edit/2016/0705/mobile_212852414260.png\"> <meta name=\"twitter:description\" content=\"네이버 메인에서 다양한 정보와 유용한 컨텐츠를 만나 보세요\"/> <link rel=\"shortcut icon\" type=\"image/x-icon\" href=\"/favicon.ico?1\"> <link rel=\"apple-touch-icon-precomposed\" href=\"https://s.pstatic.net/static/www/nFavicon96.png\"/> <link rel=\"apple-touch-icon\" sizes=\"114x114\" href=\"https://s.pstatic.net/static/www/u/2014/0328/mma_204243574.png\"/> <link rel=\"apple-touch-icon\" href=\"https://s.pstatic.net/static/www/u/2014/0328/mma_20432863.png\"/> <link rel=\"stylesheet\" href=\"https://ssl.pstatic.net/sstatic/search/pc/css/sp_autocomplete_220526.css\"> <script>window.gladsdk=window.gladsdk||{},window.gladsdk.cmd=window.gladsdk.cmd||[],window.ndpsdk=window.ndpsdk||{},window.ndpsdk.cmd=window.ndpsdk.cmd||[],window.ndpsdk.polyfill=window.ndpsdk.polyfill||{cmd:[]};var g_ssc=\"navertop.v5\";window.nsc=g_ssc</script> <script async src=\"https://ssl.pstatic.net/tveta/libs/ndpsdk/prod/ndp-loader.js\"></script> <script async src=\"https://ssl.pstatic.net/tveta/libs/glad/prod/gfp-core.js\"></script> <script src=\"https://ssl.pstatic.net/tveta/libs/assets/js/pc/main/min/pc.veta.core.min.js\" defer=\"defer\"></script>  <script>\\nwindow[\"EAGER-DATA\"] = window[\"EAGER-DATA\"] || {};\\nwindow[\"EAGER-DATA\"][\"PC-FEED-WRAPPER\"] = {\"@type\":\"BLOCK\",\"blocks\":[{\"@type\":\"BLOCK\",\"blocks\":[{\"@type\":\"BLOCK\",\"blocks\":null,\"materials\":null,\"excludeInPaging\":false,\"positionForPaging\":0,\"realtime\":false,\"_id\":null,\"@type\":\"BLOCK\",\"@code\":\"PC-FEED-LIVINGHOME-CAS-EDIT\",\"@template\":\"PC-FEED-CAS-EDIT\",\"@flowId\":null,\"@flowExecutionId\":null,\"@provider\":null,\"@lastModifiedAt\":null},{\"@type\":\"BLOCK\",\"blocks\":null,\"materials\":[{\"@type\":\"MATERIAL-PC-FEED\",\"title\":\"거실 셀프인테리어 우물천장 간접조명 다운라이트 주백색 매립등\",\"url\":\"https://in.naver.com/doppionell/contents/internal/588995534921728\",\"image\":{\"url\":\"https://s.pstatic.net/dthumb.phinf/?src=%22http%3A%2F%2Fblogfiles.naver.net%2FMjAyMzA3MjNfMiAg%2FMDAxNjkwMDkyMTYxMTI1.eI99Sjj0CO3NvomDALisCa948T3QE-tgNnlbYuoQQoAg.Ne8UnJZKAbBiP6OaYtonmvynhi112OzdU40u9U3NjZAg.JPEG.becks0809%2F20230315_105016.jpg%22&type=ff364_236&service=navermain\"},\"source\":{\"name\":\"도피오넬\",\"image\":{\"url\":\"https://s.pstatic.net/dthumb.phinf/?src=%22http%3A%2F%2Fblogpfthumb.phinf.naver.net%2FMjAyMDA2MTRfMTI0%2FMDAxNTkyMTQ1MTc2MjMy.yVVObVAySFExCJ84A6GYJdrJaD88EqNdZuT5dMZ82vcg.rhGGoSQyjBWrC_26Lqp6ELLGb06pXbDhwRxLPg-YtCEg.JPEG.becks0809%2FprofileImage.jpg%22&type=nf40_40&service=navermain\"}},\"_id\":\"6441ca92c499cc07f334c49b\"},{\"@type\":\"MATERIAL-PC-FEED\",\"title\":\"소소하지만 알아두면 좋은, 간단한 살림 노하우\",\"url\":\"https://blog.naver.com/miz5002/223177303467\",\"image\":{\"url\":\"https://s.pstatic.net/dthumb.phinf/?src=%22https%3A%2F%2Fs.pstatic.net%2Fshop.phinf%2F20230816_237%2F1692183437101bevou_PNG%2Frtfy.PNG%22&type=ff364_236&service=navermain\"},\"source\":{\"name\":\"미쯔\",\"image\":{\"url\":\"https://s.pstatic.net/dthumb.phinf/?src=%22https%3A%2F%2Fs.pstatic.net%2Fshop.phinf%2F20230816_121%2F1692183433718BCiz0_JPEG%2FDSC05635.jpg%22&type=nf40_40&service=navermain\"}},\"_id\":\"6441ca92c499cc07f334c49c\"},{\"@type\":\"MATERIAL-PC-FEED\",\"title\":\"소품으로 완성한 예쁜 침실, 아이템 추천해요\",\"url\":\"https://blog.naver.com/from_maria/223187057711\",\"image\":{\"url\":\"https://s.pstatic.net/dthumb.phinf/?src=%22https%3A%2F%2Fs.pstatic.net%2Fshop.phinf%2F20230821_120%2F1692611647211vNrEA_PNG%2Fe.PNG%22&type=ff364_236&service=navermain\"},\"source\":{\"name\":\"줄라이와이프\",\"image\":{\"url\":\"https://s.pstatic.net/dthumb.phinf/?src=%22https%3A%2F%2Fs.pstatic.net%2Fshop.phinf%2F20230821_24%2F1692611644470dJKpv_PNG%2FprofileImage.png%22&type=nf40_40&service=navermain\"}},\"_id\":\"6441ca92c499cc07f334c49d\"},{\"@type\":\"MATERIAL-PC-FEED\",\"title\":\"3컬러가 포인트 10평 원룸인테리어 꾸미기 원룸소파가구 작은집인테리어\",\"url\":\"https://in.naver.com/only_mira/contents/internal/594051363880448\",\"image\":{\"url\":\"https://s.pstatic.net/dthumb.phinf/?src=%22http%3A%2F%2Fblogfiles.naver.net%2FMjAyMzA4MDZfMTk4%2FMDAxNjkxMzMwOTIyMTE3.aDF6pox1d1qgQPZMARjSF4Dg3ZuKu6mf2gZWdKYMom4g.FnXg1pGdGxILNotF5Qac-OrByXOM7Mu7D43Q5E3FnYEg.JPEG.only_mira%2F6.jpg%22&type=ff364_236&service=navermain\"},\"source\":{\"name\":\"명랑라임\",\"image\":{\"url\":\"https://s.pstatic.net/dthumb.phinf/?src=%22http%3A%2F%2Fblogpfthumb.phinf.naver.net%2FMjAyMTExMDNfMjg3%2FMDAxNjM1ODc3OTQ0Nzk0.yamyj0NvTcTIdw5_8MEiWzOjVgdQGsXNLCmQOGKmo-og.7sI4U96gHD6hkxFky0I9stWwL857so6Cv9NxqXOXvqog.JPEG.only_mira%2F%25ED%2597%25A4%25EC%2596%25B4%25EC%258A%25A4%25ED%2583%2580%25EC%259D%25BC_%25EB%25AA%2585%25EB%259E%2591%25EB%259D%25BC%25EC%259E%2584.jpg%22&type=nf40_40&service=navermain\"}},\"_id\":\"6441ca92c499cc07f334c49e\"},{\"@type\":\"MATERIAL-PC-FEED\",\"title\":\"[미니멀인테리어] 몸과 마음이 편안한 여름 거실 인테리어!\",\"url\":\"https://blog.naver.com/barbie2942/223167600187\",\"image\":{\"url\":\"https://s.pstatic.net/dthumb.phinf/?src=%22http%3A%2F%2Fblogfiles.naver.net%2FMjAyMzA3MjVfNDQg%2FMDAxNjkwMjY2NDg3NTM2.cMBudUe8Id7ZqGttg-QkNZLPi5Ggb1n77V1i70lMxaIg.JrA50Ui5r2i5HEzgui8RiEYxxxfh3RF7eDIZcTnAsnUg.JPEG.barbie2942%2FIMG_8182.JPG%22&type=ff364_236&service=navermain\"},\"source\":{\"name\":\"왕사탕이\",\"image\":{\"url\":\"https://s.pstatic.net/dthumb.phinf/?src=%22http%3A%2F%2Fblogpfthumb.phinf.naver.net%2FMjAyMzAzMzFfMjE1%2FMDAxNjgwMjMwNTAyNzc2.yWN7ndMCFTMjmkbpPbaksoQb8YnXCC2M9t6tJ_v5iUkg.xPMlrylV8kU50VHfGE985UaQVBDGxNrg_MxwT3cfaHMg.PNG.barbie2942%2FprofileImage.png%22&type=nf40_40&service=navermain\"}},\"_id\":\"6441ca92c499cc07f334c49f\"},{\"@type\":\"MATERIAL-PC-FEED\",\"title\":\"배려와 취향이 담긴, 어머니에게 선물한 맞춤 인테리어\",\"url\":\"https://post.naver.com/viewer/postView.naver?volumeNo=36394462&memberNo=954004\",\"image\":{\"url\":\"https://s.pstatic.net/dthumb.phinf/?src=%22https%3A%2F%2Fs.pstatic.net%2Fshop.phinf%2F20230816_7%2F1692183429374bDAS3_PNG%2Ffrth.PNG%22&type=ff364_236&service=navermain\"},\"source\":{\"name\":\"전원속의 내집\",\"image\":{\"url\":\"https://s.pstatic.net/dthumb.phinf/?src=%22https%3A%2F%2Fs.pstatic.net%2Fshop.phinf%2F20230816_36%2F1692183424696eVM5m_JPEG%2Ftyjk.jpg%22&type=nf40_40&service=navermain\"}},\"_id\":\"6441ca92c499cc07f334c4a0\"},{\"@type\":\"MATERIAL-PC-FEED\",\"title\":\"온라인집들이, 1인 가구 원룸, 자취방 인테리어 아이디어 꿀팁 :D\",\"url\":\"https://in.naver.com/chuing___/contents/internal/599644510445888\",\"image\":{\"url\":\"https://s.pstatic.net/dthumb.phinf/?src=%22http%3A%2F%2Fblogfiles.naver.net%2FMjAyMzA4MjJfMTg4%2FMDAxNjkyNjk4Mjk2OTg5.GZEYXxNZWBHMEABKLLtUApBIZEDAS929uqWjNKxwuM4g.NZQgbfLwoB0CvZWXzLNdhl8ZU00sa8u2zjI2f8rcxacg.JPEG.sacuu%2Fa73aabf4ddbfce39b76fa2a94a209ed1.jpg%22&type=ff364_236&service=navermain\"},\"source\":{\"name\":\"츄잉\",\"image\":{\"url\":\"https://s.pstatic.net/dthumb.phinf/?src=%22http%3A%2F%2Fblogpfthumb.phinf.naver.net%2FMjAyMzAxMjdfNzkg%2FMDAxNjc0Nzc5MzQ5ODgy.xwlo3o_J5_ENOjSHFXpXLSKK8c9LsxurYl57q1kTS24g.bU8CJ7u-xsBlEu8G81gj9oHhqa_AFoPY8Y9q7_XE5xAg.JPEG.sacuu%2F20221117_145049_polarr.jpg%2F20221117_145049_polarr.jpg%22&type=nf40_40&service=navermain\"}},\"_id\":\"6441ca92c499cc07f334c4a1\"},{\"@type\":\"MATERIAL-PC-FEED\",\"title\":\"원룸 인테리어 작은가구로 공간분리 온라인집들이\",\"url\":\"https://in.naver.com/jjumom/contents/internal/590742838329184\",\"image\":{\"url\":\"https://s.pstatic.net/dthumb.phinf/?src=%22http%3A%2F%2Fblogfiles.naver.net%2FMjAyMzA3MjhfMjU0%2FMDAxNjkwNTIyOTk5ODM1.vI1y6tFb1QSTXrFaCUfiITwdtcHyQBryvkAqB35QRoMg.hmptY4uRckjt9HGrtca_WkACRXaz1rBORVNv1mSkZBUg.JPEG.litty28%2FPCD_1311IMG_2882.jpg%22&type=ff364_236&service=navermain\"},\"source\":{\"name\":\"견우네\",\"image\":{\"url\":\"https://s.pstatic.net/dthumb.phinf/?src=%22http%3A%2F%2Fblogpfthumb.phinf.naver.net%2FMjAxODA5MTBfOTgg%2FMDAxNTM2NTYyMTI0OTY2.R30pC-KTWUtMavAh_0v4uuPM-VoYNpEfLcz9KGlF07wg.IHEbt2IfMgeeGc0npRIO1x4Lgn844IFv6i9sBdBZ508g.JPEG.litty28%2F%25C7%25C1%25BB%25E7.jpg%22&type=nf40_40&service=navermain\"}},\"_id\":\"6441ca92c499cc07f334c4a2\"},{\"@type\":\"MATERIAL-PC-FEED\",\"title\":\"(온라인 집들이) 아파트 식물 인테리어 우리 집 플랜테리어 하는 방법\",\"url\":\"https://in.naver.com/canslelee/contents/internal/588678520410144\",\"image\":{\"url\":\"https://s.pstatic.net/dthumb.phinf/?src=%22http%3A%2F%2Fblogfiles.naver.net%2FMjAyMzA3MjJfNzIg%2FMDAxNjkwMDA5OTQwNjAw.K9nGo2BD8YR_IV9IOvCJTNTd-jjDc35cWzyNL8bSUhQg.BlfcqORGrgstK955JERm9SNQ7Bww5KL-AP2vypHRe44g.JPEG.nabisuk%2F1690009939065.jpg%22&type=ff364_236&service=navermain\"},\"source\":{\"name\":\"캔들리\",\"image\":{\"url\":\"https://s.pstatic.net/dthumb.phinf/?src=%22http%3A%2F%2Fblogpfthumb.phinf.naver.net%2FMjAyMjA2MjRfMTkz%2FMDAxNjU2MDM5NTA3ODEz.XHsEOcf5O1Lg8Fq3Zics8eLR6UrfM4OWvLa69f6kEJMg.CSNRGkrpptLiOSdMxZWeNVS9kOtTdS9k5sbOwYvh2GQg.JPEG.nabisuk%2FprofileImage.jpg%22&type=nf40_40&service=navermain\"}},\"_id\":\"6441ca92c499cc07f334c4a3\"},{\"@type\":\"MATERIAL-PC-FEED\",\"title\":\"집 인테리어 : 5일차 6일차 셀프 인테리어 만족스러워요\",\"url\":\"https://in.naver.com/kimrahee/contents/internal/576876528991776\",\"image\":{\"url\":\"https://s.pstatic.net/dthumb.phinf/?src=%22http%3A%2F%2Fblogfiles.naver.net%2FMjAyMzA2MTlfMjUw%2FMDAxNjg3MTM4ODY0OTkw.Gf9eemkoSwXWcgtwnmIH2-Pe7L8czZN1mMcx4g_t_e0g.5Yq5BZwA9RNwgwDv0PVkdUOGu8O85u8YbJf9KyidxXAg.JPEG.powerppodea%2FKakaoTalk_20230619_103657016_18.jpg%22&type=ff364_236&service=navermain\"},\"source\":{\"name\":\"김라희\",\"image\":{\"url\":\"https://s.pstatic.net/dthumb.phinf/?src=%22http%3A%2F%2Fblogpfthumb.phinf.naver.net%2FMjAyMTAxMTRfNSAg%2FMDAxNjEwNTU5ODI0MDYy.nQVEKXZOpgb9VQ7dhqW3Q_xTHahwYEfkgOcUMLQ-8UUg.mUz44Z73wxdlQ2Ht3jl-B9x_4VvW05eMU6nmpPR0ZpUg.JPEG.powerppodea%2F2020-10-28-19-26-32-284"
      ]
     },
     "execution_count": 3,
     "metadata": {},
     "output_type": "execute_result"
    },
    {
     "data": {
      "text/html": [
       "<b>limit_output extension: Maximum message size of 10000 exceeded with 195458 characters</b>"
      ]
     },
     "metadata": {},
     "output_type": "display_data"
    }
   ],
   "source": [
    "ren.text"
   ]
  },
  {
   "cell_type": "markdown",
   "id": "8b1bdde3",
   "metadata": {},
   "source": [
    "## 멜론 사이트 요청해보기"
   ]
  },
  {
   "cell_type": "code",
   "execution_count": 5,
   "id": "40f590b6",
   "metadata": {
    "ExecuteTime": {
     "end_time": "2023-08-24T00:41:14.367656Z",
     "start_time": "2023-08-24T00:41:14.173625Z"
    }
   },
   "outputs": [
    {
     "data": {
      "text/plain": [
       "<Response [406]>"
      ]
     },
     "execution_count": 5,
     "metadata": {},
     "output_type": "execute_result"
    }
   ],
   "source": [
    "# 응답코드가 406은 문제가 있다.\n",
    "# 단 서버 자체에서 들어온 요청이 브라우저가 아닌 컴퓨터임을 인지.\n",
    "remelon = req.get(\"http://www.melon.com\")\n",
    "remelon\n"
   ]
  },
  {
   "cell_type": "code",
   "execution_count": null,
   "id": "5ed81710",
   "metadata": {},
   "outputs": [],
   "source": []
  },
  {
   "cell_type": "code",
   "execution_count": null,
   "id": "0e479528",
   "metadata": {},
   "outputs": [],
   "source": []
  },
  {
   "cell_type": "code",
   "execution_count": null,
   "id": "032dc5cf",
   "metadata": {},
   "outputs": [],
   "source": []
  },
  {
   "cell_type": "code",
   "execution_count": null,
   "id": "d38357c2",
   "metadata": {},
   "outputs": [],
   "source": []
  },
  {
   "cell_type": "code",
   "execution_count": null,
   "id": "63e74ff8",
   "metadata": {},
   "outputs": [],
   "source": []
  },
  {
   "cell_type": "code",
   "execution_count": null,
   "id": "0ac45034",
   "metadata": {},
   "outputs": [],
   "source": []
  },
  {
   "cell_type": "code",
   "execution_count": null,
   "id": "e92c0e5e",
   "metadata": {},
   "outputs": [],
   "source": []
  },
  {
   "cell_type": "code",
   "execution_count": null,
   "id": "08c6f5f5",
   "metadata": {},
   "outputs": [],
   "source": []
  },
  {
   "cell_type": "code",
   "execution_count": null,
   "id": "f5031f10",
   "metadata": {},
   "outputs": [],
   "source": []
  },
  {
   "cell_type": "code",
   "execution_count": null,
   "id": "d388ef56",
   "metadata": {},
   "outputs": [],
   "source": []
  },
  {
   "cell_type": "code",
   "execution_count": null,
   "id": "aaf5d99a",
   "metadata": {},
   "outputs": [],
   "source": []
  }
 ],
 "metadata": {
  "hide_input": false,
  "kernelspec": {
   "display_name": "Python 3 (ipykernel)",
   "language": "python",
   "name": "python3"
  },
  "language_info": {
   "codemirror_mode": {
    "name": "ipython",
    "version": 3
   },
   "file_extension": ".py",
   "mimetype": "text/x-python",
   "name": "python",
   "nbconvert_exporter": "python",
   "pygments_lexer": "ipython3",
   "version": "3.11.4"
  },
  "nbTranslate": {
   "displayLangs": [
    "*"
   ],
   "hotkey": "alt-t",
   "langInMainMenu": true,
   "sourceLang": "en",
   "targetLang": "fr",
   "useGoogleTranslate": true
  },
  "toc": {
   "base_numbering": 1,
   "nav_menu": {},
   "number_sections": true,
   "sideBar": true,
   "skip_h1_title": false,
   "title_cell": "Table of Contents",
   "title_sidebar": "Contents",
   "toc_cell": false,
   "toc_position": {},
   "toc_section_display": true,
   "toc_window_display": false
  },
  "varInspector": {
   "cols": {
    "lenName": 16,
    "lenType": 16,
    "lenVar": 40
   },
   "kernels_config": {
    "python": {
     "delete_cmd_postfix": "",
     "delete_cmd_prefix": "del ",
     "library": "var_list.py",
     "varRefreshCmd": "print(var_dic_list())"
    },
    "r": {
     "delete_cmd_postfix": ") ",
     "delete_cmd_prefix": "rm(",
     "library": "var_list.r",
     "varRefreshCmd": "cat(var_dic_list()) "
    }
   },
   "types_to_exclude": [
    "module",
    "function",
    "builtin_function_or_method",
    "instance",
    "_Feature"
   ],
   "window_display": false
  }
 },
 "nbformat": 4,
 "nbformat_minor": 5
}
